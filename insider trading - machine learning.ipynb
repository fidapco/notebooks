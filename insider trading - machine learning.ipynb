{
 "cells": [
  {
   "cell_type": "code",
   "execution_count": 13,
   "metadata": {
    "ExecuteTime": {
     "end_time": "2020-12-04T19:29:22.146631Z",
     "start_time": "2020-12-04T19:29:21.519309Z"
    }
   },
   "outputs": [],
   "source": [
    "import pandas as pd, numpy as np\n",
    "from fidap import fidap_client\n",
    "import config"
   ]
  },
  {
   "cell_type": "code",
   "execution_count": 14,
   "metadata": {},
   "outputs": [],
   "source": [
    "fidap = fidap_client(api_key=config.FIDAP_API_KEY)"
   ]
  },
  {
   "cell_type": "markdown",
   "metadata": {},
   "source": [
    "Let's first explore the data and find some basic numbers here."
   ]
  },
  {
   "cell_type": "code",
   "execution_count": 15,
   "metadata": {
    "ExecuteTime": {
     "end_time": "2020-12-04T19:29:46.210276Z",
     "start_time": "2020-12-04T19:29:22.148630Z"
    }
   },
   "outputs": [],
   "source": [
    "df2 = fidap.sql(\"\"\"\n",
    "    select insider_trades.ticker, insider_trades.filingdate, insider_trades.transactionshares,\n",
    "    insider_trades.transactionvalue, daily.close, daily.fc_1m, daily.marketcap\n",
    "    from insider_trades, tickers, daily\n",
    "    where \n",
    "    insider_trades.ticker = tickers.ticker and \n",
    "    insider_trades.ticker = daily.ticker and\n",
    "    insider_trades.filingdate = daily.date and\n",
    "    insider_trades.transactionvalue > 100000 and \n",
    "    insider_trades.securitytitle = 'Common Stock'\n",
    "\"\"\")"
   ]
  },
  {
   "cell_type": "code",
   "execution_count": null,
   "metadata": {},
   "outputs": [],
   "source": [
    "ticker = \"AAPL\""
   ]
  },
  {
   "cell_type": "code",
   "execution_count": 16,
   "metadata": {
    "ExecuteTime": {
     "end_time": "2020-12-04T19:29:46.226258Z",
     "start_time": "2020-12-04T19:29:46.212272Z"
    }
   },
   "outputs": [
    {
     "data": {
      "text/html": [
       "<div>\n",
       "<style scoped>\n",
       "    .dataframe tbody tr th:only-of-type {\n",
       "        vertical-align: middle;\n",
       "    }\n",
       "\n",
       "    .dataframe tbody tr th {\n",
       "        vertical-align: top;\n",
       "    }\n",
       "\n",
       "    .dataframe thead th {\n",
       "        text-align: right;\n",
       "    }\n",
       "</style>\n",
       "<table border=\"1\" class=\"dataframe\">\n",
       "  <thead>\n",
       "    <tr style=\"text-align: right;\">\n",
       "      <th></th>\n",
       "      <th>ticker</th>\n",
       "      <th>filingdate</th>\n",
       "      <th>transactionshares</th>\n",
       "      <th>transactionvalue</th>\n",
       "      <th>close</th>\n",
       "      <th>fc_1m</th>\n",
       "      <th>marketcap</th>\n",
       "    </tr>\n",
       "  </thead>\n",
       "  <tbody>\n",
       "    <tr>\n",
       "      <th>0</th>\n",
       "      <td>CMO</td>\n",
       "      <td>2016-02-03</td>\n",
       "      <td>13937</td>\n",
       "      <td>129893</td>\n",
       "      <td>9.47</td>\n",
       "      <td>0.033791</td>\n",
       "      <td>907500000.0</td>\n",
       "    </tr>\n",
       "    <tr>\n",
       "      <th>1</th>\n",
       "      <td>CMO</td>\n",
       "      <td>2016-02-03</td>\n",
       "      <td>24881</td>\n",
       "      <td>231891</td>\n",
       "      <td>9.47</td>\n",
       "      <td>0.033791</td>\n",
       "      <td>907500000.0</td>\n",
       "    </tr>\n",
       "    <tr>\n",
       "      <th>2</th>\n",
       "      <td>CMO</td>\n",
       "      <td>2016-02-03</td>\n",
       "      <td>17414</td>\n",
       "      <td>162298</td>\n",
       "      <td>9.47</td>\n",
       "      <td>0.033791</td>\n",
       "      <td>907500000.0</td>\n",
       "    </tr>\n",
       "    <tr>\n",
       "      <th>3</th>\n",
       "      <td>CMO</td>\n",
       "      <td>2016-02-03</td>\n",
       "      <td>11105</td>\n",
       "      <td>103499</td>\n",
       "      <td>9.47</td>\n",
       "      <td>0.033791</td>\n",
       "      <td>907500000.0</td>\n",
       "    </tr>\n",
       "    <tr>\n",
       "      <th>4</th>\n",
       "      <td>CMO</td>\n",
       "      <td>2018-01-04</td>\n",
       "      <td>43604</td>\n",
       "      <td>374994</td>\n",
       "      <td>8.66</td>\n",
       "      <td>-0.005774</td>\n",
       "      <td>832300000.0</td>\n",
       "    </tr>\n",
       "  </tbody>\n",
       "</table>\n",
       "</div>"
      ],
      "text/plain": [
       "  ticker  filingdate  transactionshares  transactionvalue  close     fc_1m  \\\n",
       "0    CMO  2016-02-03              13937            129893   9.47  0.033791   \n",
       "1    CMO  2016-02-03              24881            231891   9.47  0.033791   \n",
       "2    CMO  2016-02-03              17414            162298   9.47  0.033791   \n",
       "3    CMO  2016-02-03              11105            103499   9.47  0.033791   \n",
       "4    CMO  2018-01-04              43604            374994   8.66 -0.005774   \n",
       "\n",
       "     marketcap  \n",
       "0  907500000.0  \n",
       "1  907500000.0  \n",
       "2  907500000.0  \n",
       "3  907500000.0  \n",
       "4  832300000.0  "
      ]
     },
     "execution_count": 16,
     "metadata": {},
     "output_type": "execute_result"
    }
   ],
   "source": [
    "df2.head()"
   ]
  },
  {
   "cell_type": "code",
   "execution_count": 5,
   "metadata": {
    "ExecuteTime": {
     "end_time": "2020-12-04T19:29:46.241194Z",
     "start_time": "2020-12-04T19:29:46.227248Z"
    }
   },
   "outputs": [
    {
     "data": {
      "text/plain": [
       "276005"
      ]
     },
     "execution_count": 5,
     "metadata": {},
     "output_type": "execute_result"
    }
   ],
   "source": [
    "len(df2)"
   ]
  },
  {
   "cell_type": "code",
   "execution_count": 6,
   "metadata": {
    "ExecuteTime": {
     "end_time": "2020-12-04T19:29:46.257179Z",
     "start_time": "2020-12-04T19:29:46.243189Z"
    }
   },
   "outputs": [],
   "source": [
    "df2['mc_pct'] = df2['transactionvalue'] / (df2['marketcap']*1e6)"
   ]
  },
  {
   "cell_type": "code",
   "execution_count": 7,
   "metadata": {
    "ExecuteTime": {
     "end_time": "2020-12-04T19:29:46.272135Z",
     "start_time": "2020-12-04T19:29:46.258177Z"
    }
   },
   "outputs": [],
   "source": [
    "df2['sale'] = np.where(df2['transactionshares'] > 0, False, True)"
   ]
  },
  {
   "cell_type": "code",
   "execution_count": 8,
   "metadata": {
    "ExecuteTime": {
     "end_time": "2020-12-04T19:29:46.303056Z",
     "start_time": "2020-12-04T19:29:46.273109Z"
    }
   },
   "outputs": [
    {
     "data": {
      "text/html": [
       "<div>\n",
       "<style scoped>\n",
       "    .dataframe tbody tr th:only-of-type {\n",
       "        vertical-align: middle;\n",
       "    }\n",
       "\n",
       "    .dataframe tbody tr th {\n",
       "        vertical-align: top;\n",
       "    }\n",
       "\n",
       "    .dataframe thead th {\n",
       "        text-align: right;\n",
       "    }\n",
       "</style>\n",
       "<table border=\"1\" class=\"dataframe\">\n",
       "  <thead>\n",
       "    <tr style=\"text-align: right;\">\n",
       "      <th></th>\n",
       "      <th>ticker</th>\n",
       "      <th>filingdate</th>\n",
       "      <th>transactionshares</th>\n",
       "      <th>transactionvalue</th>\n",
       "      <th>close</th>\n",
       "      <th>fc_1m</th>\n",
       "      <th>marketcap</th>\n",
       "      <th>mc_pct</th>\n",
       "      <th>sale</th>\n",
       "    </tr>\n",
       "  </thead>\n",
       "  <tbody>\n",
       "    <tr>\n",
       "      <th>0</th>\n",
       "      <td>CFFI</td>\n",
       "      <td>2018-08-20</td>\n",
       "      <td>-4353</td>\n",
       "      <td>270626</td>\n",
       "      <td>62.45</td>\n",
       "      <td>-0.081665</td>\n",
       "      <td>2.188000e+08</td>\n",
       "      <td>1.236865e-09</td>\n",
       "      <td>True</td>\n",
       "    </tr>\n",
       "    <tr>\n",
       "      <th>1</th>\n",
       "      <td>CFFI</td>\n",
       "      <td>2018-08-02</td>\n",
       "      <td>-8295</td>\n",
       "      <td>516364</td>\n",
       "      <td>61.90</td>\n",
       "      <td>0.012924</td>\n",
       "      <td>2.169000e+08</td>\n",
       "      <td>2.380655e-09</td>\n",
       "      <td>True</td>\n",
       "    </tr>\n",
       "    <tr>\n",
       "      <th>2</th>\n",
       "      <td>CFFI</td>\n",
       "      <td>2018-01-17</td>\n",
       "      <td>-1749</td>\n",
       "      <td>102491</td>\n",
       "      <td>58.65</td>\n",
       "      <td>-0.156010</td>\n",
       "      <td>2.046000e+08</td>\n",
       "      <td>5.009335e-10</td>\n",
       "      <td>True</td>\n",
       "    </tr>\n",
       "    <tr>\n",
       "      <th>3</th>\n",
       "      <td>CFFI</td>\n",
       "      <td>2018-01-17</td>\n",
       "      <td>-1748</td>\n",
       "      <td>102433</td>\n",
       "      <td>58.65</td>\n",
       "      <td>-0.156010</td>\n",
       "      <td>2.046000e+08</td>\n",
       "      <td>5.006500e-10</td>\n",
       "      <td>True</td>\n",
       "    </tr>\n",
       "    <tr>\n",
       "      <th>4</th>\n",
       "      <td>CFG</td>\n",
       "      <td>2017-03-27</td>\n",
       "      <td>-4164</td>\n",
       "      <td>143367</td>\n",
       "      <td>34.24</td>\n",
       "      <td>0.073890</td>\n",
       "      <td>1.743190e+10</td>\n",
       "      <td>8.224405e-12</td>\n",
       "      <td>True</td>\n",
       "    </tr>\n",
       "    <tr>\n",
       "      <th>...</th>\n",
       "      <td>...</td>\n",
       "      <td>...</td>\n",
       "      <td>...</td>\n",
       "      <td>...</td>\n",
       "      <td>...</td>\n",
       "      <td>...</td>\n",
       "      <td>...</td>\n",
       "      <td>...</td>\n",
       "      <td>...</td>\n",
       "    </tr>\n",
       "    <tr>\n",
       "      <th>276000</th>\n",
       "      <td>WYND</td>\n",
       "      <td>2019-05-07</td>\n",
       "      <td>-11656</td>\n",
       "      <td>519671</td>\n",
       "      <td>43.92</td>\n",
       "      <td>-0.048725</td>\n",
       "      <td>4.111700e+09</td>\n",
       "      <td>1.263884e-10</td>\n",
       "      <td>True</td>\n",
       "    </tr>\n",
       "    <tr>\n",
       "      <th>276001</th>\n",
       "      <td>WYND</td>\n",
       "      <td>2019-05-07</td>\n",
       "      <td>-3703</td>\n",
       "      <td>164480</td>\n",
       "      <td>43.92</td>\n",
       "      <td>-0.048725</td>\n",
       "      <td>4.111700e+09</td>\n",
       "      <td>4.000292e-11</td>\n",
       "      <td>True</td>\n",
       "    </tr>\n",
       "    <tr>\n",
       "      <th>276002</th>\n",
       "      <td>WYND</td>\n",
       "      <td>2020-03-02</td>\n",
       "      <td>22256</td>\n",
       "      <td>718424</td>\n",
       "      <td>40.86</td>\n",
       "      <td>-0.512726</td>\n",
       "      <td>3.567200e+09</td>\n",
       "      <td>2.013972e-10</td>\n",
       "      <td>False</td>\n",
       "    </tr>\n",
       "    <tr>\n",
       "      <th>276003</th>\n",
       "      <td>WYND</td>\n",
       "      <td>2020-03-02</td>\n",
       "      <td>-19380</td>\n",
       "      <td>778688</td>\n",
       "      <td>40.86</td>\n",
       "      <td>-0.512726</td>\n",
       "      <td>3.567200e+09</td>\n",
       "      <td>2.182911e-10</td>\n",
       "      <td>True</td>\n",
       "    </tr>\n",
       "    <tr>\n",
       "      <th>276004</th>\n",
       "      <td>WYND</td>\n",
       "      <td>2020-05-08</td>\n",
       "      <td>4000</td>\n",
       "      <td>100272</td>\n",
       "      <td>25.41</td>\n",
       "      <td>0.379772</td>\n",
       "      <td>2.163300e+09</td>\n",
       "      <td>4.635141e-11</td>\n",
       "      <td>False</td>\n",
       "    </tr>\n",
       "  </tbody>\n",
       "</table>\n",
       "<p>276005 rows × 9 columns</p>\n",
       "</div>"
      ],
      "text/plain": [
       "       ticker  filingdate  transactionshares  transactionvalue  close  \\\n",
       "0        CFFI  2018-08-20              -4353            270626  62.45   \n",
       "1        CFFI  2018-08-02              -8295            516364  61.90   \n",
       "2        CFFI  2018-01-17              -1749            102491  58.65   \n",
       "3        CFFI  2018-01-17              -1748            102433  58.65   \n",
       "4         CFG  2017-03-27              -4164            143367  34.24   \n",
       "...       ...         ...                ...               ...    ...   \n",
       "276000   WYND  2019-05-07             -11656            519671  43.92   \n",
       "276001   WYND  2019-05-07              -3703            164480  43.92   \n",
       "276002   WYND  2020-03-02              22256            718424  40.86   \n",
       "276003   WYND  2020-03-02             -19380            778688  40.86   \n",
       "276004   WYND  2020-05-08               4000            100272  25.41   \n",
       "\n",
       "           fc_1m     marketcap        mc_pct   sale  \n",
       "0      -0.081665  2.188000e+08  1.236865e-09   True  \n",
       "1       0.012924  2.169000e+08  2.380655e-09   True  \n",
       "2      -0.156010  2.046000e+08  5.009335e-10   True  \n",
       "3      -0.156010  2.046000e+08  5.006500e-10   True  \n",
       "4       0.073890  1.743190e+10  8.224405e-12   True  \n",
       "...          ...           ...           ...    ...  \n",
       "276000 -0.048725  4.111700e+09  1.263884e-10   True  \n",
       "276001 -0.048725  4.111700e+09  4.000292e-11   True  \n",
       "276002 -0.512726  3.567200e+09  2.013972e-10  False  \n",
       "276003 -0.512726  3.567200e+09  2.182911e-10   True  \n",
       "276004  0.379772  2.163300e+09  4.635141e-11  False  \n",
       "\n",
       "[276005 rows x 9 columns]"
      ]
     },
     "execution_count": 8,
     "metadata": {},
     "output_type": "execute_result"
    }
   ],
   "source": [
    "df2"
   ]
  },
  {
   "cell_type": "code",
   "execution_count": 9,
   "metadata": {
    "ExecuteTime": {
     "end_time": "2020-12-04T19:29:46.349931Z",
     "start_time": "2020-12-04T19:29:46.305025Z"
    }
   },
   "outputs": [],
   "source": [
    "df2 = df2.dropna()"
   ]
  },
  {
   "cell_type": "code",
   "execution_count": 14,
   "metadata": {
    "ExecuteTime": {
     "end_time": "2020-12-04T19:29:46.364887Z",
     "start_time": "2020-12-04T19:29:46.351923Z"
    }
   },
   "outputs": [],
   "source": [
    "features = ['close', 'marketcap', 'mc_pct', 'sale']\n",
    "label = 'fc_1m'"
   ]
  },
  {
   "cell_type": "code",
   "execution_count": 17,
   "metadata": {
    "ExecuteTime": {
     "end_time": "2020-12-04T19:29:46.380844Z",
     "start_time": "2020-12-04T19:29:46.365860Z"
    }
   },
   "outputs": [],
   "source": [
    "import xgboost as xgb"
   ]
  },
  {
   "cell_type": "code",
   "execution_count": 12,
   "metadata": {
    "ExecuteTime": {
     "end_time": "2020-12-04T19:29:46.395780Z",
     "start_time": "2020-12-04T19:29:46.381818Z"
    }
   },
   "outputs": [],
   "source": [
    "model = xgb.XGBRegressor()"
   ]
  },
  {
   "cell_type": "code",
   "execution_count": 18,
   "metadata": {
    "ExecuteTime": {
     "end_time": "2020-12-04T19:29:56.933612Z",
     "start_time": "2020-12-04T19:29:46.396820Z"
    }
   },
   "outputs": [
    {
     "ename": "NameError",
     "evalue": "name 'model' is not defined",
     "output_type": "error",
     "traceback": [
      "\u001b[0;31m---------------------------------------------------------------------------\u001b[0m",
      "\u001b[0;31mNameError\u001b[0m                                 Traceback (most recent call last)",
      "\u001b[0;32m<ipython-input-18-9d209b5fbcd7>\u001b[0m in \u001b[0;36m<module>\u001b[0;34m\u001b[0m\n\u001b[0;32m----> 1\u001b[0;31m \u001b[0mmodel\u001b[0m\u001b[0;34m.\u001b[0m\u001b[0mfit\u001b[0m\u001b[0;34m(\u001b[0m\u001b[0mdf2\u001b[0m\u001b[0;34m[\u001b[0m\u001b[0mfeatures\u001b[0m\u001b[0;34m]\u001b[0m\u001b[0;34m,\u001b[0m\u001b[0mdf2\u001b[0m\u001b[0;34m[\u001b[0m\u001b[0mlabel\u001b[0m\u001b[0;34m]\u001b[0m\u001b[0;34m)\u001b[0m\u001b[0;34m\u001b[0m\u001b[0;34m\u001b[0m\u001b[0m\n\u001b[0m",
      "\u001b[0;31mNameError\u001b[0m: name 'model' is not defined"
     ]
    }
   ],
   "source": [
    "model.fit(df2[features],df2[label])"
   ]
  },
  {
   "cell_type": "code",
   "execution_count": 18,
   "metadata": {
    "ExecuteTime": {
     "end_time": "2020-12-04T19:29:57.295644Z",
     "start_time": "2020-12-04T19:29:56.935606Z"
    }
   },
   "outputs": [],
   "source": [
    "preds = model.predict(df2[features])"
   ]
  },
  {
   "cell_type": "code",
   "execution_count": 19,
   "metadata": {
    "ExecuteTime": {
     "end_time": "2020-12-04T19:29:57.311600Z",
     "start_time": "2020-12-04T19:29:57.297637Z"
    }
   },
   "outputs": [
    {
     "name": "stderr",
     "output_type": "stream",
     "text": [
      "<ipython-input-19-225561c10419>:1: SettingWithCopyWarning: \n",
      "A value is trying to be set on a copy of a slice from a DataFrame.\n",
      "Try using .loc[row_indexer,col_indexer] = value instead\n",
      "\n",
      "See the caveats in the documentation: https://pandas.pydata.org/pandas-docs/stable/user_guide/indexing.html#returning-a-view-versus-a-copy\n",
      "  df2['predict'] = preds\n"
     ]
    }
   ],
   "source": [
    "df2['predict'] = preds"
   ]
  },
  {
   "cell_type": "code",
   "execution_count": 20,
   "metadata": {
    "ExecuteTime": {
     "end_time": "2020-12-04T19:29:57.343515Z",
     "start_time": "2020-12-04T19:29:57.313595Z"
    }
   },
   "outputs": [
    {
     "data": {
      "text/html": [
       "<div>\n",
       "<style scoped>\n",
       "    .dataframe tbody tr th:only-of-type {\n",
       "        vertical-align: middle;\n",
       "    }\n",
       "\n",
       "    .dataframe tbody tr th {\n",
       "        vertical-align: top;\n",
       "    }\n",
       "\n",
       "    .dataframe thead th {\n",
       "        text-align: right;\n",
       "    }\n",
       "</style>\n",
       "<table border=\"1\" class=\"dataframe\">\n",
       "  <thead>\n",
       "    <tr style=\"text-align: right;\">\n",
       "      <th></th>\n",
       "      <th>TICKER</th>\n",
       "      <th>FILINGDATE</th>\n",
       "      <th>TRANSACTIONSHARES</th>\n",
       "      <th>TRANSACTIONVALUE</th>\n",
       "      <th>CLOSE</th>\n",
       "      <th>FC_1M</th>\n",
       "      <th>MARKETCAP</th>\n",
       "      <th>mc_pct</th>\n",
       "      <th>sale</th>\n",
       "      <th>predict</th>\n",
       "    </tr>\n",
       "  </thead>\n",
       "  <tbody>\n",
       "    <tr>\n",
       "      <th>0</th>\n",
       "      <td>ELVT</td>\n",
       "      <td>2017-04-12</td>\n",
       "      <td>78494</td>\n",
       "      <td>510211</td>\n",
       "      <td>7.70</td>\n",
       "      <td>0.019481</td>\n",
       "      <td>3.041000e+08</td>\n",
       "      <td>1.677774e-09</td>\n",
       "      <td>False</td>\n",
       "      <td>0.049914</td>\n",
       "    </tr>\n",
       "    <tr>\n",
       "      <th>1</th>\n",
       "      <td>ELVT</td>\n",
       "      <td>2017-04-12</td>\n",
       "      <td>40000</td>\n",
       "      <td>260000</td>\n",
       "      <td>7.70</td>\n",
       "      <td>0.019481</td>\n",
       "      <td>3.041000e+08</td>\n",
       "      <td>8.549819e-10</td>\n",
       "      <td>False</td>\n",
       "      <td>0.041023</td>\n",
       "    </tr>\n",
       "    <tr>\n",
       "      <th>2</th>\n",
       "      <td>ELVT</td>\n",
       "      <td>2017-04-17</td>\n",
       "      <td>50000</td>\n",
       "      <td>325000</td>\n",
       "      <td>8.08</td>\n",
       "      <td>-0.033416</td>\n",
       "      <td>3.192000e+08</td>\n",
       "      <td>1.018170e-09</td>\n",
       "      <td>False</td>\n",
       "      <td>0.030830</td>\n",
       "    </tr>\n",
       "    <tr>\n",
       "      <th>3</th>\n",
       "      <td>ELVT</td>\n",
       "      <td>2017-04-17</td>\n",
       "      <td>38460</td>\n",
       "      <td>249990</td>\n",
       "      <td>8.08</td>\n",
       "      <td>-0.033416</td>\n",
       "      <td>3.192000e+08</td>\n",
       "      <td>7.831767e-10</td>\n",
       "      <td>False</td>\n",
       "      <td>0.030830</td>\n",
       "    </tr>\n",
       "    <tr>\n",
       "      <th>4</th>\n",
       "      <td>ELVT</td>\n",
       "      <td>2019-04-03</td>\n",
       "      <td>-24000</td>\n",
       "      <td>105120</td>\n",
       "      <td>4.32</td>\n",
       "      <td>0.094907</td>\n",
       "      <td>1.873000e+08</td>\n",
       "      <td>5.612387e-10</td>\n",
       "      <td>True</td>\n",
       "      <td>0.026480</td>\n",
       "    </tr>\n",
       "    <tr>\n",
       "      <th>...</th>\n",
       "      <td>...</td>\n",
       "      <td>...</td>\n",
       "      <td>...</td>\n",
       "      <td>...</td>\n",
       "      <td>...</td>\n",
       "      <td>...</td>\n",
       "      <td>...</td>\n",
       "      <td>...</td>\n",
       "      <td>...</td>\n",
       "      <td>...</td>\n",
       "    </tr>\n",
       "    <tr>\n",
       "      <th>276000</th>\n",
       "      <td>RESI</td>\n",
       "      <td>2020-01-03</td>\n",
       "      <td>-13438</td>\n",
       "      <td>165825</td>\n",
       "      <td>12.62</td>\n",
       "      <td>-0.114897</td>\n",
       "      <td>6.800000e+08</td>\n",
       "      <td>2.438603e-10</td>\n",
       "      <td>True</td>\n",
       "      <td>0.007907</td>\n",
       "    </tr>\n",
       "    <tr>\n",
       "      <th>276001</th>\n",
       "      <td>RESI</td>\n",
       "      <td>2020-05-29</td>\n",
       "      <td>-31534</td>\n",
       "      <td>223891</td>\n",
       "      <td>7.50</td>\n",
       "      <td>0.160000</td>\n",
       "      <td>4.058000e+08</td>\n",
       "      <td>5.517275e-10</td>\n",
       "      <td>True</td>\n",
       "      <td>0.004420</td>\n",
       "    </tr>\n",
       "    <tr>\n",
       "      <th>276002</th>\n",
       "      <td>RESN</td>\n",
       "      <td>2019-08-13</td>\n",
       "      <td>396000</td>\n",
       "      <td>1001880</td>\n",
       "      <td>2.48</td>\n",
       "      <td>0.229839</td>\n",
       "      <td>7.040000e+07</td>\n",
       "      <td>1.423125e-08</td>\n",
       "      <td>False</td>\n",
       "      <td>0.098035</td>\n",
       "    </tr>\n",
       "    <tr>\n",
       "      <th>276003</th>\n",
       "      <td>REVG</td>\n",
       "      <td>2019-09-11</td>\n",
       "      <td>50000</td>\n",
       "      <td>478900</td>\n",
       "      <td>10.07</td>\n",
       "      <td>0.141013</td>\n",
       "      <td>6.264000e+08</td>\n",
       "      <td>7.645275e-10</td>\n",
       "      <td>False</td>\n",
       "      <td>0.053406</td>\n",
       "    </tr>\n",
       "    <tr>\n",
       "      <th>276004</th>\n",
       "      <td>REYN</td>\n",
       "      <td>2020-11-17</td>\n",
       "      <td>16500</td>\n",
       "      <td>492641</td>\n",
       "      <td>29.86</td>\n",
       "      <td>0.019089</td>\n",
       "      <td>6.261700e+09</td>\n",
       "      <td>7.867528e-11</td>\n",
       "      <td>False</td>\n",
       "      <td>-0.024012</td>\n",
       "    </tr>\n",
       "  </tbody>\n",
       "</table>\n",
       "<p>265404 rows × 10 columns</p>\n",
       "</div>"
      ],
      "text/plain": [
       "       TICKER  FILINGDATE  TRANSACTIONSHARES  TRANSACTIONVALUE  CLOSE  \\\n",
       "0        ELVT  2017-04-12              78494            510211   7.70   \n",
       "1        ELVT  2017-04-12              40000            260000   7.70   \n",
       "2        ELVT  2017-04-17              50000            325000   8.08   \n",
       "3        ELVT  2017-04-17              38460            249990   8.08   \n",
       "4        ELVT  2019-04-03             -24000            105120   4.32   \n",
       "...       ...         ...                ...               ...    ...   \n",
       "276000   RESI  2020-01-03             -13438            165825  12.62   \n",
       "276001   RESI  2020-05-29             -31534            223891   7.50   \n",
       "276002   RESN  2019-08-13             396000           1001880   2.48   \n",
       "276003   REVG  2019-09-11              50000            478900  10.07   \n",
       "276004   REYN  2020-11-17              16500            492641  29.86   \n",
       "\n",
       "           FC_1M     MARKETCAP        mc_pct   sale   predict  \n",
       "0       0.019481  3.041000e+08  1.677774e-09  False  0.049914  \n",
       "1       0.019481  3.041000e+08  8.549819e-10  False  0.041023  \n",
       "2      -0.033416  3.192000e+08  1.018170e-09  False  0.030830  \n",
       "3      -0.033416  3.192000e+08  7.831767e-10  False  0.030830  \n",
       "4       0.094907  1.873000e+08  5.612387e-10   True  0.026480  \n",
       "...          ...           ...           ...    ...       ...  \n",
       "276000 -0.114897  6.800000e+08  2.438603e-10   True  0.007907  \n",
       "276001  0.160000  4.058000e+08  5.517275e-10   True  0.004420  \n",
       "276002  0.229839  7.040000e+07  1.423125e-08  False  0.098035  \n",
       "276003  0.141013  6.264000e+08  7.645275e-10  False  0.053406  \n",
       "276004  0.019089  6.261700e+09  7.867528e-11  False -0.024012  \n",
       "\n",
       "[265404 rows x 10 columns]"
      ]
     },
     "execution_count": 20,
     "metadata": {},
     "output_type": "execute_result"
    }
   ],
   "source": [
    "df2"
   ]
  },
  {
   "cell_type": "code",
   "execution_count": 21,
   "metadata": {
    "ExecuteTime": {
     "end_time": "2020-12-04T19:29:57.390389Z",
     "start_time": "2020-12-04T19:29:57.345510Z"
    }
   },
   "outputs": [
    {
     "data": {
      "text/plain": [
       "0.02671825868190371"
      ]
     },
     "execution_count": 21,
     "metadata": {},
     "output_type": "execute_result"
    }
   ],
   "source": [
    "df2[df2['predict'] > 0]['fc_1m'].mean()"
   ]
  },
  {
   "cell_type": "code",
   "execution_count": 22,
   "metadata": {
    "ExecuteTime": {
     "end_time": "2020-12-04T19:29:57.421307Z",
     "start_time": "2020-12-04T19:29:57.391387Z"
    }
   },
   "outputs": [
    {
     "data": {
      "text/plain": [
       "-0.050443428344464934"
      ]
     },
     "execution_count": 22,
     "metadata": {},
     "output_type": "execute_result"
    }
   ],
   "source": [
    "df2[df2['predict'] < 0]['fc_1m'].mean()"
   ]
  },
  {
   "cell_type": "code",
   "execution_count": 23,
   "metadata": {
    "ExecuteTime": {
     "end_time": "2020-12-04T19:29:57.575922Z",
     "start_time": "2020-12-04T19:29:57.422304Z"
    }
   },
   "outputs": [
    {
     "data": {
      "text/plain": [
       "<matplotlib.axes._subplots.AxesSubplot at 0x7f54777f5130>"
      ]
     },
     "execution_count": 23,
     "metadata": {},
     "output_type": "execute_result"
    },
    {
     "data": {
      "image/png": "[encoded data removed]",
      "text/plain": [
       "<Figure size 432x288 with 1 Axes>"
      ]
     },
     "metadata": {
      "needs_background": "light"
     },
     "output_type": "display_data"
    }
   ],
   "source": [
    "xgb.plot_importance(model)\n"
   ]
  },
  {
   "cell_type": "markdown",
   "metadata": {},
   "source": [
    "# Predicting the future price using regression"
   ]
  },
  {
   "cell_type": "markdown",
   "metadata": {},
   "source": [
    "### Reading in Data from Fidap"
   ]
  },
  {
   "cell_type": "code",
   "execution_count": 1,
   "metadata": {},
   "outputs": [],
   "source": [
    "import pandas as pd, numpy as np\n",
    "from fidap import fidap_client\n",
    "import config\n",
    "import matplotlib.pyplot as plt\n",
    "import seaborn as sns\n",
    "from sklearn import preprocessing, linear_model\n",
    "fidap = fidap_client(api_key=config.FIDAP_API_KEY)"
   ]
  },
  {
   "cell_type": "code",
   "execution_count": 2,
   "metadata": {},
   "outputs": [],
   "source": [
    "trading_data = fidap.sql(\"\"\"\n",
    "    select insider_trades.ticker, insider_trades.filingdate, insider_trades.transactionshares,\n",
    "    insider_trades.transactionvalue, daily.close, daily.fc_1m, daily.marketcap\n",
    "    from insider_trades, tickers, daily\n",
    "    where \n",
    "    insider_trades.ticker = tickers.ticker and \n",
    "    insider_trades.ticker = daily.ticker and\n",
    "    insider_trades.filingdate = daily.date and\n",
    "    insider_trades.transactionvalue > 100000 and \n",
    "    insider_trades.securitytitle = 'Common Stock'\n",
    "\"\"\")"
   ]
  },
  {
   "cell_type": "code",
   "execution_count": 3,
   "metadata": {},
   "outputs": [
    {
     "data": {
      "text/plain": [
       "(276005, 7)"
      ]
     },
     "execution_count": 3,
     "metadata": {},
     "output_type": "execute_result"
    }
   ],
   "source": [
    "trading_data.shape"
   ]
  },
  {
   "cell_type": "markdown",
   "metadata": {},
   "source": [
    "## Split the Data into Train and Test (3:1)"
   ]
  },
  {
   "cell_type": "code",
   "execution_count": 6,
   "metadata": {},
   "outputs": [],
   "source": [
    "trading_data.dropna(inplace=True)"
   ]
  },
  {
   "cell_type": "code",
   "execution_count": 9,
   "metadata": {},
   "outputs": [],
   "source": [
    "trading_data = trading_data[trading_data.fc_1m < 1]"
   ]
  },
  {
   "cell_type": "code",
   "execution_count": 11,
   "metadata": {},
   "outputs": [],
   "source": [
    "train_df, test_df = trading_data.iloc[:176813], trading_data.iloc[176813:]"
   ]
  },
  {
   "cell_type": "code",
   "execution_count": 12,
   "metadata": {},
   "outputs": [
    {
     "data": {
      "text/html": [
       "<div>\n",
       "<style scoped>\n",
       "    .dataframe tbody tr th:only-of-type {\n",
       "        vertical-align: middle;\n",
       "    }\n",
       "\n",
       "    .dataframe tbody tr th {\n",
       "        vertical-align: top;\n",
       "    }\n",
       "\n",
       "    .dataframe thead th {\n",
       "        text-align: right;\n",
       "    }\n",
       "</style>\n",
       "<table border=\"1\" class=\"dataframe\">\n",
       "  <thead>\n",
       "    <tr style=\"text-align: right;\">\n",
       "      <th></th>\n",
       "      <th>transactionshares</th>\n",
       "      <th>transactionvalue</th>\n",
       "      <th>close</th>\n",
       "      <th>fc_1m</th>\n",
       "      <th>marketcap</th>\n",
       "    </tr>\n",
       "  </thead>\n",
       "  <tbody>\n",
       "    <tr>\n",
       "      <th>count</th>\n",
       "      <td>1.768130e+05</td>\n",
       "      <td>1.768130e+05</td>\n",
       "      <td>176813.000000</td>\n",
       "      <td>176813.000000</td>\n",
       "      <td>1.768130e+05</td>\n",
       "    </tr>\n",
       "    <tr>\n",
       "      <th>mean</th>\n",
       "      <td>-2.265709e+04</td>\n",
       "      <td>2.875126e+06</td>\n",
       "      <td>90.423904</td>\n",
       "      <td>0.008922</td>\n",
       "      <td>2.293588e+10</td>\n",
       "    </tr>\n",
       "    <tr>\n",
       "      <th>std</th>\n",
       "      <td>4.952773e+06</td>\n",
       "      <td>4.691886e+07</td>\n",
       "      <td>242.498413</td>\n",
       "      <td>0.132674</td>\n",
       "      <td>4.616407e+10</td>\n",
       "    </tr>\n",
       "    <tr>\n",
       "      <th>min</th>\n",
       "      <td>-1.805054e+08</td>\n",
       "      <td>1.000010e+05</td>\n",
       "      <td>0.002000</td>\n",
       "      <td>-0.827982</td>\n",
       "      <td>4.000000e+05</td>\n",
       "    </tr>\n",
       "    <tr>\n",
       "      <th>25%</th>\n",
       "      <td>-1.175000e+04</td>\n",
       "      <td>1.805230e+05</td>\n",
       "      <td>29.880000</td>\n",
       "      <td>-0.043918</td>\n",
       "      <td>1.758800e+09</td>\n",
       "    </tr>\n",
       "    <tr>\n",
       "      <th>50%</th>\n",
       "      <td>-3.678000e+03</td>\n",
       "      <td>3.524210e+05</td>\n",
       "      <td>57.120000</td>\n",
       "      <td>0.011177</td>\n",
       "      <td>5.517200e+09</td>\n",
       "    </tr>\n",
       "    <tr>\n",
       "      <th>75%</th>\n",
       "      <td>2.952000e+03</td>\n",
       "      <td>8.591020e+05</td>\n",
       "      <td>107.160000</td>\n",
       "      <td>0.065226</td>\n",
       "      <td>2.096280e+10</td>\n",
       "    </tr>\n",
       "    <tr>\n",
       "      <th>max</th>\n",
       "      <td>2.000000e+09</td>\n",
       "      <td>6.750000e+09</td>\n",
       "      <td>60600.000000</td>\n",
       "      <td>0.998261</td>\n",
       "      <td>4.304826e+11</td>\n",
       "    </tr>\n",
       "  </tbody>\n",
       "</table>\n",
       "</div>"
      ],
      "text/plain": [
       "       transactionshares  transactionvalue          close          fc_1m  \\\n",
       "count       1.768130e+05      1.768130e+05  176813.000000  176813.000000   \n",
       "mean       -2.265709e+04      2.875126e+06      90.423904       0.008922   \n",
       "std         4.952773e+06      4.691886e+07     242.498413       0.132674   \n",
       "min        -1.805054e+08      1.000010e+05       0.002000      -0.827982   \n",
       "25%        -1.175000e+04      1.805230e+05      29.880000      -0.043918   \n",
       "50%        -3.678000e+03      3.524210e+05      57.120000       0.011177   \n",
       "75%         2.952000e+03      8.591020e+05     107.160000       0.065226   \n",
       "max         2.000000e+09      6.750000e+09   60600.000000       0.998261   \n",
       "\n",
       "          marketcap  \n",
       "count  1.768130e+05  \n",
       "mean   2.293588e+10  \n",
       "std    4.616407e+10  \n",
       "min    4.000000e+05  \n",
       "25%    1.758800e+09  \n",
       "50%    5.517200e+09  \n",
       "75%    2.096280e+10  \n",
       "max    4.304826e+11  "
      ]
     },
     "execution_count": 12,
     "metadata": {},
     "output_type": "execute_result"
    }
   ],
   "source": [
    "# Describe data to see what kind of limits and bounds they have. Also determine statistical measures\n",
    "train_df.describe()"
   ]
  },
  {
   "cell_type": "code",
   "execution_count": 13,
   "metadata": {},
   "outputs": [],
   "source": [
    "train_df = train_df[train_df.fc_1m < 1]"
   ]
  },
  {
   "cell_type": "code",
   "execution_count": 14,
   "metadata": {},
   "outputs": [],
   "source": [
    "# Do some data transformations and create some more columns\n",
    "def create_features(data: pd.DataFrame):\n",
    "    data_ = data.copy(deep=True)\n",
    "    data_['mc_pct'] = data_['transactionvalue'] / data_['marketcap']\n",
    "    data_['sale'] = np.where(data_['transactionshares'] > 0, 0, 1)\n",
    "    return data_"
   ]
  },
  {
   "cell_type": "code",
   "execution_count": 15,
   "metadata": {},
   "outputs": [],
   "source": [
    "train_df_mod = create_features(train_df)\n",
    "test_df_mod = create_features(test_df)"
   ]
  },
  {
   "cell_type": "code",
   "execution_count": 16,
   "metadata": {},
   "outputs": [
    {
     "data": {
      "text/html": [
       "<div>\n",
       "<style scoped>\n",
       "    .dataframe tbody tr th:only-of-type {\n",
       "        vertical-align: middle;\n",
       "    }\n",
       "\n",
       "    .dataframe tbody tr th {\n",
       "        vertical-align: top;\n",
       "    }\n",
       "\n",
       "    .dataframe thead th {\n",
       "        text-align: right;\n",
       "    }\n",
       "</style>\n",
       "<table border=\"1\" class=\"dataframe\">\n",
       "  <thead>\n",
       "    <tr style=\"text-align: right;\">\n",
       "      <th></th>\n",
       "      <th>ticker</th>\n",
       "      <th>filingdate</th>\n",
       "      <th>transactionshares</th>\n",
       "      <th>transactionvalue</th>\n",
       "      <th>close</th>\n",
       "      <th>fc_1m</th>\n",
       "      <th>marketcap</th>\n",
       "      <th>mc_pct</th>\n",
       "      <th>sale</th>\n",
       "    </tr>\n",
       "  </thead>\n",
       "  <tbody>\n",
       "    <tr>\n",
       "      <th>0</th>\n",
       "      <td>CMO</td>\n",
       "      <td>2016-02-03</td>\n",
       "      <td>13937</td>\n",
       "      <td>129893</td>\n",
       "      <td>9.47</td>\n",
       "      <td>0.033791</td>\n",
       "      <td>907500000.0</td>\n",
       "      <td>0.000143</td>\n",
       "      <td>0</td>\n",
       "    </tr>\n",
       "    <tr>\n",
       "      <th>1</th>\n",
       "      <td>CMO</td>\n",
       "      <td>2016-02-03</td>\n",
       "      <td>24881</td>\n",
       "      <td>231891</td>\n",
       "      <td>9.47</td>\n",
       "      <td>0.033791</td>\n",
       "      <td>907500000.0</td>\n",
       "      <td>0.000256</td>\n",
       "      <td>0</td>\n",
       "    </tr>\n",
       "    <tr>\n",
       "      <th>2</th>\n",
       "      <td>CMO</td>\n",
       "      <td>2016-02-03</td>\n",
       "      <td>17414</td>\n",
       "      <td>162298</td>\n",
       "      <td>9.47</td>\n",
       "      <td>0.033791</td>\n",
       "      <td>907500000.0</td>\n",
       "      <td>0.000179</td>\n",
       "      <td>0</td>\n",
       "    </tr>\n",
       "    <tr>\n",
       "      <th>3</th>\n",
       "      <td>CMO</td>\n",
       "      <td>2016-02-03</td>\n",
       "      <td>11105</td>\n",
       "      <td>103499</td>\n",
       "      <td>9.47</td>\n",
       "      <td>0.033791</td>\n",
       "      <td>907500000.0</td>\n",
       "      <td>0.000114</td>\n",
       "      <td>0</td>\n",
       "    </tr>\n",
       "    <tr>\n",
       "      <th>4</th>\n",
       "      <td>CMO</td>\n",
       "      <td>2018-01-04</td>\n",
       "      <td>43604</td>\n",
       "      <td>374994</td>\n",
       "      <td>8.66</td>\n",
       "      <td>-0.005774</td>\n",
       "      <td>832300000.0</td>\n",
       "      <td>0.000451</td>\n",
       "      <td>0</td>\n",
       "    </tr>\n",
       "  </tbody>\n",
       "</table>\n",
       "</div>"
      ],
      "text/plain": [
       "  ticker  filingdate  transactionshares  transactionvalue  close     fc_1m  \\\n",
       "0    CMO  2016-02-03              13937            129893   9.47  0.033791   \n",
       "1    CMO  2016-02-03              24881            231891   9.47  0.033791   \n",
       "2    CMO  2016-02-03              17414            162298   9.47  0.033791   \n",
       "3    CMO  2016-02-03              11105            103499   9.47  0.033791   \n",
       "4    CMO  2018-01-04              43604            374994   8.66 -0.005774   \n",
       "\n",
       "     marketcap    mc_pct  sale  \n",
       "0  907500000.0  0.000143     0  \n",
       "1  907500000.0  0.000256     0  \n",
       "2  907500000.0  0.000179     0  \n",
       "3  907500000.0  0.000114     0  \n",
       "4  832300000.0  0.000451     0  "
      ]
     },
     "execution_count": 16,
     "metadata": {},
     "output_type": "execute_result"
    }
   ],
   "source": [
    "train_df_mod.head()"
   ]
  },
  {
   "cell_type": "code",
   "execution_count": 17,
   "metadata": {},
   "outputs": [
    {
     "data": {
      "text/plain": [
       "<AxesSubplot:>"
      ]
     },
     "execution_count": 17,
     "metadata": {},
     "output_type": "execute_result"
    },
    {
     "data": {
      "image/png": "[encoded data removed]",
      "text/plain": [
       "<Figure size 432x288 with 2 Axes>"
      ]
     },
     "metadata": {
      "needs_background": "light"
     },
     "output_type": "display_data"
    }
   ],
   "source": [
    "# check correlation between values in df\n",
    "insider_trading_corr = train_df_mod.corr()\n",
    "sns.heatmap(insider_trading_corr,square=True)"
   ]
  },
  {
   "cell_type": "code",
   "execution_count": 18,
   "metadata": {},
   "outputs": [
    {
     "data": {
      "text/plain": [
       "<AxesSubplot:xlabel='fc_1m', ylabel='Count'>"
      ]
     },
     "execution_count": 18,
     "metadata": {},
     "output_type": "execute_result"
    },
    {
     "data": {
      "image/png": "[encoded data removed]",
      "text/plain": [
       "<Figure size 432x288 with 1 Axes>"
      ]
     },
     "metadata": {
      "needs_background": "light"
     },
     "output_type": "display_data"
    }
   ],
   "source": [
    "# From the above the fields are still correlated to the fc_1m, we will look at the fc_1m distribution\n",
    "sns.histplot(train_df_mod['fc_1m'], kde=True)"
   ]
  },
  {
   "cell_type": "code",
   "execution_count": 19,
   "metadata": {},
   "outputs": [],
   "source": [
    "features = ['ticker', 'sale', 'transactionshares', 'transactionvalue', 'close', 'marketcap', 'mc_pct']\n",
    "labels = ['fc_1m']\n",
    "insider_trading_train_features = train_df_mod[features].copy(deep=True)\n",
    "insider_trading_train_labels = np.array(train_df_mod[labels])\n",
    "insider_trading_test_features = test_df_mod[features].copy(deep=True)"
   ]
  },
  {
   "cell_type": "code",
   "execution_count": 20,
   "metadata": {},
   "outputs": [],
   "source": [
    "encoder = preprocessing.OrdinalEncoder()\n",
    "train_ticker = encoder.fit_transform(np.array(insider_trading_train_features['ticker']).reshape(-1, 1))\n",
    "test_ticker = encoder.fit_transform(np.array(insider_trading_test_features['ticker']).reshape(-1, 1))"
   ]
  },
  {
   "cell_type": "code",
   "execution_count": 21,
   "metadata": {},
   "outputs": [],
   "source": [
    "train_features_ = np.array(insider_trading_train_features[features[2:]])\n",
    "test_features_ = np.array(insider_trading_test_features[features[2:]])\n",
    "train_features = np.append(train_features_, train_ticker, axis=1)\n",
    "test_features = np.append(test_features_, test_ticker, axis=1)"
   ]
  },
  {
   "cell_type": "code",
   "execution_count": 22,
   "metadata": {},
   "outputs": [],
   "source": [
    "import numpy.random as nr\n",
    "import sklearn.model_selection as ms\n",
    "nr.seed(9988)\n",
    "indx = range(train_features.shape[0])\n",
    "indx = ms.train_test_split(indx, test_size = 0.3)\n",
    "X_train = train_features[indx[0],:]\n",
    "y_train = np.ravel(insider_trading_train_labels[indx[0]])\n",
    "X_test = train_features[indx[1],:]\n",
    "y_test = np.ravel(insider_trading_train_labels[indx[1]])"
   ]
  },
  {
   "cell_type": "code",
   "execution_count": 23,
   "metadata": {},
   "outputs": [],
   "source": [
    "# Scale the numeric Features\n",
    "scaler = preprocessing.StandardScaler().fit(X_train[:,2:])\n",
    "X_train[:,2:] = scaler.transform(X_train[:,2:])\n",
    "X_test[:,2:] = scaler.transform(X_test[:,2:])\n",
    "test_features[:,2:] = scaler.transform(test_features[:,2:])"
   ]
  },
  {
   "cell_type": "code",
   "execution_count": 24,
   "metadata": {},
   "outputs": [
    {
     "data": {
      "text/plain": [
       "LinearRegression(fit_intercept=False)"
      ]
     },
     "execution_count": 24,
     "metadata": {},
     "output_type": "execute_result"
    }
   ],
   "source": [
    "## define and fit the linear regression model\n",
    "lin_mod = linear_model.LinearRegression(fit_intercept = False)\n",
    "lin_mod.fit(X_train, y_train)"
   ]
  },
  {
   "cell_type": "code",
   "execution_count": 25,
   "metadata": {},
   "outputs": [
    {
     "name": "stdout",
     "output_type": "stream",
     "text": [
      "Mean Square Error      = 0.017402973374233414\n",
      "Root Mean Square Error = 0.1319203296472284\n",
      "Mean Absolute Error    = 0.08678285942524669\n",
      "Median Absolute Error  = 0.055329534651607004\n",
      "R^2                    = -0.0038032290385208167\n",
      "Adjusted R^2           = -0.004314446165124862\n"
     ]
    }
   ],
   "source": [
    "import sklearn.metrics as sklm\n",
    "import scipy.stats as ss\n",
    "import math\n",
    "def print_metrics(y_true, y_predicted, n_parameters):\n",
    "    ## First compute R^2 and the adjusted R^2\n",
    "    r2 = sklm.r2_score(y_true, y_predicted)\n",
    "    r2_adj = r2 - (n_parameters - 1)/(y_true.shape[0] - n_parameters) * (1 - r2)\n",
    "    \n",
    "    ## Print the usual metrics and the R^2 values\n",
    "    print('Mean Square Error      = ' + str(sklm.mean_squared_error(y_true, y_predicted)))\n",
    "    print('Root Mean Square Error = ' + str(math.sqrt(sklm.mean_squared_error(y_true, y_predicted))))\n",
    "    print('Mean Absolute Error    = ' + str(sklm.mean_absolute_error(y_true, y_predicted)))\n",
    "    print('Median Absolute Error  = ' + str(sklm.median_absolute_error(y_true, y_predicted)))\n",
    "    print('R^2                    = ' + str(r2))\n",
    "    print('Adjusted R^2           = ' + str(r2_adj))\n",
    "   \n",
    "y_score = lin_mod.predict(X_test) \n",
    "print_metrics(y_test, y_score, 28)"
   ]
  },
  {
   "cell_type": "code",
   "execution_count": 33,
   "metadata": {},
   "outputs": [
    {
     "data": {
      "image/png": "[encoded data removed]",
      "text/plain": [
       "<Figure size 432x288 with 1 Axes>"
      ]
     },
     "metadata": {
      "needs_background": "light"
     },
     "output_type": "display_data"
    }
   ],
   "source": [
    "# Evaluate Residuals\n",
    "def hist_resids(y_test, y_score):\n",
    "    ## first compute vector of residuals. \n",
    "    resids = np.subtract(y_test.reshape(-1,1), y_score.reshape(-1,1))\n",
    "    ## now make the residual plots\n",
    "    sns.histplot(resids, kde=True)\n",
    "    plt.title('Histogram of residuals')\n",
    "    plt.xlabel('Residual value')\n",
    "    plt.ylabel('count')\n",
    "    \n",
    "hist_resids(y_test, y_score)"
   ]
  },
  {
   "cell_type": "code",
   "execution_count": 27,
   "metadata": {},
   "outputs": [
    {
     "data": {
      "image/png": "[encoded data removed]",
      "text/plain": [
       "<Figure size 432x288 with 1 Axes>"
      ]
     },
     "metadata": {
      "needs_background": "light"
     },
     "output_type": "display_data"
    }
   ],
   "source": [
    "def resid_qq(y_test, y_score):\n",
    "    ## first compute vector of residuals. \n",
    "    resids = np.subtract(y_test.reshape(-1,1), y_score.reshape(-1,1))\n",
    "    ## now make the residual plots\n",
    "    ss.probplot(resids.flatten(), plot = plt)\n",
    "    plt.title('Residuals vs. predicted values')\n",
    "    plt.xlabel('Predicted values')\n",
    "    plt.ylabel('Residual')\n",
    "    \n",
    "resid_qq(y_test, y_score)"
   ]
  },
  {
   "cell_type": "code",
   "execution_count": 28,
   "metadata": {},
   "outputs": [],
   "source": [
    "# Try XGBoost\n",
    "import xgboost as xg"
   ]
  },
  {
   "cell_type": "code",
   "execution_count": 29,
   "metadata": {},
   "outputs": [],
   "source": [
    "xgb_r = xg.XGBRegressor(objective ='reg:squarederror', \n",
    "                  n_estimators = 20, seed = 123) \n",
    "  \n",
    "# Fitting the model \n",
    "xgb_r.fit(X_train, y_train) \n",
    "  \n",
    "# Predict the model \n",
    "y_score = xgb_r.predict(X_test)"
   ]
  },
  {
   "cell_type": "code",
   "execution_count": 30,
   "metadata": {},
   "outputs": [
    {
     "name": "stdout",
     "output_type": "stream",
     "text": [
      "Mean Square Error      = 0.0157718249255842\n",
      "Root Mean Square Error = 0.12558592646305636\n",
      "Mean Absolute Error    = 0.08302365161684039\n",
      "Median Absolute Error  = 0.05337794605048025\n",
      "R^2                    = 0.09028138768677363\n",
      "Adjusted R^2           = 0.08981808599421937\n"
     ]
    }
   ],
   "source": [
    "print_metrics(y_test, y_score, 28)"
   ]
  }
 ],
 "metadata": {
  "environment": {
   "name": "common-cpu.mnightly-2021-01-20-debian-10-test",
   "type": "gcloud",
   "uri": "gcr.io/deeplearning-platform-release/base-cpu:mnightly-2021-01-20-debian-10-test"
  },
  "kernelspec": {
   "display_name": "Python 3",
   "language": "python",
   "name": "python3"
  },
  "language_info": {
   "codemirror_mode": {
    "name": "ipython",
    "version": 3
   },
   "file_extension": ".py",
   "mimetype": "text/x-python",
   "name": "python",
   "nbconvert_exporter": "python",
   "pygments_lexer": "ipython3",
   "version": "3.7.9"
  },
  "toc": {
   "colors": {
    "hover_highlight": "#DAA520",
    "running_highlight": "#FF0000",
    "selected_highlight": "#FFD700"
   },
   "moveMenuLeft": true,
   "nav_menu": {
    "height": "12px",
    "width": "252px"
   },
   "navigate_menu": true,
   "number_sections": true,
   "sideBar": true,
   "threshold": 4,
   "toc_cell": false,
   "toc_section_display": "block",
   "toc_window_display": false,
   "widenNotebook": false
  }
 },
 "nbformat": 4,
 "nbformat_minor": 4
}
