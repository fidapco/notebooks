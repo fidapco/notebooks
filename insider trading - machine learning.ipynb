{
 "cells": [
  {
   "cell_type": "code",
   "execution_count": 37,
   "metadata": {
    "ExecuteTime": {
     "end_time": "2020-12-04T19:29:22.146631Z",
     "start_time": "2020-12-04T19:29:21.519309Z"
    }
   },
   "outputs": [
    {
     "data": {
      "text/plain": [
       "<module 'fidap' from 'C:\\\\Users\\\\User\\\\Google Drive\\\\Python\\\\notebooks\\\\fidap.py'>"
      ]
     },
     "execution_count": 37,
     "metadata": {},
     "output_type": "execute_result"
    }
   ],
   "source": [
    "import fidap, pandas as pd, importlib, numpy as np\n",
    "importlib.reload(fidap)"
   ]
  },
  {
   "cell_type": "markdown",
   "metadata": {},
   "source": [
    "Let's first explore the data and find some basic numbers here."
   ]
  },
  {
   "cell_type": "code",
   "execution_count": 38,
   "metadata": {
    "ExecuteTime": {
     "end_time": "2020-12-04T19:29:46.210276Z",
     "start_time": "2020-12-04T19:29:22.148630Z"
    }
   },
   "outputs": [],
   "source": [
    "df2 = fidap.sql(\"\"\"\n",
    "    select insider_trades.ticker, insider_trades.filingdate, insider_trades.transactionshares,\n",
    "    insider_trades.transactionvalue, daily.close, daily.fc_1m, daily.marketcap\n",
    "    from insider_trades, tickers, daily\n",
    "    where \n",
    "    insider_trades.ticker = tickers.ticker and \n",
    "    insider_trades.ticker = daily.ticker and\n",
    "    insider_trades.filingdate = daily.date and\n",
    "    insider_trades.transactionvalue > 100000 and \n",
    "    insider_trades.securitytitle = 'Common Stock'\n",
    "\"\"\")"
   ]
  },
  {
   "cell_type": "code",
   "execution_count": 39,
   "metadata": {
    "ExecuteTime": {
     "end_time": "2020-12-04T19:29:46.226258Z",
     "start_time": "2020-12-04T19:29:46.212272Z"
    }
   },
   "outputs": [
    {
     "data": {
      "text/html": [
       "<div>\n",
       "<style scoped>\n",
       "    .dataframe tbody tr th:only-of-type {\n",
       "        vertical-align: middle;\n",
       "    }\n",
       "\n",
       "    .dataframe tbody tr th {\n",
       "        vertical-align: top;\n",
       "    }\n",
       "\n",
       "    .dataframe thead th {\n",
       "        text-align: right;\n",
       "    }\n",
       "</style>\n",
       "<table border=\"1\" class=\"dataframe\">\n",
       "  <thead>\n",
       "    <tr style=\"text-align: right;\">\n",
       "      <th></th>\n",
       "      <th>ticker</th>\n",
       "      <th>filingdate</th>\n",
       "      <th>transactionshares</th>\n",
       "      <th>transactionvalue</th>\n",
       "      <th>close</th>\n",
       "      <th>fc_1m</th>\n",
       "      <th>marketcap</th>\n",
       "    </tr>\n",
       "  </thead>\n",
       "  <tbody>\n",
       "    <tr>\n",
       "      <th>0</th>\n",
       "      <td>AAPL</td>\n",
       "      <td>2015-01-02</td>\n",
       "      <td>-900.0</td>\n",
       "      <td>101961.0</td>\n",
       "      <td>27.332</td>\n",
       "      <td>0.093590</td>\n",
       "      <td>641191.2</td>\n",
       "    </tr>\n",
       "    <tr>\n",
       "      <th>1</th>\n",
       "      <td>AAPL</td>\n",
       "      <td>2015-01-02</td>\n",
       "      <td>-2904.0</td>\n",
       "      <td>327368.0</td>\n",
       "      <td>27.332</td>\n",
       "      <td>0.093590</td>\n",
       "      <td>641191.2</td>\n",
       "    </tr>\n",
       "    <tr>\n",
       "      <th>2</th>\n",
       "      <td>ABCO</td>\n",
       "      <td>2015-01-02</td>\n",
       "      <td>-28800.0</td>\n",
       "      <td>1411776.0</td>\n",
       "      <td>48.480</td>\n",
       "      <td>0.020008</td>\n",
       "      <td>1745.9</td>\n",
       "    </tr>\n",
       "    <tr>\n",
       "      <th>3</th>\n",
       "      <td>ABCO</td>\n",
       "      <td>2015-01-02</td>\n",
       "      <td>-30000.0</td>\n",
       "      <td>1494600.0</td>\n",
       "      <td>48.480</td>\n",
       "      <td>0.020008</td>\n",
       "      <td>1745.9</td>\n",
       "    </tr>\n",
       "    <tr>\n",
       "      <th>4</th>\n",
       "      <td>AZO</td>\n",
       "      <td>2015-01-02</td>\n",
       "      <td>516.0</td>\n",
       "      <td>319461.0</td>\n",
       "      <td>616.790</td>\n",
       "      <td>-0.024579</td>\n",
       "      <td>19674.2</td>\n",
       "    </tr>\n",
       "  </tbody>\n",
       "</table>\n",
       "</div>"
      ],
      "text/plain": [
       "  ticker filingdate  transactionshares  transactionvalue    close     fc_1m  \\\n",
       "0   AAPL 2015-01-02             -900.0          101961.0   27.332  0.093590   \n",
       "1   AAPL 2015-01-02            -2904.0          327368.0   27.332  0.093590   \n",
       "2   ABCO 2015-01-02           -28800.0         1411776.0   48.480  0.020008   \n",
       "3   ABCO 2015-01-02           -30000.0         1494600.0   48.480  0.020008   \n",
       "4    AZO 2015-01-02              516.0          319461.0  616.790 -0.024579   \n",
       "\n",
       "   marketcap  \n",
       "0   641191.2  \n",
       "1   641191.2  \n",
       "2     1745.9  \n",
       "3     1745.9  \n",
       "4    19674.2  "
      ]
     },
     "execution_count": 39,
     "metadata": {},
     "output_type": "execute_result"
    }
   ],
   "source": [
    "df2.head()"
   ]
  },
  {
   "cell_type": "code",
   "execution_count": 40,
   "metadata": {
    "ExecuteTime": {
     "end_time": "2020-12-04T19:29:46.241194Z",
     "start_time": "2020-12-04T19:29:46.227248Z"
    }
   },
   "outputs": [
    {
     "data": {
      "text/plain": [
       "320759"
      ]
     },
     "execution_count": 40,
     "metadata": {},
     "output_type": "execute_result"
    }
   ],
   "source": [
    "len(df2)"
   ]
  },
  {
   "cell_type": "code",
   "execution_count": 41,
   "metadata": {
    "ExecuteTime": {
     "end_time": "2020-12-04T19:29:46.257179Z",
     "start_time": "2020-12-04T19:29:46.243189Z"
    }
   },
   "outputs": [],
   "source": [
    "df2['mc_pct'] = df2['transactionvalue'] / (df2['marketcap']*1e6)"
   ]
  },
  {
   "cell_type": "code",
   "execution_count": 42,
   "metadata": {
    "ExecuteTime": {
     "end_time": "2020-12-04T19:29:46.272135Z",
     "start_time": "2020-12-04T19:29:46.258177Z"
    }
   },
   "outputs": [],
   "source": [
    "df2['sale'] = np.where(df2['transactionshares'] > 0, False, True)"
   ]
  },
  {
   "cell_type": "code",
   "execution_count": 43,
   "metadata": {
    "ExecuteTime": {
     "end_time": "2020-12-04T19:29:46.303056Z",
     "start_time": "2020-12-04T19:29:46.273109Z"
    }
   },
   "outputs": [
    {
     "data": {
      "text/html": [
       "<div>\n",
       "<style scoped>\n",
       "    .dataframe tbody tr th:only-of-type {\n",
       "        vertical-align: middle;\n",
       "    }\n",
       "\n",
       "    .dataframe tbody tr th {\n",
       "        vertical-align: top;\n",
       "    }\n",
       "\n",
       "    .dataframe thead th {\n",
       "        text-align: right;\n",
       "    }\n",
       "</style>\n",
       "<table border=\"1\" class=\"dataframe\">\n",
       "  <thead>\n",
       "    <tr style=\"text-align: right;\">\n",
       "      <th></th>\n",
       "      <th>ticker</th>\n",
       "      <th>filingdate</th>\n",
       "      <th>transactionshares</th>\n",
       "      <th>transactionvalue</th>\n",
       "      <th>close</th>\n",
       "      <th>fc_1m</th>\n",
       "      <th>marketcap</th>\n",
       "      <th>mc_pct</th>\n",
       "      <th>sale</th>\n",
       "    </tr>\n",
       "  </thead>\n",
       "  <tbody>\n",
       "    <tr>\n",
       "      <th>0</th>\n",
       "      <td>AAPL</td>\n",
       "      <td>2015-01-02</td>\n",
       "      <td>-900.0</td>\n",
       "      <td>101961.0</td>\n",
       "      <td>27.332</td>\n",
       "      <td>0.093590</td>\n",
       "      <td>641191.2</td>\n",
       "      <td>1.590181e-07</td>\n",
       "      <td>True</td>\n",
       "    </tr>\n",
       "    <tr>\n",
       "      <th>1</th>\n",
       "      <td>AAPL</td>\n",
       "      <td>2015-01-02</td>\n",
       "      <td>-2904.0</td>\n",
       "      <td>327368.0</td>\n",
       "      <td>27.332</td>\n",
       "      <td>0.093590</td>\n",
       "      <td>641191.2</td>\n",
       "      <td>5.105622e-07</td>\n",
       "      <td>True</td>\n",
       "    </tr>\n",
       "    <tr>\n",
       "      <th>2</th>\n",
       "      <td>ABCO</td>\n",
       "      <td>2015-01-02</td>\n",
       "      <td>-28800.0</td>\n",
       "      <td>1411776.0</td>\n",
       "      <td>48.480</td>\n",
       "      <td>0.020008</td>\n",
       "      <td>1745.9</td>\n",
       "      <td>8.086236e-04</td>\n",
       "      <td>True</td>\n",
       "    </tr>\n",
       "    <tr>\n",
       "      <th>3</th>\n",
       "      <td>ABCO</td>\n",
       "      <td>2015-01-02</td>\n",
       "      <td>-30000.0</td>\n",
       "      <td>1494600.0</td>\n",
       "      <td>48.480</td>\n",
       "      <td>0.020008</td>\n",
       "      <td>1745.9</td>\n",
       "      <td>8.560628e-04</td>\n",
       "      <td>True</td>\n",
       "    </tr>\n",
       "    <tr>\n",
       "      <th>4</th>\n",
       "      <td>AZO</td>\n",
       "      <td>2015-01-02</td>\n",
       "      <td>516.0</td>\n",
       "      <td>319461.0</td>\n",
       "      <td>616.790</td>\n",
       "      <td>-0.024579</td>\n",
       "      <td>19674.2</td>\n",
       "      <td>1.623756e-05</td>\n",
       "      <td>False</td>\n",
       "    </tr>\n",
       "    <tr>\n",
       "      <th>...</th>\n",
       "      <td>...</td>\n",
       "      <td>...</td>\n",
       "      <td>...</td>\n",
       "      <td>...</td>\n",
       "      <td>...</td>\n",
       "      <td>...</td>\n",
       "      <td>...</td>\n",
       "      <td>...</td>\n",
       "      <td>...</td>\n",
       "    </tr>\n",
       "    <tr>\n",
       "      <th>320754</th>\n",
       "      <td>ONEM</td>\n",
       "      <td>2020-10-23</td>\n",
       "      <td>-15000.0</td>\n",
       "      <td>471195.0</td>\n",
       "      <td>31.910</td>\n",
       "      <td>NaN</td>\n",
       "      <td>4028.1</td>\n",
       "      <td>1.169770e-04</td>\n",
       "      <td>True</td>\n",
       "    </tr>\n",
       "    <tr>\n",
       "      <th>320755</th>\n",
       "      <td>PAG</td>\n",
       "      <td>2020-10-23</td>\n",
       "      <td>-8000.0</td>\n",
       "      <td>445040.0</td>\n",
       "      <td>55.130</td>\n",
       "      <td>NaN</td>\n",
       "      <td>4429.0</td>\n",
       "      <td>1.004832e-04</td>\n",
       "      <td>True</td>\n",
       "    </tr>\n",
       "    <tr>\n",
       "      <th>320756</th>\n",
       "      <td>SNBR</td>\n",
       "      <td>2020-10-23</td>\n",
       "      <td>-3376.0</td>\n",
       "      <td>208991.0</td>\n",
       "      <td>65.000</td>\n",
       "      <td>NaN</td>\n",
       "      <td>1802.1</td>\n",
       "      <td>1.159708e-04</td>\n",
       "      <td>True</td>\n",
       "    </tr>\n",
       "    <tr>\n",
       "      <th>320757</th>\n",
       "      <td>UTHR</td>\n",
       "      <td>2020-10-23</td>\n",
       "      <td>2500.0</td>\n",
       "      <td>159750.0</td>\n",
       "      <td>122.780</td>\n",
       "      <td>NaN</td>\n",
       "      <td>5452.9</td>\n",
       "      <td>2.929634e-05</td>\n",
       "      <td>False</td>\n",
       "    </tr>\n",
       "    <tr>\n",
       "      <th>320758</th>\n",
       "      <td>UTHR</td>\n",
       "      <td>2020-10-23</td>\n",
       "      <td>-2500.0</td>\n",
       "      <td>305250.0</td>\n",
       "      <td>122.780</td>\n",
       "      <td>NaN</td>\n",
       "      <td>5452.9</td>\n",
       "      <td>5.597939e-05</td>\n",
       "      <td>True</td>\n",
       "    </tr>\n",
       "  </tbody>\n",
       "</table>\n",
       "<p>320759 rows × 9 columns</p>\n",
       "</div>"
      ],
      "text/plain": [
       "       ticker filingdate  transactionshares  transactionvalue    close  \\\n",
       "0        AAPL 2015-01-02             -900.0          101961.0   27.332   \n",
       "1        AAPL 2015-01-02            -2904.0          327368.0   27.332   \n",
       "2        ABCO 2015-01-02           -28800.0         1411776.0   48.480   \n",
       "3        ABCO 2015-01-02           -30000.0         1494600.0   48.480   \n",
       "4         AZO 2015-01-02              516.0          319461.0  616.790   \n",
       "...       ...        ...                ...               ...      ...   \n",
       "320754   ONEM 2020-10-23           -15000.0          471195.0   31.910   \n",
       "320755    PAG 2020-10-23            -8000.0          445040.0   55.130   \n",
       "320756   SNBR 2020-10-23            -3376.0          208991.0   65.000   \n",
       "320757   UTHR 2020-10-23             2500.0          159750.0  122.780   \n",
       "320758   UTHR 2020-10-23            -2500.0          305250.0  122.780   \n",
       "\n",
       "           fc_1m  marketcap        mc_pct   sale  \n",
       "0       0.093590   641191.2  1.590181e-07   True  \n",
       "1       0.093590   641191.2  5.105622e-07   True  \n",
       "2       0.020008     1745.9  8.086236e-04   True  \n",
       "3       0.020008     1745.9  8.560628e-04   True  \n",
       "4      -0.024579    19674.2  1.623756e-05  False  \n",
       "...          ...        ...           ...    ...  \n",
       "320754       NaN     4028.1  1.169770e-04   True  \n",
       "320755       NaN     4429.0  1.004832e-04   True  \n",
       "320756       NaN     1802.1  1.159708e-04   True  \n",
       "320757       NaN     5452.9  2.929634e-05  False  \n",
       "320758       NaN     5452.9  5.597939e-05   True  \n",
       "\n",
       "[320759 rows x 9 columns]"
      ]
     },
     "execution_count": 43,
     "metadata": {},
     "output_type": "execute_result"
    }
   ],
   "source": [
    "df2"
   ]
  },
  {
   "cell_type": "code",
   "execution_count": 44,
   "metadata": {
    "ExecuteTime": {
     "end_time": "2020-12-04T19:29:46.349931Z",
     "start_time": "2020-12-04T19:29:46.305025Z"
    }
   },
   "outputs": [],
   "source": [
    "df2 = df2.dropna()"
   ]
  },
  {
   "cell_type": "code",
   "execution_count": 45,
   "metadata": {
    "ExecuteTime": {
     "end_time": "2020-12-04T19:29:46.364887Z",
     "start_time": "2020-12-04T19:29:46.351923Z"
    }
   },
   "outputs": [],
   "source": [
    "features = ['close', 'marketcap', 'mc_pct', 'sale']\n",
    "label = 'fc_1m'"
   ]
  },
  {
   "cell_type": "code",
   "execution_count": 46,
   "metadata": {
    "ExecuteTime": {
     "end_time": "2020-12-04T19:29:46.380844Z",
     "start_time": "2020-12-04T19:29:46.365860Z"
    }
   },
   "outputs": [],
   "source": [
    "import xgboost as xgb "
   ]
  },
  {
   "cell_type": "code",
   "execution_count": 47,
   "metadata": {
    "ExecuteTime": {
     "end_time": "2020-12-04T19:29:46.395780Z",
     "start_time": "2020-12-04T19:29:46.381818Z"
    }
   },
   "outputs": [],
   "source": [
    "model = xgb.XGBRegressor()"
   ]
  },
  {
   "cell_type": "code",
   "execution_count": 48,
   "metadata": {
    "ExecuteTime": {
     "end_time": "2020-12-04T19:29:56.933612Z",
     "start_time": "2020-12-04T19:29:46.396820Z"
    }
   },
   "outputs": [
    {
     "data": {
      "text/plain": [
       "XGBRegressor(base_score=0.5, booster='gbtree', colsample_bylevel=1,\n",
       "             colsample_bynode=1, colsample_bytree=1, gamma=0, gpu_id=-1,\n",
       "             importance_type='gain', interaction_constraints='',\n",
       "             learning_rate=0.300000012, max_delta_step=0, max_depth=6,\n",
       "             min_child_weight=1, missing=nan, monotone_constraints='()',\n",
       "             n_estimators=100, n_jobs=0, num_parallel_tree=1,\n",
       "             objective='reg:squarederror', random_state=0, reg_alpha=0,\n",
       "             reg_lambda=1, scale_pos_weight=1, subsample=1, tree_method='exact',\n",
       "             validate_parameters=1, verbosity=None)"
      ]
     },
     "execution_count": 48,
     "metadata": {},
     "output_type": "execute_result"
    }
   ],
   "source": [
    "model.fit(df2[features],df2[label])"
   ]
  },
  {
   "cell_type": "code",
   "execution_count": 49,
   "metadata": {
    "ExecuteTime": {
     "end_time": "2020-12-04T19:29:57.295644Z",
     "start_time": "2020-12-04T19:29:56.935606Z"
    }
   },
   "outputs": [],
   "source": [
    "preds = model.predict(df2[features])"
   ]
  },
  {
   "cell_type": "code",
   "execution_count": 50,
   "metadata": {
    "ExecuteTime": {
     "end_time": "2020-12-04T19:29:57.311600Z",
     "start_time": "2020-12-04T19:29:57.297637Z"
    }
   },
   "outputs": [
    {
     "name": "stderr",
     "output_type": "stream",
     "text": [
      "C:\\ProgramData\\Anaconda3\\lib\\site-packages\\ipykernel_launcher.py:1: SettingWithCopyWarning: \n",
      "A value is trying to be set on a copy of a slice from a DataFrame.\n",
      "Try using .loc[row_indexer,col_indexer] = value instead\n",
      "\n",
      "See the caveats in the documentation: https://pandas.pydata.org/pandas-docs/stable/user_guide/indexing.html#returning-a-view-versus-a-copy\n",
      "  \"\"\"Entry point for launching an IPython kernel.\n"
     ]
    }
   ],
   "source": [
    "df2['predict'] = preds"
   ]
  },
  {
   "cell_type": "code",
   "execution_count": 51,
   "metadata": {
    "ExecuteTime": {
     "end_time": "2020-12-04T19:29:57.343515Z",
     "start_time": "2020-12-04T19:29:57.313595Z"
    }
   },
   "outputs": [
    {
     "data": {
      "text/html": [
       "<div>\n",
       "<style scoped>\n",
       "    .dataframe tbody tr th:only-of-type {\n",
       "        vertical-align: middle;\n",
       "    }\n",
       "\n",
       "    .dataframe tbody tr th {\n",
       "        vertical-align: top;\n",
       "    }\n",
       "\n",
       "    .dataframe thead th {\n",
       "        text-align: right;\n",
       "    }\n",
       "</style>\n",
       "<table border=\"1\" class=\"dataframe\">\n",
       "  <thead>\n",
       "    <tr style=\"text-align: right;\">\n",
       "      <th></th>\n",
       "      <th>ticker</th>\n",
       "      <th>filingdate</th>\n",
       "      <th>transactionshares</th>\n",
       "      <th>transactionvalue</th>\n",
       "      <th>close</th>\n",
       "      <th>fc_1m</th>\n",
       "      <th>marketcap</th>\n",
       "      <th>mc_pct</th>\n",
       "      <th>sale</th>\n",
       "      <th>predict</th>\n",
       "    </tr>\n",
       "  </thead>\n",
       "  <tbody>\n",
       "    <tr>\n",
       "      <th>0</th>\n",
       "      <td>AAPL</td>\n",
       "      <td>2015-01-02</td>\n",
       "      <td>-900.0</td>\n",
       "      <td>101961.0</td>\n",
       "      <td>27.332</td>\n",
       "      <td>0.093590</td>\n",
       "      <td>641191.2</td>\n",
       "      <td>1.590181e-07</td>\n",
       "      <td>True</td>\n",
       "      <td>0.051608</td>\n",
       "    </tr>\n",
       "    <tr>\n",
       "      <th>1</th>\n",
       "      <td>AAPL</td>\n",
       "      <td>2015-01-02</td>\n",
       "      <td>-2904.0</td>\n",
       "      <td>327368.0</td>\n",
       "      <td>27.332</td>\n",
       "      <td>0.093590</td>\n",
       "      <td>641191.2</td>\n",
       "      <td>5.105622e-07</td>\n",
       "      <td>True</td>\n",
       "      <td>0.051608</td>\n",
       "    </tr>\n",
       "    <tr>\n",
       "      <th>2</th>\n",
       "      <td>ABCO</td>\n",
       "      <td>2015-01-02</td>\n",
       "      <td>-28800.0</td>\n",
       "      <td>1411776.0</td>\n",
       "      <td>48.480</td>\n",
       "      <td>0.020008</td>\n",
       "      <td>1745.9</td>\n",
       "      <td>8.086236e-04</td>\n",
       "      <td>True</td>\n",
       "      <td>-0.041948</td>\n",
       "    </tr>\n",
       "    <tr>\n",
       "      <th>3</th>\n",
       "      <td>ABCO</td>\n",
       "      <td>2015-01-02</td>\n",
       "      <td>-30000.0</td>\n",
       "      <td>1494600.0</td>\n",
       "      <td>48.480</td>\n",
       "      <td>0.020008</td>\n",
       "      <td>1745.9</td>\n",
       "      <td>8.560628e-04</td>\n",
       "      <td>True</td>\n",
       "      <td>-0.041948</td>\n",
       "    </tr>\n",
       "    <tr>\n",
       "      <th>4</th>\n",
       "      <td>AZO</td>\n",
       "      <td>2015-01-02</td>\n",
       "      <td>516.0</td>\n",
       "      <td>319461.0</td>\n",
       "      <td>616.790</td>\n",
       "      <td>-0.024579</td>\n",
       "      <td>19674.2</td>\n",
       "      <td>1.623756e-05</td>\n",
       "      <td>False</td>\n",
       "      <td>0.024058</td>\n",
       "    </tr>\n",
       "    <tr>\n",
       "      <th>...</th>\n",
       "      <td>...</td>\n",
       "      <td>...</td>\n",
       "      <td>...</td>\n",
       "      <td>...</td>\n",
       "      <td>...</td>\n",
       "      <td>...</td>\n",
       "      <td>...</td>\n",
       "      <td>...</td>\n",
       "      <td>...</td>\n",
       "      <td>...</td>\n",
       "    </tr>\n",
       "    <tr>\n",
       "      <th>319544</th>\n",
       "      <td>RAPT</td>\n",
       "      <td>2020-09-23</td>\n",
       "      <td>-608000.0</td>\n",
       "      <td>18756800.0</td>\n",
       "      <td>28.610</td>\n",
       "      <td>0.153792</td>\n",
       "      <td>700.1</td>\n",
       "      <td>2.679160e-02</td>\n",
       "      <td>True</td>\n",
       "      <td>0.018588</td>\n",
       "    </tr>\n",
       "    <tr>\n",
       "      <th>319545</th>\n",
       "      <td>TA</td>\n",
       "      <td>2020-09-23</td>\n",
       "      <td>104738.0</td>\n",
       "      <td>2259199.0</td>\n",
       "      <td>17.560</td>\n",
       "      <td>0.606492</td>\n",
       "      <td>252.8</td>\n",
       "      <td>8.936705e-03</td>\n",
       "      <td>False</td>\n",
       "      <td>0.104502</td>\n",
       "    </tr>\n",
       "    <tr>\n",
       "      <th>319546</th>\n",
       "      <td>TA</td>\n",
       "      <td>2020-09-23</td>\n",
       "      <td>218577.0</td>\n",
       "      <td>3060078.0</td>\n",
       "      <td>17.560</td>\n",
       "      <td>0.606492</td>\n",
       "      <td>252.8</td>\n",
       "      <td>1.210474e-02</td>\n",
       "      <td>False</td>\n",
       "      <td>0.016674</td>\n",
       "    </tr>\n",
       "    <tr>\n",
       "      <th>319547</th>\n",
       "      <td>VER</td>\n",
       "      <td>2020-09-23</td>\n",
       "      <td>40000.0</td>\n",
       "      <td>253160.0</td>\n",
       "      <td>6.080</td>\n",
       "      <td>0.110197</td>\n",
       "      <td>6553.9</td>\n",
       "      <td>3.862738e-05</td>\n",
       "      <td>False</td>\n",
       "      <td>0.062403</td>\n",
       "    </tr>\n",
       "    <tr>\n",
       "      <th>319548</th>\n",
       "      <td>ZEN</td>\n",
       "      <td>2020-09-23</td>\n",
       "      <td>-5000.0</td>\n",
       "      <td>469600.0</td>\n",
       "      <td>99.260</td>\n",
       "      <td>0.110619</td>\n",
       "      <td>11457.2</td>\n",
       "      <td>4.098733e-05</td>\n",
       "      <td>True</td>\n",
       "      <td>0.011705</td>\n",
       "    </tr>\n",
       "  </tbody>\n",
       "</table>\n",
       "<p>310105 rows × 10 columns</p>\n",
       "</div>"
      ],
      "text/plain": [
       "       ticker filingdate  transactionshares  transactionvalue    close  \\\n",
       "0        AAPL 2015-01-02             -900.0          101961.0   27.332   \n",
       "1        AAPL 2015-01-02            -2904.0          327368.0   27.332   \n",
       "2        ABCO 2015-01-02           -28800.0         1411776.0   48.480   \n",
       "3        ABCO 2015-01-02           -30000.0         1494600.0   48.480   \n",
       "4         AZO 2015-01-02              516.0          319461.0  616.790   \n",
       "...       ...        ...                ...               ...      ...   \n",
       "319544   RAPT 2020-09-23          -608000.0        18756800.0   28.610   \n",
       "319545     TA 2020-09-23           104738.0         2259199.0   17.560   \n",
       "319546     TA 2020-09-23           218577.0         3060078.0   17.560   \n",
       "319547    VER 2020-09-23            40000.0          253160.0    6.080   \n",
       "319548    ZEN 2020-09-23            -5000.0          469600.0   99.260   \n",
       "\n",
       "           fc_1m  marketcap        mc_pct   sale   predict  \n",
       "0       0.093590   641191.2  1.590181e-07   True  0.051608  \n",
       "1       0.093590   641191.2  5.105622e-07   True  0.051608  \n",
       "2       0.020008     1745.9  8.086236e-04   True -0.041948  \n",
       "3       0.020008     1745.9  8.560628e-04   True -0.041948  \n",
       "4      -0.024579    19674.2  1.623756e-05  False  0.024058  \n",
       "...          ...        ...           ...    ...       ...  \n",
       "319544  0.153792      700.1  2.679160e-02   True  0.018588  \n",
       "319545  0.606492      252.8  8.936705e-03  False  0.104502  \n",
       "319546  0.606492      252.8  1.210474e-02  False  0.016674  \n",
       "319547  0.110197     6553.9  3.862738e-05  False  0.062403  \n",
       "319548  0.110619    11457.2  4.098733e-05   True  0.011705  \n",
       "\n",
       "[310105 rows x 10 columns]"
      ]
     },
     "execution_count": 51,
     "metadata": {},
     "output_type": "execute_result"
    }
   ],
   "source": [
    "df2"
   ]
  },
  {
   "cell_type": "code",
   "execution_count": 52,
   "metadata": {
    "ExecuteTime": {
     "end_time": "2020-12-04T19:29:57.390389Z",
     "start_time": "2020-12-04T19:29:57.345510Z"
    }
   },
   "outputs": [
    {
     "data": {
      "text/plain": [
       "0.02360703056933017"
      ]
     },
     "execution_count": 52,
     "metadata": {},
     "output_type": "execute_result"
    }
   ],
   "source": [
    "df2[df2['predict'] > 0]['fc_1m'].mean()"
   ]
  },
  {
   "cell_type": "code",
   "execution_count": 53,
   "metadata": {
    "ExecuteTime": {
     "end_time": "2020-12-04T19:29:57.421307Z",
     "start_time": "2020-12-04T19:29:57.391387Z"
    }
   },
   "outputs": [
    {
     "data": {
      "text/plain": [
       "-0.03286466919910995"
      ]
     },
     "execution_count": 53,
     "metadata": {},
     "output_type": "execute_result"
    }
   ],
   "source": [
    "df2[df2['predict'] < 0]['fc_1m'].mean()"
   ]
  },
  {
   "cell_type": "code",
   "execution_count": 54,
   "metadata": {
    "ExecuteTime": {
     "end_time": "2020-12-04T19:29:57.575922Z",
     "start_time": "2020-12-04T19:29:57.422304Z"
    }
   },
   "outputs": [
    {
     "data": {
      "text/plain": [
       "<matplotlib.axes._subplots.AxesSubplot at 0x29aba0a1488>"
      ]
     },
     "execution_count": 54,
     "metadata": {},
     "output_type": "execute_result"
    },
    {
     "data": {
      "image/png": "[encoded data removed]",
      "text/plain": [
       "<Figure size 432x288 with 1 Axes>"
      ]
     },
     "metadata": {
      "needs_background": "light"
     },
     "output_type": "display_data"
    }
   ],
   "source": [
    "xgb.plot_importance(model)\n"
   ]
  },
  {
   "cell_type": "code",
   "execution_count": null,
   "metadata": {},
   "outputs": [],
   "source": []
  }
 ],
 "metadata": {
  "kernelspec": {
   "display_name": "Python 3",
   "language": "python",
   "name": "python3"
  },
  "language_info": {
   "codemirror_mode": {
    "name": "ipython",
    "version": 3
   },
   "file_extension": ".py",
   "mimetype": "text/x-python",
   "name": "python",
   "nbconvert_exporter": "python",
   "pygments_lexer": "ipython3",
   "version": "3.7.6"
  },
  "toc": {
   "colors": {
    "hover_highlight": "#DAA520",
    "running_highlight": "#FF0000",
    "selected_highlight": "#FFD700"
   },
   "moveMenuLeft": true,
   "nav_menu": {
    "height": "12px",
    "width": "252px"
   },
   "navigate_menu": true,
   "number_sections": true,
   "sideBar": true,
   "threshold": 4,
   "toc_cell": false,
   "toc_section_display": "block",
   "toc_window_display": false,
   "widenNotebook": false
  }
 },
 "nbformat": 4,
 "nbformat_minor": 4
}
