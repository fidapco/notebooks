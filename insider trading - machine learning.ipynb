{
 "cells": [
  {
   "cell_type": "code",
   "execution_count": 3,
   "metadata": {
    "ExecuteTime": {
     "end_time": "2020-12-04T19:29:22.146631Z",
     "start_time": "2020-12-04T19:29:21.519309Z"
    }
   },
   "outputs": [],
   "source": [
    "import pandas as pd, numpy as np\n",
    "from fidap import fidap_client\n",
    "import config"
   ]
  },
  {
   "cell_type": "code",
   "execution_count": 7,
   "metadata": {},
   "outputs": [],
   "source": [
    "fidap = fidap_client(db='sf_gcp', api_key=config.FIDAP_API_KEY)"
   ]
  },
  {
   "cell_type": "markdown",
   "metadata": {},
   "source": [
    "Let's first explore the data and find some basic numbers here."
   ]
  },
  {
   "cell_type": "code",
   "execution_count": 10,
   "metadata": {
    "ExecuteTime": {
     "end_time": "2020-12-04T19:29:46.210276Z",
     "start_time": "2020-12-04T19:29:22.148630Z"
    }
   },
   "outputs": [],
   "source": [
    "df2 = fidap.sql(\"\"\"\n",
    "    select \"insider_trades\".\"ticker\", \"insider_trades\".\"filingdate\", \"insider_trades\".\"transactionshares\",\n",
    "    \"insider_trades\".\"transactionvalue\", \"daily\".\"open\", \"daily\".\"close\", \"daily\".\"volume\", \"daily\".\"pc_1d\", \"daily\".\"pc_1w\", \"daily\".\"pc_1m\", \"daily\".\"fc_1d\", \"daily\".\"fc_1w\", \"daily\".\"fc_1m\",\"daily\".\"marketcap\"\n",
    "    from \"FIDAP_DATA_SOURCES\".\"FIDAP_SCHEMA\".\"insider_trades\" AS \"insider_trades\", \"FIDAP_DATA_SOURCES\".\"FIDAP_SCHEMA\".\"tickers\" AS \"tickers\", \"FIDAP_DATA_SOURCES\".\"FIDAP_SCHEMA\".\"daily\" AS \"daily\"\n",
    "    where \n",
    "    \"insider_trades\".\"ticker\" = \"tickers\".\"ticker\" and \n",
    "    \"insider_trades\".\"ticker\" = \"daily\".\"ticker\" and\n",
    "    \"insider_trades\".\"filingdate\" = \"daily\".\"date\" and\n",
    "    \"insider_trades\".\"transactionvalue\" > 100000 and \n",
    "    \"insider_trades\".\"securitytitle\" = 'Common Stock' ORDER BY \"insider_trades\".\"filingdate\" DESC;\n",
    "\"\"\")"
   ]
  },
  {
   "cell_type": "code",
   "execution_count": 11,
   "metadata": {},
   "outputs": [],
   "source": [
    "ticker = \"AAPL\""
   ]
  },
  {
   "cell_type": "code",
   "execution_count": 12,
   "metadata": {
    "ExecuteTime": {
     "end_time": "2020-12-04T19:29:46.226258Z",
     "start_time": "2020-12-04T19:29:46.212272Z"
    }
   },
   "outputs": [
    {
     "data": {
      "text/html": [
       "<div>\n",
       "<style scoped>\n",
       "    .dataframe tbody tr th:only-of-type {\n",
       "        vertical-align: middle;\n",
       "    }\n",
       "\n",
       "    .dataframe tbody tr th {\n",
       "        vertical-align: top;\n",
       "    }\n",
       "\n",
       "    .dataframe thead th {\n",
       "        text-align: right;\n",
       "    }\n",
       "</style>\n",
       "<table border=\"1\" class=\"dataframe\">\n",
       "  <thead>\n",
       "    <tr style=\"text-align: right;\">\n",
       "      <th></th>\n",
       "      <th>ticker</th>\n",
       "      <th>filingdate</th>\n",
       "      <th>transactionshares</th>\n",
       "      <th>transactionvalue</th>\n",
       "      <th>open</th>\n",
       "      <th>close</th>\n",
       "      <th>volume</th>\n",
       "      <th>pc_1d</th>\n",
       "      <th>pc_1w</th>\n",
       "      <th>pc_1m</th>\n",
       "      <th>fc_1d</th>\n",
       "      <th>fc_1w</th>\n",
       "      <th>fc_1m</th>\n",
       "      <th>marketcap</th>\n",
       "    </tr>\n",
       "  </thead>\n",
       "  <tbody>\n",
       "    <tr>\n",
       "      <th>0</th>\n",
       "      <td>FL</td>\n",
       "      <td>2021-03-26</td>\n",
       "      <td>-2136</td>\n",
       "      <td>114511</td>\n",
       "      <td>57.31</td>\n",
       "      <td>57.57</td>\n",
       "      <td>1044170.0</td>\n",
       "      <td>0.025289</td>\n",
       "      <td>-0.016570</td>\n",
       "      <td>0.051507</td>\n",
       "      <td>-0.028140</td>\n",
       "      <td>NaN</td>\n",
       "      <td>NaN</td>\n",
       "      <td>5.945700e+09</td>\n",
       "    </tr>\n",
       "    <tr>\n",
       "      <th>1</th>\n",
       "      <td>REGI</td>\n",
       "      <td>2021-03-26</td>\n",
       "      <td>-3090</td>\n",
       "      <td>196030</td>\n",
       "      <td>65.50</td>\n",
       "      <td>63.78</td>\n",
       "      <td>2246533.0</td>\n",
       "      <td>0.005359</td>\n",
       "      <td>-0.054270</td>\n",
       "      <td>-0.322138</td>\n",
       "      <td>-0.054249</td>\n",
       "      <td>NaN</td>\n",
       "      <td>NaN</td>\n",
       "      <td>2.508800e+09</td>\n",
       "    </tr>\n",
       "    <tr>\n",
       "      <th>2</th>\n",
       "      <td>ORIC</td>\n",
       "      <td>2021-03-26</td>\n",
       "      <td>-27816</td>\n",
       "      <td>664246</td>\n",
       "      <td>24.68</td>\n",
       "      <td>23.75</td>\n",
       "      <td>269369.0</td>\n",
       "      <td>-0.025841</td>\n",
       "      <td>-0.102079</td>\n",
       "      <td>-0.317136</td>\n",
       "      <td>0.000842</td>\n",
       "      <td>NaN</td>\n",
       "      <td>NaN</td>\n",
       "      <td>8.715000e+08</td>\n",
       "    </tr>\n",
       "    <tr>\n",
       "      <th>3</th>\n",
       "      <td>ORIC</td>\n",
       "      <td>2021-03-26</td>\n",
       "      <td>-51523</td>\n",
       "      <td>1272618</td>\n",
       "      <td>24.68</td>\n",
       "      <td>23.75</td>\n",
       "      <td>269369.0</td>\n",
       "      <td>-0.025841</td>\n",
       "      <td>-0.102079</td>\n",
       "      <td>-0.317136</td>\n",
       "      <td>0.000842</td>\n",
       "      <td>NaN</td>\n",
       "      <td>NaN</td>\n",
       "      <td>8.715000e+08</td>\n",
       "    </tr>\n",
       "    <tr>\n",
       "      <th>4</th>\n",
       "      <td>SELF</td>\n",
       "      <td>2021-03-26</td>\n",
       "      <td>24100</td>\n",
       "      <td>108691</td>\n",
       "      <td>4.55</td>\n",
       "      <td>4.72</td>\n",
       "      <td>13202.0</td>\n",
       "      <td>0.046563</td>\n",
       "      <td>0.004255</td>\n",
       "      <td>0.053571</td>\n",
       "      <td>-0.004237</td>\n",
       "      <td>NaN</td>\n",
       "      <td>NaN</td>\n",
       "      <td>4.420000e+07</td>\n",
       "    </tr>\n",
       "  </tbody>\n",
       "</table>\n",
       "</div>"
      ],
      "text/plain": [
       "  ticker  filingdate  transactionshares  transactionvalue   open  close  \\\n",
       "0     FL  2021-03-26              -2136            114511  57.31  57.57   \n",
       "1   REGI  2021-03-26              -3090            196030  65.50  63.78   \n",
       "2   ORIC  2021-03-26             -27816            664246  24.68  23.75   \n",
       "3   ORIC  2021-03-26             -51523           1272618  24.68  23.75   \n",
       "4   SELF  2021-03-26              24100            108691   4.55   4.72   \n",
       "\n",
       "      volume     pc_1d     pc_1w     pc_1m     fc_1d  fc_1w  fc_1m  \\\n",
       "0  1044170.0  0.025289 -0.016570  0.051507 -0.028140    NaN    NaN   \n",
       "1  2246533.0  0.005359 -0.054270 -0.322138 -0.054249    NaN    NaN   \n",
       "2   269369.0 -0.025841 -0.102079 -0.317136  0.000842    NaN    NaN   \n",
       "3   269369.0 -0.025841 -0.102079 -0.317136  0.000842    NaN    NaN   \n",
       "4    13202.0  0.046563  0.004255  0.053571 -0.004237    NaN    NaN   \n",
       "\n",
       "      marketcap  \n",
       "0  5.945700e+09  \n",
       "1  2.508800e+09  \n",
       "2  8.715000e+08  \n",
       "3  8.715000e+08  \n",
       "4  4.420000e+07  "
      ]
     },
     "execution_count": 12,
     "metadata": {},
     "output_type": "execute_result"
    }
   ],
   "source": [
    "df2.head()"
   ]
  },
  {
   "cell_type": "code",
   "execution_count": 13,
   "metadata": {
    "ExecuteTime": {
     "end_time": "2020-12-04T19:29:46.241194Z",
     "start_time": "2020-12-04T19:29:46.227248Z"
    }
   },
   "outputs": [
    {
     "data": {
      "text/plain": [
       "295012"
      ]
     },
     "execution_count": 13,
     "metadata": {},
     "output_type": "execute_result"
    }
   ],
   "source": [
    "len(df2)"
   ]
  },
  {
   "cell_type": "code",
   "execution_count": 14,
   "metadata": {
    "ExecuteTime": {
     "end_time": "2020-12-04T19:29:46.257179Z",
     "start_time": "2020-12-04T19:29:46.243189Z"
    }
   },
   "outputs": [],
   "source": [
    "df2['mc_pct'] = df2['transactionvalue'] / (df2['marketcap']*1e6)"
   ]
  },
  {
   "cell_type": "code",
   "execution_count": 15,
   "metadata": {
    "ExecuteTime": {
     "end_time": "2020-12-04T19:29:46.272135Z",
     "start_time": "2020-12-04T19:29:46.258177Z"
    }
   },
   "outputs": [],
   "source": [
    "df2['sale'] = np.where(df2['transactionshares'] > 0, False, True)"
   ]
  },
  {
   "cell_type": "code",
   "execution_count": 16,
   "metadata": {
    "ExecuteTime": {
     "end_time": "2020-12-04T19:29:46.303056Z",
     "start_time": "2020-12-04T19:29:46.273109Z"
    }
   },
   "outputs": [
    {
     "data": {
      "text/html": [
       "<div>\n",
       "<style scoped>\n",
       "    .dataframe tbody tr th:only-of-type {\n",
       "        vertical-align: middle;\n",
       "    }\n",
       "\n",
       "    .dataframe tbody tr th {\n",
       "        vertical-align: top;\n",
       "    }\n",
       "\n",
       "    .dataframe thead th {\n",
       "        text-align: right;\n",
       "    }\n",
       "</style>\n",
       "<table border=\"1\" class=\"dataframe\">\n",
       "  <thead>\n",
       "    <tr style=\"text-align: right;\">\n",
       "      <th></th>\n",
       "      <th>ticker</th>\n",
       "      <th>filingdate</th>\n",
       "      <th>transactionshares</th>\n",
       "      <th>transactionvalue</th>\n",
       "      <th>open</th>\n",
       "      <th>close</th>\n",
       "      <th>volume</th>\n",
       "      <th>pc_1d</th>\n",
       "      <th>pc_1w</th>\n",
       "      <th>pc_1m</th>\n",
       "      <th>fc_1d</th>\n",
       "      <th>fc_1w</th>\n",
       "      <th>fc_1m</th>\n",
       "      <th>marketcap</th>\n",
       "      <th>mc_pct</th>\n",
       "      <th>sale</th>\n",
       "    </tr>\n",
       "  </thead>\n",
       "  <tbody>\n",
       "    <tr>\n",
       "      <th>0</th>\n",
       "      <td>FL</td>\n",
       "      <td>2021-03-26</td>\n",
       "      <td>-2136</td>\n",
       "      <td>114511</td>\n",
       "      <td>57.31</td>\n",
       "      <td>57.57</td>\n",
       "      <td>1044170.0</td>\n",
       "      <td>0.025289</td>\n",
       "      <td>-0.016570</td>\n",
       "      <td>0.051507</td>\n",
       "      <td>-0.028140</td>\n",
       "      <td>NaN</td>\n",
       "      <td>NaN</td>\n",
       "      <td>5.945700e+09</td>\n",
       "      <td>1.925946e-11</td>\n",
       "      <td>True</td>\n",
       "    </tr>\n",
       "    <tr>\n",
       "      <th>1</th>\n",
       "      <td>REGI</td>\n",
       "      <td>2021-03-26</td>\n",
       "      <td>-3090</td>\n",
       "      <td>196030</td>\n",
       "      <td>65.50</td>\n",
       "      <td>63.78</td>\n",
       "      <td>2246533.0</td>\n",
       "      <td>0.005359</td>\n",
       "      <td>-0.054270</td>\n",
       "      <td>-0.322138</td>\n",
       "      <td>-0.054249</td>\n",
       "      <td>NaN</td>\n",
       "      <td>NaN</td>\n",
       "      <td>2.508800e+09</td>\n",
       "      <td>7.813696e-11</td>\n",
       "      <td>True</td>\n",
       "    </tr>\n",
       "    <tr>\n",
       "      <th>2</th>\n",
       "      <td>ORIC</td>\n",
       "      <td>2021-03-26</td>\n",
       "      <td>-27816</td>\n",
       "      <td>664246</td>\n",
       "      <td>24.68</td>\n",
       "      <td>23.75</td>\n",
       "      <td>269369.0</td>\n",
       "      <td>-0.025841</td>\n",
       "      <td>-0.102079</td>\n",
       "      <td>-0.317136</td>\n",
       "      <td>0.000842</td>\n",
       "      <td>NaN</td>\n",
       "      <td>NaN</td>\n",
       "      <td>8.715000e+08</td>\n",
       "      <td>7.621870e-10</td>\n",
       "      <td>True</td>\n",
       "    </tr>\n",
       "    <tr>\n",
       "      <th>3</th>\n",
       "      <td>ORIC</td>\n",
       "      <td>2021-03-26</td>\n",
       "      <td>-51523</td>\n",
       "      <td>1272618</td>\n",
       "      <td>24.68</td>\n",
       "      <td>23.75</td>\n",
       "      <td>269369.0</td>\n",
       "      <td>-0.025841</td>\n",
       "      <td>-0.102079</td>\n",
       "      <td>-0.317136</td>\n",
       "      <td>0.000842</td>\n",
       "      <td>NaN</td>\n",
       "      <td>NaN</td>\n",
       "      <td>8.715000e+08</td>\n",
       "      <td>1.460262e-09</td>\n",
       "      <td>True</td>\n",
       "    </tr>\n",
       "    <tr>\n",
       "      <th>4</th>\n",
       "      <td>SELF</td>\n",
       "      <td>2021-03-26</td>\n",
       "      <td>24100</td>\n",
       "      <td>108691</td>\n",
       "      <td>4.55</td>\n",
       "      <td>4.72</td>\n",
       "      <td>13202.0</td>\n",
       "      <td>0.046563</td>\n",
       "      <td>0.004255</td>\n",
       "      <td>0.053571</td>\n",
       "      <td>-0.004237</td>\n",
       "      <td>NaN</td>\n",
       "      <td>NaN</td>\n",
       "      <td>4.420000e+07</td>\n",
       "      <td>2.459072e-09</td>\n",
       "      <td>False</td>\n",
       "    </tr>\n",
       "    <tr>\n",
       "      <th>...</th>\n",
       "      <td>...</td>\n",
       "      <td>...</td>\n",
       "      <td>...</td>\n",
       "      <td>...</td>\n",
       "      <td>...</td>\n",
       "      <td>...</td>\n",
       "      <td>...</td>\n",
       "      <td>...</td>\n",
       "      <td>...</td>\n",
       "      <td>...</td>\n",
       "      <td>...</td>\n",
       "      <td>...</td>\n",
       "      <td>...</td>\n",
       "      <td>...</td>\n",
       "      <td>...</td>\n",
       "      <td>...</td>\n",
       "    </tr>\n",
       "    <tr>\n",
       "      <th>295007</th>\n",
       "      <td>EBS</td>\n",
       "      <td>2016-01-04</td>\n",
       "      <td>21600</td>\n",
       "      <td>182088</td>\n",
       "      <td>39.21</td>\n",
       "      <td>38.09</td>\n",
       "      <td>437730.0</td>\n",
       "      <td>NaN</td>\n",
       "      <td>NaN</td>\n",
       "      <td>NaN</td>\n",
       "      <td>0.013127</td>\n",
       "      <td>-0.097663</td>\n",
       "      <td>-0.032029</td>\n",
       "      <td>1.483300e+09</td>\n",
       "      <td>1.227587e-10</td>\n",
       "      <td>False</td>\n",
       "    </tr>\n",
       "    <tr>\n",
       "      <th>295008</th>\n",
       "      <td>EBS</td>\n",
       "      <td>2016-01-04</td>\n",
       "      <td>-21600</td>\n",
       "      <td>864000</td>\n",
       "      <td>39.21</td>\n",
       "      <td>38.09</td>\n",
       "      <td>437730.0</td>\n",
       "      <td>NaN</td>\n",
       "      <td>NaN</td>\n",
       "      <td>NaN</td>\n",
       "      <td>0.013127</td>\n",
       "      <td>-0.097663</td>\n",
       "      <td>-0.032029</td>\n",
       "      <td>1.483300e+09</td>\n",
       "      <td>5.824850e-10</td>\n",
       "      <td>True</td>\n",
       "    </tr>\n",
       "    <tr>\n",
       "      <th>295009</th>\n",
       "      <td>PRO</td>\n",
       "      <td>2016-01-04</td>\n",
       "      <td>-4898</td>\n",
       "      <td>112850</td>\n",
       "      <td>22.54</td>\n",
       "      <td>22.20</td>\n",
       "      <td>302975.0</td>\n",
       "      <td>NaN</td>\n",
       "      <td>NaN</td>\n",
       "      <td>NaN</td>\n",
       "      <td>-0.010360</td>\n",
       "      <td>-0.114414</td>\n",
       "      <td>-0.468919</td>\n",
       "      <td>6.593000e+08</td>\n",
       "      <td>1.711664e-10</td>\n",
       "      <td>True</td>\n",
       "    </tr>\n",
       "    <tr>\n",
       "      <th>295010</th>\n",
       "      <td>PRO</td>\n",
       "      <td>2016-01-04</td>\n",
       "      <td>11675</td>\n",
       "      <td>268992</td>\n",
       "      <td>22.54</td>\n",
       "      <td>22.20</td>\n",
       "      <td>302975.0</td>\n",
       "      <td>NaN</td>\n",
       "      <td>NaN</td>\n",
       "      <td>NaN</td>\n",
       "      <td>-0.010360</td>\n",
       "      <td>-0.114414</td>\n",
       "      <td>-0.468919</td>\n",
       "      <td>6.593000e+08</td>\n",
       "      <td>4.079964e-10</td>\n",
       "      <td>False</td>\n",
       "    </tr>\n",
       "    <tr>\n",
       "      <th>295011</th>\n",
       "      <td>PRO</td>\n",
       "      <td>2016-01-04</td>\n",
       "      <td>-8107</td>\n",
       "      <td>186785</td>\n",
       "      <td>22.54</td>\n",
       "      <td>22.20</td>\n",
       "      <td>302975.0</td>\n",
       "      <td>NaN</td>\n",
       "      <td>NaN</td>\n",
       "      <td>NaN</td>\n",
       "      <td>-0.010360</td>\n",
       "      <td>-0.114414</td>\n",
       "      <td>-0.468919</td>\n",
       "      <td>6.593000e+08</td>\n",
       "      <td>2.833081e-10</td>\n",
       "      <td>True</td>\n",
       "    </tr>\n",
       "  </tbody>\n",
       "</table>\n",
       "<p>295012 rows × 16 columns</p>\n",
       "</div>"
      ],
      "text/plain": [
       "       ticker  filingdate  transactionshares  transactionvalue   open  close  \\\n",
       "0          FL  2021-03-26              -2136            114511  57.31  57.57   \n",
       "1        REGI  2021-03-26              -3090            196030  65.50  63.78   \n",
       "2        ORIC  2021-03-26             -27816            664246  24.68  23.75   \n",
       "3        ORIC  2021-03-26             -51523           1272618  24.68  23.75   \n",
       "4        SELF  2021-03-26              24100            108691   4.55   4.72   \n",
       "...       ...         ...                ...               ...    ...    ...   \n",
       "295007    EBS  2016-01-04              21600            182088  39.21  38.09   \n",
       "295008    EBS  2016-01-04             -21600            864000  39.21  38.09   \n",
       "295009    PRO  2016-01-04              -4898            112850  22.54  22.20   \n",
       "295010    PRO  2016-01-04              11675            268992  22.54  22.20   \n",
       "295011    PRO  2016-01-04              -8107            186785  22.54  22.20   \n",
       "\n",
       "           volume     pc_1d     pc_1w     pc_1m     fc_1d     fc_1w     fc_1m  \\\n",
       "0       1044170.0  0.025289 -0.016570  0.051507 -0.028140       NaN       NaN   \n",
       "1       2246533.0  0.005359 -0.054270 -0.322138 -0.054249       NaN       NaN   \n",
       "2        269369.0 -0.025841 -0.102079 -0.317136  0.000842       NaN       NaN   \n",
       "3        269369.0 -0.025841 -0.102079 -0.317136  0.000842       NaN       NaN   \n",
       "4         13202.0  0.046563  0.004255  0.053571 -0.004237       NaN       NaN   \n",
       "...           ...       ...       ...       ...       ...       ...       ...   \n",
       "295007   437730.0       NaN       NaN       NaN  0.013127 -0.097663 -0.032029   \n",
       "295008   437730.0       NaN       NaN       NaN  0.013127 -0.097663 -0.032029   \n",
       "295009   302975.0       NaN       NaN       NaN -0.010360 -0.114414 -0.468919   \n",
       "295010   302975.0       NaN       NaN       NaN -0.010360 -0.114414 -0.468919   \n",
       "295011   302975.0       NaN       NaN       NaN -0.010360 -0.114414 -0.468919   \n",
       "\n",
       "           marketcap        mc_pct   sale  \n",
       "0       5.945700e+09  1.925946e-11   True  \n",
       "1       2.508800e+09  7.813696e-11   True  \n",
       "2       8.715000e+08  7.621870e-10   True  \n",
       "3       8.715000e+08  1.460262e-09   True  \n",
       "4       4.420000e+07  2.459072e-09  False  \n",
       "...              ...           ...    ...  \n",
       "295007  1.483300e+09  1.227587e-10  False  \n",
       "295008  1.483300e+09  5.824850e-10   True  \n",
       "295009  6.593000e+08  1.711664e-10   True  \n",
       "295010  6.593000e+08  4.079964e-10  False  \n",
       "295011  6.593000e+08  2.833081e-10   True  \n",
       "\n",
       "[295012 rows x 16 columns]"
      ]
     },
     "execution_count": 16,
     "metadata": {},
     "output_type": "execute_result"
    }
   ],
   "source": [
    "df2"
   ]
  },
  {
   "cell_type": "code",
   "execution_count": 17,
   "metadata": {
    "ExecuteTime": {
     "end_time": "2020-12-04T19:29:46.349931Z",
     "start_time": "2020-12-04T19:29:46.305025Z"
    }
   },
   "outputs": [],
   "source": [
    "df2 = df2.dropna()"
   ]
  },
  {
   "cell_type": "code",
   "execution_count": 18,
   "metadata": {
    "ExecuteTime": {
     "end_time": "2020-12-04T19:29:46.364887Z",
     "start_time": "2020-12-04T19:29:46.351923Z"
    }
   },
   "outputs": [],
   "source": [
    "features = ['close', 'marketcap', 'mc_pct', 'sale']\n",
    "label = 'fc_1m'"
   ]
  },
  {
   "cell_type": "code",
   "execution_count": 19,
   "metadata": {
    "ExecuteTime": {
     "end_time": "2020-12-04T19:29:46.380844Z",
     "start_time": "2020-12-04T19:29:46.365860Z"
    }
   },
   "outputs": [],
   "source": [
    "import xgboost as xgb"
   ]
  },
  {
   "cell_type": "code",
   "execution_count": 20,
   "metadata": {
    "ExecuteTime": {
     "end_time": "2020-12-04T19:29:46.395780Z",
     "start_time": "2020-12-04T19:29:46.381818Z"
    }
   },
   "outputs": [],
   "source": [
    "model = xgb.XGBRegressor()"
   ]
  },
  {
   "cell_type": "code",
   "execution_count": 21,
   "metadata": {
    "ExecuteTime": {
     "end_time": "2020-12-04T19:29:56.933612Z",
     "start_time": "2020-12-04T19:29:46.396820Z"
    }
   },
   "outputs": [
    {
     "data": {
      "text/plain": [
       "XGBRegressor(base_score=0.5, booster='gbtree', colsample_bylevel=1,\n",
       "             colsample_bynode=1, colsample_bytree=1, gamma=0, gpu_id=-1,\n",
       "             importance_type='gain', interaction_constraints='',\n",
       "             learning_rate=0.300000012, max_delta_step=0, max_depth=6,\n",
       "             min_child_weight=1, missing=nan, monotone_constraints='()',\n",
       "             n_estimators=100, n_jobs=4, num_parallel_tree=1, random_state=0,\n",
       "             reg_alpha=0, reg_lambda=1, scale_pos_weight=1, subsample=1,\n",
       "             tree_method='exact', validate_parameters=1, verbosity=None)"
      ]
     },
     "execution_count": 21,
     "metadata": {},
     "output_type": "execute_result"
    }
   ],
   "source": [
    "model.fit(df2[features],df2[label])"
   ]
  },
  {
   "cell_type": "code",
   "execution_count": 22,
   "metadata": {
    "ExecuteTime": {
     "end_time": "2020-12-04T19:29:57.295644Z",
     "start_time": "2020-12-04T19:29:56.935606Z"
    }
   },
   "outputs": [],
   "source": [
    "preds = model.predict(df2[features])"
   ]
  },
  {
   "cell_type": "code",
   "execution_count": 23,
   "metadata": {
    "ExecuteTime": {
     "end_time": "2020-12-04T19:29:57.311600Z",
     "start_time": "2020-12-04T19:29:57.297637Z"
    }
   },
   "outputs": [
    {
     "name": "stderr",
     "output_type": "stream",
     "text": [
      "/opt/conda/lib/python3.7/site-packages/ipykernel_launcher.py:1: SettingWithCopyWarning: \n",
      "A value is trying to be set on a copy of a slice from a DataFrame.\n",
      "Try using .loc[row_indexer,col_indexer] = value instead\n",
      "\n",
      "See the caveats in the documentation: https://pandas.pydata.org/pandas-docs/stable/user_guide/indexing.html#returning-a-view-versus-a-copy\n",
      "  \"\"\"Entry point for launching an IPython kernel.\n"
     ]
    }
   ],
   "source": [
    "df2['predict'] = preds"
   ]
  },
  {
   "cell_type": "code",
   "execution_count": 24,
   "metadata": {
    "ExecuteTime": {
     "end_time": "2020-12-04T19:29:57.343515Z",
     "start_time": "2020-12-04T19:29:57.313595Z"
    }
   },
   "outputs": [
    {
     "data": {
      "text/html": [
       "<div>\n",
       "<style scoped>\n",
       "    .dataframe tbody tr th:only-of-type {\n",
       "        vertical-align: middle;\n",
       "    }\n",
       "\n",
       "    .dataframe tbody tr th {\n",
       "        vertical-align: top;\n",
       "    }\n",
       "\n",
       "    .dataframe thead th {\n",
       "        text-align: right;\n",
       "    }\n",
       "</style>\n",
       "<table border=\"1\" class=\"dataframe\">\n",
       "  <thead>\n",
       "    <tr style=\"text-align: right;\">\n",
       "      <th></th>\n",
       "      <th>ticker</th>\n",
       "      <th>filingdate</th>\n",
       "      <th>transactionshares</th>\n",
       "      <th>transactionvalue</th>\n",
       "      <th>open</th>\n",
       "      <th>close</th>\n",
       "      <th>volume</th>\n",
       "      <th>pc_1d</th>\n",
       "      <th>pc_1w</th>\n",
       "      <th>pc_1m</th>\n",
       "      <th>fc_1d</th>\n",
       "      <th>fc_1w</th>\n",
       "      <th>fc_1m</th>\n",
       "      <th>marketcap</th>\n",
       "      <th>mc_pct</th>\n",
       "      <th>sale</th>\n",
       "      <th>predict</th>\n",
       "    </tr>\n",
       "  </thead>\n",
       "  <tbody>\n",
       "    <tr>\n",
       "      <th>9676</th>\n",
       "      <td>SNA</td>\n",
       "      <td>2021-02-25</td>\n",
       "      <td>7500</td>\n",
       "      <td>1208850</td>\n",
       "      <td>206.75</td>\n",
       "      <td>204.07</td>\n",
       "      <td>529270.0</td>\n",
       "      <td>-0.013297</td>\n",
       "      <td>0.065250</td>\n",
       "      <td>0.138339</td>\n",
       "      <td>-0.004704</td>\n",
       "      <td>0.033371</td>\n",
       "      <td>0.116774</td>\n",
       "      <td>1.106120e+10</td>\n",
       "      <td>1.092874e-10</td>\n",
       "      <td>False</td>\n",
       "      <td>0.034938</td>\n",
       "    </tr>\n",
       "    <tr>\n",
       "      <th>9677</th>\n",
       "      <td>FTNT</td>\n",
       "      <td>2021-02-25</td>\n",
       "      <td>-1000</td>\n",
       "      <td>165300</td>\n",
       "      <td>168.82</td>\n",
       "      <td>168.00</td>\n",
       "      <td>2260394.0</td>\n",
       "      <td>-0.010892</td>\n",
       "      <td>0.001849</td>\n",
       "      <td>0.106574</td>\n",
       "      <td>0.005060</td>\n",
       "      <td>-0.024226</td>\n",
       "      <td>0.093274</td>\n",
       "      <td>2.741610e+10</td>\n",
       "      <td>6.029304e-12</td>\n",
       "      <td>True</td>\n",
       "      <td>-0.003768</td>\n",
       "    </tr>\n",
       "    <tr>\n",
       "      <th>9678</th>\n",
       "      <td>SNA</td>\n",
       "      <td>2021-02-25</td>\n",
       "      <td>9000</td>\n",
       "      <td>1242270</td>\n",
       "      <td>206.75</td>\n",
       "      <td>204.07</td>\n",
       "      <td>529270.0</td>\n",
       "      <td>-0.013297</td>\n",
       "      <td>0.065250</td>\n",
       "      <td>0.138339</td>\n",
       "      <td>-0.004704</td>\n",
       "      <td>0.033371</td>\n",
       "      <td>0.116774</td>\n",
       "      <td>1.106120e+10</td>\n",
       "      <td>1.123088e-10</td>\n",
       "      <td>False</td>\n",
       "      <td>0.034938</td>\n",
       "    </tr>\n",
       "    <tr>\n",
       "      <th>9679</th>\n",
       "      <td>FORR</td>\n",
       "      <td>2021-02-25</td>\n",
       "      <td>3869</td>\n",
       "      <td>148454</td>\n",
       "      <td>45.00</td>\n",
       "      <td>45.48</td>\n",
       "      <td>32823.0</td>\n",
       "      <td>0.008873</td>\n",
       "      <td>0.057429</td>\n",
       "      <td>0.082084</td>\n",
       "      <td>-0.006596</td>\n",
       "      <td>-0.010334</td>\n",
       "      <td>-0.055409</td>\n",
       "      <td>8.625000e+08</td>\n",
       "      <td>1.721206e-10</td>\n",
       "      <td>False</td>\n",
       "      <td>0.025596</td>\n",
       "    </tr>\n",
       "    <tr>\n",
       "      <th>9680</th>\n",
       "      <td>TRUP</td>\n",
       "      <td>2021-02-25</td>\n",
       "      <td>-5000</td>\n",
       "      <td>510850</td>\n",
       "      <td>101.11</td>\n",
       "      <td>94.72</td>\n",
       "      <td>368331.0</td>\n",
       "      <td>-0.071373</td>\n",
       "      <td>-0.088266</td>\n",
       "      <td>-0.196471</td>\n",
       "      <td>0.021537</td>\n",
       "      <td>-0.091744</td>\n",
       "      <td>-0.223395</td>\n",
       "      <td>3.739000e+09</td>\n",
       "      <td>1.366274e-10</td>\n",
       "      <td>True</td>\n",
       "      <td>0.010093</td>\n",
       "    </tr>\n",
       "    <tr>\n",
       "      <th>...</th>\n",
       "      <td>...</td>\n",
       "      <td>...</td>\n",
       "      <td>...</td>\n",
       "      <td>...</td>\n",
       "      <td>...</td>\n",
       "      <td>...</td>\n",
       "      <td>...</td>\n",
       "      <td>...</td>\n",
       "      <td>...</td>\n",
       "      <td>...</td>\n",
       "      <td>...</td>\n",
       "      <td>...</td>\n",
       "      <td>...</td>\n",
       "      <td>...</td>\n",
       "      <td>...</td>\n",
       "      <td>...</td>\n",
       "      <td>...</td>\n",
       "    </tr>\n",
       "    <tr>\n",
       "      <th>291771</th>\n",
       "      <td>VRTX</td>\n",
       "      <td>2016-02-04</td>\n",
       "      <td>-3700</td>\n",
       "      <td>336737</td>\n",
       "      <td>93.49</td>\n",
       "      <td>91.72</td>\n",
       "      <td>2452985.0</td>\n",
       "      <td>-0.023008</td>\n",
       "      <td>-0.011212</td>\n",
       "      <td>-0.253641</td>\n",
       "      <td>-0.055713</td>\n",
       "      <td>-0.130942</td>\n",
       "      <td>-0.052442</td>\n",
       "      <td>2.253720e+10</td>\n",
       "      <td>1.494139e-11</td>\n",
       "      <td>True</td>\n",
       "      <td>0.007206</td>\n",
       "    </tr>\n",
       "    <tr>\n",
       "      <th>291772</th>\n",
       "      <td>INGR</td>\n",
       "      <td>2016-02-04</td>\n",
       "      <td>-1530</td>\n",
       "      <td>152939</td>\n",
       "      <td>100.06</td>\n",
       "      <td>99.19</td>\n",
       "      <td>571303.0</td>\n",
       "      <td>-0.010574</td>\n",
       "      <td>0.023105</td>\n",
       "      <td>0.068858</td>\n",
       "      <td>0.011695</td>\n",
       "      <td>-0.007763</td>\n",
       "      <td>0.061095</td>\n",
       "      <td>7.096500e+09</td>\n",
       "      <td>2.155133e-11</td>\n",
       "      <td>True</td>\n",
       "      <td>0.008486</td>\n",
       "    </tr>\n",
       "    <tr>\n",
       "      <th>291773</th>\n",
       "      <td>WRK</td>\n",
       "      <td>2016-02-04</td>\n",
       "      <td>8995</td>\n",
       "      <td>300073</td>\n",
       "      <td>33.13</td>\n",
       "      <td>34.43</td>\n",
       "      <td>3319042.0</td>\n",
       "      <td>0.033624</td>\n",
       "      <td>0.087836</td>\n",
       "      <td>-0.243629</td>\n",
       "      <td>-0.029916</td>\n",
       "      <td>-0.130410</td>\n",
       "      <td>0.027011</td>\n",
       "      <td>8.852400e+09</td>\n",
       "      <td>3.389736e-11</td>\n",
       "      <td>False</td>\n",
       "      <td>0.017648</td>\n",
       "    </tr>\n",
       "    <tr>\n",
       "      <th>291774</th>\n",
       "      <td>WRK</td>\n",
       "      <td>2016-02-04</td>\n",
       "      <td>3900</td>\n",
       "      <td>130104</td>\n",
       "      <td>33.13</td>\n",
       "      <td>34.43</td>\n",
       "      <td>3319042.0</td>\n",
       "      <td>0.033624</td>\n",
       "      <td>0.087836</td>\n",
       "      <td>-0.243629</td>\n",
       "      <td>-0.029916</td>\n",
       "      <td>-0.130410</td>\n",
       "      <td>0.027011</td>\n",
       "      <td>8.852400e+09</td>\n",
       "      <td>1.469703e-11</td>\n",
       "      <td>False</td>\n",
       "      <td>0.017648</td>\n",
       "    </tr>\n",
       "    <tr>\n",
       "      <th>291775</th>\n",
       "      <td>WRK</td>\n",
       "      <td>2016-02-04</td>\n",
       "      <td>3900</td>\n",
       "      <td>130104</td>\n",
       "      <td>33.13</td>\n",
       "      <td>34.43</td>\n",
       "      <td>3319042.0</td>\n",
       "      <td>0.033624</td>\n",
       "      <td>0.087836</td>\n",
       "      <td>-0.243629</td>\n",
       "      <td>-0.029916</td>\n",
       "      <td>-0.130410</td>\n",
       "      <td>0.027011</td>\n",
       "      <td>8.852400e+09</td>\n",
       "      <td>1.469703e-11</td>\n",
       "      <td>False</td>\n",
       "      <td>0.017648</td>\n",
       "    </tr>\n",
       "  </tbody>\n",
       "</table>\n",
       "<p>274129 rows × 17 columns</p>\n",
       "</div>"
      ],
      "text/plain": [
       "       ticker  filingdate  transactionshares  transactionvalue    open  \\\n",
       "9676      SNA  2021-02-25               7500           1208850  206.75   \n",
       "9677     FTNT  2021-02-25              -1000            165300  168.82   \n",
       "9678      SNA  2021-02-25               9000           1242270  206.75   \n",
       "9679     FORR  2021-02-25               3869            148454   45.00   \n",
       "9680     TRUP  2021-02-25              -5000            510850  101.11   \n",
       "...       ...         ...                ...               ...     ...   \n",
       "291771   VRTX  2016-02-04              -3700            336737   93.49   \n",
       "291772   INGR  2016-02-04              -1530            152939  100.06   \n",
       "291773    WRK  2016-02-04               8995            300073   33.13   \n",
       "291774    WRK  2016-02-04               3900            130104   33.13   \n",
       "291775    WRK  2016-02-04               3900            130104   33.13   \n",
       "\n",
       "         close     volume     pc_1d     pc_1w     pc_1m     fc_1d     fc_1w  \\\n",
       "9676    204.07   529270.0 -0.013297  0.065250  0.138339 -0.004704  0.033371   \n",
       "9677    168.00  2260394.0 -0.010892  0.001849  0.106574  0.005060 -0.024226   \n",
       "9678    204.07   529270.0 -0.013297  0.065250  0.138339 -0.004704  0.033371   \n",
       "9679     45.48    32823.0  0.008873  0.057429  0.082084 -0.006596 -0.010334   \n",
       "9680     94.72   368331.0 -0.071373 -0.088266 -0.196471  0.021537 -0.091744   \n",
       "...        ...        ...       ...       ...       ...       ...       ...   \n",
       "291771   91.72  2452985.0 -0.023008 -0.011212 -0.253641 -0.055713 -0.130942   \n",
       "291772   99.19   571303.0 -0.010574  0.023105  0.068858  0.011695 -0.007763   \n",
       "291773   34.43  3319042.0  0.033624  0.087836 -0.243629 -0.029916 -0.130410   \n",
       "291774   34.43  3319042.0  0.033624  0.087836 -0.243629 -0.029916 -0.130410   \n",
       "291775   34.43  3319042.0  0.033624  0.087836 -0.243629 -0.029916 -0.130410   \n",
       "\n",
       "           fc_1m     marketcap        mc_pct   sale   predict  \n",
       "9676    0.116774  1.106120e+10  1.092874e-10  False  0.034938  \n",
       "9677    0.093274  2.741610e+10  6.029304e-12   True -0.003768  \n",
       "9678    0.116774  1.106120e+10  1.123088e-10  False  0.034938  \n",
       "9679   -0.055409  8.625000e+08  1.721206e-10  False  0.025596  \n",
       "9680   -0.223395  3.739000e+09  1.366274e-10   True  0.010093  \n",
       "...          ...           ...           ...    ...       ...  \n",
       "291771 -0.052442  2.253720e+10  1.494139e-11   True  0.007206  \n",
       "291772  0.061095  7.096500e+09  2.155133e-11   True  0.008486  \n",
       "291773  0.027011  8.852400e+09  3.389736e-11  False  0.017648  \n",
       "291774  0.027011  8.852400e+09  1.469703e-11  False  0.017648  \n",
       "291775  0.027011  8.852400e+09  1.469703e-11  False  0.017648  \n",
       "\n",
       "[274129 rows x 17 columns]"
      ]
     },
     "execution_count": 24,
     "metadata": {},
     "output_type": "execute_result"
    }
   ],
   "source": [
    "df2"
   ]
  },
  {
   "cell_type": "code",
   "execution_count": 25,
   "metadata": {
    "ExecuteTime": {
     "end_time": "2020-12-04T19:29:57.390389Z",
     "start_time": "2020-12-04T19:29:57.345510Z"
    }
   },
   "outputs": [
    {
     "data": {
      "text/plain": [
       "0.027069860901369116"
      ]
     },
     "execution_count": 25,
     "metadata": {},
     "output_type": "execute_result"
    }
   ],
   "source": [
    "df2[df2['predict'] > 0]['fc_1m'].mean()"
   ]
  },
  {
   "cell_type": "code",
   "execution_count": 26,
   "metadata": {
    "ExecuteTime": {
     "end_time": "2020-12-04T19:29:57.421307Z",
     "start_time": "2020-12-04T19:29:57.391387Z"
    }
   },
   "outputs": [
    {
     "data": {
      "text/plain": [
       "-0.05169097847122688"
      ]
     },
     "execution_count": 26,
     "metadata": {},
     "output_type": "execute_result"
    }
   ],
   "source": [
    "df2[df2['predict'] < 0]['fc_1m'].mean()"
   ]
  },
  {
   "cell_type": "code",
   "execution_count": 27,
   "metadata": {
    "ExecuteTime": {
     "end_time": "2020-12-04T19:29:57.575922Z",
     "start_time": "2020-12-04T19:29:57.422304Z"
    }
   },
   "outputs": [
    {
     "data": {
      "text/plain": [
       "<AxesSubplot:title={'center':'Feature importance'}, xlabel='F score', ylabel='Features'>"
      ]
     },
     "execution_count": 27,
     "metadata": {},
     "output_type": "execute_result"
    },
    {
     "data": {
      "image/png": "[encoded data removed]",
      "text/plain": [
       "<Figure size 432x288 with 1 Axes>"
      ]
     },
     "metadata": {
      "needs_background": "light"
     },
     "output_type": "display_data"
    }
   ],
   "source": [
    "xgb.plot_importance(model)\n"
   ]
  },
  {
   "cell_type": "markdown",
   "metadata": {},
   "source": [
    "# Predicting the future price using regression"
   ]
  },
  {
   "cell_type": "markdown",
   "metadata": {},
   "source": [
    "### Reading in Data from Fidap"
   ]
  },
  {
   "cell_type": "code",
   "execution_count": 49,
   "metadata": {},
   "outputs": [],
   "source": [
    "import pandas as pd, numpy as np\n",
    "from fidap import fidap_client\n",
    "import config\n",
    "import matplotlib.pyplot as plt\n",
    "import seaborn as sns\n",
    "from sklearn import preprocessing, linear_model\n",
    "fidap = fidap_client(db='sf_gcp', api_key=config.FIDAP_API_KEY)"
   ]
  },
  {
   "cell_type": "code",
   "execution_count": 50,
   "metadata": {},
   "outputs": [],
   "source": [
    "trading_data = fidap.sql(\"\"\"\n",
    "    select \"insider_trades\".\"ticker\", \"insider_trades\".\"filingdate\", \"insider_trades\".\"transactionshares\",\n",
    "    \"insider_trades\".\"transactionvalue\", \"daily\".\"open\", \"daily\".\"close\", \"daily\".\"volume\", \"daily\".\"pc_1d\", \"daily\".\"pc_1w\", \"daily\".\"pc_1m\", \"daily\".\"fc_1d\", \"daily\".\"fc_1w\", \"daily\".\"fc_1m\",\"daily\".\"marketcap\"\n",
    "    from \"FIDAP_DATA_SOURCES\".\"FIDAP_SCHEMA\".\"insider_trades\" AS \"insider_trades\", \"FIDAP_DATA_SOURCES\".\"FIDAP_SCHEMA\".\"tickers\" AS \"tickers\", \"FIDAP_DATA_SOURCES\".\"FIDAP_SCHEMA\".\"daily\" AS \"daily\"\n",
    "    where \n",
    "    \"insider_trades\".\"ticker\" = \"tickers\".\"ticker\" and \n",
    "    \"insider_trades\".\"ticker\" = \"daily\".\"ticker\" and\n",
    "    \"insider_trades\".\"filingdate\" = \"daily\".\"date\" and\n",
    "    \"insider_trades\".\"transactionvalue\" > 100000 and \n",
    "    \"insider_trades\".\"securitytitle\" = 'Common Stock' ORDER BY \"insider_trades\".\"filingdate\" DESC;\n",
    "\"\"\")"
   ]
  },
  {
   "cell_type": "code",
   "execution_count": 51,
   "metadata": {},
   "outputs": [
    {
     "data": {
      "text/plain": [
       "(295012, 14)"
      ]
     },
     "execution_count": 51,
     "metadata": {},
     "output_type": "execute_result"
    }
   ],
   "source": [
    "trading_data.shape"
   ]
  },
  {
   "cell_type": "markdown",
   "metadata": {},
   "source": [
    "## Split the Data into Train and Test (3:1)"
   ]
  },
  {
   "cell_type": "code",
   "execution_count": 52,
   "metadata": {},
   "outputs": [],
   "source": [
    "trading_data.dropna(inplace=True)"
   ]
  },
  {
   "cell_type": "code",
   "execution_count": 53,
   "metadata": {},
   "outputs": [],
   "source": [
    "trading_data = trading_data[trading_data.fc_1m < 1]"
   ]
  },
  {
   "cell_type": "code",
   "execution_count": 54,
   "metadata": {},
   "outputs": [],
   "source": [
    "train_df, test_df = trading_data.iloc[:176813], trading_data.iloc[176813:]"
   ]
  },
  {
   "cell_type": "code",
   "execution_count": 55,
   "metadata": {},
   "outputs": [
    {
     "data": {
      "text/html": [
       "<div>\n",
       "<style scoped>\n",
       "    .dataframe tbody tr th:only-of-type {\n",
       "        vertical-align: middle;\n",
       "    }\n",
       "\n",
       "    .dataframe tbody tr th {\n",
       "        vertical-align: top;\n",
       "    }\n",
       "\n",
       "    .dataframe thead th {\n",
       "        text-align: right;\n",
       "    }\n",
       "</style>\n",
       "<table border=\"1\" class=\"dataframe\">\n",
       "  <thead>\n",
       "    <tr style=\"text-align: right;\">\n",
       "      <th></th>\n",
       "      <th>transactionshares</th>\n",
       "      <th>transactionvalue</th>\n",
       "      <th>open</th>\n",
       "      <th>close</th>\n",
       "      <th>volume</th>\n",
       "      <th>pc_1d</th>\n",
       "      <th>pc_1w</th>\n",
       "      <th>pc_1m</th>\n",
       "      <th>fc_1d</th>\n",
       "      <th>fc_1w</th>\n",
       "      <th>fc_1m</th>\n",
       "      <th>marketcap</th>\n",
       "    </tr>\n",
       "  </thead>\n",
       "  <tbody>\n",
       "    <tr>\n",
       "      <th>count</th>\n",
       "      <td>1.768130e+05</td>\n",
       "      <td>1.768130e+05</td>\n",
       "      <td>176813.000000</td>\n",
       "      <td>176813.000000</td>\n",
       "      <td>1.768130e+05</td>\n",
       "      <td>176813.000000</td>\n",
       "      <td>176813.000000</td>\n",
       "      <td>176813.000000</td>\n",
       "      <td>176813.000000</td>\n",
       "      <td>176813.000000</td>\n",
       "      <td>176813.000000</td>\n",
       "      <td>1.768130e+05</td>\n",
       "    </tr>\n",
       "    <tr>\n",
       "      <th>mean</th>\n",
       "      <td>-1.464831e+04</td>\n",
       "      <td>2.728229e+06</td>\n",
       "      <td>101.345676</td>\n",
       "      <td>101.336850</td>\n",
       "      <td>2.879629e+06</td>\n",
       "      <td>0.000810</td>\n",
       "      <td>0.014831</td>\n",
       "      <td>0.059850</td>\n",
       "      <td>0.000461</td>\n",
       "      <td>0.001330</td>\n",
       "      <td>0.005236</td>\n",
       "      <td>2.787339e+10</td>\n",
       "    </tr>\n",
       "    <tr>\n",
       "      <th>std</th>\n",
       "      <td>2.334148e+06</td>\n",
       "      <td>5.013485e+07</td>\n",
       "      <td>119.911777</td>\n",
       "      <td>119.757106</td>\n",
       "      <td>8.627313e+06</td>\n",
       "      <td>0.040653</td>\n",
       "      <td>0.121088</td>\n",
       "      <td>0.248344</td>\n",
       "      <td>0.036233</td>\n",
       "      <td>0.074068</td>\n",
       "      <td>0.149865</td>\n",
       "      <td>7.579167e+10</td>\n",
       "    </tr>\n",
       "    <tr>\n",
       "      <th>min</th>\n",
       "      <td>-1.440000e+08</td>\n",
       "      <td>1.000010e+05</td>\n",
       "      <td>0.020000</td>\n",
       "      <td>0.020000</td>\n",
       "      <td>0.000000e+00</td>\n",
       "      <td>-0.820556</td>\n",
       "      <td>-0.963727</td>\n",
       "      <td>-0.970515</td>\n",
       "      <td>-0.652326</td>\n",
       "      <td>-0.777778</td>\n",
       "      <td>-0.830523</td>\n",
       "      <td>4.000000e+05</td>\n",
       "    </tr>\n",
       "    <tr>\n",
       "      <th>25%</th>\n",
       "      <td>-1.080400e+04</td>\n",
       "      <td>1.800000e+05</td>\n",
       "      <td>32.090000</td>\n",
       "      <td>32.110000</td>\n",
       "      <td>3.363840e+05</td>\n",
       "      <td>-0.011583</td>\n",
       "      <td>-0.020679</td>\n",
       "      <td>-0.027318</td>\n",
       "      <td>-0.012464</td>\n",
       "      <td>-0.027717</td>\n",
       "      <td>-0.058098</td>\n",
       "      <td>1.970600e+09</td>\n",
       "    </tr>\n",
       "    <tr>\n",
       "      <th>50%</th>\n",
       "      <td>-3.392000e+03</td>\n",
       "      <td>3.528390e+05</td>\n",
       "      <td>64.950000</td>\n",
       "      <td>64.950000</td>\n",
       "      <td>8.468880e+05</td>\n",
       "      <td>0.000614</td>\n",
       "      <td>0.010246</td>\n",
       "      <td>0.041536</td>\n",
       "      <td>0.000033</td>\n",
       "      <td>0.002137</td>\n",
       "      <td>0.008197</td>\n",
       "      <td>6.021900e+09</td>\n",
       "    </tr>\n",
       "    <tr>\n",
       "      <th>75%</th>\n",
       "      <td>1.553000e+03</td>\n",
       "      <td>8.636970e+05</td>\n",
       "      <td>126.520000</td>\n",
       "      <td>126.410000</td>\n",
       "      <td>2.229971e+06</td>\n",
       "      <td>0.013131</td>\n",
       "      <td>0.043003</td>\n",
       "      <td>0.117480</td>\n",
       "      <td>0.012749</td>\n",
       "      <td>0.030612</td>\n",
       "      <td>0.071201</td>\n",
       "      <td>2.180510e+10</td>\n",
       "    </tr>\n",
       "    <tr>\n",
       "      <th>max</th>\n",
       "      <td>7.025000e+08</td>\n",
       "      <td>8.917183e+09</td>\n",
       "      <td>2408.000000</td>\n",
       "      <td>2280.000000</td>\n",
       "      <td>4.010487e+08</td>\n",
       "      <td>4.800000</td>\n",
       "      <td>15.909621</td>\n",
       "      <td>23.786325</td>\n",
       "      <td>3.310861</td>\n",
       "      <td>1.695652</td>\n",
       "      <td>0.998261</td>\n",
       "      <td>2.248598e+12</td>\n",
       "    </tr>\n",
       "  </tbody>\n",
       "</table>\n",
       "</div>"
      ],
      "text/plain": [
       "       transactionshares  transactionvalue           open          close  \\\n",
       "count       1.768130e+05      1.768130e+05  176813.000000  176813.000000   \n",
       "mean       -1.464831e+04      2.728229e+06     101.345676     101.336850   \n",
       "std         2.334148e+06      5.013485e+07     119.911777     119.757106   \n",
       "min        -1.440000e+08      1.000010e+05       0.020000       0.020000   \n",
       "25%        -1.080400e+04      1.800000e+05      32.090000      32.110000   \n",
       "50%        -3.392000e+03      3.528390e+05      64.950000      64.950000   \n",
       "75%         1.553000e+03      8.636970e+05     126.520000     126.410000   \n",
       "max         7.025000e+08      8.917183e+09    2408.000000    2280.000000   \n",
       "\n",
       "             volume          pc_1d          pc_1w          pc_1m  \\\n",
       "count  1.768130e+05  176813.000000  176813.000000  176813.000000   \n",
       "mean   2.879629e+06       0.000810       0.014831       0.059850   \n",
       "std    8.627313e+06       0.040653       0.121088       0.248344   \n",
       "min    0.000000e+00      -0.820556      -0.963727      -0.970515   \n",
       "25%    3.363840e+05      -0.011583      -0.020679      -0.027318   \n",
       "50%    8.468880e+05       0.000614       0.010246       0.041536   \n",
       "75%    2.229971e+06       0.013131       0.043003       0.117480   \n",
       "max    4.010487e+08       4.800000      15.909621      23.786325   \n",
       "\n",
       "               fc_1d          fc_1w          fc_1m     marketcap  \n",
       "count  176813.000000  176813.000000  176813.000000  1.768130e+05  \n",
       "mean        0.000461       0.001330       0.005236  2.787339e+10  \n",
       "std         0.036233       0.074068       0.149865  7.579167e+10  \n",
       "min        -0.652326      -0.777778      -0.830523  4.000000e+05  \n",
       "25%        -0.012464      -0.027717      -0.058098  1.970600e+09  \n",
       "50%         0.000033       0.002137       0.008197  6.021900e+09  \n",
       "75%         0.012749       0.030612       0.071201  2.180510e+10  \n",
       "max         3.310861       1.695652       0.998261  2.248598e+12  "
      ]
     },
     "execution_count": 55,
     "metadata": {},
     "output_type": "execute_result"
    }
   ],
   "source": [
    "# Describe data to see what kind of limits and bounds they have. Also determine statistical measures\n",
    "train_df.describe()"
   ]
  },
  {
   "cell_type": "code",
   "execution_count": 56,
   "metadata": {},
   "outputs": [],
   "source": [
    "train_df = train_df[train_df.fc_1m < 1]"
   ]
  },
  {
   "cell_type": "code",
   "execution_count": 57,
   "metadata": {},
   "outputs": [],
   "source": [
    "# Do some data transformations and create some more columns\n",
    "def create_features(data: pd.DataFrame):\n",
    "    data_ = data.copy(deep=True)\n",
    "    data_['mc_pct'] = data_['transactionvalue'] / data_['marketcap']\n",
    "    data_['sale'] = np.where(data_['transactionshares'] > 0, 0, 1)\n",
    "    return data_"
   ]
  },
  {
   "cell_type": "code",
   "execution_count": 58,
   "metadata": {},
   "outputs": [],
   "source": [
    "train_df_mod = create_features(train_df)\n",
    "test_df_mod = create_features(test_df)"
   ]
  },
  {
   "cell_type": "code",
   "execution_count": 59,
   "metadata": {},
   "outputs": [
    {
     "data": {
      "text/html": [
       "<div>\n",
       "<style scoped>\n",
       "    .dataframe tbody tr th:only-of-type {\n",
       "        vertical-align: middle;\n",
       "    }\n",
       "\n",
       "    .dataframe tbody tr th {\n",
       "        vertical-align: top;\n",
       "    }\n",
       "\n",
       "    .dataframe thead th {\n",
       "        text-align: right;\n",
       "    }\n",
       "</style>\n",
       "<table border=\"1\" class=\"dataframe\">\n",
       "  <thead>\n",
       "    <tr style=\"text-align: right;\">\n",
       "      <th></th>\n",
       "      <th>ticker</th>\n",
       "      <th>filingdate</th>\n",
       "      <th>transactionshares</th>\n",
       "      <th>transactionvalue</th>\n",
       "      <th>open</th>\n",
       "      <th>close</th>\n",
       "      <th>volume</th>\n",
       "      <th>pc_1d</th>\n",
       "      <th>pc_1w</th>\n",
       "      <th>pc_1m</th>\n",
       "      <th>fc_1d</th>\n",
       "      <th>fc_1w</th>\n",
       "      <th>fc_1m</th>\n",
       "      <th>marketcap</th>\n",
       "      <th>mc_pct</th>\n",
       "      <th>sale</th>\n",
       "    </tr>\n",
       "  </thead>\n",
       "  <tbody>\n",
       "    <tr>\n",
       "      <th>9676</th>\n",
       "      <td>SNA</td>\n",
       "      <td>2021-02-25</td>\n",
       "      <td>7500</td>\n",
       "      <td>1208850</td>\n",
       "      <td>206.75</td>\n",
       "      <td>204.07</td>\n",
       "      <td>529270.0</td>\n",
       "      <td>-0.013297</td>\n",
       "      <td>0.065250</td>\n",
       "      <td>0.138339</td>\n",
       "      <td>-0.004704</td>\n",
       "      <td>0.033371</td>\n",
       "      <td>0.116774</td>\n",
       "      <td>1.106120e+10</td>\n",
       "      <td>0.000109</td>\n",
       "      <td>0</td>\n",
       "    </tr>\n",
       "    <tr>\n",
       "      <th>9677</th>\n",
       "      <td>FTNT</td>\n",
       "      <td>2021-02-25</td>\n",
       "      <td>-1000</td>\n",
       "      <td>165300</td>\n",
       "      <td>168.82</td>\n",
       "      <td>168.00</td>\n",
       "      <td>2260394.0</td>\n",
       "      <td>-0.010892</td>\n",
       "      <td>0.001849</td>\n",
       "      <td>0.106574</td>\n",
       "      <td>0.005060</td>\n",
       "      <td>-0.024226</td>\n",
       "      <td>0.093274</td>\n",
       "      <td>2.741610e+10</td>\n",
       "      <td>0.000006</td>\n",
       "      <td>1</td>\n",
       "    </tr>\n",
       "    <tr>\n",
       "      <th>9678</th>\n",
       "      <td>SNA</td>\n",
       "      <td>2021-02-25</td>\n",
       "      <td>9000</td>\n",
       "      <td>1242270</td>\n",
       "      <td>206.75</td>\n",
       "      <td>204.07</td>\n",
       "      <td>529270.0</td>\n",
       "      <td>-0.013297</td>\n",
       "      <td>0.065250</td>\n",
       "      <td>0.138339</td>\n",
       "      <td>-0.004704</td>\n",
       "      <td>0.033371</td>\n",
       "      <td>0.116774</td>\n",
       "      <td>1.106120e+10</td>\n",
       "      <td>0.000112</td>\n",
       "      <td>0</td>\n",
       "    </tr>\n",
       "    <tr>\n",
       "      <th>9679</th>\n",
       "      <td>FORR</td>\n",
       "      <td>2021-02-25</td>\n",
       "      <td>3869</td>\n",
       "      <td>148454</td>\n",
       "      <td>45.00</td>\n",
       "      <td>45.48</td>\n",
       "      <td>32823.0</td>\n",
       "      <td>0.008873</td>\n",
       "      <td>0.057429</td>\n",
       "      <td>0.082084</td>\n",
       "      <td>-0.006596</td>\n",
       "      <td>-0.010334</td>\n",
       "      <td>-0.055409</td>\n",
       "      <td>8.625000e+08</td>\n",
       "      <td>0.000172</td>\n",
       "      <td>0</td>\n",
       "    </tr>\n",
       "    <tr>\n",
       "      <th>9680</th>\n",
       "      <td>TRUP</td>\n",
       "      <td>2021-02-25</td>\n",
       "      <td>-5000</td>\n",
       "      <td>510850</td>\n",
       "      <td>101.11</td>\n",
       "      <td>94.72</td>\n",
       "      <td>368331.0</td>\n",
       "      <td>-0.071373</td>\n",
       "      <td>-0.088266</td>\n",
       "      <td>-0.196471</td>\n",
       "      <td>0.021537</td>\n",
       "      <td>-0.091744</td>\n",
       "      <td>-0.223395</td>\n",
       "      <td>3.739000e+09</td>\n",
       "      <td>0.000137</td>\n",
       "      <td>1</td>\n",
       "    </tr>\n",
       "  </tbody>\n",
       "</table>\n",
       "</div>"
      ],
      "text/plain": [
       "     ticker  filingdate  transactionshares  transactionvalue    open   close  \\\n",
       "9676    SNA  2021-02-25               7500           1208850  206.75  204.07   \n",
       "9677   FTNT  2021-02-25              -1000            165300  168.82  168.00   \n",
       "9678    SNA  2021-02-25               9000           1242270  206.75  204.07   \n",
       "9679   FORR  2021-02-25               3869            148454   45.00   45.48   \n",
       "9680   TRUP  2021-02-25              -5000            510850  101.11   94.72   \n",
       "\n",
       "         volume     pc_1d     pc_1w     pc_1m     fc_1d     fc_1w     fc_1m  \\\n",
       "9676   529270.0 -0.013297  0.065250  0.138339 -0.004704  0.033371  0.116774   \n",
       "9677  2260394.0 -0.010892  0.001849  0.106574  0.005060 -0.024226  0.093274   \n",
       "9678   529270.0 -0.013297  0.065250  0.138339 -0.004704  0.033371  0.116774   \n",
       "9679    32823.0  0.008873  0.057429  0.082084 -0.006596 -0.010334 -0.055409   \n",
       "9680   368331.0 -0.071373 -0.088266 -0.196471  0.021537 -0.091744 -0.223395   \n",
       "\n",
       "         marketcap    mc_pct  sale  \n",
       "9676  1.106120e+10  0.000109     0  \n",
       "9677  2.741610e+10  0.000006     1  \n",
       "9678  1.106120e+10  0.000112     0  \n",
       "9679  8.625000e+08  0.000172     0  \n",
       "9680  3.739000e+09  0.000137     1  "
      ]
     },
     "execution_count": 59,
     "metadata": {},
     "output_type": "execute_result"
    }
   ],
   "source": [
    "train_df_mod.head()"
   ]
  },
  {
   "cell_type": "code",
   "execution_count": 60,
   "metadata": {},
   "outputs": [
    {
     "data": {
      "text/plain": [
       "<AxesSubplot:>"
      ]
     },
     "execution_count": 60,
     "metadata": {},
     "output_type": "execute_result"
    },
    {
     "data": {
      "image/png": "[encoded data removed]",
      "text/plain": [
       "<Figure size 432x288 with 2 Axes>"
      ]
     },
     "metadata": {
      "needs_background": "light"
     },
     "output_type": "display_data"
    }
   ],
   "source": [
    "# check correlation between values in df\n",
    "insider_trading_corr = train_df_mod.corr()\n",
    "sns.heatmap(insider_trading_corr,square=True)"
   ]
  },
  {
   "cell_type": "code",
   "execution_count": 61,
   "metadata": {},
   "outputs": [
    {
     "data": {
      "text/plain": [
       "<AxesSubplot:xlabel='fc_1m', ylabel='Count'>"
      ]
     },
     "execution_count": 61,
     "metadata": {},
     "output_type": "execute_result"
    },
    {
     "data": {
      "image/png": "[encoded data removed]",
      "text/plain": [
       "<Figure size 432x288 with 1 Axes>"
      ]
     },
     "metadata": {
      "needs_background": "light"
     },
     "output_type": "display_data"
    }
   ],
   "source": [
    "# From the above the fields are still correlated to the fc_1m, we will look at the fc_1m distribution\n",
    "sns.histplot(train_df_mod['fc_1m'], kde=True)"
   ]
  },
  {
   "cell_type": "code",
   "execution_count": 62,
   "metadata": {},
   "outputs": [],
   "source": [
    "features = ['ticker', 'sale', 'transactionshares', 'transactionvalue', 'close', 'marketcap', 'mc_pct']\n",
    "labels = ['fc_1m']\n",
    "insider_trading_train_features = train_df_mod[features].copy(deep=True)\n",
    "insider_trading_train_labels = np.array(train_df_mod[labels])\n",
    "insider_trading_test_features = test_df_mod[features].copy(deep=True)"
   ]
  },
  {
   "cell_type": "code",
   "execution_count": 63,
   "metadata": {},
   "outputs": [],
   "source": [
    "encoder = preprocessing.OrdinalEncoder()\n",
    "train_ticker = encoder.fit_transform(np.array(insider_trading_train_features['ticker']).reshape(-1, 1))\n",
    "test_ticker = encoder.fit_transform(np.array(insider_trading_test_features['ticker']).reshape(-1, 1))"
   ]
  },
  {
   "cell_type": "code",
   "execution_count": 64,
   "metadata": {},
   "outputs": [
    {
     "data": {
      "text/plain": [
       "['transactionshares', 'transactionvalue', 'close', 'marketcap', 'mc_pct']"
      ]
     },
     "execution_count": 64,
     "metadata": {},
     "output_type": "execute_result"
    }
   ],
   "source": [
    "features[2:]"
   ]
  },
  {
   "cell_type": "code",
   "execution_count": 65,
   "metadata": {},
   "outputs": [],
   "source": [
    "train_features_ = np.array(insider_trading_train_features[features[2:]])\n",
    "test_features_ = np.array(insider_trading_test_features[features[2:]])\n",
    "train_features = np.append(train_features_, train_ticker, axis=1)\n",
    "test_features = np.append(test_features_, test_ticker, axis=1)"
   ]
  },
  {
   "cell_type": "code",
   "execution_count": 66,
   "metadata": {},
   "outputs": [],
   "source": [
    "import numpy.random as nr\n",
    "import sklearn.model_selection as ms\n",
    "nr.seed(9988)\n",
    "indx = range(train_features.shape[0])\n",
    "indx = ms.train_test_split(indx, test_size = 0.3)\n",
    "X_train = train_features[indx[0],:]\n",
    "y_train = np.ravel(insider_trading_train_labels[indx[0]])\n",
    "X_test = train_features[indx[1],:]\n",
    "y_test = np.ravel(insider_trading_train_labels[indx[1]])"
   ]
  },
  {
   "cell_type": "code",
   "execution_count": 67,
   "metadata": {},
   "outputs": [],
   "source": [
    "# Scale the numeric Features\n",
    "scaler = preprocessing.StandardScaler().fit(X_train[:,2:])\n",
    "X_train[:,2:] = scaler.transform(X_train[:,2:])\n",
    "X_test[:,2:] = scaler.transform(X_test[:,2:])\n",
    "test_features[:,2:] = scaler.transform(test_features[:,2:])"
   ]
  },
  {
   "cell_type": "code",
   "execution_count": 68,
   "metadata": {},
   "outputs": [
    {
     "data": {
      "text/plain": [
       "LinearRegression(fit_intercept=False)"
      ]
     },
     "execution_count": 68,
     "metadata": {},
     "output_type": "execute_result"
    }
   ],
   "source": [
    "## define and fit the linear regression model\n",
    "lin_mod = linear_model.LinearRegression(fit_intercept = False)\n",
    "lin_mod.fit(X_train, y_train)"
   ]
  },
  {
   "cell_type": "code",
   "execution_count": 69,
   "metadata": {},
   "outputs": [
    {
     "name": "stdout",
     "output_type": "stream",
     "text": [
      "Mean Square Error      = 0.022872762211283797\n",
      "Root Mean Square Error = 0.15123743654030836\n",
      "Mean Absolute Error    = 0.1014536950410061\n",
      "Median Absolute Error  = 0.06601706941792465\n",
      "R^2                    = -0.0007916232499338705\n",
      "Adjusted R^2           = -0.0013013066252875035\n"
     ]
    }
   ],
   "source": [
    "import sklearn.metrics as sklm\n",
    "import scipy.stats as ss\n",
    "import math\n",
    "def print_metrics(y_true, y_predicted, n_parameters):\n",
    "    ## First compute R^2 and the adjusted R^2\n",
    "    r2 = sklm.r2_score(y_true, y_predicted)\n",
    "    r2_adj = r2 - (n_parameters - 1)/(y_true.shape[0] - n_parameters) * (1 - r2)\n",
    "    \n",
    "    ## Print the usual metrics and the R^2 values\n",
    "    print('Mean Square Error      = ' + str(sklm.mean_squared_error(y_true, y_predicted)))\n",
    "    print('Root Mean Square Error = ' + str(math.sqrt(sklm.mean_squared_error(y_true, y_predicted))))\n",
    "    print('Mean Absolute Error    = ' + str(sklm.mean_absolute_error(y_true, y_predicted)))\n",
    "    print('Median Absolute Error  = ' + str(sklm.median_absolute_error(y_true, y_predicted)))\n",
    "    print('R^2                    = ' + str(r2))\n",
    "    print('Adjusted R^2           = ' + str(r2_adj))\n",
    "   \n",
    "y_score = lin_mod.predict(X_test) \n",
    "print_metrics(y_test, y_score, 28)"
   ]
  },
  {
   "cell_type": "code",
   "execution_count": 70,
   "metadata": {},
   "outputs": [
    {
     "data": {
      "image/png": "[encoded data removed]",
      "text/plain": [
       "<Figure size 432x288 with 1 Axes>"
      ]
     },
     "metadata": {
      "needs_background": "light"
     },
     "output_type": "display_data"
    }
   ],
   "source": [
    "# Evaluate Residuals\n",
    "def hist_resids(y_test, y_score):\n",
    "    ## first compute vector of residuals. \n",
    "    resids = np.subtract(y_test.reshape(-1,1), y_score.reshape(-1,1))\n",
    "    ## now make the residual plots\n",
    "    sns.histplot(resids, kde=True)\n",
    "    plt.title('Histogram of residuals')\n",
    "    plt.xlabel('Residual value')\n",
    "    plt.ylabel('count')\n",
    "    \n",
    "hist_resids(y_test, y_score)"
   ]
  },
  {
   "cell_type": "code",
   "execution_count": 71,
   "metadata": {},
   "outputs": [
    {
     "data": {
      "image/png": "[encoded data removed]",
      "text/plain": [
       "<Figure size 432x288 with 1 Axes>"
      ]
     },
     "metadata": {
      "needs_background": "light"
     },
     "output_type": "display_data"
    }
   ],
   "source": [
    "def resid_qq(y_test, y_score):\n",
    "    ## first compute vector of residuals. \n",
    "    resids = np.subtract(y_test.reshape(-1,1), y_score.reshape(-1,1))\n",
    "    ## now make the residual plots\n",
    "    ss.probplot(resids.flatten(), plot = plt)\n",
    "    plt.title('Residuals vs. predicted values')\n",
    "    plt.xlabel('Predicted values')\n",
    "    plt.ylabel('Residual')\n",
    "    \n",
    "resid_qq(y_test, y_score)"
   ]
  },
  {
   "cell_type": "code",
   "execution_count": 72,
   "metadata": {},
   "outputs": [],
   "source": [
    "# Try XGBoost\n",
    "import xgboost as xg"
   ]
  },
  {
   "cell_type": "code",
   "execution_count": 73,
   "metadata": {},
   "outputs": [],
   "source": [
    "xgb_r = xg.XGBRegressor(objective ='reg:squarederror', \n",
    "                  n_estimators = 20, seed = 123) \n",
    "  \n",
    "# Fitting the model \n",
    "xgb_r.fit(X_train, y_train) \n",
    "  \n",
    "# Predict the model \n",
    "y_score = xgb_r.predict(X_test)"
   ]
  },
  {
   "cell_type": "code",
   "execution_count": 74,
   "metadata": {},
   "outputs": [
    {
     "name": "stdout",
     "output_type": "stream",
     "text": [
      "Mean Square Error      = 0.020865019771848358\n",
      "Root Mean Square Error = 0.14444729063519454\n",
      "Mean Absolute Error    = 0.09767451269139285\n",
      "Median Absolute Error  = 0.06408230040814819\n",
      "R^2                    = 0.0870566128515683\n",
      "Adjusted R^2           = 0.08659166884498523\n"
     ]
    }
   ],
   "source": [
    "print_metrics(y_test, y_score, 28)"
   ]
  },
  {
   "cell_type": "code",
   "execution_count": null,
   "metadata": {},
   "outputs": [],
   "source": []
  }
 ],
 "metadata": {
  "environment": {
   "name": "common-cpu.mnightly-2021-01-20-debian-10-test",
   "type": "gcloud",
   "uri": "gcr.io/deeplearning-platform-release/base-cpu:mnightly-2021-01-20-debian-10-test"
  },
  "kernelspec": {
   "display_name": "Python 3",
   "language": "python",
   "name": "python3"
  },
  "language_info": {
   "codemirror_mode": {
    "name": "ipython",
    "version": 3
   },
   "file_extension": ".py",
   "mimetype": "text/x-python",
   "name": "python",
   "nbconvert_exporter": "python",
   "pygments_lexer": "ipython3",
   "version": "3.7.9"
  },
  "toc": {
   "colors": {
    "hover_highlight": "#DAA520",
    "running_highlight": "#FF0000",
    "selected_highlight": "#FFD700"
   },
   "moveMenuLeft": true,
   "nav_menu": {
    "height": "12px",
    "width": "252px"
   },
   "navigate_menu": true,
   "number_sections": true,
   "sideBar": true,
   "threshold": 4,
   "toc_cell": false,
   "toc_section_display": "block",
   "toc_window_display": false,
   "widenNotebook": false
  }
 },
 "nbformat": 4,
 "nbformat_minor": 4
}
