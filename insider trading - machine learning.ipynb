{
 "cells": [
  {
   "cell_type": "code",
   "execution_count": 1,
   "metadata": {
    "ExecuteTime": {
     "end_time": "2020-12-04T19:29:22.146631Z",
     "start_time": "2020-12-04T19:29:21.519309Z"
    }
   },
   "outputs": [],
   "source": [
    "import pandas as pd, numpy as np\n",
    "from fidap import fidap_client\n",
    "import config"
   ]
  },
  {
   "cell_type": "code",
   "execution_count": 2,
   "metadata": {},
   "outputs": [],
   "source": [
    "fidap = fidap_client(api_key=config.FIDAP_API_KEY)"
   ]
  },
  {
   "cell_type": "markdown",
   "metadata": {},
   "source": [
    "Let's first explore the data and find some basic numbers here."
   ]
  },
  {
   "cell_type": "code",
   "execution_count": 11,
   "metadata": {
    "ExecuteTime": {
     "end_time": "2020-12-04T19:29:46.210276Z",
     "start_time": "2020-12-04T19:29:22.148630Z"
    }
   },
   "outputs": [],
   "source": [
    "df2 = fidap.sql(\"\"\"\n",
    "    select insider_trades.ticker, insider_trades.filingdate, insider_trades.transactionshares,\n",
    "    insider_trades.transactionvalue, daily.close, daily.fc_1m, daily.marketcap\n",
    "    from insider_trades, tickers, daily\n",
    "    where \n",
    "    insider_trades.ticker = tickers.ticker and \n",
    "    insider_trades.ticker = daily.ticker and\n",
    "    insider_trades.filingdate = daily.date and\n",
    "    insider_trades.transactionvalue > 100000 and \n",
    "    insider_trades.securitytitle = 'Common Stock'\n",
    "\"\"\")"
   ]
  },
  {
   "cell_type": "code",
   "execution_count": 12,
   "metadata": {
    "ExecuteTime": {
     "end_time": "2020-12-04T19:29:46.226258Z",
     "start_time": "2020-12-04T19:29:46.212272Z"
    }
   },
   "outputs": [
    {
     "data": {
      "text/html": [
       "<div>\n",
       "<style scoped>\n",
       "    .dataframe tbody tr th:only-of-type {\n",
       "        vertical-align: middle;\n",
       "    }\n",
       "\n",
       "    .dataframe tbody tr th {\n",
       "        vertical-align: top;\n",
       "    }\n",
       "\n",
       "    .dataframe thead th {\n",
       "        text-align: right;\n",
       "    }\n",
       "</style>\n",
       "<table border=\"1\" class=\"dataframe\">\n",
       "  <thead>\n",
       "    <tr style=\"text-align: right;\">\n",
       "      <th></th>\n",
       "      <th>ticker</th>\n",
       "      <th>filingdate</th>\n",
       "      <th>transactionshares</th>\n",
       "      <th>transactionvalue</th>\n",
       "      <th>close</th>\n",
       "      <th>fc_1m</th>\n",
       "      <th>marketcap</th>\n",
       "    </tr>\n",
       "  </thead>\n",
       "  <tbody>\n",
       "    <tr>\n",
       "      <th>0</th>\n",
       "      <td>CFFI</td>\n",
       "      <td>2018-08-20</td>\n",
       "      <td>-4353</td>\n",
       "      <td>270626</td>\n",
       "      <td>62.45</td>\n",
       "      <td>-0.081665</td>\n",
       "      <td>2.188000e+08</td>\n",
       "    </tr>\n",
       "    <tr>\n",
       "      <th>1</th>\n",
       "      <td>CFFI</td>\n",
       "      <td>2018-08-02</td>\n",
       "      <td>-8295</td>\n",
       "      <td>516364</td>\n",
       "      <td>61.90</td>\n",
       "      <td>0.012924</td>\n",
       "      <td>2.169000e+08</td>\n",
       "    </tr>\n",
       "    <tr>\n",
       "      <th>2</th>\n",
       "      <td>CFFI</td>\n",
       "      <td>2018-01-17</td>\n",
       "      <td>-1749</td>\n",
       "      <td>102491</td>\n",
       "      <td>58.65</td>\n",
       "      <td>-0.156010</td>\n",
       "      <td>2.046000e+08</td>\n",
       "    </tr>\n",
       "    <tr>\n",
       "      <th>3</th>\n",
       "      <td>CFFI</td>\n",
       "      <td>2018-01-17</td>\n",
       "      <td>-1748</td>\n",
       "      <td>102433</td>\n",
       "      <td>58.65</td>\n",
       "      <td>-0.156010</td>\n",
       "      <td>2.046000e+08</td>\n",
       "    </tr>\n",
       "    <tr>\n",
       "      <th>4</th>\n",
       "      <td>CFG</td>\n",
       "      <td>2017-03-27</td>\n",
       "      <td>-4164</td>\n",
       "      <td>143367</td>\n",
       "      <td>34.24</td>\n",
       "      <td>0.073890</td>\n",
       "      <td>1.743190e+10</td>\n",
       "    </tr>\n",
       "  </tbody>\n",
       "</table>\n",
       "</div>"
      ],
      "text/plain": [
       "  ticker  filingdate  transactionshares  transactionvalue  close     fc_1m  \\\n",
       "0   CFFI  2018-08-20              -4353            270626  62.45 -0.081665   \n",
       "1   CFFI  2018-08-02              -8295            516364  61.90  0.012924   \n",
       "2   CFFI  2018-01-17              -1749            102491  58.65 -0.156010   \n",
       "3   CFFI  2018-01-17              -1748            102433  58.65 -0.156010   \n",
       "4    CFG  2017-03-27              -4164            143367  34.24  0.073890   \n",
       "\n",
       "      marketcap  \n",
       "0  2.188000e+08  \n",
       "1  2.169000e+08  \n",
       "2  2.046000e+08  \n",
       "3  2.046000e+08  \n",
       "4  1.743190e+10  "
      ]
     },
     "execution_count": 12,
     "metadata": {},
     "output_type": "execute_result"
    }
   ],
   "source": [
    "df2.head()"
   ]
  },
  {
   "cell_type": "code",
   "execution_count": 5,
   "metadata": {
    "ExecuteTime": {
     "end_time": "2020-12-04T19:29:46.241194Z",
     "start_time": "2020-12-04T19:29:46.227248Z"
    }
   },
   "outputs": [
    {
     "data": {
      "text/plain": [
       "276005"
      ]
     },
     "execution_count": 5,
     "metadata": {},
     "output_type": "execute_result"
    }
   ],
   "source": [
    "len(df2)"
   ]
  },
  {
   "cell_type": "code",
   "execution_count": 6,
   "metadata": {
    "ExecuteTime": {
     "end_time": "2020-12-04T19:29:46.257179Z",
     "start_time": "2020-12-04T19:29:46.243189Z"
    }
   },
   "outputs": [],
   "source": [
    "df2['mc_pct'] = df2['transactionvalue'] / (df2['marketcap']*1e6)"
   ]
  },
  {
   "cell_type": "code",
   "execution_count": 7,
   "metadata": {
    "ExecuteTime": {
     "end_time": "2020-12-04T19:29:46.272135Z",
     "start_time": "2020-12-04T19:29:46.258177Z"
    }
   },
   "outputs": [],
   "source": [
    "df2['sale'] = np.where(df2['transactionshares'] > 0, False, True)"
   ]
  },
  {
   "cell_type": "code",
   "execution_count": 8,
   "metadata": {
    "ExecuteTime": {
     "end_time": "2020-12-04T19:29:46.303056Z",
     "start_time": "2020-12-04T19:29:46.273109Z"
    }
   },
   "outputs": [
    {
     "data": {
      "text/html": [
       "<div>\n",
       "<style scoped>\n",
       "    .dataframe tbody tr th:only-of-type {\n",
       "        vertical-align: middle;\n",
       "    }\n",
       "\n",
       "    .dataframe tbody tr th {\n",
       "        vertical-align: top;\n",
       "    }\n",
       "\n",
       "    .dataframe thead th {\n",
       "        text-align: right;\n",
       "    }\n",
       "</style>\n",
       "<table border=\"1\" class=\"dataframe\">\n",
       "  <thead>\n",
       "    <tr style=\"text-align: right;\">\n",
       "      <th></th>\n",
       "      <th>ticker</th>\n",
       "      <th>filingdate</th>\n",
       "      <th>transactionshares</th>\n",
       "      <th>transactionvalue</th>\n",
       "      <th>close</th>\n",
       "      <th>fc_1m</th>\n",
       "      <th>marketcap</th>\n",
       "      <th>mc_pct</th>\n",
       "      <th>sale</th>\n",
       "    </tr>\n",
       "  </thead>\n",
       "  <tbody>\n",
       "    <tr>\n",
       "      <th>0</th>\n",
       "      <td>CFFI</td>\n",
       "      <td>2018-08-20</td>\n",
       "      <td>-4353</td>\n",
       "      <td>270626</td>\n",
       "      <td>62.45</td>\n",
       "      <td>-0.081665</td>\n",
       "      <td>2.188000e+08</td>\n",
       "      <td>1.236865e-09</td>\n",
       "      <td>True</td>\n",
       "    </tr>\n",
       "    <tr>\n",
       "      <th>1</th>\n",
       "      <td>CFFI</td>\n",
       "      <td>2018-08-02</td>\n",
       "      <td>-8295</td>\n",
       "      <td>516364</td>\n",
       "      <td>61.90</td>\n",
       "      <td>0.012924</td>\n",
       "      <td>2.169000e+08</td>\n",
       "      <td>2.380655e-09</td>\n",
       "      <td>True</td>\n",
       "    </tr>\n",
       "    <tr>\n",
       "      <th>2</th>\n",
       "      <td>CFFI</td>\n",
       "      <td>2018-01-17</td>\n",
       "      <td>-1749</td>\n",
       "      <td>102491</td>\n",
       "      <td>58.65</td>\n",
       "      <td>-0.156010</td>\n",
       "      <td>2.046000e+08</td>\n",
       "      <td>5.009335e-10</td>\n",
       "      <td>True</td>\n",
       "    </tr>\n",
       "    <tr>\n",
       "      <th>3</th>\n",
       "      <td>CFFI</td>\n",
       "      <td>2018-01-17</td>\n",
       "      <td>-1748</td>\n",
       "      <td>102433</td>\n",
       "      <td>58.65</td>\n",
       "      <td>-0.156010</td>\n",
       "      <td>2.046000e+08</td>\n",
       "      <td>5.006500e-10</td>\n",
       "      <td>True</td>\n",
       "    </tr>\n",
       "    <tr>\n",
       "      <th>4</th>\n",
       "      <td>CFG</td>\n",
       "      <td>2017-03-27</td>\n",
       "      <td>-4164</td>\n",
       "      <td>143367</td>\n",
       "      <td>34.24</td>\n",
       "      <td>0.073890</td>\n",
       "      <td>1.743190e+10</td>\n",
       "      <td>8.224405e-12</td>\n",
       "      <td>True</td>\n",
       "    </tr>\n",
       "    <tr>\n",
       "      <th>...</th>\n",
       "      <td>...</td>\n",
       "      <td>...</td>\n",
       "      <td>...</td>\n",
       "      <td>...</td>\n",
       "      <td>...</td>\n",
       "      <td>...</td>\n",
       "      <td>...</td>\n",
       "      <td>...</td>\n",
       "      <td>...</td>\n",
       "    </tr>\n",
       "    <tr>\n",
       "      <th>276000</th>\n",
       "      <td>WYND</td>\n",
       "      <td>2019-05-07</td>\n",
       "      <td>-11656</td>\n",
       "      <td>519671</td>\n",
       "      <td>43.92</td>\n",
       "      <td>-0.048725</td>\n",
       "      <td>4.111700e+09</td>\n",
       "      <td>1.263884e-10</td>\n",
       "      <td>True</td>\n",
       "    </tr>\n",
       "    <tr>\n",
       "      <th>276001</th>\n",
       "      <td>WYND</td>\n",
       "      <td>2019-05-07</td>\n",
       "      <td>-3703</td>\n",
       "      <td>164480</td>\n",
       "      <td>43.92</td>\n",
       "      <td>-0.048725</td>\n",
       "      <td>4.111700e+09</td>\n",
       "      <td>4.000292e-11</td>\n",
       "      <td>True</td>\n",
       "    </tr>\n",
       "    <tr>\n",
       "      <th>276002</th>\n",
       "      <td>WYND</td>\n",
       "      <td>2020-03-02</td>\n",
       "      <td>22256</td>\n",
       "      <td>718424</td>\n",
       "      <td>40.86</td>\n",
       "      <td>-0.512726</td>\n",
       "      <td>3.567200e+09</td>\n",
       "      <td>2.013972e-10</td>\n",
       "      <td>False</td>\n",
       "    </tr>\n",
       "    <tr>\n",
       "      <th>276003</th>\n",
       "      <td>WYND</td>\n",
       "      <td>2020-03-02</td>\n",
       "      <td>-19380</td>\n",
       "      <td>778688</td>\n",
       "      <td>40.86</td>\n",
       "      <td>-0.512726</td>\n",
       "      <td>3.567200e+09</td>\n",
       "      <td>2.182911e-10</td>\n",
       "      <td>True</td>\n",
       "    </tr>\n",
       "    <tr>\n",
       "      <th>276004</th>\n",
       "      <td>WYND</td>\n",
       "      <td>2020-05-08</td>\n",
       "      <td>4000</td>\n",
       "      <td>100272</td>\n",
       "      <td>25.41</td>\n",
       "      <td>0.379772</td>\n",
       "      <td>2.163300e+09</td>\n",
       "      <td>4.635141e-11</td>\n",
       "      <td>False</td>\n",
       "    </tr>\n",
       "  </tbody>\n",
       "</table>\n",
       "<p>276005 rows × 9 columns</p>\n",
       "</div>"
      ],
      "text/plain": [
       "       ticker  filingdate  transactionshares  transactionvalue  close  \\\n",
       "0        CFFI  2018-08-20              -4353            270626  62.45   \n",
       "1        CFFI  2018-08-02              -8295            516364  61.90   \n",
       "2        CFFI  2018-01-17              -1749            102491  58.65   \n",
       "3        CFFI  2018-01-17              -1748            102433  58.65   \n",
       "4         CFG  2017-03-27              -4164            143367  34.24   \n",
       "...       ...         ...                ...               ...    ...   \n",
       "276000   WYND  2019-05-07             -11656            519671  43.92   \n",
       "276001   WYND  2019-05-07              -3703            164480  43.92   \n",
       "276002   WYND  2020-03-02              22256            718424  40.86   \n",
       "276003   WYND  2020-03-02             -19380            778688  40.86   \n",
       "276004   WYND  2020-05-08               4000            100272  25.41   \n",
       "\n",
       "           fc_1m     marketcap        mc_pct   sale  \n",
       "0      -0.081665  2.188000e+08  1.236865e-09   True  \n",
       "1       0.012924  2.169000e+08  2.380655e-09   True  \n",
       "2      -0.156010  2.046000e+08  5.009335e-10   True  \n",
       "3      -0.156010  2.046000e+08  5.006500e-10   True  \n",
       "4       0.073890  1.743190e+10  8.224405e-12   True  \n",
       "...          ...           ...           ...    ...  \n",
       "276000 -0.048725  4.111700e+09  1.263884e-10   True  \n",
       "276001 -0.048725  4.111700e+09  4.000292e-11   True  \n",
       "276002 -0.512726  3.567200e+09  2.013972e-10  False  \n",
       "276003 -0.512726  3.567200e+09  2.182911e-10   True  \n",
       "276004  0.379772  2.163300e+09  4.635141e-11  False  \n",
       "\n",
       "[276005 rows x 9 columns]"
      ]
     },
     "execution_count": 8,
     "metadata": {},
     "output_type": "execute_result"
    }
   ],
   "source": [
    "df2"
   ]
  },
  {
   "cell_type": "code",
   "execution_count": 9,
   "metadata": {
    "ExecuteTime": {
     "end_time": "2020-12-04T19:29:46.349931Z",
     "start_time": "2020-12-04T19:29:46.305025Z"
    }
   },
   "outputs": [],
   "source": [
    "df2 = df2.dropna()"
   ]
  },
  {
   "cell_type": "code",
   "execution_count": 14,
   "metadata": {
    "ExecuteTime": {
     "end_time": "2020-12-04T19:29:46.364887Z",
     "start_time": "2020-12-04T19:29:46.351923Z"
    }
   },
   "outputs": [],
   "source": [
    "features = ['close', 'marketcap', 'mc_pct', 'sale']\n",
    "label = 'fc_1m'"
   ]
  },
  {
   "cell_type": "code",
   "execution_count": 10,
   "metadata": {
    "ExecuteTime": {
     "end_time": "2020-12-04T19:29:46.380844Z",
     "start_time": "2020-12-04T19:29:46.365860Z"
    }
   },
   "outputs": [
    {
     "ename": "ModuleNotFoundError",
     "evalue": "No module named 'xgboost'",
     "output_type": "error",
     "traceback": [
      "\u001b[0;31m---------------------------------------------------------------------------\u001b[0m",
      "\u001b[0;31mModuleNotFoundError\u001b[0m                       Traceback (most recent call last)",
      "\u001b[0;32m<ipython-input-10-763158348039>\u001b[0m in \u001b[0;36m<module>\u001b[0;34m\u001b[0m\n\u001b[0;32m----> 1\u001b[0;31m \u001b[0;32mimport\u001b[0m \u001b[0mxgboost\u001b[0m \u001b[0;32mas\u001b[0m \u001b[0mxgb\u001b[0m\u001b[0;34m\u001b[0m\u001b[0;34m\u001b[0m\u001b[0m\n\u001b[0m",
      "\u001b[0;31mModuleNotFoundError\u001b[0m: No module named 'xgboost'"
     ]
    }
   ],
   "source": [
    "import xgboost as xgb"
   ]
  },
  {
   "cell_type": "code",
   "execution_count": 12,
   "metadata": {
    "ExecuteTime": {
     "end_time": "2020-12-04T19:29:46.395780Z",
     "start_time": "2020-12-04T19:29:46.381818Z"
    }
   },
   "outputs": [],
   "source": [
    "model = xgb.XGBRegressor()"
   ]
  },
  {
   "cell_type": "code",
   "execution_count": 17,
   "metadata": {
    "ExecuteTime": {
     "end_time": "2020-12-04T19:29:56.933612Z",
     "start_time": "2020-12-04T19:29:46.396820Z"
    }
   },
   "outputs": [
    {
     "data": {
      "text/plain": [
       "XGBRegressor(base_score=0.5, booster='gbtree', colsample_bylevel=1,\n",
       "             colsample_bynode=1, colsample_bytree=1, gamma=0, gpu_id=-1,\n",
       "             importance_type='gain', interaction_constraints='',\n",
       "             learning_rate=0.300000012, max_delta_step=0, max_depth=6,\n",
       "             min_child_weight=1, missing=nan, monotone_constraints='()',\n",
       "             n_estimators=100, n_jobs=4, num_parallel_tree=1, random_state=0,\n",
       "             reg_alpha=0, reg_lambda=1, scale_pos_weight=1, subsample=1,\n",
       "             tree_method='exact', validate_parameters=1, verbosity=None)"
      ]
     },
     "execution_count": 17,
     "metadata": {},
     "output_type": "execute_result"
    }
   ],
   "source": [
    "model.fit(df2[features],df2[label])"
   ]
  },
  {
   "cell_type": "code",
   "execution_count": 18,
   "metadata": {
    "ExecuteTime": {
     "end_time": "2020-12-04T19:29:57.295644Z",
     "start_time": "2020-12-04T19:29:56.935606Z"
    }
   },
   "outputs": [],
   "source": [
    "preds = model.predict(df2[features])"
   ]
  },
  {
   "cell_type": "code",
   "execution_count": 19,
   "metadata": {
    "ExecuteTime": {
     "end_time": "2020-12-04T19:29:57.311600Z",
     "start_time": "2020-12-04T19:29:57.297637Z"
    }
   },
   "outputs": [
    {
     "name": "stderr",
     "output_type": "stream",
     "text": [
      "<ipython-input-19-225561c10419>:1: SettingWithCopyWarning: \n",
      "A value is trying to be set on a copy of a slice from a DataFrame.\n",
      "Try using .loc[row_indexer,col_indexer] = value instead\n",
      "\n",
      "See the caveats in the documentation: https://pandas.pydata.org/pandas-docs/stable/user_guide/indexing.html#returning-a-view-versus-a-copy\n",
      "  df2['predict'] = preds\n"
     ]
    }
   ],
   "source": [
    "df2['predict'] = preds"
   ]
  },
  {
   "cell_type": "code",
   "execution_count": 20,
   "metadata": {
    "ExecuteTime": {
     "end_time": "2020-12-04T19:29:57.343515Z",
     "start_time": "2020-12-04T19:29:57.313595Z"
    }
   },
   "outputs": [
    {
     "data": {
      "text/html": [
       "<div>\n",
       "<style scoped>\n",
       "    .dataframe tbody tr th:only-of-type {\n",
       "        vertical-align: middle;\n",
       "    }\n",
       "\n",
       "    .dataframe tbody tr th {\n",
       "        vertical-align: top;\n",
       "    }\n",
       "\n",
       "    .dataframe thead th {\n",
       "        text-align: right;\n",
       "    }\n",
       "</style>\n",
       "<table border=\"1\" class=\"dataframe\">\n",
       "  <thead>\n",
       "    <tr style=\"text-align: right;\">\n",
       "      <th></th>\n",
       "      <th>TICKER</th>\n",
       "      <th>FILINGDATE</th>\n",
       "      <th>TRANSACTIONSHARES</th>\n",
       "      <th>TRANSACTIONVALUE</th>\n",
       "      <th>CLOSE</th>\n",
       "      <th>FC_1M</th>\n",
       "      <th>MARKETCAP</th>\n",
       "      <th>mc_pct</th>\n",
       "      <th>sale</th>\n",
       "      <th>predict</th>\n",
       "    </tr>\n",
       "  </thead>\n",
       "  <tbody>\n",
       "    <tr>\n",
       "      <th>0</th>\n",
       "      <td>ELVT</td>\n",
       "      <td>2017-04-12</td>\n",
       "      <td>78494</td>\n",
       "      <td>510211</td>\n",
       "      <td>7.70</td>\n",
       "      <td>0.019481</td>\n",
       "      <td>3.041000e+08</td>\n",
       "      <td>1.677774e-09</td>\n",
       "      <td>False</td>\n",
       "      <td>0.049914</td>\n",
       "    </tr>\n",
       "    <tr>\n",
       "      <th>1</th>\n",
       "      <td>ELVT</td>\n",
       "      <td>2017-04-12</td>\n",
       "      <td>40000</td>\n",
       "      <td>260000</td>\n",
       "      <td>7.70</td>\n",
       "      <td>0.019481</td>\n",
       "      <td>3.041000e+08</td>\n",
       "      <td>8.549819e-10</td>\n",
       "      <td>False</td>\n",
       "      <td>0.041023</td>\n",
       "    </tr>\n",
       "    <tr>\n",
       "      <th>2</th>\n",
       "      <td>ELVT</td>\n",
       "      <td>2017-04-17</td>\n",
       "      <td>50000</td>\n",
       "      <td>325000</td>\n",
       "      <td>8.08</td>\n",
       "      <td>-0.033416</td>\n",
       "      <td>3.192000e+08</td>\n",
       "      <td>1.018170e-09</td>\n",
       "      <td>False</td>\n",
       "      <td>0.030830</td>\n",
       "    </tr>\n",
       "    <tr>\n",
       "      <th>3</th>\n",
       "      <td>ELVT</td>\n",
       "      <td>2017-04-17</td>\n",
       "      <td>38460</td>\n",
       "      <td>249990</td>\n",
       "      <td>8.08</td>\n",
       "      <td>-0.033416</td>\n",
       "      <td>3.192000e+08</td>\n",
       "      <td>7.831767e-10</td>\n",
       "      <td>False</td>\n",
       "      <td>0.030830</td>\n",
       "    </tr>\n",
       "    <tr>\n",
       "      <th>4</th>\n",
       "      <td>ELVT</td>\n",
       "      <td>2019-04-03</td>\n",
       "      <td>-24000</td>\n",
       "      <td>105120</td>\n",
       "      <td>4.32</td>\n",
       "      <td>0.094907</td>\n",
       "      <td>1.873000e+08</td>\n",
       "      <td>5.612387e-10</td>\n",
       "      <td>True</td>\n",
       "      <td>0.026480</td>\n",
       "    </tr>\n",
       "    <tr>\n",
       "      <th>...</th>\n",
       "      <td>...</td>\n",
       "      <td>...</td>\n",
       "      <td>...</td>\n",
       "      <td>...</td>\n",
       "      <td>...</td>\n",
       "      <td>...</td>\n",
       "      <td>...</td>\n",
       "      <td>...</td>\n",
       "      <td>...</td>\n",
       "      <td>...</td>\n",
       "    </tr>\n",
       "    <tr>\n",
       "      <th>276000</th>\n",
       "      <td>RESI</td>\n",
       "      <td>2020-01-03</td>\n",
       "      <td>-13438</td>\n",
       "      <td>165825</td>\n",
       "      <td>12.62</td>\n",
       "      <td>-0.114897</td>\n",
       "      <td>6.800000e+08</td>\n",
       "      <td>2.438603e-10</td>\n",
       "      <td>True</td>\n",
       "      <td>0.007907</td>\n",
       "    </tr>\n",
       "    <tr>\n",
       "      <th>276001</th>\n",
       "      <td>RESI</td>\n",
       "      <td>2020-05-29</td>\n",
       "      <td>-31534</td>\n",
       "      <td>223891</td>\n",
       "      <td>7.50</td>\n",
       "      <td>0.160000</td>\n",
       "      <td>4.058000e+08</td>\n",
       "      <td>5.517275e-10</td>\n",
       "      <td>True</td>\n",
       "      <td>0.004420</td>\n",
       "    </tr>\n",
       "    <tr>\n",
       "      <th>276002</th>\n",
       "      <td>RESN</td>\n",
       "      <td>2019-08-13</td>\n",
       "      <td>396000</td>\n",
       "      <td>1001880</td>\n",
       "      <td>2.48</td>\n",
       "      <td>0.229839</td>\n",
       "      <td>7.040000e+07</td>\n",
       "      <td>1.423125e-08</td>\n",
       "      <td>False</td>\n",
       "      <td>0.098035</td>\n",
       "    </tr>\n",
       "    <tr>\n",
       "      <th>276003</th>\n",
       "      <td>REVG</td>\n",
       "      <td>2019-09-11</td>\n",
       "      <td>50000</td>\n",
       "      <td>478900</td>\n",
       "      <td>10.07</td>\n",
       "      <td>0.141013</td>\n",
       "      <td>6.264000e+08</td>\n",
       "      <td>7.645275e-10</td>\n",
       "      <td>False</td>\n",
       "      <td>0.053406</td>\n",
       "    </tr>\n",
       "    <tr>\n",
       "      <th>276004</th>\n",
       "      <td>REYN</td>\n",
       "      <td>2020-11-17</td>\n",
       "      <td>16500</td>\n",
       "      <td>492641</td>\n",
       "      <td>29.86</td>\n",
       "      <td>0.019089</td>\n",
       "      <td>6.261700e+09</td>\n",
       "      <td>7.867528e-11</td>\n",
       "      <td>False</td>\n",
       "      <td>-0.024012</td>\n",
       "    </tr>\n",
       "  </tbody>\n",
       "</table>\n",
       "<p>265404 rows × 10 columns</p>\n",
       "</div>"
      ],
      "text/plain": [
       "       TICKER  FILINGDATE  TRANSACTIONSHARES  TRANSACTIONVALUE  CLOSE  \\\n",
       "0        ELVT  2017-04-12              78494            510211   7.70   \n",
       "1        ELVT  2017-04-12              40000            260000   7.70   \n",
       "2        ELVT  2017-04-17              50000            325000   8.08   \n",
       "3        ELVT  2017-04-17              38460            249990   8.08   \n",
       "4        ELVT  2019-04-03             -24000            105120   4.32   \n",
       "...       ...         ...                ...               ...    ...   \n",
       "276000   RESI  2020-01-03             -13438            165825  12.62   \n",
       "276001   RESI  2020-05-29             -31534            223891   7.50   \n",
       "276002   RESN  2019-08-13             396000           1001880   2.48   \n",
       "276003   REVG  2019-09-11              50000            478900  10.07   \n",
       "276004   REYN  2020-11-17              16500            492641  29.86   \n",
       "\n",
       "           FC_1M     MARKETCAP        mc_pct   sale   predict  \n",
       "0       0.019481  3.041000e+08  1.677774e-09  False  0.049914  \n",
       "1       0.019481  3.041000e+08  8.549819e-10  False  0.041023  \n",
       "2      -0.033416  3.192000e+08  1.018170e-09  False  0.030830  \n",
       "3      -0.033416  3.192000e+08  7.831767e-10  False  0.030830  \n",
       "4       0.094907  1.873000e+08  5.612387e-10   True  0.026480  \n",
       "...          ...           ...           ...    ...       ...  \n",
       "276000 -0.114897  6.800000e+08  2.438603e-10   True  0.007907  \n",
       "276001  0.160000  4.058000e+08  5.517275e-10   True  0.004420  \n",
       "276002  0.229839  7.040000e+07  1.423125e-08  False  0.098035  \n",
       "276003  0.141013  6.264000e+08  7.645275e-10  False  0.053406  \n",
       "276004  0.019089  6.261700e+09  7.867528e-11  False -0.024012  \n",
       "\n",
       "[265404 rows x 10 columns]"
      ]
     },
     "execution_count": 20,
     "metadata": {},
     "output_type": "execute_result"
    }
   ],
   "source": [
    "df2"
   ]
  },
  {
   "cell_type": "code",
   "execution_count": 21,
   "metadata": {
    "ExecuteTime": {
     "end_time": "2020-12-04T19:29:57.390389Z",
     "start_time": "2020-12-04T19:29:57.345510Z"
    }
   },
   "outputs": [
    {
     "data": {
      "text/plain": [
       "0.02671825868190371"
      ]
     },
     "execution_count": 21,
     "metadata": {},
     "output_type": "execute_result"
    }
   ],
   "source": [
    "df2[df2['predict'] > 0]['fc_1m'].mean()"
   ]
  },
  {
   "cell_type": "code",
   "execution_count": 22,
   "metadata": {
    "ExecuteTime": {
     "end_time": "2020-12-04T19:29:57.421307Z",
     "start_time": "2020-12-04T19:29:57.391387Z"
    }
   },
   "outputs": [
    {
     "data": {
      "text/plain": [
       "-0.050443428344464934"
      ]
     },
     "execution_count": 22,
     "metadata": {},
     "output_type": "execute_result"
    }
   ],
   "source": [
    "df2[df2['predict'] < 0]['fc_1m'].mean()"
   ]
  },
  {
   "cell_type": "code",
   "execution_count": 23,
   "metadata": {
    "ExecuteTime": {
     "end_time": "2020-12-04T19:29:57.575922Z",
     "start_time": "2020-12-04T19:29:57.422304Z"
    }
   },
   "outputs": [
    {
     "data": {
      "text/plain": [
       "<matplotlib.axes._subplots.AxesSubplot at 0x7f54777f5130>"
      ]
     },
     "execution_count": 23,
     "metadata": {},
     "output_type": "execute_result"
    },
    {
     "data": {
      "image/png": "[encoded data removed]",
      "text/plain": [
       "<Figure size 432x288 with 1 Axes>"
      ]
     },
     "metadata": {
      "needs_background": "light"
     },
     "output_type": "display_data"
    }
   ],
   "source": [
    "xgb.plot_importance(model)\n"
   ]
  },
  {
   "cell_type": "markdown",
   "metadata": {},
   "source": [
    "# Predicting the future price using regression"
   ]
  },
  {
   "cell_type": "markdown",
   "metadata": {},
   "source": [
    "### Reading in Data from Fidap"
   ]
  },
  {
   "cell_type": "code",
   "execution_count": 9,
   "metadata": {},
   "outputs": [],
   "source": [
    "trading_data = fidap.sql(\"\"\"\n",
    "    select insider_trades.ticker, insider_trades.filingdate, insider_trades.transactionshares,\n",
    "    insider_trades.transactionvalue, daily.close, daily.fc_1m, daily.marketcap\n",
    "    from insider_trades, tickers, daily\n",
    "    where \n",
    "    insider_trades.ticker = tickers.ticker and \n",
    "    insider_trades.ticker = daily.ticker and\n",
    "    insider_trades.filingdate = daily.date and\n",
    "    insider_trades.transactionvalue > 100000 and \n",
    "    insider_trades.securitytitle = 'Common Stock'\n",
    "\"\"\")"
   ]
  },
  {
   "cell_type": "code",
   "execution_count": 28,
   "metadata": {},
   "outputs": [
    {
     "data": {
      "text/plain": [
       "(276005, 7)"
      ]
     },
     "execution_count": 28,
     "metadata": {},
     "output_type": "execute_result"
    }
   ],
   "source": [
    "trading_data.shape"
   ]
  },
  {
   "cell_type": "markdown",
   "metadata": {},
   "source": [
    "## Split the Data into Train and Test (3:1)"
   ]
  },
  {
   "cell_type": "code",
   "execution_count": 33,
   "metadata": {},
   "outputs": [],
   "source": [
    "train_df, test_df = trading_data.iloc[:184003], trading_data.iloc[184003:]"
   ]
  },
  {
   "cell_type": "code",
   "execution_count": null,
   "metadata": {},
   "outputs": [],
   "source": [
    "train_df"
   ]
  },
  {
   "cell_type": "code",
   "execution_count": null,
   "metadata": {},
   "outputs": [],
   "source": []
  }
 ],
 "metadata": {
  "environment": {
   "name": "common-cpu.mnightly-2021-01-20-debian-10-test",
   "type": "gcloud",
   "uri": "gcr.io/deeplearning-platform-release/base-cpu:mnightly-2021-01-20-debian-10-test"
  },
  "kernelspec": {
   "display_name": "Python 3",
   "language": "python",
   "name": "python3"
  },
  "language_info": {
   "codemirror_mode": {
    "name": "ipython",
    "version": 3
   },
   "file_extension": ".py",
   "mimetype": "text/x-python",
   "name": "python",
   "nbconvert_exporter": "python",
   "pygments_lexer": "ipython3",
   "version": "3.7.9"
  },
  "toc": {
   "colors": {
    "hover_highlight": "#DAA520",
    "running_highlight": "#FF0000",
    "selected_highlight": "#FFD700"
   },
   "moveMenuLeft": true,
   "nav_menu": {
    "height": "12px",
    "width": "252px"
   },
   "navigate_menu": true,
   "number_sections": true,
   "sideBar": true,
   "threshold": 4,
   "toc_cell": false,
   "toc_section_display": "block",
   "toc_window_display": false,
   "widenNotebook": false
  }
 },
 "nbformat": 4,
 "nbformat_minor": 4
}
