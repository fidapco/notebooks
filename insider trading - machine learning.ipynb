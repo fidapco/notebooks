{
 "cells": [
  {
   "cell_type": "code",
   "execution_count": 2,
   "metadata": {
    "ExecuteTime": {
     "end_time": "2020-12-04T19:29:22.146631Z",
     "start_time": "2020-12-04T19:29:21.519309Z"
    }
   },
   "outputs": [],
   "source": [
    "import pandas as pd, numpy as np\n",
    "from fidap import fidap_client\n",
    "import config"
   ]
  },
  {
   "cell_type": "code",
   "execution_count": 3,
   "metadata": {},
   "outputs": [],
   "source": [
    "fidap = fidap_client(api_key=config.FIDAP_API_KEY)"
   ]
  },
  {
   "cell_type": "markdown",
   "metadata": {},
   "source": [
    "Let's first explore the data and find some basic numbers here."
   ]
  },
  {
   "cell_type": "code",
   "execution_count": 4,
   "metadata": {
    "ExecuteTime": {
     "end_time": "2020-12-04T19:29:46.210276Z",
     "start_time": "2020-12-04T19:29:22.148630Z"
    }
   },
   "outputs": [],
   "source": [
    "df2 = fidap.sql(\"\"\"\n",
    "    select insider_trades.ticker, insider_trades.filingdate, insider_trades.transactionshares,\n",
    "    insider_trades.transactionvalue, daily.close, daily.fc_1m, daily.marketcap\n",
    "    from insider_trades, tickers, daily\n",
    "    where \n",
    "    insider_trades.ticker = tickers.ticker and \n",
    "    insider_trades.ticker = daily.ticker and\n",
    "    insider_trades.filingdate = daily.date and\n",
    "    insider_trades.transactionvalue > 100000 and \n",
    "    insider_trades.securitytitle = 'Common Stock'\n",
    "\"\"\")"
   ]
  },
  {
   "cell_type": "code",
   "execution_count": 5,
   "metadata": {
    "ExecuteTime": {
     "end_time": "2020-12-04T19:29:46.226258Z",
     "start_time": "2020-12-04T19:29:46.212272Z"
    }
   },
   "outputs": [
    {
     "data": {
      "text/html": [
       "<div>\n",
       "<style scoped>\n",
       "    .dataframe tbody tr th:only-of-type {\n",
       "        vertical-align: middle;\n",
       "    }\n",
       "\n",
       "    .dataframe tbody tr th {\n",
       "        vertical-align: top;\n",
       "    }\n",
       "\n",
       "    .dataframe thead th {\n",
       "        text-align: right;\n",
       "    }\n",
       "</style>\n",
       "<table border=\"1\" class=\"dataframe\">\n",
       "  <thead>\n",
       "    <tr style=\"text-align: right;\">\n",
       "      <th></th>\n",
       "      <th>ticker</th>\n",
       "      <th>filingdate</th>\n",
       "      <th>transactionshares</th>\n",
       "      <th>transactionvalue</th>\n",
       "      <th>close</th>\n",
       "      <th>fc_1m</th>\n",
       "      <th>marketcap</th>\n",
       "    </tr>\n",
       "  </thead>\n",
       "  <tbody>\n",
       "    <tr>\n",
       "      <th>0</th>\n",
       "      <td>CMO</td>\n",
       "      <td>2016-02-03</td>\n",
       "      <td>13937</td>\n",
       "      <td>129893</td>\n",
       "      <td>9.47</td>\n",
       "      <td>0.033791</td>\n",
       "      <td>907500000.0</td>\n",
       "    </tr>\n",
       "    <tr>\n",
       "      <th>1</th>\n",
       "      <td>CMO</td>\n",
       "      <td>2016-02-03</td>\n",
       "      <td>24881</td>\n",
       "      <td>231891</td>\n",
       "      <td>9.47</td>\n",
       "      <td>0.033791</td>\n",
       "      <td>907500000.0</td>\n",
       "    </tr>\n",
       "    <tr>\n",
       "      <th>2</th>\n",
       "      <td>CMO</td>\n",
       "      <td>2016-02-03</td>\n",
       "      <td>17414</td>\n",
       "      <td>162298</td>\n",
       "      <td>9.47</td>\n",
       "      <td>0.033791</td>\n",
       "      <td>907500000.0</td>\n",
       "    </tr>\n",
       "    <tr>\n",
       "      <th>3</th>\n",
       "      <td>CMO</td>\n",
       "      <td>2016-02-03</td>\n",
       "      <td>11105</td>\n",
       "      <td>103499</td>\n",
       "      <td>9.47</td>\n",
       "      <td>0.033791</td>\n",
       "      <td>907500000.0</td>\n",
       "    </tr>\n",
       "    <tr>\n",
       "      <th>4</th>\n",
       "      <td>CMO</td>\n",
       "      <td>2018-01-04</td>\n",
       "      <td>43604</td>\n",
       "      <td>374994</td>\n",
       "      <td>8.66</td>\n",
       "      <td>-0.005774</td>\n",
       "      <td>832300000.0</td>\n",
       "    </tr>\n",
       "  </tbody>\n",
       "</table>\n",
       "</div>"
      ],
      "text/plain": [
       "  ticker  filingdate  transactionshares  transactionvalue  close     fc_1m  \\\n",
       "0    CMO  2016-02-03              13937            129893   9.47  0.033791   \n",
       "1    CMO  2016-02-03              24881            231891   9.47  0.033791   \n",
       "2    CMO  2016-02-03              17414            162298   9.47  0.033791   \n",
       "3    CMO  2016-02-03              11105            103499   9.47  0.033791   \n",
       "4    CMO  2018-01-04              43604            374994   8.66 -0.005774   \n",
       "\n",
       "     marketcap  \n",
       "0  907500000.0  \n",
       "1  907500000.0  \n",
       "2  907500000.0  \n",
       "3  907500000.0  \n",
       "4  832300000.0  "
      ]
     },
     "execution_count": 5,
     "metadata": {},
     "output_type": "execute_result"
    }
   ],
   "source": [
    "df2.head()"
   ]
  },
  {
   "cell_type": "code",
   "execution_count": 6,
   "metadata": {
    "ExecuteTime": {
     "end_time": "2020-12-04T19:29:46.241194Z",
     "start_time": "2020-12-04T19:29:46.227248Z"
    }
   },
   "outputs": [
    {
     "data": {
      "text/plain": [
       "276005"
      ]
     },
     "execution_count": 6,
     "metadata": {},
     "output_type": "execute_result"
    }
   ],
   "source": [
    "len(df2)"
   ]
  },
  {
   "cell_type": "code",
   "execution_count": 7,
   "metadata": {
    "ExecuteTime": {
     "end_time": "2020-12-04T19:29:46.257179Z",
     "start_time": "2020-12-04T19:29:46.243189Z"
    }
   },
   "outputs": [],
   "source": [
    "df2['mc_pct'] = df2['transactionvalue'] / (df2['marketcap']*1e6)"
   ]
  },
  {
   "cell_type": "code",
   "execution_count": 8,
   "metadata": {
    "ExecuteTime": {
     "end_time": "2020-12-04T19:29:46.272135Z",
     "start_time": "2020-12-04T19:29:46.258177Z"
    }
   },
   "outputs": [],
   "source": [
    "df2['sale'] = np.where(df2['transactionshares'] > 0, False, True)"
   ]
  },
  {
   "cell_type": "code",
   "execution_count": 9,
   "metadata": {
    "ExecuteTime": {
     "end_time": "2020-12-04T19:29:46.303056Z",
     "start_time": "2020-12-04T19:29:46.273109Z"
    }
   },
   "outputs": [
    {
     "data": {
      "text/html": [
       "<div>\n",
       "<style scoped>\n",
       "    .dataframe tbody tr th:only-of-type {\n",
       "        vertical-align: middle;\n",
       "    }\n",
       "\n",
       "    .dataframe tbody tr th {\n",
       "        vertical-align: top;\n",
       "    }\n",
       "\n",
       "    .dataframe thead th {\n",
       "        text-align: right;\n",
       "    }\n",
       "</style>\n",
       "<table border=\"1\" class=\"dataframe\">\n",
       "  <thead>\n",
       "    <tr style=\"text-align: right;\">\n",
       "      <th></th>\n",
       "      <th>ticker</th>\n",
       "      <th>filingdate</th>\n",
       "      <th>transactionshares</th>\n",
       "      <th>transactionvalue</th>\n",
       "      <th>close</th>\n",
       "      <th>fc_1m</th>\n",
       "      <th>marketcap</th>\n",
       "      <th>mc_pct</th>\n",
       "      <th>sale</th>\n",
       "    </tr>\n",
       "  </thead>\n",
       "  <tbody>\n",
       "    <tr>\n",
       "      <th>0</th>\n",
       "      <td>CMO</td>\n",
       "      <td>2016-02-03</td>\n",
       "      <td>13937</td>\n",
       "      <td>129893</td>\n",
       "      <td>9.47</td>\n",
       "      <td>0.033791</td>\n",
       "      <td>9.075000e+08</td>\n",
       "      <td>1.431328e-10</td>\n",
       "      <td>False</td>\n",
       "    </tr>\n",
       "    <tr>\n",
       "      <th>1</th>\n",
       "      <td>CMO</td>\n",
       "      <td>2016-02-03</td>\n",
       "      <td>24881</td>\n",
       "      <td>231891</td>\n",
       "      <td>9.47</td>\n",
       "      <td>0.033791</td>\n",
       "      <td>9.075000e+08</td>\n",
       "      <td>2.555273e-10</td>\n",
       "      <td>False</td>\n",
       "    </tr>\n",
       "    <tr>\n",
       "      <th>2</th>\n",
       "      <td>CMO</td>\n",
       "      <td>2016-02-03</td>\n",
       "      <td>17414</td>\n",
       "      <td>162298</td>\n",
       "      <td>9.47</td>\n",
       "      <td>0.033791</td>\n",
       "      <td>9.075000e+08</td>\n",
       "      <td>1.788408e-10</td>\n",
       "      <td>False</td>\n",
       "    </tr>\n",
       "    <tr>\n",
       "      <th>3</th>\n",
       "      <td>CMO</td>\n",
       "      <td>2016-02-03</td>\n",
       "      <td>11105</td>\n",
       "      <td>103499</td>\n",
       "      <td>9.47</td>\n",
       "      <td>0.033791</td>\n",
       "      <td>9.075000e+08</td>\n",
       "      <td>1.140485e-10</td>\n",
       "      <td>False</td>\n",
       "    </tr>\n",
       "    <tr>\n",
       "      <th>4</th>\n",
       "      <td>CMO</td>\n",
       "      <td>2018-01-04</td>\n",
       "      <td>43604</td>\n",
       "      <td>374994</td>\n",
       "      <td>8.66</td>\n",
       "      <td>-0.005774</td>\n",
       "      <td>8.323000e+08</td>\n",
       "      <td>4.505515e-10</td>\n",
       "      <td>False</td>\n",
       "    </tr>\n",
       "    <tr>\n",
       "      <th>...</th>\n",
       "      <td>...</td>\n",
       "      <td>...</td>\n",
       "      <td>...</td>\n",
       "      <td>...</td>\n",
       "      <td>...</td>\n",
       "      <td>...</td>\n",
       "      <td>...</td>\n",
       "      <td>...</td>\n",
       "      <td>...</td>\n",
       "    </tr>\n",
       "    <tr>\n",
       "      <th>276000</th>\n",
       "      <td>WPC</td>\n",
       "      <td>2016-11-17</td>\n",
       "      <td>4000</td>\n",
       "      <td>230920</td>\n",
       "      <td>57.07</td>\n",
       "      <td>0.060803</td>\n",
       "      <td>6.065400e+09</td>\n",
       "      <td>3.807169e-11</td>\n",
       "      <td>False</td>\n",
       "    </tr>\n",
       "    <tr>\n",
       "      <th>276001</th>\n",
       "      <td>WPC</td>\n",
       "      <td>2019-02-21</td>\n",
       "      <td>-17648</td>\n",
       "      <td>1326953</td>\n",
       "      <td>74.40</td>\n",
       "      <td>0.047446</td>\n",
       "      <td>1.198310e+10</td>\n",
       "      <td>1.107354e-10</td>\n",
       "      <td>True</td>\n",
       "    </tr>\n",
       "    <tr>\n",
       "      <th>276002</th>\n",
       "      <td>WPC</td>\n",
       "      <td>2019-02-21</td>\n",
       "      <td>-19180</td>\n",
       "      <td>1442144</td>\n",
       "      <td>74.40</td>\n",
       "      <td>0.047446</td>\n",
       "      <td>1.198310e+10</td>\n",
       "      <td>1.203482e-10</td>\n",
       "      <td>True</td>\n",
       "    </tr>\n",
       "    <tr>\n",
       "      <th>276003</th>\n",
       "      <td>WPC</td>\n",
       "      <td>2019-02-21</td>\n",
       "      <td>-2085</td>\n",
       "      <td>156771</td>\n",
       "      <td>74.40</td>\n",
       "      <td>0.047446</td>\n",
       "      <td>1.198310e+10</td>\n",
       "      <td>1.308267e-11</td>\n",
       "      <td>True</td>\n",
       "    </tr>\n",
       "    <tr>\n",
       "      <th>276004</th>\n",
       "      <td>WPC</td>\n",
       "      <td>2019-02-21</td>\n",
       "      <td>-7672</td>\n",
       "      <td>576858</td>\n",
       "      <td>74.40</td>\n",
       "      <td>0.047446</td>\n",
       "      <td>1.198310e+10</td>\n",
       "      <td>4.813930e-11</td>\n",
       "      <td>True</td>\n",
       "    </tr>\n",
       "  </tbody>\n",
       "</table>\n",
       "<p>276005 rows × 9 columns</p>\n",
       "</div>"
      ],
      "text/plain": [
       "       ticker  filingdate  transactionshares  transactionvalue  close  \\\n",
       "0         CMO  2016-02-03              13937            129893   9.47   \n",
       "1         CMO  2016-02-03              24881            231891   9.47   \n",
       "2         CMO  2016-02-03              17414            162298   9.47   \n",
       "3         CMO  2016-02-03              11105            103499   9.47   \n",
       "4         CMO  2018-01-04              43604            374994   8.66   \n",
       "...       ...         ...                ...               ...    ...   \n",
       "276000    WPC  2016-11-17               4000            230920  57.07   \n",
       "276001    WPC  2019-02-21             -17648           1326953  74.40   \n",
       "276002    WPC  2019-02-21             -19180           1442144  74.40   \n",
       "276003    WPC  2019-02-21              -2085            156771  74.40   \n",
       "276004    WPC  2019-02-21              -7672            576858  74.40   \n",
       "\n",
       "           fc_1m     marketcap        mc_pct   sale  \n",
       "0       0.033791  9.075000e+08  1.431328e-10  False  \n",
       "1       0.033791  9.075000e+08  2.555273e-10  False  \n",
       "2       0.033791  9.075000e+08  1.788408e-10  False  \n",
       "3       0.033791  9.075000e+08  1.140485e-10  False  \n",
       "4      -0.005774  8.323000e+08  4.505515e-10  False  \n",
       "...          ...           ...           ...    ...  \n",
       "276000  0.060803  6.065400e+09  3.807169e-11  False  \n",
       "276001  0.047446  1.198310e+10  1.107354e-10   True  \n",
       "276002  0.047446  1.198310e+10  1.203482e-10   True  \n",
       "276003  0.047446  1.198310e+10  1.308267e-11   True  \n",
       "276004  0.047446  1.198310e+10  4.813930e-11   True  \n",
       "\n",
       "[276005 rows x 9 columns]"
      ]
     },
     "execution_count": 9,
     "metadata": {},
     "output_type": "execute_result"
    }
   ],
   "source": [
    "df2"
   ]
  },
  {
   "cell_type": "code",
   "execution_count": 10,
   "metadata": {
    "ExecuteTime": {
     "end_time": "2020-12-04T19:29:46.349931Z",
     "start_time": "2020-12-04T19:29:46.305025Z"
    }
   },
   "outputs": [],
   "source": [
    "df2 = df2.dropna()"
   ]
  },
  {
   "cell_type": "code",
   "execution_count": 11,
   "metadata": {
    "ExecuteTime": {
     "end_time": "2020-12-04T19:29:46.364887Z",
     "start_time": "2020-12-04T19:29:46.351923Z"
    }
   },
   "outputs": [],
   "source": [
    "features = ['close', 'marketcap', 'mc_pct', 'sale']\n",
    "label = 'fc_1m'"
   ]
  },
  {
   "cell_type": "code",
   "execution_count": 13,
   "metadata": {},
   "outputs": [
    {
     "name": "stdout",
     "output_type": "stream",
     "text": [
      "Collecting xgboost\n",
      "  Downloading xgboost-1.3.3-py3-none-manylinux2010_x86_64.whl (157.5 MB)\n",
      "\u001b[K     |████████████████████████████████| 157.5 MB 50 kB/s s eta 0:00:01\n",
      "\u001b[?25hRequirement already satisfied: numpy in /opt/conda/lib/python3.7/site-packages (from xgboost) (1.19.5)\n",
      "Requirement already satisfied: scipy in /opt/conda/lib/python3.7/site-packages (from xgboost) (1.6.0)\n",
      "Installing collected packages: xgboost\n",
      "Successfully installed xgboost-1.3.3\n"
     ]
    }
   ],
   "source": [
    "!pip install xgboost"
   ]
  },
  {
   "cell_type": "code",
   "execution_count": 14,
   "metadata": {
    "ExecuteTime": {
     "end_time": "2020-12-04T19:29:46.380844Z",
     "start_time": "2020-12-04T19:29:46.365860Z"
    }
   },
   "outputs": [],
   "source": [
    "import xgboost as xgb"
   ]
  },
  {
   "cell_type": "code",
   "execution_count": 15,
   "metadata": {
    "ExecuteTime": {
     "end_time": "2020-12-04T19:29:46.395780Z",
     "start_time": "2020-12-04T19:29:46.381818Z"
    }
   },
   "outputs": [],
   "source": [
    "model = xgb.XGBRegressor()"
   ]
  },
  {
   "cell_type": "code",
   "execution_count": 16,
   "metadata": {
    "ExecuteTime": {
     "end_time": "2020-12-04T19:29:56.933612Z",
     "start_time": "2020-12-04T19:29:46.396820Z"
    }
   },
   "outputs": [
    {
     "data": {
      "text/plain": [
       "XGBRegressor(base_score=0.5, booster='gbtree', colsample_bylevel=1,\n",
       "             colsample_bynode=1, colsample_bytree=1, gamma=0, gpu_id=-1,\n",
       "             importance_type='gain', interaction_constraints='',\n",
       "             learning_rate=0.300000012, max_delta_step=0, max_depth=6,\n",
       "             min_child_weight=1, missing=nan, monotone_constraints='()',\n",
       "             n_estimators=100, n_jobs=16, num_parallel_tree=1, random_state=0,\n",
       "             reg_alpha=0, reg_lambda=1, scale_pos_weight=1, subsample=1,\n",
       "             tree_method='exact', validate_parameters=1, verbosity=None)"
      ]
     },
     "execution_count": 16,
     "metadata": {},
     "output_type": "execute_result"
    }
   ],
   "source": [
    "model.fit(df2[features],df2[label])"
   ]
  },
  {
   "cell_type": "code",
   "execution_count": 20,
   "metadata": {
    "ExecuteTime": {
     "end_time": "2020-12-04T19:29:57.295644Z",
     "start_time": "2020-12-04T19:29:56.935606Z"
    }
   },
   "outputs": [],
   "source": [
    "preds = model.predict(df2[features])"
   ]
  },
  {
   "cell_type": "code",
   "execution_count": 21,
   "metadata": {
    "ExecuteTime": {
     "end_time": "2020-12-04T19:29:57.311600Z",
     "start_time": "2020-12-04T19:29:57.297637Z"
    }
   },
   "outputs": [
    {
     "name": "stderr",
     "output_type": "stream",
     "text": [
      "/opt/conda/lib/python3.7/site-packages/ipykernel_launcher.py:1: SettingWithCopyWarning: \n",
      "A value is trying to be set on a copy of a slice from a DataFrame.\n",
      "Try using .loc[row_indexer,col_indexer] = value instead\n",
      "\n",
      "See the caveats in the documentation: https://pandas.pydata.org/pandas-docs/stable/user_guide/indexing.html#returning-a-view-versus-a-copy\n",
      "  \"\"\"Entry point for launching an IPython kernel.\n"
     ]
    }
   ],
   "source": [
    "df2['predict'] = preds"
   ]
  },
  {
   "cell_type": "code",
   "execution_count": 22,
   "metadata": {
    "ExecuteTime": {
     "end_time": "2020-12-04T19:29:57.343515Z",
     "start_time": "2020-12-04T19:29:57.313595Z"
    }
   },
   "outputs": [
    {
     "data": {
      "text/html": [
       "<div>\n",
       "<style scoped>\n",
       "    .dataframe tbody tr th:only-of-type {\n",
       "        vertical-align: middle;\n",
       "    }\n",
       "\n",
       "    .dataframe tbody tr th {\n",
       "        vertical-align: top;\n",
       "    }\n",
       "\n",
       "    .dataframe thead th {\n",
       "        text-align: right;\n",
       "    }\n",
       "</style>\n",
       "<table border=\"1\" class=\"dataframe\">\n",
       "  <thead>\n",
       "    <tr style=\"text-align: right;\">\n",
       "      <th></th>\n",
       "      <th>ticker</th>\n",
       "      <th>filingdate</th>\n",
       "      <th>transactionshares</th>\n",
       "      <th>transactionvalue</th>\n",
       "      <th>close</th>\n",
       "      <th>fc_1m</th>\n",
       "      <th>marketcap</th>\n",
       "      <th>mc_pct</th>\n",
       "      <th>sale</th>\n",
       "      <th>predict</th>\n",
       "    </tr>\n",
       "  </thead>\n",
       "  <tbody>\n",
       "    <tr>\n",
       "      <th>0</th>\n",
       "      <td>CMO</td>\n",
       "      <td>2016-02-03</td>\n",
       "      <td>13937</td>\n",
       "      <td>129893</td>\n",
       "      <td>9.47</td>\n",
       "      <td>0.033791</td>\n",
       "      <td>9.075000e+08</td>\n",
       "      <td>1.431328e-10</td>\n",
       "      <td>False</td>\n",
       "      <td>0.050187</td>\n",
       "    </tr>\n",
       "    <tr>\n",
       "      <th>1</th>\n",
       "      <td>CMO</td>\n",
       "      <td>2016-02-03</td>\n",
       "      <td>24881</td>\n",
       "      <td>231891</td>\n",
       "      <td>9.47</td>\n",
       "      <td>0.033791</td>\n",
       "      <td>9.075000e+08</td>\n",
       "      <td>2.555273e-10</td>\n",
       "      <td>False</td>\n",
       "      <td>0.046775</td>\n",
       "    </tr>\n",
       "    <tr>\n",
       "      <th>2</th>\n",
       "      <td>CMO</td>\n",
       "      <td>2016-02-03</td>\n",
       "      <td>17414</td>\n",
       "      <td>162298</td>\n",
       "      <td>9.47</td>\n",
       "      <td>0.033791</td>\n",
       "      <td>9.075000e+08</td>\n",
       "      <td>1.788408e-10</td>\n",
       "      <td>False</td>\n",
       "      <td>0.050187</td>\n",
       "    </tr>\n",
       "    <tr>\n",
       "      <th>3</th>\n",
       "      <td>CMO</td>\n",
       "      <td>2016-02-03</td>\n",
       "      <td>11105</td>\n",
       "      <td>103499</td>\n",
       "      <td>9.47</td>\n",
       "      <td>0.033791</td>\n",
       "      <td>9.075000e+08</td>\n",
       "      <td>1.140485e-10</td>\n",
       "      <td>False</td>\n",
       "      <td>0.011469</td>\n",
       "    </tr>\n",
       "    <tr>\n",
       "      <th>4</th>\n",
       "      <td>CMO</td>\n",
       "      <td>2018-01-04</td>\n",
       "      <td>43604</td>\n",
       "      <td>374994</td>\n",
       "      <td>8.66</td>\n",
       "      <td>-0.005774</td>\n",
       "      <td>8.323000e+08</td>\n",
       "      <td>4.505515e-10</td>\n",
       "      <td>False</td>\n",
       "      <td>0.014673</td>\n",
       "    </tr>\n",
       "    <tr>\n",
       "      <th>...</th>\n",
       "      <td>...</td>\n",
       "      <td>...</td>\n",
       "      <td>...</td>\n",
       "      <td>...</td>\n",
       "      <td>...</td>\n",
       "      <td>...</td>\n",
       "      <td>...</td>\n",
       "      <td>...</td>\n",
       "      <td>...</td>\n",
       "      <td>...</td>\n",
       "    </tr>\n",
       "    <tr>\n",
       "      <th>276000</th>\n",
       "      <td>WPC</td>\n",
       "      <td>2016-11-17</td>\n",
       "      <td>4000</td>\n",
       "      <td>230920</td>\n",
       "      <td>57.07</td>\n",
       "      <td>0.060803</td>\n",
       "      <td>6.065400e+09</td>\n",
       "      <td>3.807169e-11</td>\n",
       "      <td>False</td>\n",
       "      <td>0.010236</td>\n",
       "    </tr>\n",
       "    <tr>\n",
       "      <th>276001</th>\n",
       "      <td>WPC</td>\n",
       "      <td>2019-02-21</td>\n",
       "      <td>-17648</td>\n",
       "      <td>1326953</td>\n",
       "      <td>74.40</td>\n",
       "      <td>0.047446</td>\n",
       "      <td>1.198310e+10</td>\n",
       "      <td>1.107354e-10</td>\n",
       "      <td>True</td>\n",
       "      <td>0.015925</td>\n",
       "    </tr>\n",
       "    <tr>\n",
       "      <th>276002</th>\n",
       "      <td>WPC</td>\n",
       "      <td>2019-02-21</td>\n",
       "      <td>-19180</td>\n",
       "      <td>1442144</td>\n",
       "      <td>74.40</td>\n",
       "      <td>0.047446</td>\n",
       "      <td>1.198310e+10</td>\n",
       "      <td>1.203482e-10</td>\n",
       "      <td>True</td>\n",
       "      <td>0.015925</td>\n",
       "    </tr>\n",
       "    <tr>\n",
       "      <th>276003</th>\n",
       "      <td>WPC</td>\n",
       "      <td>2019-02-21</td>\n",
       "      <td>-2085</td>\n",
       "      <td>156771</td>\n",
       "      <td>74.40</td>\n",
       "      <td>0.047446</td>\n",
       "      <td>1.198310e+10</td>\n",
       "      <td>1.308267e-11</td>\n",
       "      <td>True</td>\n",
       "      <td>0.015043</td>\n",
       "    </tr>\n",
       "    <tr>\n",
       "      <th>276004</th>\n",
       "      <td>WPC</td>\n",
       "      <td>2019-02-21</td>\n",
       "      <td>-7672</td>\n",
       "      <td>576858</td>\n",
       "      <td>74.40</td>\n",
       "      <td>0.047446</td>\n",
       "      <td>1.198310e+10</td>\n",
       "      <td>4.813930e-11</td>\n",
       "      <td>True</td>\n",
       "      <td>0.015925</td>\n",
       "    </tr>\n",
       "  </tbody>\n",
       "</table>\n",
       "<p>265404 rows × 10 columns</p>\n",
       "</div>"
      ],
      "text/plain": [
       "       ticker  filingdate  transactionshares  transactionvalue  close  \\\n",
       "0         CMO  2016-02-03              13937            129893   9.47   \n",
       "1         CMO  2016-02-03              24881            231891   9.47   \n",
       "2         CMO  2016-02-03              17414            162298   9.47   \n",
       "3         CMO  2016-02-03              11105            103499   9.47   \n",
       "4         CMO  2018-01-04              43604            374994   8.66   \n",
       "...       ...         ...                ...               ...    ...   \n",
       "276000    WPC  2016-11-17               4000            230920  57.07   \n",
       "276001    WPC  2019-02-21             -17648           1326953  74.40   \n",
       "276002    WPC  2019-02-21             -19180           1442144  74.40   \n",
       "276003    WPC  2019-02-21              -2085            156771  74.40   \n",
       "276004    WPC  2019-02-21              -7672            576858  74.40   \n",
       "\n",
       "           fc_1m     marketcap        mc_pct   sale   predict  \n",
       "0       0.033791  9.075000e+08  1.431328e-10  False  0.050187  \n",
       "1       0.033791  9.075000e+08  2.555273e-10  False  0.046775  \n",
       "2       0.033791  9.075000e+08  1.788408e-10  False  0.050187  \n",
       "3       0.033791  9.075000e+08  1.140485e-10  False  0.011469  \n",
       "4      -0.005774  8.323000e+08  4.505515e-10  False  0.014673  \n",
       "...          ...           ...           ...    ...       ...  \n",
       "276000  0.060803  6.065400e+09  3.807169e-11  False  0.010236  \n",
       "276001  0.047446  1.198310e+10  1.107354e-10   True  0.015925  \n",
       "276002  0.047446  1.198310e+10  1.203482e-10   True  0.015925  \n",
       "276003  0.047446  1.198310e+10  1.308267e-11   True  0.015043  \n",
       "276004  0.047446  1.198310e+10  4.813930e-11   True  0.015925  \n",
       "\n",
       "[265404 rows x 10 columns]"
      ]
     },
     "execution_count": 22,
     "metadata": {},
     "output_type": "execute_result"
    }
   ],
   "source": [
    "df2"
   ]
  },
  {
   "cell_type": "code",
   "execution_count": 23,
   "metadata": {
    "ExecuteTime": {
     "end_time": "2020-12-04T19:29:57.390389Z",
     "start_time": "2020-12-04T19:29:57.345510Z"
    }
   },
   "outputs": [
    {
     "data": {
      "text/plain": [
       "0.026718258681903955"
      ]
     },
     "execution_count": 23,
     "metadata": {},
     "output_type": "execute_result"
    }
   ],
   "source": [
    "df2[df2['predict'] > 0]['fc_1m'].mean()"
   ]
  },
  {
   "cell_type": "code",
   "execution_count": 24,
   "metadata": {
    "ExecuteTime": {
     "end_time": "2020-12-04T19:29:57.421307Z",
     "start_time": "2020-12-04T19:29:57.391387Z"
    }
   },
   "outputs": [
    {
     "data": {
      "text/plain": [
       "-0.050443428344466294"
      ]
     },
     "execution_count": 24,
     "metadata": {},
     "output_type": "execute_result"
    }
   ],
   "source": [
    "df2[df2['predict'] < 0]['fc_1m'].mean()"
   ]
  },
  {
   "cell_type": "code",
   "execution_count": 25,
   "metadata": {
    "ExecuteTime": {
     "end_time": "2020-12-04T19:29:57.575922Z",
     "start_time": "2020-12-04T19:29:57.422304Z"
    }
   },
   "outputs": [
    {
     "data": {
      "text/plain": [
       "<AxesSubplot:title={'center':'Feature importance'}, xlabel='F score', ylabel='Features'>"
      ]
     },
     "execution_count": 25,
     "metadata": {},
     "output_type": "execute_result"
    },
    {
     "data": {
      "image/png": "[encoded data removed]",
      "text/plain": [
       "<Figure size 432x288 with 1 Axes>"
      ]
     },
     "metadata": {
      "needs_background": "light"
     },
     "output_type": "display_data"
    }
   ],
   "source": [
    "xgb.plot_importance(model)\n"
   ]
  },
  {
   "cell_type": "code",
   "execution_count": null,
   "metadata": {},
   "outputs": [],
   "source": []
  }
 ],
 "metadata": {
  "environment": {
   "name": "common-cpu.mnightly-2021-01-20-debian-10-test",
   "type": "gcloud",
   "uri": "gcr.io/deeplearning-platform-release/base-cpu:mnightly-2021-01-20-debian-10-test"
  },
  "kernelspec": {
   "display_name": "Python 3",
   "language": "python",
   "name": "python3"
  },
  "language_info": {
   "codemirror_mode": {
    "name": "ipython",
    "version": 3
   },
   "file_extension": ".py",
   "mimetype": "text/x-python",
   "name": "python",
   "nbconvert_exporter": "python",
   "pygments_lexer": "ipython3",
   "version": "3.7.9"
  },
  "toc": {
   "colors": {
    "hover_highlight": "#DAA520",
    "running_highlight": "#FF0000",
    "selected_highlight": "#FFD700"
   },
   "moveMenuLeft": true,
   "nav_menu": {
    "height": "12px",
    "width": "252px"
   },
   "navigate_menu": true,
   "number_sections": true,
   "sideBar": true,
   "threshold": 4,
   "toc_cell": false,
   "toc_section_display": "block",
   "toc_window_display": false,
   "widenNotebook": false
  }
 },
 "nbformat": 4,
 "nbformat_minor": 4
}
