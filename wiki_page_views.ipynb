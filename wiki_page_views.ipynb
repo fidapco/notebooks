{
 "cells": [
  {
   "cell_type": "code",
   "execution_count": 1,
   "id": "ahead-modern",
   "metadata": {},
   "outputs": [],
   "source": [
    "import pandas as pd\n",
    "import numpy as np\n",
    "from fidap import fidap_client\n",
    "from datetime import datetime\n",
    "from dateutil.relativedelta import relativedelta\n",
    "import config\n",
    "fidap = fidap_client(db=\"sf_gcp\", api_key=config.FIDAP_API_KEY)"
   ]
  },
  {
   "cell_type": "code",
   "execution_count": 2,
   "id": "higher-headset",
   "metadata": {},
   "outputs": [],
   "source": [
    "companies_data = fidap.sql(f\"\"\"SELECT R.\"date\", MAX(\"ticker_value\") \"ticker\", \"idlabel_value\" \"article\", R.\"pageviews\"  FROM \"FIDAP_DATA_SOURCES\".\"FIDAP_SCHEMA\".\"wikidata_companies\" L\n",
    "LEFT OUTER JOIN\n",
    "(SELECT * FROM \"FIDAP_DATA_SOURCES\".\"FIDAP_SCHEMA\".\"wikidata_pages\" WHERE \"date\" > DATEADD(year, -1, CURRENT_DATE())) R ON L.\"idlabel_value\"=R.\"page\" WHERE R.\"date\" IS NOT NULL GROUP BY \"article\", R.\"date\", R.\"pageviews\" ORDER BY R.\"date\" DESC, R.\"pageviews\" DESC;\"\"\")"
   ]
  },
  {
   "cell_type": "markdown",
   "id": "still-coral",
   "metadata": {},
   "source": [
    "# Top 10 Stocks By Views"
   ]
  },
  {
   "cell_type": "markdown",
   "id": "described-refund",
   "metadata": {},
   "source": [
    "## Over Last Day"
   ]
  },
  {
   "cell_type": "code",
   "execution_count": 3,
   "id": "anonymous-representation",
   "metadata": {},
   "outputs": [
    {
     "data": {
      "text/plain": [
       "<AxesSubplot:title={'center':'Top 10 Stocks by Views Over Last Day'}, xlabel='ticker'>"
      ]
     },
     "execution_count": 3,
     "metadata": {},
     "output_type": "execute_result"
    },
    {
     "data": {
      "image/png": "[encoded data removed]",
      "text/plain": [
       "<Figure size 720x360 with 1 Axes>"
      ]
     },
     "metadata": {
      "needs_background": "light"
     },
     "output_type": "display_data"
    }
   ],
   "source": [
    "companies_data.head(10).plot.bar(x='ticker', y='pageviews', rot=90, figsize=(10,5), title=\"Top 10 Stocks by Views Over Last Day\")"
   ]
  },
  {
   "cell_type": "markdown",
   "id": "colored-spanking",
   "metadata": {},
   "source": [
    "## Over Last Month"
   ]
  },
  {
   "cell_type": "markdown",
   "id": "unknown-reference",
   "metadata": {},
   "source": [
    "Get the current date and then subtract 1 month and then get records which fall in that time frame"
   ]
  },
  {
   "cell_type": "code",
   "execution_count": 4,
   "id": "manual-lecture",
   "metadata": {},
   "outputs": [],
   "source": [
    "monthly_df = fidap.sql(f\"\"\"SELECT R.\"date\", MAX(\"ticker_value\") \"ticker\", \"idlabel_value\" \"article\", R.\"pageviews\"  FROM \"FIDAP_DATA_SOURCES\".\"FIDAP_SCHEMA\".\"wikidata_companies\" L\n",
    "LEFT OUTER JOIN\n",
    "(SELECT * FROM \"FIDAP_DATA_SOURCES\".\"FIDAP_SCHEMA\".\"wikidata_pages\" WHERE \"date\" > DATEADD(month, -1, CURRENT_DATE())) R ON L.\"idlabel_value\"=R.\"page\" WHERE R.\"date\" IS NOT NULL GROUP BY \"article\", R.\"date\", R.\"pageviews\" ORDER BY R.\"pageviews\" DESC LIMIT 10;\"\"\")"
   ]
  },
  {
   "cell_type": "code",
   "execution_count": 5,
   "id": "angry-alpha",
   "metadata": {},
   "outputs": [
    {
     "data": {
      "text/html": [
       "<div>\n",
       "<style scoped>\n",
       "    .dataframe tbody tr th:only-of-type {\n",
       "        vertical-align: middle;\n",
       "    }\n",
       "\n",
       "    .dataframe tbody tr th {\n",
       "        vertical-align: top;\n",
       "    }\n",
       "\n",
       "    .dataframe thead th {\n",
       "        text-align: right;\n",
       "    }\n",
       "</style>\n",
       "<table border=\"1\" class=\"dataframe\">\n",
       "  <thead>\n",
       "    <tr style=\"text-align: right;\">\n",
       "      <th></th>\n",
       "      <th>date</th>\n",
       "      <th>ticker</th>\n",
       "      <th>article</th>\n",
       "      <th>pageviews</th>\n",
       "    </tr>\n",
       "  </thead>\n",
       "  <tbody>\n",
       "    <tr>\n",
       "      <th>0</th>\n",
       "      <td>2021-03-03</td>\n",
       "      <td>FFIV</td>\n",
       "      <td>F5 Networks</td>\n",
       "      <td>67789</td>\n",
       "    </tr>\n",
       "    <tr>\n",
       "      <th>1</th>\n",
       "      <td>2021-03-09</td>\n",
       "      <td>FFIV</td>\n",
       "      <td>F5 Networks</td>\n",
       "      <td>63012</td>\n",
       "    </tr>\n",
       "    <tr>\n",
       "      <th>2</th>\n",
       "      <td>2021-03-04</td>\n",
       "      <td>FFIV</td>\n",
       "      <td>F5 Networks</td>\n",
       "      <td>63009</td>\n",
       "    </tr>\n",
       "    <tr>\n",
       "      <th>3</th>\n",
       "      <td>2021-03-10</td>\n",
       "      <td>FFIV</td>\n",
       "      <td>F5 Networks</td>\n",
       "      <td>62813</td>\n",
       "    </tr>\n",
       "    <tr>\n",
       "      <th>4</th>\n",
       "      <td>2021-03-16</td>\n",
       "      <td>FFIV</td>\n",
       "      <td>F5 Networks</td>\n",
       "      <td>62319</td>\n",
       "    </tr>\n",
       "    <tr>\n",
       "      <th>5</th>\n",
       "      <td>2021-03-11</td>\n",
       "      <td>FFIV</td>\n",
       "      <td>F5 Networks</td>\n",
       "      <td>62271</td>\n",
       "    </tr>\n",
       "    <tr>\n",
       "      <th>6</th>\n",
       "      <td>2021-03-08</td>\n",
       "      <td>FFIV</td>\n",
       "      <td>F5 Networks</td>\n",
       "      <td>61922</td>\n",
       "    </tr>\n",
       "    <tr>\n",
       "      <th>7</th>\n",
       "      <td>2021-03-17</td>\n",
       "      <td>FFIV</td>\n",
       "      <td>F5 Networks</td>\n",
       "      <td>61874</td>\n",
       "    </tr>\n",
       "    <tr>\n",
       "      <th>8</th>\n",
       "      <td>2021-03-18</td>\n",
       "      <td>FFIV</td>\n",
       "      <td>F5 Networks</td>\n",
       "      <td>61503</td>\n",
       "    </tr>\n",
       "    <tr>\n",
       "      <th>9</th>\n",
       "      <td>2021-03-15</td>\n",
       "      <td>FFIV</td>\n",
       "      <td>F5 Networks</td>\n",
       "      <td>60126</td>\n",
       "    </tr>\n",
       "  </tbody>\n",
       "</table>\n",
       "</div>"
      ],
      "text/plain": [
       "        date ticker      article  pageviews\n",
       "0 2021-03-03   FFIV  F5 Networks      67789\n",
       "1 2021-03-09   FFIV  F5 Networks      63012\n",
       "2 2021-03-04   FFIV  F5 Networks      63009\n",
       "3 2021-03-10   FFIV  F5 Networks      62813\n",
       "4 2021-03-16   FFIV  F5 Networks      62319\n",
       "5 2021-03-11   FFIV  F5 Networks      62271\n",
       "6 2021-03-08   FFIV  F5 Networks      61922\n",
       "7 2021-03-17   FFIV  F5 Networks      61874\n",
       "8 2021-03-18   FFIV  F5 Networks      61503\n",
       "9 2021-03-15   FFIV  F5 Networks      60126"
      ]
     },
     "execution_count": 5,
     "metadata": {},
     "output_type": "execute_result"
    }
   ],
   "source": [
    "monthly_df"
   ]
  },
  {
   "cell_type": "markdown",
   "id": "amino-institute",
   "metadata": {},
   "source": [
    "Create a Dataframe of only the past months data."
   ]
  },
  {
   "cell_type": "code",
   "execution_count": 6,
   "id": "enhanced-scotland",
   "metadata": {},
   "outputs": [
    {
     "data": {
      "text/plain": [
       "<AxesSubplot:title={'center':'Top 10 Stocks by Views Over Last Month'}, xlabel='ticker'>"
      ]
     },
     "execution_count": 6,
     "metadata": {},
     "output_type": "execute_result"
    },
    {
     "data": {
      "image/png": "[encoded data removed]",
      "text/plain": [
       "<Figure size 720x360 with 1 Axes>"
      ]
     },
     "metadata": {
      "needs_background": "light"
     },
     "output_type": "display_data"
    }
   ],
   "source": [
    "monthly_df.plot.bar(x='ticker', y='pageviews', rot=90, figsize=(10,5), title=\"Top 10 Stocks by Views Over Last Month\")"
   ]
  },
  {
   "cell_type": "markdown",
   "id": "municipal-lancaster",
   "metadata": {},
   "source": [
    "## Over Last Year"
   ]
  },
  {
   "cell_type": "markdown",
   "id": "tracked-stone",
   "metadata": {},
   "source": [
    "We would do something like the above, we would get the current date and subtract 1 year and then get all the records in that date range."
   ]
  },
  {
   "cell_type": "code",
   "execution_count": 7,
   "id": "infinite-feedback",
   "metadata": {},
   "outputs": [],
   "source": [
    "yearly_df = fidap.sql(f\"\"\"SELECT R.\"date\", MAX(\"ticker_value\") \"ticker\", \"idlabel_value\" \"article\", R.\"pageviews\"  FROM \"FIDAP_DATA_SOURCES\".\"FIDAP_SCHEMA\".\"wikidata_companies\" L\n",
    "LEFT OUTER JOIN\n",
    "(SELECT * FROM \"FIDAP_DATA_SOURCES\".\"FIDAP_SCHEMA\".\"wikidata_pages\" WHERE \"date\" > DATEADD(year, -1, CURRENT_DATE())) R ON L.\"idlabel_value\"=R.\"page\" WHERE R.\"date\" IS NOT NULL GROUP BY \"article\", R.\"date\", R.\"pageviews\" ORDER BY R.\"pageviews\" DESC LIMIT 10;\"\"\")"
   ]
  },
  {
   "cell_type": "code",
   "execution_count": 8,
   "id": "extraordinary-small",
   "metadata": {},
   "outputs": [
    {
     "data": {
      "text/html": [
       "<div>\n",
       "<style scoped>\n",
       "    .dataframe tbody tr th:only-of-type {\n",
       "        vertical-align: middle;\n",
       "    }\n",
       "\n",
       "    .dataframe tbody tr th {\n",
       "        vertical-align: top;\n",
       "    }\n",
       "\n",
       "    .dataframe thead th {\n",
       "        text-align: right;\n",
       "    }\n",
       "</style>\n",
       "<table border=\"1\" class=\"dataframe\">\n",
       "  <thead>\n",
       "    <tr style=\"text-align: right;\">\n",
       "      <th></th>\n",
       "      <th>date</th>\n",
       "      <th>ticker</th>\n",
       "      <th>article</th>\n",
       "      <th>pageviews</th>\n",
       "    </tr>\n",
       "  </thead>\n",
       "  <tbody>\n",
       "    <tr>\n",
       "      <th>0</th>\n",
       "      <td>2020-11-09</td>\n",
       "      <td>PFE</td>\n",
       "      <td>Pfizer</td>\n",
       "      <td>302622</td>\n",
       "    </tr>\n",
       "    <tr>\n",
       "      <th>1</th>\n",
       "      <td>2020-11-10</td>\n",
       "      <td>PFE</td>\n",
       "      <td>Pfizer</td>\n",
       "      <td>195289</td>\n",
       "    </tr>\n",
       "    <tr>\n",
       "      <th>2</th>\n",
       "      <td>2021-01-28</td>\n",
       "      <td>GME</td>\n",
       "      <td>GameStop</td>\n",
       "      <td>175970</td>\n",
       "    </tr>\n",
       "    <tr>\n",
       "      <th>3</th>\n",
       "      <td>2021-01-29</td>\n",
       "      <td>GME</td>\n",
       "      <td>GameStop</td>\n",
       "      <td>158155</td>\n",
       "    </tr>\n",
       "    <tr>\n",
       "      <th>4</th>\n",
       "      <td>2020-08-25</td>\n",
       "      <td>KNM</td>\n",
       "      <td>Konami</td>\n",
       "      <td>156739</td>\n",
       "    </tr>\n",
       "    <tr>\n",
       "      <th>5</th>\n",
       "      <td>2020-07-30</td>\n",
       "      <td>GOOGL</td>\n",
       "      <td>Google</td>\n",
       "      <td>132930</td>\n",
       "    </tr>\n",
       "    <tr>\n",
       "      <th>6</th>\n",
       "      <td>2020-12-12</td>\n",
       "      <td>NET</td>\n",
       "      <td>Cloudflare</td>\n",
       "      <td>131548</td>\n",
       "    </tr>\n",
       "    <tr>\n",
       "      <th>7</th>\n",
       "      <td>2020-12-11</td>\n",
       "      <td>NET</td>\n",
       "      <td>Cloudflare</td>\n",
       "      <td>130435</td>\n",
       "    </tr>\n",
       "    <tr>\n",
       "      <th>8</th>\n",
       "      <td>2020-11-16</td>\n",
       "      <td>MRNA</td>\n",
       "      <td>Moderna</td>\n",
       "      <td>124888</td>\n",
       "    </tr>\n",
       "    <tr>\n",
       "      <th>9</th>\n",
       "      <td>2021-01-27</td>\n",
       "      <td>GME</td>\n",
       "      <td>GameStop</td>\n",
       "      <td>110598</td>\n",
       "    </tr>\n",
       "  </tbody>\n",
       "</table>\n",
       "</div>"
      ],
      "text/plain": [
       "        date ticker     article  pageviews\n",
       "0 2020-11-09    PFE      Pfizer     302622\n",
       "1 2020-11-10    PFE      Pfizer     195289\n",
       "2 2021-01-28    GME    GameStop     175970\n",
       "3 2021-01-29    GME    GameStop     158155\n",
       "4 2020-08-25    KNM      Konami     156739\n",
       "5 2020-07-30  GOOGL      Google     132930\n",
       "6 2020-12-12    NET  Cloudflare     131548\n",
       "7 2020-12-11    NET  Cloudflare     130435\n",
       "8 2020-11-16   MRNA     Moderna     124888\n",
       "9 2021-01-27    GME    GameStop     110598"
      ]
     },
     "execution_count": 8,
     "metadata": {},
     "output_type": "execute_result"
    }
   ],
   "source": [
    "yearly_df"
   ]
  },
  {
   "cell_type": "code",
   "execution_count": 9,
   "id": "miniature-gravity",
   "metadata": {},
   "outputs": [
    {
     "data": {
      "text/plain": [
       "<AxesSubplot:title={'center':'Top 10 Stocks by Views Over Last Year'}, xlabel='ticker'>"
      ]
     },
     "execution_count": 9,
     "metadata": {},
     "output_type": "execute_result"
    },
    {
     "data": {
      "image/png": "[encoded data removed]",
      "text/plain": [
       "<Figure size 720x360 with 1 Axes>"
      ]
     },
     "metadata": {
      "needs_background": "light"
     },
     "output_type": "display_data"
    }
   ],
   "source": [
    "yearly_df.plot.bar(x='ticker', y='pageviews', rot=90, figsize=(10,5), title=\"Top 10 Stocks by Views Over Last Year\")"
   ]
  },
  {
   "cell_type": "markdown",
   "id": "macro-parallel",
   "metadata": {},
   "source": [
    "# Top 10 Increase in Views"
   ]
  },
  {
   "cell_type": "markdown",
   "id": "discrete-aurora",
   "metadata": {},
   "source": [
    "## Last Day vs Last Month Average"
   ]
  },
  {
   "cell_type": "code",
   "execution_count": 10,
   "id": "essential-chile",
   "metadata": {},
   "outputs": [],
   "source": [
    "monthly_views = fidap.sql(f\"\"\"SELECT R.\"date\", MAX(\"ticker_value\") \"ticker\", \"idlabel_value\" \"article\", R.\"pageviews\", Q.\"marketcap\"  FROM \"FIDAP_DATA_SOURCES\".\"FIDAP_SCHEMA\".\"wikidata_companies\" L\n",
    "LEFT OUTER JOIN\n",
    "(SELECT * FROM \"FIDAP_DATA_SOURCES\".\"FIDAP_SCHEMA\".\"wikidata_pages\" WHERE \"date\" > DATEADD(month, -3, CURRENT_DATE())) R ON L.\"idlabel_value\"=R.\"page\" \n",
    "LEFT OUTER JOIN\n",
    "(SELECT \"marketcap\", \"ticker\" FROM \"FIDAP_DATA_SOURCES\".\"FIDAP_SCHEMA\".\"tickers\") Q ON L.\"ticker_value\"=Q.\"ticker\" WHERE R.\"date\" IS NOT NULL AND Q.\"marketcap\" IS NOT NULL GROUP BY \"article\", R.\"date\", R.\"pageviews\", Q.\"marketcap\" ORDER BY \"ticker\", R.\"date\" DESC;\"\"\")"
   ]
  },
  {
   "cell_type": "markdown",
   "id": "promising-argument",
   "metadata": {},
   "source": [
    "### Get the difference between the current day and previous day based on whether the previous days ticker value macthes the current days."
   ]
  },
  {
   "cell_type": "code",
   "execution_count": 11,
   "id": "expected-paste",
   "metadata": {},
   "outputs": [],
   "source": [
    "monthly_views.sort_values(ascending=False, by=['ticker','date'], inplace=True)\n",
    "monthly_views['prev_day_views'] = np.where(monthly_views['ticker'] == monthly_views['ticker'].shift(-1), monthly_views['pageviews'].shift(-1), np.nan)"
   ]
  },
  {
   "cell_type": "markdown",
   "id": "average-capability",
   "metadata": {},
   "source": [
    "### Get the monthly average for all the tickers."
   ]
  },
  {
   "cell_type": "code",
   "execution_count": 12,
   "id": "sunset-probe",
   "metadata": {},
   "outputs": [],
   "source": [
    "monthly_views['month'] = monthly_views.date.dt.to_period('M')\n",
    "monthly_av = monthly_views.groupby(['month','ticker'])['pageviews'].mean().to_frame().reset_index()\n",
    "monthly_av.rename(columns={'pageviews': 'monthly_average'}, inplace=True)"
   ]
  },
  {
   "cell_type": "markdown",
   "id": "appointed-irish",
   "metadata": {},
   "source": [
    "### Merge Tables and Get Top 10 Last Day vs. Monthly Average"
   ]
  },
  {
   "cell_type": "code",
   "execution_count": 13,
   "id": "ideal-smell",
   "metadata": {},
   "outputs": [
    {
     "data": {
      "text/html": [
       "<div>\n",
       "<style scoped>\n",
       "    .dataframe tbody tr th:only-of-type {\n",
       "        vertical-align: middle;\n",
       "    }\n",
       "\n",
       "    .dataframe tbody tr th {\n",
       "        vertical-align: top;\n",
       "    }\n",
       "\n",
       "    .dataframe thead th {\n",
       "        text-align: right;\n",
       "    }\n",
       "</style>\n",
       "<table border=\"1\" class=\"dataframe\">\n",
       "  <thead>\n",
       "    <tr style=\"text-align: right;\">\n",
       "      <th></th>\n",
       "      <th>date</th>\n",
       "      <th>ticker</th>\n",
       "      <th>article</th>\n",
       "      <th>pageviews</th>\n",
       "      <th>marketcap</th>\n",
       "      <th>prev_day_views</th>\n",
       "      <th>month</th>\n",
       "      <th>monthly_average</th>\n",
       "      <th>prev_month_avg</th>\n",
       "    </tr>\n",
       "  </thead>\n",
       "  <tbody>\n",
       "    <tr>\n",
       "      <th>99886</th>\n",
       "      <td>2021-01-12</td>\n",
       "      <td>CPG</td>\n",
       "      <td>Crescent Point Energy</td>\n",
       "      <td>42</td>\n",
       "      <td>2.162500e+09</td>\n",
       "      <td>14793.0</td>\n",
       "      <td>2021-01</td>\n",
       "      <td>803.344828</td>\n",
       "      <td>18.414259</td>\n",
       "    </tr>\n",
       "    <tr>\n",
       "      <th>41808</th>\n",
       "      <td>2021-02-25</td>\n",
       "      <td>OSK</td>\n",
       "      <td>Osisko Mining</td>\n",
       "      <td>19</td>\n",
       "      <td>8.143900e+09</td>\n",
       "      <td>15133.0</td>\n",
       "      <td>2021-02</td>\n",
       "      <td>830.250000</td>\n",
       "      <td>18.227040</td>\n",
       "    </tr>\n",
       "    <tr>\n",
       "      <th>115098</th>\n",
       "      <td>2021-02-10</td>\n",
       "      <td>B</td>\n",
       "      <td>Barnes Group</td>\n",
       "      <td>34</td>\n",
       "      <td>2.502600e+09</td>\n",
       "      <td>1284.0</td>\n",
       "      <td>2021-02</td>\n",
       "      <td>77.214286</td>\n",
       "      <td>16.629047</td>\n",
       "    </tr>\n",
       "    <tr>\n",
       "      <th>30797</th>\n",
       "      <td>2021-02-09</td>\n",
       "      <td>RJF</td>\n",
       "      <td>Raymond James Financial</td>\n",
       "      <td>1845</td>\n",
       "      <td>1.671120e+10</td>\n",
       "      <td>27932.0</td>\n",
       "      <td>2021-02</td>\n",
       "      <td>1776.500000</td>\n",
       "      <td>15.723051</td>\n",
       "    </tr>\n",
       "    <tr>\n",
       "      <th>122433</th>\n",
       "      <td>2021-01-28</td>\n",
       "      <td>AMC</td>\n",
       "      <td>Amcor</td>\n",
       "      <td>298</td>\n",
       "      <td>4.659100e+09</td>\n",
       "      <td>29661.0</td>\n",
       "      <td>2021-01</td>\n",
       "      <td>2039.241379</td>\n",
       "      <td>14.545115</td>\n",
       "    </tr>\n",
       "    <tr>\n",
       "      <th>87610</th>\n",
       "      <td>2021-01-24</td>\n",
       "      <td>ET</td>\n",
       "      <td>Energy Transfer Equity</td>\n",
       "      <td>116</td>\n",
       "      <td>2.113310e+10</td>\n",
       "      <td>3459.0</td>\n",
       "      <td>2021-01</td>\n",
       "      <td>244.310345</td>\n",
       "      <td>14.158222</td>\n",
       "    </tr>\n",
       "    <tr>\n",
       "      <th>16155</th>\n",
       "      <td>2021-01-07</td>\n",
       "      <td>TLYS</td>\n",
       "      <td>Tillys</td>\n",
       "      <td>163</td>\n",
       "      <td>3.285000e+08</td>\n",
       "      <td>1900.0</td>\n",
       "      <td>2021-01</td>\n",
       "      <td>151.620690</td>\n",
       "      <td>12.531271</td>\n",
       "    </tr>\n",
       "    <tr>\n",
       "      <th>45861</th>\n",
       "      <td>2021-01-30</td>\n",
       "      <td>NVAX</td>\n",
       "      <td>Novavax</td>\n",
       "      <td>10707</td>\n",
       "      <td>1.283300e+10</td>\n",
       "      <td>58786.0</td>\n",
       "      <td>2021-01</td>\n",
       "      <td>4836.000000</td>\n",
       "      <td>12.155914</td>\n",
       "    </tr>\n",
       "    <tr>\n",
       "      <th>390</th>\n",
       "      <td>2021-03-03</td>\n",
       "      <td>ZS</td>\n",
       "      <td>Zscaler</td>\n",
       "      <td>4223</td>\n",
       "      <td>2.253210e+10</td>\n",
       "      <td>39177.0</td>\n",
       "      <td>2021-03</td>\n",
       "      <td>3257.611111</td>\n",
       "      <td>12.026297</td>\n",
       "    </tr>\n",
       "    <tr>\n",
       "      <th>99884</th>\n",
       "      <td>2021-01-13</td>\n",
       "      <td>CPG</td>\n",
       "      <td>Crescent Point Energy</td>\n",
       "      <td>31</td>\n",
       "      <td>2.162500e+09</td>\n",
       "      <td>9481.0</td>\n",
       "      <td>2021-01</td>\n",
       "      <td>803.344828</td>\n",
       "      <td>11.801906</td>\n",
       "    </tr>\n",
       "  </tbody>\n",
       "</table>\n",
       "</div>"
      ],
      "text/plain": [
       "             date ticker                  article  pageviews     marketcap  \\\n",
       "99886  2021-01-12    CPG    Crescent Point Energy         42  2.162500e+09   \n",
       "41808  2021-02-25    OSK            Osisko Mining         19  8.143900e+09   \n",
       "115098 2021-02-10      B             Barnes Group         34  2.502600e+09   \n",
       "30797  2021-02-09    RJF  Raymond James Financial       1845  1.671120e+10   \n",
       "122433 2021-01-28    AMC                    Amcor        298  4.659100e+09   \n",
       "87610  2021-01-24     ET   Energy Transfer Equity        116  2.113310e+10   \n",
       "16155  2021-01-07   TLYS                   Tillys        163  3.285000e+08   \n",
       "45861  2021-01-30   NVAX                  Novavax      10707  1.283300e+10   \n",
       "390    2021-03-03     ZS                  Zscaler       4223  2.253210e+10   \n",
       "99884  2021-01-13    CPG    Crescent Point Energy         31  2.162500e+09   \n",
       "\n",
       "        prev_day_views    month  monthly_average  prev_month_avg  \n",
       "99886          14793.0  2021-01       803.344828       18.414259  \n",
       "41808          15133.0  2021-02       830.250000       18.227040  \n",
       "115098          1284.0  2021-02        77.214286       16.629047  \n",
       "30797          27932.0  2021-02      1776.500000       15.723051  \n",
       "122433         29661.0  2021-01      2039.241379       14.545115  \n",
       "87610           3459.0  2021-01       244.310345       14.158222  \n",
       "16155           1900.0  2021-01       151.620690       12.531271  \n",
       "45861          58786.0  2021-01      4836.000000       12.155914  \n",
       "390            39177.0  2021-03      3257.611111       12.026297  \n",
       "99884           9481.0  2021-01       803.344828       11.801906  "
      ]
     },
     "execution_count": 13,
     "metadata": {},
     "output_type": "execute_result"
    }
   ],
   "source": [
    "monthly_views = monthly_views.merge(monthly_av, on=['month','ticker'])\n",
    "monthly_views['prev_month_avg'] = monthly_views['prev_day_views']/monthly_views['monthly_average']\n",
    "monthly_views.sort_values(ascending=False, by=['prev_month_avg']).head(10)"
   ]
  }
 ],
 "metadata": {
  "environment": {
   "name": "common-cpu.mnightly-2021-01-20-debian-10-test",
   "type": "gcloud",
   "uri": "gcr.io/deeplearning-platform-release/base-cpu:mnightly-2021-01-20-debian-10-test"
  },
  "kernelspec": {
   "display_name": "Python 3",
   "language": "python",
   "name": "python3"
  },
  "language_info": {
   "codemirror_mode": {
    "name": "ipython",
    "version": 3
   },
   "file_extension": ".py",
   "mimetype": "text/x-python",
   "name": "python",
   "nbconvert_exporter": "python",
   "pygments_lexer": "ipython3",
   "version": "3.7.9"
  }
 },
 "nbformat": 4,
 "nbformat_minor": 5
}
