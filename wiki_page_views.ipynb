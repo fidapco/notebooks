{
 "cells": [
  {
   "cell_type": "code",
   "execution_count": 1,
   "id": "alleged-buying",
   "metadata": {},
   "outputs": [],
   "source": [
    "import pandas as pd\n",
    "import numpy as np\n",
    "from fidap import fidap_client\n",
    "fidap = fidap_client(db='bq', api_key=\"b8a8ebb5f4cf4983a4fa63be6ca418c2\")"
   ]
  },
  {
   "cell_type": "code",
   "execution_count": 2,
   "id": "circular-assembly",
   "metadata": {},
   "outputs": [],
   "source": [
    "companies_query = f\"\"\"\n",
    "SELECT MAX(ticker_value) AS ticker, idLabel_value AS article FROM `fidap-301014.fidapschema.wikidata_companies` GROUP BY idLabel_value \n",
    "\"\"\""
   ]
  },
  {
   "cell_type": "code",
   "execution_count": 3,
   "id": "trained-electricity",
   "metadata": {},
   "outputs": [],
   "source": [
    "companies_data = fidap.sql(companies_query)"
   ]
  },
  {
   "cell_type": "code",
   "execution_count": 4,
   "id": "middle-safety",
   "metadata": {},
   "outputs": [],
   "source": [
    "views_query = f\"\"\"\n",
    "SELECT article, date, views FROM `fidap-301014.fidapschema.wikidata_pages` where date > '2020-01-01'\n",
    "\"\"\""
   ]
  },
  {
   "cell_type": "code",
   "execution_count": 5,
   "id": "weighted-river",
   "metadata": {},
   "outputs": [],
   "source": [
    "views_data = fidap.sql(views_query)"
   ]
  },
  {
   "cell_type": "code",
   "execution_count": 6,
   "id": "desirable-isaac",
   "metadata": {},
   "outputs": [],
   "source": [
    "companies_data = companies_data.merge(views_data, on=['article'])"
   ]
  },
  {
   "cell_type": "markdown",
   "id": "variable-campaign",
   "metadata": {},
   "source": [
    "# Top 10 Stocks By Views"
   ]
  },
  {
   "cell_type": "markdown",
   "id": "pursuant-austin",
   "metadata": {},
   "source": [
    "## Over Last Day"
   ]
  },
  {
   "cell_type": "code",
   "execution_count": 7,
   "id": "disciplinary-blocking",
   "metadata": {},
   "outputs": [],
   "source": [
    "companies_data.dropna(inplace=True)"
   ]
  },
  {
   "cell_type": "code",
   "execution_count": 8,
   "id": "rural-chase",
   "metadata": {},
   "outputs": [
    {
     "data": {
      "text/html": [
       "<div>\n",
       "<style scoped>\n",
       "    .dataframe tbody tr th:only-of-type {\n",
       "        vertical-align: middle;\n",
       "    }\n",
       "\n",
       "    .dataframe tbody tr th {\n",
       "        vertical-align: top;\n",
       "    }\n",
       "\n",
       "    .dataframe thead th {\n",
       "        text-align: right;\n",
       "    }\n",
       "</style>\n",
       "<table border=\"1\" class=\"dataframe\">\n",
       "  <thead>\n",
       "    <tr style=\"text-align: right;\">\n",
       "      <th></th>\n",
       "      <th>ticker</th>\n",
       "      <th>article</th>\n",
       "      <th>date</th>\n",
       "      <th>views</th>\n",
       "    </tr>\n",
       "  </thead>\n",
       "  <tbody>\n",
       "    <tr>\n",
       "      <th>636902</th>\n",
       "      <td>FFIV</td>\n",
       "      <td>F5 Networks</td>\n",
       "      <td>2021-03-12</td>\n",
       "      <td>57205</td>\n",
       "    </tr>\n",
       "    <tr>\n",
       "      <th>705915</th>\n",
       "      <td>GOOGL</td>\n",
       "      <td>Google</td>\n",
       "      <td>2021-03-12</td>\n",
       "      <td>27846</td>\n",
       "    </tr>\n",
       "    <tr>\n",
       "      <th>151582</th>\n",
       "      <td>AZN</td>\n",
       "      <td>AstraZeneca</td>\n",
       "      <td>2021-03-12</td>\n",
       "      <td>24121</td>\n",
       "    </tr>\n",
       "    <tr>\n",
       "      <th>515755</th>\n",
       "      <td>NFLX</td>\n",
       "      <td>Netflix</td>\n",
       "      <td>2021-03-12</td>\n",
       "      <td>21451</td>\n",
       "    </tr>\n",
       "    <tr>\n",
       "      <th>557872</th>\n",
       "      <td>AAPL</td>\n",
       "      <td>Apple Inc.</td>\n",
       "      <td>2021-03-12</td>\n",
       "      <td>13503</td>\n",
       "    </tr>\n",
       "    <tr>\n",
       "      <th>1048574</th>\n",
       "      <td>NVAX</td>\n",
       "      <td>Novavax</td>\n",
       "      <td>2021-03-12</td>\n",
       "      <td>11568</td>\n",
       "    </tr>\n",
       "    <tr>\n",
       "      <th>81678</th>\n",
       "      <td>PFE</td>\n",
       "      <td>Pfizer</td>\n",
       "      <td>2021-03-12</td>\n",
       "      <td>11341</td>\n",
       "    </tr>\n",
       "    <tr>\n",
       "      <th>517712</th>\n",
       "      <td>TSLA</td>\n",
       "      <td>Tesla, Inc.</td>\n",
       "      <td>2021-03-12</td>\n",
       "      <td>10997</td>\n",
       "    </tr>\n",
       "    <tr>\n",
       "      <th>1053213</th>\n",
       "      <td>MRNA</td>\n",
       "      <td>Moderna</td>\n",
       "      <td>2021-03-12</td>\n",
       "      <td>9640</td>\n",
       "    </tr>\n",
       "    <tr>\n",
       "      <th>136785</th>\n",
       "      <td>JNJ</td>\n",
       "      <td>Johnson &amp; Johnson</td>\n",
       "      <td>2021-03-12</td>\n",
       "      <td>9178</td>\n",
       "    </tr>\n",
       "  </tbody>\n",
       "</table>\n",
       "</div>"
      ],
      "text/plain": [
       "        ticker            article       date  views\n",
       "636902    FFIV        F5 Networks 2021-03-12  57205\n",
       "705915   GOOGL             Google 2021-03-12  27846\n",
       "151582     AZN        AstraZeneca 2021-03-12  24121\n",
       "515755    NFLX            Netflix 2021-03-12  21451\n",
       "557872    AAPL         Apple Inc. 2021-03-12  13503\n",
       "1048574   NVAX            Novavax 2021-03-12  11568\n",
       "81678      PFE             Pfizer 2021-03-12  11341\n",
       "517712    TSLA        Tesla, Inc. 2021-03-12  10997\n",
       "1053213   MRNA            Moderna 2021-03-12   9640\n",
       "136785     JNJ  Johnson & Johnson 2021-03-12   9178"
      ]
     },
     "execution_count": 8,
     "metadata": {},
     "output_type": "execute_result"
    }
   ],
   "source": [
    "companies_data.sort_values(ascending=False, by=['date', 'views']).head(10)"
   ]
  },
  {
   "cell_type": "markdown",
   "id": "aggressive-verification",
   "metadata": {},
   "source": [
    "## Over Last Month"
   ]
  },
  {
   "cell_type": "markdown",
   "id": "stuck-heating",
   "metadata": {},
   "source": [
    "Get the current date and then subtract 1 month and then get records which fall in that time frame"
   ]
  },
  {
   "cell_type": "code",
   "execution_count": 9,
   "id": "excited-johnston",
   "metadata": {},
   "outputs": [],
   "source": [
    "from datetime import datetime\n",
    "from dateutil.relativedelta import relativedelta"
   ]
  },
  {
   "cell_type": "code",
   "execution_count": 10,
   "id": "aerial-british",
   "metadata": {},
   "outputs": [],
   "source": [
    "now = datetime.date(datetime.now())\n",
    "start_date = now.strftime(\"%Y-%m-%d\")\n",
    "end_date = (now - relativedelta(months=1)).strftime(\"%Y-%m-%d\")"
   ]
  },
  {
   "cell_type": "markdown",
   "id": "strong-accordance",
   "metadata": {},
   "source": [
    "Create a Dataframe of only the past months data."
   ]
  },
  {
   "cell_type": "code",
   "execution_count": 11,
   "id": "maritime-environment",
   "metadata": {},
   "outputs": [],
   "source": [
    "monthly_views = companies_data[(companies_data['date'] < start_date) & (companies_data['date'] >= end_date)]"
   ]
  },
  {
   "cell_type": "code",
   "execution_count": 12,
   "id": "hispanic-simulation",
   "metadata": {},
   "outputs": [
    {
     "data": {
      "text/html": [
       "<div>\n",
       "<style scoped>\n",
       "    .dataframe tbody tr th:only-of-type {\n",
       "        vertical-align: middle;\n",
       "    }\n",
       "\n",
       "    .dataframe tbody tr th {\n",
       "        vertical-align: top;\n",
       "    }\n",
       "\n",
       "    .dataframe thead th {\n",
       "        text-align: right;\n",
       "    }\n",
       "</style>\n",
       "<table border=\"1\" class=\"dataframe\">\n",
       "  <thead>\n",
       "    <tr style=\"text-align: right;\">\n",
       "      <th></th>\n",
       "      <th>ticker</th>\n",
       "      <th>article</th>\n",
       "      <th>date</th>\n",
       "      <th>views</th>\n",
       "    </tr>\n",
       "  </thead>\n",
       "  <tbody>\n",
       "    <tr>\n",
       "      <th>636885</th>\n",
       "      <td>FFIV</td>\n",
       "      <td>F5 Networks</td>\n",
       "      <td>2021-02-23</td>\n",
       "      <td>73114</td>\n",
       "    </tr>\n",
       "    <tr>\n",
       "      <th>636893</th>\n",
       "      <td>FFIV</td>\n",
       "      <td>F5 Networks</td>\n",
       "      <td>2021-03-03</td>\n",
       "      <td>67789</td>\n",
       "    </tr>\n",
       "    <tr>\n",
       "      <th>636886</th>\n",
       "      <td>FFIV</td>\n",
       "      <td>F5 Networks</td>\n",
       "      <td>2021-02-24</td>\n",
       "      <td>66845</td>\n",
       "    </tr>\n",
       "    <tr>\n",
       "      <th>636888</th>\n",
       "      <td>FFIV</td>\n",
       "      <td>F5 Networks</td>\n",
       "      <td>2021-02-26</td>\n",
       "      <td>65968</td>\n",
       "    </tr>\n",
       "    <tr>\n",
       "      <th>636879</th>\n",
       "      <td>FFIV</td>\n",
       "      <td>F5 Networks</td>\n",
       "      <td>2021-02-17</td>\n",
       "      <td>64918</td>\n",
       "    </tr>\n",
       "    <tr>\n",
       "      <th>636887</th>\n",
       "      <td>FFIV</td>\n",
       "      <td>F5 Networks</td>\n",
       "      <td>2021-02-25</td>\n",
       "      <td>64519</td>\n",
       "    </tr>\n",
       "    <tr>\n",
       "      <th>636884</th>\n",
       "      <td>FFIV</td>\n",
       "      <td>F5 Networks</td>\n",
       "      <td>2021-02-22</td>\n",
       "      <td>64511</td>\n",
       "    </tr>\n",
       "    <tr>\n",
       "      <th>636880</th>\n",
       "      <td>FFIV</td>\n",
       "      <td>F5 Networks</td>\n",
       "      <td>2021-02-18</td>\n",
       "      <td>64162</td>\n",
       "    </tr>\n",
       "    <tr>\n",
       "      <th>636892</th>\n",
       "      <td>FFIV</td>\n",
       "      <td>F5 Networks</td>\n",
       "      <td>2021-03-02</td>\n",
       "      <td>63915</td>\n",
       "    </tr>\n",
       "    <tr>\n",
       "      <th>636899</th>\n",
       "      <td>FFIV</td>\n",
       "      <td>F5 Networks</td>\n",
       "      <td>2021-03-09</td>\n",
       "      <td>63012</td>\n",
       "    </tr>\n",
       "  </tbody>\n",
       "</table>\n",
       "</div>"
      ],
      "text/plain": [
       "       ticker      article       date  views\n",
       "636885   FFIV  F5 Networks 2021-02-23  73114\n",
       "636893   FFIV  F5 Networks 2021-03-03  67789\n",
       "636886   FFIV  F5 Networks 2021-02-24  66845\n",
       "636888   FFIV  F5 Networks 2021-02-26  65968\n",
       "636879   FFIV  F5 Networks 2021-02-17  64918\n",
       "636887   FFIV  F5 Networks 2021-02-25  64519\n",
       "636884   FFIV  F5 Networks 2021-02-22  64511\n",
       "636880   FFIV  F5 Networks 2021-02-18  64162\n",
       "636892   FFIV  F5 Networks 2021-03-02  63915\n",
       "636899   FFIV  F5 Networks 2021-03-09  63012"
      ]
     },
     "execution_count": 12,
     "metadata": {},
     "output_type": "execute_result"
    }
   ],
   "source": [
    "monthly_views.sort_values(ascending=False, by=['views']).head(10)"
   ]
  },
  {
   "cell_type": "markdown",
   "id": "bronze-singer",
   "metadata": {},
   "source": [
    "## Over Last Year"
   ]
  },
  {
   "cell_type": "markdown",
   "id": "afraid-blogger",
   "metadata": {},
   "source": [
    "We would do something like the above, we would get the current date and subtract 1 year and then get all the records in that date range."
   ]
  },
  {
   "cell_type": "code",
   "execution_count": 13,
   "id": "rough-tuning",
   "metadata": {},
   "outputs": [],
   "source": [
    "now = datetime.date(datetime.now())\n",
    "start_date = now.strftime(\"%Y-%m-%d\")\n",
    "end_date = (now - relativedelta(years=1)).strftime(\"%Y-%m-%d\")"
   ]
  },
  {
   "cell_type": "code",
   "execution_count": 14,
   "id": "derived-finance",
   "metadata": {},
   "outputs": [],
   "source": [
    "yearly_views = companies_data[(companies_data['date'] < start_date) & (companies_data['date'] >= end_date)]"
   ]
  },
  {
   "cell_type": "code",
   "execution_count": 15,
   "id": "infinite-literacy",
   "metadata": {},
   "outputs": [
    {
     "data": {
      "text/html": [
       "<div>\n",
       "<style scoped>\n",
       "    .dataframe tbody tr th:only-of-type {\n",
       "        vertical-align: middle;\n",
       "    }\n",
       "\n",
       "    .dataframe tbody tr th {\n",
       "        vertical-align: top;\n",
       "    }\n",
       "\n",
       "    .dataframe thead th {\n",
       "        text-align: right;\n",
       "    }\n",
       "</style>\n",
       "<table border=\"1\" class=\"dataframe\">\n",
       "  <thead>\n",
       "    <tr style=\"text-align: right;\">\n",
       "      <th></th>\n",
       "      <th>ticker</th>\n",
       "      <th>article</th>\n",
       "      <th>date</th>\n",
       "      <th>views</th>\n",
       "    </tr>\n",
       "  </thead>\n",
       "  <tbody>\n",
       "    <tr>\n",
       "      <th>81555</th>\n",
       "      <td>PFE</td>\n",
       "      <td>Pfizer</td>\n",
       "      <td>2020-11-09</td>\n",
       "      <td>302622</td>\n",
       "    </tr>\n",
       "    <tr>\n",
       "      <th>81556</th>\n",
       "      <td>PFE</td>\n",
       "      <td>Pfizer</td>\n",
       "      <td>2020-11-10</td>\n",
       "      <td>195289</td>\n",
       "    </tr>\n",
       "    <tr>\n",
       "      <th>34793</th>\n",
       "      <td>GME</td>\n",
       "      <td>GameStop</td>\n",
       "      <td>2021-01-28</td>\n",
       "      <td>175970</td>\n",
       "    </tr>\n",
       "    <tr>\n",
       "      <th>34794</th>\n",
       "      <td>GME</td>\n",
       "      <td>GameStop</td>\n",
       "      <td>2021-01-29</td>\n",
       "      <td>158155</td>\n",
       "    </tr>\n",
       "    <tr>\n",
       "      <th>21207</th>\n",
       "      <td>KNM</td>\n",
       "      <td>Konami</td>\n",
       "      <td>2020-08-25</td>\n",
       "      <td>156739</td>\n",
       "    </tr>\n",
       "    <tr>\n",
       "      <th>705690</th>\n",
       "      <td>GOOGL</td>\n",
       "      <td>Google</td>\n",
       "      <td>2020-07-30</td>\n",
       "      <td>132930</td>\n",
       "    </tr>\n",
       "    <tr>\n",
       "      <th>217308</th>\n",
       "      <td>NET</td>\n",
       "      <td>Cloudflare</td>\n",
       "      <td>2020-12-12</td>\n",
       "      <td>131548</td>\n",
       "    </tr>\n",
       "    <tr>\n",
       "      <th>217307</th>\n",
       "      <td>NET</td>\n",
       "      <td>Cloudflare</td>\n",
       "      <td>2020-12-11</td>\n",
       "      <td>130435</td>\n",
       "    </tr>\n",
       "    <tr>\n",
       "      <th>1053097</th>\n",
       "      <td>MRNA</td>\n",
       "      <td>Moderna</td>\n",
       "      <td>2020-11-16</td>\n",
       "      <td>124888</td>\n",
       "    </tr>\n",
       "    <tr>\n",
       "      <th>34792</th>\n",
       "      <td>GME</td>\n",
       "      <td>GameStop</td>\n",
       "      <td>2021-01-27</td>\n",
       "      <td>110598</td>\n",
       "    </tr>\n",
       "  </tbody>\n",
       "</table>\n",
       "</div>"
      ],
      "text/plain": [
       "        ticker     article       date   views\n",
       "81555      PFE      Pfizer 2020-11-09  302622\n",
       "81556      PFE      Pfizer 2020-11-10  195289\n",
       "34793      GME    GameStop 2021-01-28  175970\n",
       "34794      GME    GameStop 2021-01-29  158155\n",
       "21207      KNM      Konami 2020-08-25  156739\n",
       "705690   GOOGL      Google 2020-07-30  132930\n",
       "217308     NET  Cloudflare 2020-12-12  131548\n",
       "217307     NET  Cloudflare 2020-12-11  130435\n",
       "1053097   MRNA     Moderna 2020-11-16  124888\n",
       "34792      GME    GameStop 2021-01-27  110598"
      ]
     },
     "execution_count": 15,
     "metadata": {},
     "output_type": "execute_result"
    }
   ],
   "source": [
    "yearly_views.sort_values(ascending=False, by=['views']).head(10)"
   ]
  },
  {
   "cell_type": "markdown",
   "id": "strategic-century",
   "metadata": {},
   "source": [
    "# Top 10 Views/Marketcap - Most Overviewed Stocks"
   ]
  },
  {
   "cell_type": "code",
   "execution_count": 16,
   "id": "grand-clarity",
   "metadata": {},
   "outputs": [],
   "source": [
    "market_cap_query = f\"\"\"\n",
    "SELECT marketcap, ticker FROM `fidap-301014.fidapschema.tickers` where marketcap is not null\n",
    "\"\"\""
   ]
  },
  {
   "cell_type": "code",
   "execution_count": 17,
   "id": "static-message",
   "metadata": {},
   "outputs": [],
   "source": [
    "market_caps = fidap.sql(market_cap_query)"
   ]
  },
  {
   "cell_type": "code",
   "execution_count": 18,
   "id": "surface-scene",
   "metadata": {},
   "outputs": [],
   "source": [
    "market_cap_wiki = companies_data.merge(market_caps, on=['ticker'])"
   ]
  },
  {
   "cell_type": "code",
   "execution_count": 19,
   "id": "agreed-fundamental",
   "metadata": {},
   "outputs": [],
   "source": [
    "market_cap_wiki.dropna(inplace=True)"
   ]
  },
  {
   "cell_type": "code",
   "execution_count": 20,
   "id": "average-entity",
   "metadata": {},
   "outputs": [],
   "source": [
    "market_cap_wiki['views_marketcap'] = market_cap_wiki['views']/market_cap_wiki['marketcap']"
   ]
  },
  {
   "cell_type": "code",
   "execution_count": 21,
   "id": "civil-atlantic",
   "metadata": {},
   "outputs": [
    {
     "data": {
      "text/html": [
       "<div>\n",
       "<style scoped>\n",
       "    .dataframe tbody tr th:only-of-type {\n",
       "        vertical-align: middle;\n",
       "    }\n",
       "\n",
       "    .dataframe tbody tr th {\n",
       "        vertical-align: top;\n",
       "    }\n",
       "\n",
       "    .dataframe thead th {\n",
       "        text-align: right;\n",
       "    }\n",
       "</style>\n",
       "<table border=\"1\" class=\"dataframe\">\n",
       "  <thead>\n",
       "    <tr style=\"text-align: right;\">\n",
       "      <th></th>\n",
       "      <th>ticker</th>\n",
       "      <th>article</th>\n",
       "      <th>date</th>\n",
       "      <th>views</th>\n",
       "      <th>marketcap</th>\n",
       "      <th>views_marketcap</th>\n",
       "    </tr>\n",
       "  </thead>\n",
       "  <tbody>\n",
       "    <tr>\n",
       "      <th>47276</th>\n",
       "      <td>PFE</td>\n",
       "      <td>Pfizer</td>\n",
       "      <td>2020-11-09</td>\n",
       "      <td>302622</td>\n",
       "      <td>1.948824e+17</td>\n",
       "      <td>1.552844e-12</td>\n",
       "    </tr>\n",
       "    <tr>\n",
       "      <th>47277</th>\n",
       "      <td>PFE</td>\n",
       "      <td>Pfizer</td>\n",
       "      <td>2020-11-10</td>\n",
       "      <td>195289</td>\n",
       "      <td>1.948824e+17</td>\n",
       "      <td>1.002086e-12</td>\n",
       "    </tr>\n",
       "    <tr>\n",
       "      <th>19538</th>\n",
       "      <td>GME</td>\n",
       "      <td>GameStop</td>\n",
       "      <td>2021-01-28</td>\n",
       "      <td>175970</td>\n",
       "      <td>1.844810e+16</td>\n",
       "      <td>9.538652e-12</td>\n",
       "    </tr>\n",
       "    <tr>\n",
       "      <th>19539</th>\n",
       "      <td>GME</td>\n",
       "      <td>GameStop</td>\n",
       "      <td>2021-01-29</td>\n",
       "      <td>158155</td>\n",
       "      <td>1.844810e+16</td>\n",
       "      <td>8.572970e-12</td>\n",
       "    </tr>\n",
       "    <tr>\n",
       "      <th>357089</th>\n",
       "      <td>GOOGL</td>\n",
       "      <td>Google</td>\n",
       "      <td>2020-07-30</td>\n",
       "      <td>132930</td>\n",
       "      <td>1.381980e+18</td>\n",
       "      <td>9.618806e-14</td>\n",
       "    </tr>\n",
       "    <tr>\n",
       "      <th>142793</th>\n",
       "      <td>NET</td>\n",
       "      <td>Cloudflare</td>\n",
       "      <td>2020-12-12</td>\n",
       "      <td>131548</td>\n",
       "      <td>2.356340e+16</td>\n",
       "      <td>5.582726e-12</td>\n",
       "    </tr>\n",
       "    <tr>\n",
       "      <th>142792</th>\n",
       "      <td>NET</td>\n",
       "      <td>Cloudflare</td>\n",
       "      <td>2020-12-11</td>\n",
       "      <td>130435</td>\n",
       "      <td>2.356340e+16</td>\n",
       "      <td>5.535491e-12</td>\n",
       "    </tr>\n",
       "    <tr>\n",
       "      <th>643712</th>\n",
       "      <td>MRNA</td>\n",
       "      <td>Moderna</td>\n",
       "      <td>2020-11-16</td>\n",
       "      <td>124888</td>\n",
       "      <td>5.476440e+16</td>\n",
       "      <td>2.280460e-12</td>\n",
       "    </tr>\n",
       "    <tr>\n",
       "      <th>19537</th>\n",
       "      <td>GME</td>\n",
       "      <td>GameStop</td>\n",
       "      <td>2021-01-27</td>\n",
       "      <td>110598</td>\n",
       "      <td>1.844810e+16</td>\n",
       "      <td>5.995089e-12</td>\n",
       "    </tr>\n",
       "    <tr>\n",
       "      <th>142791</th>\n",
       "      <td>NET</td>\n",
       "      <td>Cloudflare</td>\n",
       "      <td>2020-12-10</td>\n",
       "      <td>104165</td>\n",
       "      <td>2.356340e+16</td>\n",
       "      <td>4.420627e-12</td>\n",
       "    </tr>\n",
       "  </tbody>\n",
       "</table>\n",
       "</div>"
      ],
      "text/plain": [
       "       ticker     article       date   views     marketcap  views_marketcap\n",
       "47276     PFE      Pfizer 2020-11-09  302622  1.948824e+17     1.552844e-12\n",
       "47277     PFE      Pfizer 2020-11-10  195289  1.948824e+17     1.002086e-12\n",
       "19538     GME    GameStop 2021-01-28  175970  1.844810e+16     9.538652e-12\n",
       "19539     GME    GameStop 2021-01-29  158155  1.844810e+16     8.572970e-12\n",
       "357089  GOOGL      Google 2020-07-30  132930  1.381980e+18     9.618806e-14\n",
       "142793    NET  Cloudflare 2020-12-12  131548  2.356340e+16     5.582726e-12\n",
       "142792    NET  Cloudflare 2020-12-11  130435  2.356340e+16     5.535491e-12\n",
       "643712   MRNA     Moderna 2020-11-16  124888  5.476440e+16     2.280460e-12\n",
       "19537     GME    GameStop 2021-01-27  110598  1.844810e+16     5.995089e-12\n",
       "142791    NET  Cloudflare 2020-12-10  104165  2.356340e+16     4.420627e-12"
      ]
     },
     "execution_count": 21,
     "metadata": {},
     "output_type": "execute_result"
    }
   ],
   "source": [
    "market_cap_wiki.sort_values(ascending=False, by=['views','views_marketcap']).head(10)"
   ]
  },
  {
   "cell_type": "markdown",
   "id": "built-shame",
   "metadata": {},
   "source": [
    "# Top 10 Increase in Views"
   ]
  },
  {
   "cell_type": "markdown",
   "id": "lined-possible",
   "metadata": {},
   "source": [
    "## Last Day vs Last Month Average"
   ]
  },
  {
   "cell_type": "code",
   "execution_count": 22,
   "id": "coordinate-thanksgiving",
   "metadata": {},
   "outputs": [],
   "source": [
    "now = datetime.date(datetime.now())\n",
    "start_date = now.strftime(\"%Y-%m-%d\")\n",
    "end_date = (now - relativedelta(months=2)).replace(day=1).strftime(\"%Y-%m-%d\")"
   ]
  },
  {
   "cell_type": "code",
   "execution_count": 23,
   "id": "moved-cross",
   "metadata": {},
   "outputs": [],
   "source": [
    "monthly_views = companies_data[(companies_data['date'] < start_date) & (companies_data['date'] >= end_date)].copy()"
   ]
  },
  {
   "cell_type": "markdown",
   "id": "verified-sunday",
   "metadata": {},
   "source": [
    "### Get the difference between the current day and previous day based on whether the previous days ticker value macthes the current days."
   ]
  },
  {
   "cell_type": "code",
   "execution_count": 24,
   "id": "extreme-doctor",
   "metadata": {},
   "outputs": [],
   "source": [
    "monthly_views.sort_values(ascending=False, by=['ticker','date'], inplace=True)\n",
    "monthly_views['prev_day_views'] = np.where(monthly_views['ticker'] == monthly_views['ticker'].shift(-1), monthly_views['views'].shift(-1), np.nan)"
   ]
  },
  {
   "cell_type": "markdown",
   "id": "optional-namibia",
   "metadata": {},
   "source": [
    "### Get the monthly average for all the tickers."
   ]
  },
  {
   "cell_type": "code",
   "execution_count": 25,
   "id": "fatty-faith",
   "metadata": {},
   "outputs": [],
   "source": [
    "monthly_views['month'] = monthly_views.date.dt.to_period('M')\n",
    "monthly_av = monthly_views.groupby(['month','ticker'])['views'].mean().to_frame().reset_index()\n",
    "monthly_av.rename(columns={'views': 'monthly_average'}, inplace=True)"
   ]
  },
  {
   "cell_type": "code",
   "execution_count": 26,
   "id": "sonic-relative",
   "metadata": {},
   "outputs": [],
   "source": [
    "### Merge Tables and Get Top 10 Last Day vs. Monthly Average"
   ]
  },
  {
   "cell_type": "code",
   "execution_count": 27,
   "id": "happy-plastic",
   "metadata": {},
   "outputs": [],
   "source": [
    "monthly_views = monthly_views.merge(monthly_av, on=['month','ticker'])"
   ]
  },
  {
   "cell_type": "code",
   "execution_count": 28,
   "id": "stretch-matter",
   "metadata": {},
   "outputs": [],
   "source": [
    "monthly_views['prev_month_avg'] = monthly_views['prev_day_views']/monthly_views['monthly_average']"
   ]
  },
  {
   "cell_type": "code",
   "execution_count": 29,
   "id": "norman-august",
   "metadata": {},
   "outputs": [
    {
     "data": {
      "text/html": [
       "<div>\n",
       "<style scoped>\n",
       "    .dataframe tbody tr th:only-of-type {\n",
       "        vertical-align: middle;\n",
       "    }\n",
       "\n",
       "    .dataframe tbody tr th {\n",
       "        vertical-align: top;\n",
       "    }\n",
       "\n",
       "    .dataframe thead th {\n",
       "        text-align: right;\n",
       "    }\n",
       "</style>\n",
       "<table border=\"1\" class=\"dataframe\">\n",
       "  <thead>\n",
       "    <tr style=\"text-align: right;\">\n",
       "      <th></th>\n",
       "      <th>ticker</th>\n",
       "      <th>article</th>\n",
       "      <th>date</th>\n",
       "      <th>views</th>\n",
       "      <th>prev_day_views</th>\n",
       "      <th>month</th>\n",
       "      <th>monthly_average</th>\n",
       "      <th>prev_month_avg</th>\n",
       "    </tr>\n",
       "  </thead>\n",
       "  <tbody>\n",
       "    <tr>\n",
       "      <th>153086</th>\n",
       "      <td>HRG</td>\n",
       "      <td>HRG Group</td>\n",
       "      <td>2021-02-09</td>\n",
       "      <td>599</td>\n",
       "      <td>14476.0</td>\n",
       "      <td>2021-02</td>\n",
       "      <td>677.607143</td>\n",
       "      <td>21.363411</td>\n",
       "    </tr>\n",
       "    <tr>\n",
       "      <th>205016</th>\n",
       "      <td>CPG</td>\n",
       "      <td>Crescent Point Energy</td>\n",
       "      <td>2021-01-12</td>\n",
       "      <td>42</td>\n",
       "      <td>14793.0</td>\n",
       "      <td>2021-01</td>\n",
       "      <td>762.709677</td>\n",
       "      <td>19.395322</td>\n",
       "    </tr>\n",
       "    <tr>\n",
       "      <th>90883</th>\n",
       "      <td>OSK</td>\n",
       "      <td>Osisko Mining</td>\n",
       "      <td>2021-02-25</td>\n",
       "      <td>19</td>\n",
       "      <td>15133.0</td>\n",
       "      <td>2021-02</td>\n",
       "      <td>830.250000</td>\n",
       "      <td>18.227040</td>\n",
       "    </tr>\n",
       "    <tr>\n",
       "      <th>237868</th>\n",
       "      <td>B</td>\n",
       "      <td>Barnes Group</td>\n",
       "      <td>2021-02-10</td>\n",
       "      <td>34</td>\n",
       "      <td>1284.0</td>\n",
       "      <td>2021-02</td>\n",
       "      <td>77.214286</td>\n",
       "      <td>16.629047</td>\n",
       "    </tr>\n",
       "    <tr>\n",
       "      <th>68260</th>\n",
       "      <td>RJF</td>\n",
       "      <td>Raymond James Financial</td>\n",
       "      <td>2021-02-09</td>\n",
       "      <td>1845</td>\n",
       "      <td>27932.0</td>\n",
       "      <td>2021-02</td>\n",
       "      <td>1776.500000</td>\n",
       "      <td>15.723051</td>\n",
       "    </tr>\n",
       "    <tr>\n",
       "      <th>182143</th>\n",
       "      <td>ET</td>\n",
       "      <td>Energy Transfer Equity</td>\n",
       "      <td>2021-01-24</td>\n",
       "      <td>116</td>\n",
       "      <td>3459.0</td>\n",
       "      <td>2021-01</td>\n",
       "      <td>233.290323</td>\n",
       "      <td>14.827019</td>\n",
       "    </tr>\n",
       "    <tr>\n",
       "      <th>147518</th>\n",
       "      <td>IFL</td>\n",
       "      <td>IOOF</td>\n",
       "      <td>2021-01-17</td>\n",
       "      <td>5</td>\n",
       "      <td>132.0</td>\n",
       "      <td>2021-01</td>\n",
       "      <td>9.166667</td>\n",
       "      <td>14.400000</td>\n",
       "    </tr>\n",
       "    <tr>\n",
       "      <th>60182</th>\n",
       "      <td>SBNY</td>\n",
       "      <td>Signature Bank</td>\n",
       "      <td>2021-01-13</td>\n",
       "      <td>2002</td>\n",
       "      <td>6549.0</td>\n",
       "      <td>2021-01</td>\n",
       "      <td>486.096774</td>\n",
       "      <td>13.472626</td>\n",
       "    </tr>\n",
       "    <tr>\n",
       "      <th>32411</th>\n",
       "      <td>TLYS</td>\n",
       "      <td>Tillys</td>\n",
       "      <td>2021-01-07</td>\n",
       "      <td>163</td>\n",
       "      <td>1900.0</td>\n",
       "      <td>2021-01</td>\n",
       "      <td>145.677419</td>\n",
       "      <td>13.042516</td>\n",
       "    </tr>\n",
       "    <tr>\n",
       "      <th>97921</th>\n",
       "      <td>NVAX</td>\n",
       "      <td>Novavax</td>\n",
       "      <td>2021-01-30</td>\n",
       "      <td>10707</td>\n",
       "      <td>58786.0</td>\n",
       "      <td>2021-01</td>\n",
       "      <td>4585.290323</td>\n",
       "      <td>12.820562</td>\n",
       "    </tr>\n",
       "  </tbody>\n",
       "</table>\n",
       "</div>"
      ],
      "text/plain": [
       "       ticker                  article       date  views  prev_day_views  \\\n",
       "153086    HRG                HRG Group 2021-02-09    599         14476.0   \n",
       "205016    CPG    Crescent Point Energy 2021-01-12     42         14793.0   \n",
       "90883     OSK            Osisko Mining 2021-02-25     19         15133.0   \n",
       "237868      B             Barnes Group 2021-02-10     34          1284.0   \n",
       "68260     RJF  Raymond James Financial 2021-02-09   1845         27932.0   \n",
       "182143     ET   Energy Transfer Equity 2021-01-24    116          3459.0   \n",
       "147518    IFL                     IOOF 2021-01-17      5           132.0   \n",
       "60182    SBNY           Signature Bank 2021-01-13   2002          6549.0   \n",
       "32411    TLYS                   Tillys 2021-01-07    163          1900.0   \n",
       "97921    NVAX                  Novavax 2021-01-30  10707         58786.0   \n",
       "\n",
       "          month  monthly_average  prev_month_avg  \n",
       "153086  2021-02       677.607143       21.363411  \n",
       "205016  2021-01       762.709677       19.395322  \n",
       "90883   2021-02       830.250000       18.227040  \n",
       "237868  2021-02        77.214286       16.629047  \n",
       "68260   2021-02      1776.500000       15.723051  \n",
       "182143  2021-01       233.290323       14.827019  \n",
       "147518  2021-01         9.166667       14.400000  \n",
       "60182   2021-01       486.096774       13.472626  \n",
       "32411   2021-01       145.677419       13.042516  \n",
       "97921   2021-01      4585.290323       12.820562  "
      ]
     },
     "execution_count": 29,
     "metadata": {},
     "output_type": "execute_result"
    }
   ],
   "source": [
    "monthly_views.sort_values(ascending=False, by=['prev_month_avg']).head(10)"
   ]
  }
 ],
 "metadata": {
  "environment": {
   "name": "common-cpu.mnightly-2021-01-20-debian-10-test",
   "type": "gcloud",
   "uri": "gcr.io/deeplearning-platform-release/base-cpu:mnightly-2021-01-20-debian-10-test"
  },
  "kernelspec": {
   "display_name": "Python 3",
   "language": "python",
   "name": "python3"
  },
  "language_info": {
   "codemirror_mode": {
    "name": "ipython",
    "version": 3
   },
   "file_extension": ".py",
   "mimetype": "text/x-python",
   "name": "python",
   "nbconvert_exporter": "python",
   "pygments_lexer": "ipython3",
   "version": "3.7.9"
  }
 },
 "nbformat": 4,
 "nbformat_minor": 5
}
