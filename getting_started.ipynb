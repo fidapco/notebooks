{
 "cells": [
  {
   "cell_type": "markdown",
   "metadata": {},
   "source": [
    "# Intro to Fidap\n",
    "\n",
    "Fidap stands for **fi**nancial **da**ta **p**latform. We aim to build an easy to use, yet powerful, developer and data platform for capital markets professionals, investors and developers to conduct research and to build apps.\n",
    "\n",
    "Today, as has been the modus operandi for a decade+, most capital markets datasets are acquired via CSVs over SFTP. There has been a ton of innovation in the space - large cloud and database providers now have cloud-native data exchanges and marketplaces - such as AWS Data Exchange and Snowflake Data Marketplace. Large financial data providers are building (or acquiring) web-based data catalogs such as Bloomberg's Enterprise Access Point, Factset's Open Data, and Nasdaq's Quandl.\n",
    "\n",
    "Despite recent innovations, most of the capital markets world is still in the CSV over SFTP era. We believe that there's an opportunity to be use case focused.\n",
    "\n",
    "## Key features\n",
    "\n",
    "Our key features are - \n",
    "\n",
    "1. Detailed data catalog\n",
    "2. Directly queryable data\n",
    "3. Code library\n",
    "\n",
    "## Target audience\n",
    "\n",
    "Our core users are capital markets professionals that know coding - especially Python, pandas, and SQL. "
   ]
  },
  {
   "cell_type": "markdown",
   "metadata": {},
   "source": [
    "## Getting started\n",
    "\n",
    "In order to get started with Fidap, install the Python library using ``pip install fidap``."
   ]
  },
  {
   "cell_type": "markdown",
   "metadata": {},
   "source": [
    "## Using the notebooks\n",
    "\n",
    "We've organized most of our sample code into notebooks"
   ]
  },
  {
   "cell_type": "markdown",
   "metadata": {},
   "source": [
    "## Using the API\n",
    "\n",
    "The main function we'll use is the ``sql`` function. All data can be accessed via this function. Here's a sample query that gets the top 5 largest companies by market cap:"
   ]
  },
  {
   "cell_type": "code",
   "execution_count": 1,
   "metadata": {
    "ExecuteTime": {
     "end_time": "2021-01-14T10:54:35.657077Z",
     "start_time": "2021-01-14T10:54:33.198595Z"
    }
   },
   "outputs": [],
   "source": [
    "import pandas as pd\n",
    "from fidap import fidap_client\n",
    "import config"
   ]
  },
  {
   "cell_type": "code",
   "execution_count": 2,
   "metadata": {},
   "outputs": [],
   "source": [
    "fidap = fidap_client(api_key=config.FIDAP_API_KEY)"
   ]
  },
  {
   "cell_type": "code",
   "execution_count": 3,
   "metadata": {
    "ExecuteTime": {
     "end_time": "2021-01-14T10:54:37.066391Z",
     "start_time": "2021-01-14T10:54:36.863931Z"
    }
   },
   "outputs": [
    {
     "data": {
      "text/html": [
       "<div>\n",
       "<style scoped>\n",
       "    .dataframe tbody tr th:only-of-type {\n",
       "        vertical-align: middle;\n",
       "    }\n",
       "\n",
       "    .dataframe tbody tr th {\n",
       "        vertical-align: top;\n",
       "    }\n",
       "\n",
       "    .dataframe thead th {\n",
       "        text-align: right;\n",
       "    }\n",
       "</style>\n",
       "<table border=\"1\" class=\"dataframe\">\n",
       "  <thead>\n",
       "    <tr style=\"text-align: right;\">\n",
       "      <th></th>\n",
       "      <th>ticker</th>\n",
       "      <th>name</th>\n",
       "      <th>close</th>\n",
       "      <th>marketcap</th>\n",
       "    </tr>\n",
       "  </thead>\n",
       "  <tbody>\n",
       "    <tr>\n",
       "      <th>0</th>\n",
       "      <td>AAPL</td>\n",
       "      <td>APPLE INC</td>\n",
       "      <td>131.96</td>\n",
       "      <td>2215357099999999744</td>\n",
       "    </tr>\n",
       "    <tr>\n",
       "      <th>1</th>\n",
       "      <td>MSFT</td>\n",
       "      <td>MICROSOFT CORP</td>\n",
       "      <td>231.96</td>\n",
       "      <td>1749492399999999744</td>\n",
       "    </tr>\n",
       "    <tr>\n",
       "      <th>2</th>\n",
       "      <td>AMZN</td>\n",
       "      <td>AMAZON COM INC</td>\n",
       "      <td>3206.20</td>\n",
       "      <td>1608714600000000000</td>\n",
       "    </tr>\n",
       "    <tr>\n",
       "      <th>3</th>\n",
       "      <td>GOOGL</td>\n",
       "      <td>ALPHABET INC</td>\n",
       "      <td>1827.36</td>\n",
       "      <td>1236074300000000000</td>\n",
       "    </tr>\n",
       "    <tr>\n",
       "      <th>4</th>\n",
       "      <td>TSLA</td>\n",
       "      <td>TESLA INC</td>\n",
       "      <td>793.53</td>\n",
       "      <td>752187700000000000</td>\n",
       "    </tr>\n",
       "    <tr>\n",
       "      <th>5</th>\n",
       "      <td>FB</td>\n",
       "      <td>FACEBOOK INC</td>\n",
       "      <td>258.33</td>\n",
       "      <td>735638600000000000</td>\n",
       "    </tr>\n",
       "    <tr>\n",
       "      <th>6</th>\n",
       "      <td>BABA</td>\n",
       "      <td>ALIBABA GRP HLDG LTD</td>\n",
       "      <td>253.83</td>\n",
       "      <td>681914100000000000</td>\n",
       "    </tr>\n",
       "    <tr>\n",
       "      <th>7</th>\n",
       "      <td>BRK.B</td>\n",
       "      <td>BERKSHIRE HATHAWAY INC</td>\n",
       "      <td>227.87</td>\n",
       "      <td>534767399999999936</td>\n",
       "    </tr>\n",
       "    <tr>\n",
       "      <th>8</th>\n",
       "      <td>JNJ</td>\n",
       "      <td>JOHNSON &amp; JOHNSON</td>\n",
       "      <td>163.13</td>\n",
       "      <td>429446700000000000</td>\n",
       "    </tr>\n",
       "    <tr>\n",
       "      <th>9</th>\n",
       "      <td>WMT</td>\n",
       "      <td>WALMART INC</td>\n",
       "      <td>140.49</td>\n",
       "      <td>397486400000000000</td>\n",
       "    </tr>\n",
       "  </tbody>\n",
       "</table>\n",
       "</div>"
      ],
      "text/plain": [
       "  ticker                    name    close            marketcap\n",
       "0   AAPL               APPLE INC   131.96  2215357099999999744\n",
       "1   MSFT          MICROSOFT CORP   231.96  1749492399999999744\n",
       "2   AMZN          AMAZON COM INC  3206.20  1608714600000000000\n",
       "3  GOOGL            ALPHABET INC  1827.36  1236074300000000000\n",
       "4   TSLA               TESLA INC   793.53   752187700000000000\n",
       "5     FB            FACEBOOK INC   258.33   735638600000000000\n",
       "6   BABA    ALIBABA GRP HLDG LTD   253.83   681914100000000000\n",
       "7  BRK.B  BERKSHIRE HATHAWAY INC   227.87   534767399999999936\n",
       "8    JNJ       JOHNSON & JOHNSON   163.13   429446700000000000\n",
       "9    WMT             WALMART INC   140.49   397486400000000000"
      ]
     },
     "execution_count": 3,
     "metadata": {},
     "output_type": "execute_result"
    }
   ],
   "source": [
    "fidap.sql('select ticker, name, close, marketcap from tickers  where marketcap > 0 order by marketcap desc limit 10')"
   ]
  },
  {
   "cell_type": "markdown",
   "metadata": {},
   "source": [
    "In the next section, we'll go through all the data on the platform."
   ]
  },
  {
   "cell_type": "code",
   "execution_count": null,
   "metadata": {},
   "outputs": [],
   "source": []
  }
 ],
 "metadata": {
  "environment": {
   "name": "common-cpu.mnightly-2021-01-20-debian-10-test",
   "type": "gcloud",
   "uri": "gcr.io/deeplearning-platform-release/base-cpu:mnightly-2021-01-20-debian-10-test"
  },
  "kernelspec": {
   "display_name": "Python 3",
   "language": "python",
   "name": "python3"
  },
  "language_info": {
   "codemirror_mode": {
    "name": "ipython",
    "version": 3
   },
   "file_extension": ".py",
   "mimetype": "text/x-python",
   "name": "python",
   "nbconvert_exporter": "python",
   "pygments_lexer": "ipython3",
   "version": "3.7.9"
  },
  "toc": {
   "colors": {
    "hover_highlight": "#DAA520",
    "running_highlight": "#FF0000",
    "selected_highlight": "#FFD700"
   },
   "moveMenuLeft": true,
   "nav_menu": {
    "height": "120px",
    "width": "252px"
   },
   "navigate_menu": true,
   "number_sections": true,
   "sideBar": true,
   "threshold": 4,
   "toc_cell": false,
   "toc_section_display": "block",
   "toc_window_display": false,
   "widenNotebook": false
  }
 },
 "nbformat": 4,
 "nbformat_minor": 4
}
