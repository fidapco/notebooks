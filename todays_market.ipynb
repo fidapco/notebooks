{
 "cells": [
  {
   "cell_type": "markdown",
   "metadata": {},
   "source": [
    "# Today's Market\n",
    "\n",
    "In this notebook, we'll take a look at today's market."
   ]
  },
  {
   "cell_type": "code",
   "execution_count": 1,
   "metadata": {
    "ExecuteTime": {
     "end_time": "2021-01-05T21:26:10.025863Z",
     "start_time": "2021-01-05T21:26:09.249807Z"
    }
   },
   "outputs": [],
   "source": [
    "import pandas as pd\n",
    "from fidap import fidap_client"
   ]
  },
  {
   "cell_type": "code",
   "execution_count": 3,
   "metadata": {},
   "outputs": [],
   "source": [
    "fidap = fidap_client(db=\"sf\", api_key=\"1287a2d9e40042edb53254cd203b9a0b\")"
   ]
  },
  {
   "cell_type": "markdown",
   "metadata": {},
   "source": [
    "## Aggregate statistics"
   ]
  },
  {
   "cell_type": "markdown",
   "metadata": {},
   "source": [
    "First, let's get some aggregate statistics - how many companies there are, the total market cap, and the historical average volume."
   ]
  },
  {
   "cell_type": "code",
   "execution_count": 4,
   "metadata": {
    "ExecuteTime": {
     "end_time": "2021-01-05T21:26:12.303099Z",
     "start_time": "2021-01-05T21:26:12.111598Z"
    }
   },
   "outputs": [
    {
     "data": {
      "text/html": [
       "<div>\n",
       "<style scoped>\n",
       "    .dataframe tbody tr th:only-of-type {\n",
       "        vertical-align: middle;\n",
       "    }\n",
       "\n",
       "    .dataframe tbody tr th {\n",
       "        vertical-align: top;\n",
       "    }\n",
       "\n",
       "    .dataframe thead th {\n",
       "        text-align: right;\n",
       "    }\n",
       "</style>\n",
       "<table border=\"1\" class=\"dataframe\">\n",
       "  <thead>\n",
       "    <tr style=\"text-align: right;\">\n",
       "      <th></th>\n",
       "      <th>TICKER_COUNT</th>\n",
       "      <th>MARKETCAP_SUM</th>\n",
       "      <th>MARKETCAP_SUM_TR</th>\n",
       "      <th>MC_CH_SUM</th>\n",
       "      <th>MC_CH_SUM_BN</th>\n",
       "      <th>PCT_MC_CH</th>\n",
       "      <th>PC_1D_AVG</th>\n",
       "      <th>DISPERSION</th>\n",
       "      <th>REVENUE</th>\n",
       "    </tr>\n",
       "  </thead>\n",
       "  <tbody>\n",
       "    <tr>\n",
       "      <th>0</th>\n",
       "      <td>4767</td>\n",
       "      <td>4.674321e+19</td>\n",
       "      <td>46743206.3</td>\n",
       "      <td>-817442552500000000</td>\n",
       "      <td>-8.174426e+08</td>\n",
       "      <td>-1.748794</td>\n",
       "      <td>-1.077896</td>\n",
       "      <td>6.667624</td>\n",
       "      <td>4573561095163</td>\n",
       "    </tr>\n",
       "  </tbody>\n",
       "</table>\n",
       "</div>"
      ],
      "text/plain": [
       "   TICKER_COUNT  MARKETCAP_SUM  MARKETCAP_SUM_TR           MC_CH_SUM  MC_CH_SUM_BN  PCT_MC_CH  PC_1D_AVG  DISPERSION        REVENUE\n",
       "0          4767   4.674321e+19        46743206.3 -817442552500000000 -8.174426e+08  -1.748794  -1.077896    6.667624  4573561095163"
      ]
     },
     "execution_count": 4,
     "metadata": {},
     "output_type": "execute_result"
    }
   ],
   "source": [
    "df = fidap.sql(\"\"\"SELECT count(ticker) ticker_count,\n",
    "       sum(marketcap) marketcap_sum,\n",
    "       sum(marketcap) / 1e12 marketcap_sum_tr,\n",
    "       sum(mc_ch) mc_ch_sum,\n",
    "       sum(mc_ch)/1e9 mc_ch_sum_bn,\n",
    "       (sum(mc_ch) / sum(marketcap)) *100 as pct_mc_ch,\n",
    "       avg(pc_1d) *100 pc_1d_avg,\n",
    "       stddev(pc_1d) * 100 dispersion,\n",
    "       sum(revenueusd) as revenue\n",
    "FROM tickers\n",
    "WHERE marketcap > 100e6\"\"\")\n",
    "df"
   ]
  },
  {
   "cell_type": "markdown",
   "metadata": {},
   "source": [
    "In more readable terms - "
   ]
  },
  {
   "cell_type": "code",
   "execution_count": 6,
   "metadata": {
    "ExecuteTime": {
     "end_time": "2021-01-05T21:26:16.850663Z",
     "start_time": "2021-01-05T21:26:16.824297Z"
    }
   },
   "outputs": [
    {
     "name": "stdout",
     "output_type": "stream",
     "text": [
      "\n",
      "Number of companies: 4767\n",
      "Total market cap: 46743206.300000004 trillion\n",
      "\n"
     ]
    }
   ],
   "source": [
    "print(\"\"\"\n",
    "Number of companies: {}\n",
    "Total market cap: {} trillion\n",
    "\"\"\".format(df.loc[0,'TICKER_COUNT'], df.loc[0,'MARKETCAP_SUM_TR']))"
   ]
  },
  {
   "cell_type": "code",
   "execution_count": 7,
   "metadata": {
    "ExecuteTime": {
     "end_time": "2021-01-05T21:26:19.219782Z",
     "start_time": "2021-01-05T21:26:17.453515Z"
    }
   },
   "outputs": [],
   "source": [
    "df_tickers = fidap.sql(\"select * from tickers where marketcap > 1e8\")"
   ]
  },
  {
   "cell_type": "code",
   "execution_count": 9,
   "metadata": {
    "ExecuteTime": {
     "end_time": "2021-01-05T21:26:19.863147Z",
     "start_time": "2021-01-05T21:26:19.842204Z"
    }
   },
   "outputs": [
    {
     "data": {
      "text/plain": [
       "0      2021-01-29\n",
       "1      2021-01-29\n",
       "2      2021-01-29\n",
       "3      2021-01-29\n",
       "4      2021-01-29\n",
       "          ...    \n",
       "4762   2021-01-29\n",
       "4763   2021-01-29\n",
       "4764   2021-01-29\n",
       "4765   2021-01-29\n",
       "4766   2021-01-29\n",
       "Name: DATE, Length: 4767, dtype: datetime64[ns]"
      ]
     },
     "execution_count": 9,
     "metadata": {},
     "output_type": "execute_result"
    }
   ],
   "source": [
    "df_tickers['DATE']"
   ]
  },
  {
   "cell_type": "markdown",
   "metadata": {},
   "source": [
    "## Top companies\n",
    "\n",
    "We can look at the top companies in several ways - by market cap, revenue, assets, etc. Here are some views - \n",
    "\n",
    "### By market cap\n",
    "\n"
   ]
  },
  {
   "cell_type": "markdown",
   "metadata": {},
   "source": [
    "### By revenue "
   ]
  },
  {
   "cell_type": "code",
   "execution_count": null,
   "metadata": {},
   "outputs": [],
   "source": []
  }
 ],
 "metadata": {
  "kernelspec": {
   "display_name": "Python 3",
   "language": "python",
   "name": "python3"
  },
  "language_info": {
   "codemirror_mode": {
    "name": "ipython",
    "version": 3
   },
   "file_extension": ".py",
   "mimetype": "text/x-python",
   "name": "python",
   "nbconvert_exporter": "python",
   "pygments_lexer": "ipython3",
   "version": "3.8.6"
  },
  "toc": {
   "colors": {
    "hover_highlight": "#DAA520",
    "running_highlight": "#FF0000",
    "selected_highlight": "#FFD700"
   },
   "moveMenuLeft": true,
   "nav_menu": {
    "height": "102px",
    "width": "252px"
   },
   "navigate_menu": true,
   "number_sections": true,
   "sideBar": true,
   "threshold": 4,
   "toc_cell": false,
   "toc_section_display": "block",
   "toc_window_display": false,
   "widenNotebook": false
  }
 },
 "nbformat": 4,
 "nbformat_minor": 4
}
