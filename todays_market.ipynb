{
 "cells": [
  {
   "cell_type": "markdown",
   "metadata": {},
   "source": [
    "# Today's Market\n",
    "\n",
    "In this notebook, we'll take a look at today's market."
   ]
  },
  {
   "cell_type": "code",
   "execution_count": 11,
   "metadata": {
    "ExecuteTime": {
     "end_time": "2021-01-05T21:26:10.025863Z",
     "start_time": "2021-01-05T21:26:09.249807Z"
    }
   },
   "outputs": [
    {
     "data": {
      "text/plain": [
       "<module 'fidap' from 'C:\\\\Users\\\\User\\\\Google Drive\\\\Python\\\\fidap-notebooks\\\\fidap.py'>"
      ]
     },
     "execution_count": 11,
     "metadata": {},
     "output_type": "execute_result"
    }
   ],
   "source": [
    "import fidap, pandas as pd, importlib\n",
    "importlib.reload(fidap)"
   ]
  },
  {
   "cell_type": "markdown",
   "metadata": {},
   "source": [
    "## Aggregate statistics"
   ]
  },
  {
   "cell_type": "markdown",
   "metadata": {},
   "source": [
    "First, let's get some aggregate statistics - how many companies there are, the total market cap, and the historical average volume."
   ]
  },
  {
   "cell_type": "code",
   "execution_count": 12,
   "metadata": {
    "ExecuteTime": {
     "end_time": "2021-01-05T21:26:12.303099Z",
     "start_time": "2021-01-05T21:26:12.111598Z"
    }
   },
   "outputs": [
    {
     "data": {
      "text/html": [
       "<div>\n",
       "<style scoped>\n",
       "    .dataframe tbody tr th:only-of-type {\n",
       "        vertical-align: middle;\n",
       "    }\n",
       "\n",
       "    .dataframe tbody tr th {\n",
       "        vertical-align: top;\n",
       "    }\n",
       "\n",
       "    .dataframe thead th {\n",
       "        text-align: right;\n",
       "    }\n",
       "</style>\n",
       "<table border=\"1\" class=\"dataframe\">\n",
       "  <thead>\n",
       "    <tr style=\"text-align: right;\">\n",
       "      <th></th>\n",
       "      <th>ticker_count</th>\n",
       "      <th>marketcap_sum</th>\n",
       "      <th>marketcap_sum_tr</th>\n",
       "      <th>mc_ch_sum</th>\n",
       "      <th>mc_ch_sum_bn</th>\n",
       "      <th>pct_mc_ch</th>\n",
       "      <th>pc_1d_avg</th>\n",
       "      <th>dispersion</th>\n",
       "      <th>revenue</th>\n",
       "    </tr>\n",
       "  </thead>\n",
       "  <tbody>\n",
       "    <tr>\n",
       "      <th>0</th>\n",
       "      <td>3707</td>\n",
       "      <td>4.633133e+13</td>\n",
       "      <td>46.331331</td>\n",
       "      <td>1.419051e+11</td>\n",
       "      <td>141.905068</td>\n",
       "      <td>0.306283</td>\n",
       "      <td>-0.095436</td>\n",
       "      <td>2.741318</td>\n",
       "      <td>4.475921e+12</td>\n",
       "    </tr>\n",
       "  </tbody>\n",
       "</table>\n",
       "</div>"
      ],
      "text/plain": [
       "   ticker_count  marketcap_sum  marketcap_sum_tr     mc_ch_sum  mc_ch_sum_bn  \\\n",
       "0          3707   4.633133e+13         46.331331  1.419051e+11    141.905068   \n",
       "\n",
       "   pct_mc_ch  pc_1d_avg  dispersion       revenue  \n",
       "0   0.306283  -0.095436    2.741318  4.475921e+12  "
      ]
     },
     "execution_count": 12,
     "metadata": {},
     "output_type": "execute_result"
    }
   ],
   "source": [
    "df = fidap.sql(\"\"\"SELECT count(ticker) ticker_count,\n",
    "       sum(marketcap) marketcap_sum,\n",
    "       sum(marketcap) / 1e12 marketcap_sum_tr,\n",
    "       sum(mc_ch) mc_ch_sum,\n",
    "       sum(mc_ch)/1e9 mc_ch_sum_bn,\n",
    "       (sum(mc_ch) / sum(marketcap)) *100 as pct_mc_ch,\n",
    "       avg(pc_1d) *100 pc_1d_avg,\n",
    "       stddev(pc_1d) * 100 dispersion,\n",
    "       sum(revenueusd) as revenue\n",
    "FROM tickers\n",
    "WHERE marketcap > 100e6\"\"\")\n",
    "df"
   ]
  },
  {
   "cell_type": "markdown",
   "metadata": {},
   "source": [
    "In more readable terms - "
   ]
  },
  {
   "cell_type": "code",
   "execution_count": 13,
   "metadata": {
    "ExecuteTime": {
     "end_time": "2021-01-05T21:26:16.850663Z",
     "start_time": "2021-01-05T21:26:16.824297Z"
    }
   },
   "outputs": [
    {
     "name": "stdout",
     "output_type": "stream",
     "text": [
      "\n",
      "Number of companies: 3707\n",
      "Total market cap: 46.33133056 trillion\n",
      "\n"
     ]
    }
   ],
   "source": [
    "print(\"\"\"\n",
    "Number of companies: {}\n",
    "Total market cap: {} trillion\n",
    "\"\"\".format(df.loc[0,'ticker_count'], df.loc[0,'marketcap_sum_tr']))"
   ]
  },
  {
   "cell_type": "code",
   "execution_count": 14,
   "metadata": {
    "ExecuteTime": {
     "end_time": "2021-01-05T21:26:19.219782Z",
     "start_time": "2021-01-05T21:26:17.453515Z"
    }
   },
   "outputs": [],
   "source": [
    "df_tickers = fidap.sql(\"select * from tickers where marketcap > 1e8\")"
   ]
  },
  {
   "cell_type": "code",
   "execution_count": 15,
   "metadata": {
    "ExecuteTime": {
     "end_time": "2021-01-05T21:26:19.863147Z",
     "start_time": "2021-01-05T21:26:19.842204Z"
    }
   },
   "outputs": [
    {
     "data": {
      "text/plain": [
       "0      2020-12-31\n",
       "1      2020-12-31\n",
       "2      2020-12-31\n",
       "3      2020-12-31\n",
       "4      2020-12-31\n",
       "          ...    \n",
       "3702   2020-12-31\n",
       "3703   2020-12-31\n",
       "3704   2020-12-31\n",
       "3705   2020-12-31\n",
       "3706   2020-12-31\n",
       "Name: date, Length: 3707, dtype: datetime64[ns]"
      ]
     },
     "execution_count": 15,
     "metadata": {},
     "output_type": "execute_result"
    }
   ],
   "source": [
    "df_tickers['date']"
   ]
  },
  {
   "cell_type": "markdown",
   "metadata": {},
   "source": [
    "## Top companies\n",
    "\n",
    "We can look at the top companies in several ways - by market cap, revenue, assets, etc. Here are some views - \n",
    "\n",
    "### By market cap\n",
    "\n"
   ]
  },
  {
   "cell_type": "markdown",
   "metadata": {},
   "source": [
    "### By revenue "
   ]
  },
  {
   "cell_type": "code",
   "execution_count": null,
   "metadata": {},
   "outputs": [],
   "source": []
  }
 ],
 "metadata": {
  "kernelspec": {
   "display_name": "Python 3",
   "language": "python",
   "name": "python3"
  },
  "language_info": {
   "codemirror_mode": {
    "name": "ipython",
    "version": 3
   },
   "file_extension": ".py",
   "mimetype": "text/x-python",
   "name": "python",
   "nbconvert_exporter": "python",
   "pygments_lexer": "ipython3",
   "version": "3.7.6"
  },
  "toc": {
   "colors": {
    "hover_highlight": "#DAA520",
    "running_highlight": "#FF0000",
    "selected_highlight": "#FFD700"
   },
   "moveMenuLeft": true,
   "nav_menu": {
    "height": "102px",
    "width": "252px"
   },
   "navigate_menu": true,
   "number_sections": true,
   "sideBar": true,
   "threshold": 4,
   "toc_cell": false,
   "toc_section_display": "block",
   "toc_window_display": false,
   "widenNotebook": false
  }
 },
 "nbformat": 4,
 "nbformat_minor": 4
}
