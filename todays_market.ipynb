{
 "cells": [
  {
   "cell_type": "markdown",
   "metadata": {},
   "source": [
    "# Today's Market\n",
    "\n",
    "In this notebook, we'll take a look at today's market."
   ]
  },
  {
   "cell_type": "code",
   "execution_count": 20,
   "metadata": {
    "ExecuteTime": {
     "end_time": "2021-01-05T21:26:10.025863Z",
     "start_time": "2021-01-05T21:26:09.249807Z"
    }
   },
   "outputs": [],
   "source": [
    "import pandas as pd\n",
    "from fidap import fidap_client\n",
    "import config"
   ]
  },
  {
   "cell_type": "code",
   "execution_count": 21,
   "metadata": {},
   "outputs": [],
   "source": [
    "fidap = fidap_client(api_key=config.FIDAP_API_KEY)"
   ]
  },
  {
   "cell_type": "markdown",
   "metadata": {},
   "source": [
    "## Aggregate statistics"
   ]
  },
  {
   "cell_type": "markdown",
   "metadata": {},
   "source": [
    "First, let's get some aggregate statistics - how many companies there are, the total market cap, and the historical average volume."
   ]
  },
  {
   "cell_type": "code",
   "execution_count": 79,
   "metadata": {
    "ExecuteTime": {
     "end_time": "2021-01-05T21:26:12.303099Z",
     "start_time": "2021-01-05T21:26:12.111598Z"
    }
   },
   "outputs": [
    {
     "data": {
      "text/html": [
       "<div>\n",
       "<style scoped>\n",
       "    .dataframe tbody tr th:only-of-type {\n",
       "        vertical-align: middle;\n",
       "    }\n",
       "\n",
       "    .dataframe tbody tr th {\n",
       "        vertical-align: top;\n",
       "    }\n",
       "\n",
       "    .dataframe thead th {\n",
       "        text-align: right;\n",
       "    }\n",
       "</style>\n",
       "<table border=\"1\" class=\"dataframe\">\n",
       "  <thead>\n",
       "    <tr style=\"text-align: right;\">\n",
       "      <th></th>\n",
       "      <th>ticker_count</th>\n",
       "      <th>marketcap_sum</th>\n",
       "      <th>marketcap_sum_tr</th>\n",
       "      <th>mc_ch_sum</th>\n",
       "      <th>mc_ch_sum_bn</th>\n",
       "      <th>pct_mc_ch</th>\n",
       "      <th>pc_1d_avg</th>\n",
       "      <th>dispersion</th>\n",
       "      <th>revenue</th>\n",
       "    </tr>\n",
       "  </thead>\n",
       "  <tbody>\n",
       "    <tr>\n",
       "      <th>0</th>\n",
       "      <td>4900</td>\n",
       "      <td>5.011881e+19</td>\n",
       "      <td>50.118813</td>\n",
       "      <td>138359266900000000</td>\n",
       "      <td>138.359267</td>\n",
       "      <td>0.276063</td>\n",
       "      <td>0.888332</td>\n",
       "      <td>4.795466</td>\n",
       "      <td>4975194415395</td>\n",
       "    </tr>\n",
       "  </tbody>\n",
       "</table>\n",
       "</div>"
      ],
      "text/plain": [
       "   ticker_count  marketcap_sum  marketcap_sum_tr           mc_ch_sum  \\\n",
       "0          4900   5.011881e+19         50.118813  138359266900000000   \n",
       "\n",
       "   mc_ch_sum_bn  pct_mc_ch  pc_1d_avg  dispersion        revenue  \n",
       "0    138.359267   0.276063   0.888332    4.795466  4975194415395  "
      ]
     },
     "execution_count": 79,
     "metadata": {},
     "output_type": "execute_result"
    }
   ],
   "source": [
    "df = fidap.sql(\"\"\"SELECT count(\"ticker\") ticker_count, \n",
    "       sum(\"marketcap\") marketcap_sum, \n",
    "       sum(\"marketcap\") / 1e18 marketcap_sum_tr, \n",
    "       sum(\"mc_ch\") mc_ch_sum, \n",
    "       sum(\"mc_ch\")/1e15 mc_ch_sum_bn, \n",
    "       (sum(\"mc_ch\") / sum(\"marketcap\")) *100 as pct_mc_ch,\n",
    "       avg(\"pc_1d\") *100 pc_1d_avg,\n",
    "       stddev(\"pc_1d\") * 100 dispersion,\n",
    "       sum(\"revenueusd\") as revenue\n",
    "FROM \"FIDAP_DATA_SOURCES\".\"FIDAP_SCHEMA\".\"tickers\"\n",
    "WHERE \"marketcap\" > 100e6;\"\"\")\n",
    "df"
   ]
  },
  {
   "cell_type": "markdown",
   "metadata": {},
   "source": [
    "In more readable terms - "
   ]
  },
  {
   "cell_type": "code",
   "execution_count": 80,
   "metadata": {
    "ExecuteTime": {
     "end_time": "2021-01-05T21:26:16.850663Z",
     "start_time": "2021-01-05T21:26:16.824297Z"
    }
   },
   "outputs": [
    {
     "name": "stdout",
     "output_type": "stream",
     "text": [
      "\n",
      "Number of companies: 4900\n",
      "Total market cap: 50.1188131 trillion\n",
      "\n"
     ]
    }
   ],
   "source": [
    "print(\"\"\"\n",
    "Number of companies: {}\n",
    "Total market cap: {} trillion\n",
    "\"\"\".format(df.loc[0,'ticker_count'], df.loc[0,'marketcap_sum_tr']))"
   ]
  },
  {
   "cell_type": "markdown",
   "metadata": {},
   "source": [
    "## Top companies\n",
    "\n",
    "We can look at the top companies in several ways - by market cap, revenue, assets, etc. Here are some views - \n",
    "\n",
    "### Top 10 By Market Cap"
   ]
  },
  {
   "cell_type": "code",
   "execution_count": 65,
   "metadata": {},
   "outputs": [
    {
     "data": {
      "text/html": [
       "<div>\n",
       "<style scoped>\n",
       "    .dataframe tbody tr th:only-of-type {\n",
       "        vertical-align: middle;\n",
       "    }\n",
       "\n",
       "    .dataframe tbody tr th {\n",
       "        vertical-align: top;\n",
       "    }\n",
       "\n",
       "    .dataframe thead th {\n",
       "        text-align: right;\n",
       "    }\n",
       "</style>\n",
       "<table border=\"1\" class=\"dataframe\">\n",
       "  <thead>\n",
       "    <tr style=\"text-align: right;\">\n",
       "      <th></th>\n",
       "      <th>ticker</th>\n",
       "      <th>name</th>\n",
       "      <th>marketcap_usd_trillion</th>\n",
       "    </tr>\n",
       "  </thead>\n",
       "  <tbody>\n",
       "    <tr>\n",
       "      <th>0</th>\n",
       "      <td>AAPL</td>\n",
       "      <td>APPLE INC</td>\n",
       "      <td>2.014404</td>\n",
       "    </tr>\n",
       "    <tr>\n",
       "      <th>1</th>\n",
       "      <td>MSFT</td>\n",
       "      <td>MICROSOFT CORP</td>\n",
       "      <td>1.737349</td>\n",
       "    </tr>\n",
       "    <tr>\n",
       "      <th>2</th>\n",
       "      <td>AMZN</td>\n",
       "      <td>AMAZON COM INC</td>\n",
       "      <td>1.548441</td>\n",
       "    </tr>\n",
       "    <tr>\n",
       "      <th>3</th>\n",
       "      <td>GOOGL</td>\n",
       "      <td>ALPHABET INC</td>\n",
       "      <td>1.366448</td>\n",
       "    </tr>\n",
       "    <tr>\n",
       "      <th>4</th>\n",
       "      <td>FB</td>\n",
       "      <td>FACEBOOK INC</td>\n",
       "      <td>0.826137</td>\n",
       "    </tr>\n",
       "    <tr>\n",
       "      <th>5</th>\n",
       "      <td>BABA</td>\n",
       "      <td>ALIBABA GRP HLDG LTD</td>\n",
       "      <td>0.650430</td>\n",
       "    </tr>\n",
       "    <tr>\n",
       "      <th>6</th>\n",
       "      <td>TSLA</td>\n",
       "      <td>TESLA INC</td>\n",
       "      <td>0.628579</td>\n",
       "    </tr>\n",
       "    <tr>\n",
       "      <th>7</th>\n",
       "      <td>BRK.B</td>\n",
       "      <td>BERKSHIRE HATHAWAY INC</td>\n",
       "      <td>0.579195</td>\n",
       "    </tr>\n",
       "    <tr>\n",
       "      <th>8</th>\n",
       "      <td>JPM</td>\n",
       "      <td>JPMORGAN CHASE &amp; CO</td>\n",
       "      <td>0.473411</td>\n",
       "    </tr>\n",
       "    <tr>\n",
       "      <th>9</th>\n",
       "      <td>JNJ</td>\n",
       "      <td>JOHNSON &amp; JOHNSON</td>\n",
       "      <td>0.420694</td>\n",
       "    </tr>\n",
       "  </tbody>\n",
       "</table>\n",
       "</div>"
      ],
      "text/plain": [
       "  ticker                    name  marketcap_usd_trillion\n",
       "0   AAPL               APPLE INC                2.014404\n",
       "1   MSFT          MICROSOFT CORP                1.737349\n",
       "2   AMZN          AMAZON COM INC                1.548441\n",
       "3  GOOGL            ALPHABET INC                1.366448\n",
       "4     FB            FACEBOOK INC                0.826137\n",
       "5   BABA    ALIBABA GRP HLDG LTD                0.650430\n",
       "6   TSLA               TESLA INC                0.628579\n",
       "7  BRK.B  BERKSHIRE HATHAWAY INC                0.579195\n",
       "8    JPM     JPMORGAN CHASE & CO                0.473411\n",
       "9    JNJ       JOHNSON & JOHNSON                0.420694"
      ]
     },
     "execution_count": 65,
     "metadata": {},
     "output_type": "execute_result"
    }
   ],
   "source": [
    "df_marketcap = fidap.sql(\"\"\"SELECT \"ticker\", \"name\",  \"marketcap\"/1e18 as \"marketcap_usd_trillion\" FROM \"FIDAP_DATA_SOURCES\".\"FIDAP_SCHEMA\".\"tickers\" WHERE \"marketcap\" IS NOT NULL ORDER BY \"marketcap\" DESC LIMIT 10;\"\"\")\n",
    "df_marketcap"
   ]
  },
  {
   "cell_type": "markdown",
   "metadata": {},
   "source": [
    "#### Top 10 By Revenue"
   ]
  },
  {
   "cell_type": "code",
   "execution_count": 66,
   "metadata": {},
   "outputs": [
    {
     "data": {
      "text/html": [
       "<div>\n",
       "<style scoped>\n",
       "    .dataframe tbody tr th:only-of-type {\n",
       "        vertical-align: middle;\n",
       "    }\n",
       "\n",
       "    .dataframe tbody tr th {\n",
       "        vertical-align: top;\n",
       "    }\n",
       "\n",
       "    .dataframe thead th {\n",
       "        text-align: right;\n",
       "    }\n",
       "</style>\n",
       "<table border=\"1\" class=\"dataframe\">\n",
       "  <thead>\n",
       "    <tr style=\"text-align: right;\">\n",
       "      <th></th>\n",
       "      <th>ticker</th>\n",
       "      <th>name</th>\n",
       "      <th>revenue_usd_billion</th>\n",
       "    </tr>\n",
       "  </thead>\n",
       "  <tbody>\n",
       "    <tr>\n",
       "      <th>0</th>\n",
       "      <td>WMT</td>\n",
       "      <td>WALMART INC</td>\n",
       "      <td>152.079000</td>\n",
       "    </tr>\n",
       "    <tr>\n",
       "      <th>1</th>\n",
       "      <td>AMZN</td>\n",
       "      <td>AMAZON COM INC</td>\n",
       "      <td>125.555000</td>\n",
       "    </tr>\n",
       "    <tr>\n",
       "      <th>2</th>\n",
       "      <td>AAPL</td>\n",
       "      <td>APPLE INC</td>\n",
       "      <td>111.439000</td>\n",
       "    </tr>\n",
       "    <tr>\n",
       "      <th>3</th>\n",
       "      <td>BRK.B</td>\n",
       "      <td>BERKSHIRE HATHAWAY INC</td>\n",
       "      <td>103.735000</td>\n",
       "    </tr>\n",
       "    <tr>\n",
       "      <th>4</th>\n",
       "      <td>TM</td>\n",
       "      <td>TOYOTA MTR CORP</td>\n",
       "      <td>78.744271</td>\n",
       "    </tr>\n",
       "    <tr>\n",
       "      <th>5</th>\n",
       "      <td>CVS</td>\n",
       "      <td>CVS HLTH CORP</td>\n",
       "      <td>69.554000</td>\n",
       "    </tr>\n",
       "    <tr>\n",
       "      <th>6</th>\n",
       "      <td>UNH</td>\n",
       "      <td>UNITEDHEALTH GRP INC</td>\n",
       "      <td>65.467000</td>\n",
       "    </tr>\n",
       "    <tr>\n",
       "      <th>7</th>\n",
       "      <td>MCK</td>\n",
       "      <td>MCKESSON CORP</td>\n",
       "      <td>62.599000</td>\n",
       "    </tr>\n",
       "    <tr>\n",
       "      <th>8</th>\n",
       "      <td>GOOGL</td>\n",
       "      <td>ALPHABET INC</td>\n",
       "      <td>56.898000</td>\n",
       "    </tr>\n",
       "    <tr>\n",
       "      <th>9</th>\n",
       "      <td>ABC</td>\n",
       "      <td>AMERISOURCEBERGEN CORP</td>\n",
       "      <td>52.516556</td>\n",
       "    </tr>\n",
       "  </tbody>\n",
       "</table>\n",
       "</div>"
      ],
      "text/plain": [
       "  ticker                    name  revenue_usd_billion\n",
       "0    WMT             WALMART INC           152.079000\n",
       "1   AMZN          AMAZON COM INC           125.555000\n",
       "2   AAPL               APPLE INC           111.439000\n",
       "3  BRK.B  BERKSHIRE HATHAWAY INC           103.735000\n",
       "4     TM         TOYOTA MTR CORP            78.744271\n",
       "5    CVS           CVS HLTH CORP            69.554000\n",
       "6    UNH    UNITEDHEALTH GRP INC            65.467000\n",
       "7    MCK           MCKESSON CORP            62.599000\n",
       "8  GOOGL            ALPHABET INC            56.898000\n",
       "9    ABC  AMERISOURCEBERGEN CORP            52.516556"
      ]
     },
     "execution_count": 66,
     "metadata": {},
     "output_type": "execute_result"
    }
   ],
   "source": [
    "df_revenue = fidap.sql(\"\"\"SELECT \"ticker\", \"name\", \"revenueusd\"/1e9 as \"revenue_usd_billion\" FROM \"FIDAP_DATA_SOURCES\".\"FIDAP_SCHEMA\".\"tickers\" WHERE \"revenueusd\" IS NOT NULL ORDER BY \"revenueusd\" DESC LIMIT 10;\"\"\")\n",
    "df_revenue"
   ]
  },
  {
   "cell_type": "markdown",
   "metadata": {},
   "source": [
    "#### Top 10 Market Cap Percent Gainers"
   ]
  },
  {
   "cell_type": "code",
   "execution_count": 70,
   "metadata": {},
   "outputs": [
    {
     "data": {
      "text/html": [
       "<div>\n",
       "<style scoped>\n",
       "    .dataframe tbody tr th:only-of-type {\n",
       "        vertical-align: middle;\n",
       "    }\n",
       "\n",
       "    .dataframe tbody tr th {\n",
       "        vertical-align: top;\n",
       "    }\n",
       "\n",
       "    .dataframe thead th {\n",
       "        text-align: right;\n",
       "    }\n",
       "</style>\n",
       "<table border=\"1\" class=\"dataframe\">\n",
       "  <thead>\n",
       "    <tr style=\"text-align: right;\">\n",
       "      <th></th>\n",
       "      <th>ticker</th>\n",
       "      <th>name</th>\n",
       "      <th>marketcap_usd_billion</th>\n",
       "      <th>marketcap_pct_change</th>\n",
       "    </tr>\n",
       "  </thead>\n",
       "  <tbody>\n",
       "    <tr>\n",
       "      <th>0</th>\n",
       "      <td>ARNI</td>\n",
       "      <td>ARNO THERA INC</td>\n",
       "      <td>0.0005</td>\n",
       "      <td>150.00</td>\n",
       "    </tr>\n",
       "    <tr>\n",
       "      <th>1</th>\n",
       "      <td>PFTI</td>\n",
       "      <td>PURADYN FILTER TECH INC</td>\n",
       "      <td>0.0010</td>\n",
       "      <td>66.67</td>\n",
       "    </tr>\n",
       "    <tr>\n",
       "      <th>2</th>\n",
       "      <td>CLVS</td>\n",
       "      <td>CLOVIS ONCOLOGY INC</td>\n",
       "      <td>0.8216</td>\n",
       "      <td>47.74</td>\n",
       "    </tr>\n",
       "    <tr>\n",
       "      <th>3</th>\n",
       "      <td>HOFV</td>\n",
       "      <td>HALL OF FAME RESORT &amp; ENTMT CO</td>\n",
       "      <td>0.3331</td>\n",
       "      <td>46.52</td>\n",
       "    </tr>\n",
       "    <tr>\n",
       "      <th>4</th>\n",
       "      <td>MDIT</td>\n",
       "      <td>MEDITE CANCER DIAG INC</td>\n",
       "      <td>0.0023</td>\n",
       "      <td>44.44</td>\n",
       "    </tr>\n",
       "    <tr>\n",
       "      <th>5</th>\n",
       "      <td>FHTX</td>\n",
       "      <td>FOGHORN THERA INC</td>\n",
       "      <td>0.5935</td>\n",
       "      <td>36.61</td>\n",
       "    </tr>\n",
       "    <tr>\n",
       "      <th>6</th>\n",
       "      <td>SNES</td>\n",
       "      <td>SENESTECH INC</td>\n",
       "      <td>0.0093</td>\n",
       "      <td>35.12</td>\n",
       "    </tr>\n",
       "    <tr>\n",
       "      <th>7</th>\n",
       "      <td>MRKR</td>\n",
       "      <td>MARKER THERA INC</td>\n",
       "      <td>0.1228</td>\n",
       "      <td>34.44</td>\n",
       "    </tr>\n",
       "    <tr>\n",
       "      <th>8</th>\n",
       "      <td>STON</td>\n",
       "      <td>STONEMOR INC</td>\n",
       "      <td>0.3206</td>\n",
       "      <td>32.04</td>\n",
       "    </tr>\n",
       "    <tr>\n",
       "      <th>9</th>\n",
       "      <td>RIII</td>\n",
       "      <td>RENAVOTIO INC</td>\n",
       "      <td>0.0081</td>\n",
       "      <td>31.58</td>\n",
       "    </tr>\n",
       "  </tbody>\n",
       "</table>\n",
       "</div>"
      ],
      "text/plain": [
       "  ticker                            name  marketcap_usd_billion  \\\n",
       "0   ARNI                  ARNO THERA INC                 0.0005   \n",
       "1   PFTI         PURADYN FILTER TECH INC                 0.0010   \n",
       "2   CLVS             CLOVIS ONCOLOGY INC                 0.8216   \n",
       "3   HOFV  HALL OF FAME RESORT & ENTMT CO                 0.3331   \n",
       "4   MDIT          MEDITE CANCER DIAG INC                 0.0023   \n",
       "5   FHTX               FOGHORN THERA INC                 0.5935   \n",
       "6   SNES                   SENESTECH INC                 0.0093   \n",
       "7   MRKR                MARKER THERA INC                 0.1228   \n",
       "8   STON                    STONEMOR INC                 0.3206   \n",
       "9   RIII                   RENAVOTIO INC                 0.0081   \n",
       "\n",
       "   marketcap_pct_change  \n",
       "0                150.00  \n",
       "1                 66.67  \n",
       "2                 47.74  \n",
       "3                 46.52  \n",
       "4                 44.44  \n",
       "5                 36.61  \n",
       "6                 35.12  \n",
       "7                 34.44  \n",
       "8                 32.04  \n",
       "9                 31.58  "
      ]
     },
     "execution_count": 70,
     "metadata": {},
     "output_type": "execute_result"
    }
   ],
   "source": [
    "df_mc_pct_gainers = fidap.sql(\"\"\"SELECT \"ticker\", \"name\", \"marketcap\"/1e15 as \"marketcap_usd_billion\", ROUND(100*DIV0(\"mc_ch\",\"marketcap\"),2) as \"marketcap_pct_change\" FROM \"FIDAP_DATA_SOURCES\".\"FIDAP_SCHEMA\".\"tickers\" WHERE \"marketcap\" IS NOT NULL ORDER BY \"marketcap_pct_change\" DESC LIMIT 10;\"\"\")\n",
    "df_mc_pct_gainers"
   ]
  },
  {
   "cell_type": "markdown",
   "metadata": {},
   "source": [
    "#### Top 10 Marketcap Percent Losers"
   ]
  },
  {
   "cell_type": "code",
   "execution_count": 71,
   "metadata": {},
   "outputs": [
    {
     "data": {
      "text/html": [
       "<div>\n",
       "<style scoped>\n",
       "    .dataframe tbody tr th:only-of-type {\n",
       "        vertical-align: middle;\n",
       "    }\n",
       "\n",
       "    .dataframe tbody tr th {\n",
       "        vertical-align: top;\n",
       "    }\n",
       "\n",
       "    .dataframe thead th {\n",
       "        text-align: right;\n",
       "    }\n",
       "</style>\n",
       "<table border=\"1\" class=\"dataframe\">\n",
       "  <thead>\n",
       "    <tr style=\"text-align: right;\">\n",
       "      <th></th>\n",
       "      <th>ticker</th>\n",
       "      <th>name</th>\n",
       "      <th>marketcap_usd_billion</th>\n",
       "      <th>marketcap_pct_change</th>\n",
       "    </tr>\n",
       "  </thead>\n",
       "  <tbody>\n",
       "    <tr>\n",
       "      <th>0</th>\n",
       "      <td>IDRA</td>\n",
       "      <td>IDERA PHARMA INC</td>\n",
       "      <td>0.0837</td>\n",
       "      <td>-62.00</td>\n",
       "    </tr>\n",
       "    <tr>\n",
       "      <th>1</th>\n",
       "      <td>CRGS</td>\n",
       "      <td>CURAEGIS TECH INC</td>\n",
       "      <td>0.0006</td>\n",
       "      <td>-60.00</td>\n",
       "    </tr>\n",
       "    <tr>\n",
       "      <th>2</th>\n",
       "      <td>KOAN</td>\n",
       "      <td>RESONATE BLENDS INC</td>\n",
       "      <td>0.0104</td>\n",
       "      <td>-33.87</td>\n",
       "    </tr>\n",
       "    <tr>\n",
       "      <th>3</th>\n",
       "      <td>ESMC</td>\n",
       "      <td>ESCALON MEDI CORP</td>\n",
       "      <td>0.0024</td>\n",
       "      <td>-33.12</td>\n",
       "    </tr>\n",
       "    <tr>\n",
       "      <th>4</th>\n",
       "      <td>MOJO</td>\n",
       "      <td>MOJO ORGANICS INC</td>\n",
       "      <td>0.0043</td>\n",
       "      <td>-26.32</td>\n",
       "    </tr>\n",
       "    <tr>\n",
       "      <th>5</th>\n",
       "      <td>GLTC</td>\n",
       "      <td>GELTECH SOL INC</td>\n",
       "      <td>0.0040</td>\n",
       "      <td>-25.53</td>\n",
       "    </tr>\n",
       "    <tr>\n",
       "      <th>6</th>\n",
       "      <td>NUZE</td>\n",
       "      <td>NUZEE INC</td>\n",
       "      <td>0.0599</td>\n",
       "      <td>-21.37</td>\n",
       "    </tr>\n",
       "    <tr>\n",
       "      <th>7</th>\n",
       "      <td>RYMM</td>\n",
       "      <td>ROYAL MINES &amp; MINERALS CORP</td>\n",
       "      <td>0.0037</td>\n",
       "      <td>-21.05</td>\n",
       "    </tr>\n",
       "    <tr>\n",
       "      <th>8</th>\n",
       "      <td>SDRLF</td>\n",
       "      <td>SEADRILL LTD</td>\n",
       "      <td>0.0241</td>\n",
       "      <td>-20.00</td>\n",
       "    </tr>\n",
       "    <tr>\n",
       "      <th>9</th>\n",
       "      <td>RSPI</td>\n",
       "      <td>RESPIRERX PHARMA INC</td>\n",
       "      <td>0.0036</td>\n",
       "      <td>-17.65</td>\n",
       "    </tr>\n",
       "  </tbody>\n",
       "</table>\n",
       "</div>"
      ],
      "text/plain": [
       "  ticker                         name  marketcap_usd_billion  \\\n",
       "0   IDRA             IDERA PHARMA INC                 0.0837   \n",
       "1   CRGS            CURAEGIS TECH INC                 0.0006   \n",
       "2   KOAN          RESONATE BLENDS INC                 0.0104   \n",
       "3   ESMC            ESCALON MEDI CORP                 0.0024   \n",
       "4   MOJO            MOJO ORGANICS INC                 0.0043   \n",
       "5   GLTC              GELTECH SOL INC                 0.0040   \n",
       "6   NUZE                    NUZEE INC                 0.0599   \n",
       "7   RYMM  ROYAL MINES & MINERALS CORP                 0.0037   \n",
       "8  SDRLF                 SEADRILL LTD                 0.0241   \n",
       "9   RSPI         RESPIRERX PHARMA INC                 0.0036   \n",
       "\n",
       "   marketcap_pct_change  \n",
       "0                -62.00  \n",
       "1                -60.00  \n",
       "2                -33.87  \n",
       "3                -33.12  \n",
       "4                -26.32  \n",
       "5                -25.53  \n",
       "6                -21.37  \n",
       "7                -21.05  \n",
       "8                -20.00  \n",
       "9                -17.65  "
      ]
     },
     "execution_count": 71,
     "metadata": {},
     "output_type": "execute_result"
    }
   ],
   "source": [
    "df_mc_pct_losers = fidap.sql(\"\"\"SELECT \"ticker\", \"name\", \"marketcap\"/1e15 as \"marketcap_usd_billion\", ROUND(100*DIV0(\"mc_ch\",\"marketcap\"),2) as \"marketcap_pct_change\" FROM \"FIDAP_DATA_SOURCES\".\"FIDAP_SCHEMA\".\"tickers\" WHERE \"marketcap\" IS NOT NULL ORDER BY \"marketcap_pct_change\" ASC LIMIT 10;\"\"\")\n",
    "df_mc_pct_losers"
   ]
  },
  {
   "cell_type": "markdown",
   "metadata": {},
   "source": [
    "#### Top 10 Marketcap Gainers"
   ]
  },
  {
   "cell_type": "code",
   "execution_count": 72,
   "metadata": {},
   "outputs": [
    {
     "data": {
      "text/html": [
       "<div>\n",
       "<style scoped>\n",
       "    .dataframe tbody tr th:only-of-type {\n",
       "        vertical-align: middle;\n",
       "    }\n",
       "\n",
       "    .dataframe tbody tr th {\n",
       "        vertical-align: top;\n",
       "    }\n",
       "\n",
       "    .dataframe thead th {\n",
       "        text-align: right;\n",
       "    }\n",
       "</style>\n",
       "<table border=\"1\" class=\"dataframe\">\n",
       "  <thead>\n",
       "    <tr style=\"text-align: right;\">\n",
       "      <th></th>\n",
       "      <th>ticker</th>\n",
       "      <th>name</th>\n",
       "      <th>marketcap_usd_trillion</th>\n",
       "      <th>mc_ch_usd_billion</th>\n",
       "    </tr>\n",
       "  </thead>\n",
       "  <tbody>\n",
       "    <tr>\n",
       "      <th>0</th>\n",
       "      <td>FB</td>\n",
       "      <td>FACEBOOK INC</td>\n",
       "      <td>826.1375</td>\n",
       "      <td>34.069054</td>\n",
       "    </tr>\n",
       "    <tr>\n",
       "      <th>1</th>\n",
       "      <td>AMZN</td>\n",
       "      <td>AMAZON COM INC</td>\n",
       "      <td>1548.4414</td>\n",
       "      <td>24.019330</td>\n",
       "    </tr>\n",
       "    <tr>\n",
       "      <th>2</th>\n",
       "      <td>BABA</td>\n",
       "      <td>ALIBABA GRP HLDG LTD</td>\n",
       "      <td>650.4304</td>\n",
       "      <td>9.243523</td>\n",
       "    </tr>\n",
       "    <tr>\n",
       "      <th>3</th>\n",
       "      <td>HD</td>\n",
       "      <td>HOME DEPOT INC</td>\n",
       "      <td>311.2453</td>\n",
       "      <td>6.529160</td>\n",
       "    </tr>\n",
       "    <tr>\n",
       "      <th>4</th>\n",
       "      <td>WMT</td>\n",
       "      <td>WALMART INC</td>\n",
       "      <td>371.1210</td>\n",
       "      <td>4.938384</td>\n",
       "    </tr>\n",
       "    <tr>\n",
       "      <th>5</th>\n",
       "      <td>FDX</td>\n",
       "      <td>FEDEX CORP</td>\n",
       "      <td>74.1843</td>\n",
       "      <td>4.524085</td>\n",
       "    </tr>\n",
       "    <tr>\n",
       "      <th>6</th>\n",
       "      <td>AVGO</td>\n",
       "      <td>BROADCOM INC</td>\n",
       "      <td>193.7231</td>\n",
       "      <td>4.303103</td>\n",
       "    </tr>\n",
       "    <tr>\n",
       "      <th>7</th>\n",
       "      <td>TGT</td>\n",
       "      <td>TARGET CORP</td>\n",
       "      <td>93.5155</td>\n",
       "      <td>4.134030</td>\n",
       "    </tr>\n",
       "    <tr>\n",
       "      <th>8</th>\n",
       "      <td>BEKE</td>\n",
       "      <td>KE HLDGS INC</td>\n",
       "      <td>75.7816</td>\n",
       "      <td>4.001628</td>\n",
       "    </tr>\n",
       "    <tr>\n",
       "      <th>9</th>\n",
       "      <td>ABT</td>\n",
       "      <td>ABBOTT LAB</td>\n",
       "      <td>213.0264</td>\n",
       "      <td>3.859762</td>\n",
       "    </tr>\n",
       "  </tbody>\n",
       "</table>\n",
       "</div>"
      ],
      "text/plain": [
       "  ticker                  name  marketcap_usd_trillion  mc_ch_usd_billion\n",
       "0     FB          FACEBOOK INC                826.1375          34.069054\n",
       "1   AMZN        AMAZON COM INC               1548.4414          24.019330\n",
       "2   BABA  ALIBABA GRP HLDG LTD                650.4304           9.243523\n",
       "3     HD        HOME DEPOT INC                311.2453           6.529160\n",
       "4    WMT           WALMART INC                371.1210           4.938384\n",
       "5    FDX            FEDEX CORP                 74.1843           4.524085\n",
       "6   AVGO          BROADCOM INC                193.7231           4.303103\n",
       "7    TGT           TARGET CORP                 93.5155           4.134030\n",
       "8   BEKE          KE HLDGS INC                 75.7816           4.001628\n",
       "9    ABT            ABBOTT LAB                213.0264           3.859762"
      ]
     },
     "execution_count": 72,
     "metadata": {},
     "output_type": "execute_result"
    }
   ],
   "source": [
    "df_mc_gains = fidap.sql(\"\"\"SELECT \"ticker\", \"name\", \"marketcap\"/1e15 as \"marketcap_usd_trillion\", \"mc_ch\"/1e15 as \"mc_ch_usd_billion\" FROM \"FIDAP_DATA_SOURCES\".\"FIDAP_SCHEMA\".\"tickers\" WHERE \"marketcap\" IS NOT NULL ORDER BY \"mc_ch_usd_billion\" DESC LIMIT 10;\"\"\")\n",
    "df_mc_gains"
   ]
  },
  {
   "cell_type": "markdown",
   "metadata": {},
   "source": [
    "#### Top 10 Marketcap Losers"
   ]
  },
  {
   "cell_type": "code",
   "execution_count": 73,
   "metadata": {},
   "outputs": [
    {
     "data": {
      "text/html": [
       "<div>\n",
       "<style scoped>\n",
       "    .dataframe tbody tr th:only-of-type {\n",
       "        vertical-align: middle;\n",
       "    }\n",
       "\n",
       "    .dataframe tbody tr th {\n",
       "        vertical-align: top;\n",
       "    }\n",
       "\n",
       "    .dataframe thead th {\n",
       "        text-align: right;\n",
       "    }\n",
       "</style>\n",
       "<table border=\"1\" class=\"dataframe\">\n",
       "  <thead>\n",
       "    <tr style=\"text-align: right;\">\n",
       "      <th></th>\n",
       "      <th>ticker</th>\n",
       "      <th>name</th>\n",
       "      <th>marketcap_usd_trillion</th>\n",
       "      <th>mc_ch_usd_billion</th>\n",
       "    </tr>\n",
       "  </thead>\n",
       "  <tbody>\n",
       "    <tr>\n",
       "      <th>0</th>\n",
       "      <td>V</td>\n",
       "      <td>VISA INC</td>\n",
       "      <td>403.9335</td>\n",
       "      <td>-25.188638</td>\n",
       "    </tr>\n",
       "    <tr>\n",
       "      <th>1</th>\n",
       "      <td>MA</td>\n",
       "      <td>MASTERCARD INC</td>\n",
       "      <td>354.1436</td>\n",
       "      <td>-10.122524</td>\n",
       "    </tr>\n",
       "    <tr>\n",
       "      <th>2</th>\n",
       "      <td>AAPL</td>\n",
       "      <td>APPLE INC</td>\n",
       "      <td>2014.4036</td>\n",
       "      <td>-9.024956</td>\n",
       "    </tr>\n",
       "    <tr>\n",
       "      <th>3</th>\n",
       "      <td>NKE</td>\n",
       "      <td>NIKE INC</td>\n",
       "      <td>216.7516</td>\n",
       "      <td>-8.599211</td>\n",
       "    </tr>\n",
       "    <tr>\n",
       "      <th>4</th>\n",
       "      <td>JPM</td>\n",
       "      <td>JPMORGAN CHASE &amp; CO</td>\n",
       "      <td>473.4107</td>\n",
       "      <td>-7.537335</td>\n",
       "    </tr>\n",
       "    <tr>\n",
       "      <th>5</th>\n",
       "      <td>WFC</td>\n",
       "      <td>WELLS FARGO &amp; CO</td>\n",
       "      <td>163.8346</td>\n",
       "      <td>-4.737193</td>\n",
       "    </tr>\n",
       "    <tr>\n",
       "      <th>6</th>\n",
       "      <td>CB</td>\n",
       "      <td>CHUBB LTD</td>\n",
       "      <td>71.6893</td>\n",
       "      <td>-3.794889</td>\n",
       "    </tr>\n",
       "    <tr>\n",
       "      <th>7</th>\n",
       "      <td>BAC</td>\n",
       "      <td>BANK OF AMERICA CORP</td>\n",
       "      <td>332.6367</td>\n",
       "      <td>-3.502338</td>\n",
       "    </tr>\n",
       "    <tr>\n",
       "      <th>8</th>\n",
       "      <td>BRK.B</td>\n",
       "      <td>BERKSHIRE HATHAWAY INC</td>\n",
       "      <td>579.1954</td>\n",
       "      <td>-3.372484</td>\n",
       "    </tr>\n",
       "    <tr>\n",
       "      <th>9</th>\n",
       "      <td>UNP</td>\n",
       "      <td>UNION PCFC CORP</td>\n",
       "      <td>141.2000</td>\n",
       "      <td>-2.989747</td>\n",
       "    </tr>\n",
       "  </tbody>\n",
       "</table>\n",
       "</div>"
      ],
      "text/plain": [
       "  ticker                    name  marketcap_usd_trillion  mc_ch_usd_billion\n",
       "0      V                VISA INC                403.9335         -25.188638\n",
       "1     MA          MASTERCARD INC                354.1436         -10.122524\n",
       "2   AAPL               APPLE INC               2014.4036          -9.024956\n",
       "3    NKE                NIKE INC                216.7516          -8.599211\n",
       "4    JPM     JPMORGAN CHASE & CO                473.4107          -7.537335\n",
       "5    WFC        WELLS FARGO & CO                163.8346          -4.737193\n",
       "6     CB               CHUBB LTD                 71.6893          -3.794889\n",
       "7    BAC    BANK OF AMERICA CORP                332.6367          -3.502338\n",
       "8  BRK.B  BERKSHIRE HATHAWAY INC                579.1954          -3.372484\n",
       "9    UNP         UNION PCFC CORP                141.2000          -2.989747"
      ]
     },
     "execution_count": 73,
     "metadata": {},
     "output_type": "execute_result"
    }
   ],
   "source": [
    "df_mc_loses = fidap.sql(\"\"\"SELECT \"ticker\", \"name\", \"marketcap\"/1e15 as \"marketcap_usd_trillion\", \"mc_ch\"/1e15 as \"mc_ch_usd_billion\" FROM \"FIDAP_DATA_SOURCES\".\"FIDAP_SCHEMA\".\"tickers\" WHERE \"marketcap\" IS NOT NULL ORDER BY \"mc_ch_usd_billion\" ASC LIMIT 10;\"\"\")\n",
    "df_mc_loses"
   ]
  },
  {
   "cell_type": "markdown",
   "metadata": {},
   "source": [
    "#### Top 10 Industries By Marketcap"
   ]
  },
  {
   "cell_type": "code",
   "execution_count": 98,
   "metadata": {},
   "outputs": [
    {
     "data": {
      "text/plain": [
       "<AxesSubplot:ylabel='industry'>"
      ]
     },
     "execution_count": 98,
     "metadata": {},
     "output_type": "execute_result"
    },
    {
     "data": {
      "image/png": "[encoded data removed]",
      "text/plain": [
       "<Figure size 720x720 with 1 Axes>"
      ]
     },
     "metadata": {
      "needs_background": "light"
     },
     "output_type": "display_data"
    }
   ],
   "source": [
    "df_industries = fidap.sql(\"\"\"SELECT \"industry\", COUNT(\"industry\") as \"count\",SUM(\"marketcap\"/1e15) as \"marketcap_usd_billion\", ROUND((SUM(\"mc_ch\"/1e15)/\"marketcap_usd_billion\")*100,2) as \"marketcap_pct_change\" FROM \"FIDAP_DATA_SOURCES\".\"FIDAP_SCHEMA\".\"tickers\" WHERE \"marketcap\" IS NOT NULL GROUP BY \"industry\" ORDER BY \"marketcap_usd_billion\" DESC LIMIT 10;\"\"\")\n",
    "df_industries.set_index(\"industry\", inplace=True)\n",
    "df_industries.plot.barh(y='marketcap_usd_billion', figsize=(10,10))"
   ]
  },
  {
   "cell_type": "markdown",
   "metadata": {},
   "source": [
    "#### Top Sectors by Marketcap"
   ]
  },
  {
   "cell_type": "code",
   "execution_count": 90,
   "metadata": {},
   "outputs": [
    {
     "data": {
      "text/plain": [
       "<AxesSubplot:title={'center':'Marketcap by Sector'}, ylabel='marketcap_usd_billion'>"
      ]
     },
     "execution_count": 90,
     "metadata": {},
     "output_type": "execute_result"
    },
    {
     "data": {
      "image/png": "[encoded data removed]",
      "text/plain": [
       "<Figure size 720x720 with 1 Axes>"
      ]
     },
     "metadata": {},
     "output_type": "display_data"
    }
   ],
   "source": [
    "df_sectors = fidap.sql(\"\"\"SELECT \"sector\", COUNT(\"sector\") as \"count\", SUM(\"marketcap\"/1e15) as \"marketcap_usd_billion\", ROUND((SUM(\"mc_ch\"/1e15)/\"marketcap_usd_billion\")*100,2) as \"marketcap_pct_change\" FROM \"FIDAP_DATA_SOURCES\".\"FIDAP_SCHEMA\".\"tickers\" WHERE \"marketcap\" IS NOT NULL GROUP BY \"sector\" ORDER BY \"marketcap_usd_billion\" DESC;\"\"\")\n",
    "df_sectors.set_index(\"sector\", inplace=True)\n",
    "df_sectors.plot.pie(y='marketcap_usd_billion', figsize=(10,10), title=\"Marketcap by Sector\", autopct='%1.1f%%')"
   ]
  }
 ],
 "metadata": {
  "environment": {
   "name": "common-cpu.mnightly-2021-01-20-debian-10-test",
   "type": "gcloud",
   "uri": "gcr.io/deeplearning-platform-release/base-cpu:mnightly-2021-01-20-debian-10-test"
  },
  "kernelspec": {
   "display_name": "Python 3",
   "language": "python",
   "name": "python3"
  },
  "language_info": {
   "codemirror_mode": {
    "name": "ipython",
    "version": 3
   },
   "file_extension": ".py",
   "mimetype": "text/x-python",
   "name": "python",
   "nbconvert_exporter": "python",
   "pygments_lexer": "ipython3",
   "version": "3.7.9"
  },
  "toc": {
   "colors": {
    "hover_highlight": "#DAA520",
    "running_highlight": "#FF0000",
    "selected_highlight": "#FFD700"
   },
   "moveMenuLeft": true,
   "nav_menu": {
    "height": "102px",
    "width": "252px"
   },
   "navigate_menu": true,
   "number_sections": true,
   "sideBar": true,
   "threshold": 4,
   "toc_cell": false,
   "toc_section_display": "block",
   "toc_window_display": false,
   "widenNotebook": false
  }
 },
 "nbformat": 4,
 "nbformat_minor": 4
}
