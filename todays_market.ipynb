{
 "cells": [
  {
   "cell_type": "markdown",
   "metadata": {},
   "source": [
    "# Today's Market\n",
    "\n",
    "In this notebook, we'll take a look at today's market."
   ]
  },
  {
   "cell_type": "code",
   "execution_count": 1,
   "metadata": {
    "ExecuteTime": {
     "end_time": "2021-01-05T21:26:10.025863Z",
     "start_time": "2021-01-05T21:26:09.249807Z"
    }
   },
   "outputs": [],
   "source": [
    "import pandas as pd\n",
    "from fidap import fidap_client\n",
    "import config"
   ]
  },
  {
   "cell_type": "code",
   "execution_count": 2,
   "metadata": {},
   "outputs": [],
   "source": [
    "fidap = fidap_client(api_key=config.FIDAP_API_KEY)"
   ]
  },
  {
   "cell_type": "markdown",
   "metadata": {},
   "source": [
    "## Aggregate statistics"
   ]
  },
  {
   "cell_type": "markdown",
   "metadata": {},
   "source": [
    "First, let's get some aggregate statistics - how many companies there are, the total market cap, and the historical average volume."
   ]
  },
  {
   "cell_type": "code",
   "execution_count": 3,
   "metadata": {
    "ExecuteTime": {
     "end_time": "2021-01-05T21:26:12.303099Z",
     "start_time": "2021-01-05T21:26:12.111598Z"
    }
   },
   "outputs": [
    {
     "data": {
      "text/html": [
       "<div>\n",
       "<style scoped>\n",
       "    .dataframe tbody tr th:only-of-type {\n",
       "        vertical-align: middle;\n",
       "    }\n",
       "\n",
       "    .dataframe tbody tr th {\n",
       "        vertical-align: top;\n",
       "    }\n",
       "\n",
       "    .dataframe thead th {\n",
       "        text-align: right;\n",
       "    }\n",
       "</style>\n",
       "<table border=\"1\" class=\"dataframe\">\n",
       "  <thead>\n",
       "    <tr style=\"text-align: right;\">\n",
       "      <th></th>\n",
       "      <th>ticker_count</th>\n",
       "      <th>marketcap_sum_tr</th>\n",
       "      <th>mc_ch_sum_bn</th>\n",
       "      <th>pct_mc_ch</th>\n",
       "      <th>pc_1d_avg</th>\n",
       "      <th>dispersion</th>\n",
       "      <th>revenue_usd_tr</th>\n",
       "    </tr>\n",
       "  </thead>\n",
       "  <tbody>\n",
       "    <tr>\n",
       "      <th>0</th>\n",
       "      <td>4149</td>\n",
       "      <td>49.512517</td>\n",
       "      <td>318.933517</td>\n",
       "      <td>0.644147</td>\n",
       "      <td>1.649616</td>\n",
       "      <td>3.651183</td>\n",
       "      <td>4.968079</td>\n",
       "    </tr>\n",
       "  </tbody>\n",
       "</table>\n",
       "</div>"
      ],
      "text/plain": [
       "   ticker_count  marketcap_sum_tr  mc_ch_sum_bn  pct_mc_ch  pc_1d_avg  \\\n",
       "0          4149         49.512517    318.933517   0.644147   1.649616   \n",
       "\n",
       "   dispersion  revenue_usd_tr  \n",
       "0    3.651183        4.968079  "
      ]
     },
     "execution_count": 3,
     "metadata": {},
     "output_type": "execute_result"
    }
   ],
   "source": [
    "df = fidap.sql(\"\"\"SELECT count(\"ticker\") ticker_count,\n",
    "       sum(\"marketcap\") / 1e12 marketcap_sum_tr,\n",
    "       sum(\"mc_ch\")/1e9 mc_ch_sum_bn, \n",
    "       (sum(\"mc_ch\") / sum(\"marketcap\")) * 100 as pct_mc_ch,\n",
    "       avg(\"pc_1d\") * 100 pc_1d_avg,\n",
    "       stddev(\"pc_1d\") * 100 dispersion,\n",
    "       sum(\"revenueusd\")/1e12 as revenue_usd_tr\n",
    "FROM \"FIDAP_DATA_SOURCES\".\"FIDAP_SCHEMA\".\"tickers\"\n",
    "WHERE \"marketcap\" > 100e6;\"\"\")\n",
    "df"
   ]
  },
  {
   "cell_type": "markdown",
   "metadata": {},
   "source": [
    "In more readable terms - "
   ]
  },
  {
   "cell_type": "code",
   "execution_count": 4,
   "metadata": {
    "ExecuteTime": {
     "end_time": "2021-01-05T21:26:16.850663Z",
     "start_time": "2021-01-05T21:26:16.824297Z"
    }
   },
   "outputs": [
    {
     "name": "stdout",
     "output_type": "stream",
     "text": [
      "\n",
      "Number of companies: 4149\n",
      "Total market cap: 49.5125171 trillion\n",
      "\n"
     ]
    }
   ],
   "source": [
    "print(\"\"\"\n",
    "Number of companies: {}\n",
    "Total market cap: {} trillion\n",
    "\"\"\".format(df.loc[0,'ticker_count'], df.loc[0,'marketcap_sum_tr']))"
   ]
  },
  {
   "cell_type": "markdown",
   "metadata": {},
   "source": [
    "## Top companies\n",
    "\n",
    "We can look at the top companies in several ways - by market cap, revenue, assets, etc. Here are some views - \n",
    "\n",
    "#### Top 10 By Market Cap"
   ]
  },
  {
   "cell_type": "code",
   "execution_count": 5,
   "metadata": {},
   "outputs": [
    {
     "data": {
      "text/html": [
       "<div>\n",
       "<style scoped>\n",
       "    .dataframe tbody tr th:only-of-type {\n",
       "        vertical-align: middle;\n",
       "    }\n",
       "\n",
       "    .dataframe tbody tr th {\n",
       "        vertical-align: top;\n",
       "    }\n",
       "\n",
       "    .dataframe thead th {\n",
       "        text-align: right;\n",
       "    }\n",
       "</style>\n",
       "<table border=\"1\" class=\"dataframe\">\n",
       "  <thead>\n",
       "    <tr style=\"text-align: right;\">\n",
       "      <th></th>\n",
       "      <th>ticker</th>\n",
       "      <th>name</th>\n",
       "      <th>marketcap_usd_trillion</th>\n",
       "    </tr>\n",
       "  </thead>\n",
       "  <tbody>\n",
       "    <tr>\n",
       "      <th>0</th>\n",
       "      <td>AAPL</td>\n",
       "      <td>APPLE INC</td>\n",
       "      <td>2.02</td>\n",
       "    </tr>\n",
       "    <tr>\n",
       "      <th>1</th>\n",
       "      <td>MSFT</td>\n",
       "      <td>MICROSOFT CORP</td>\n",
       "      <td>1.75</td>\n",
       "    </tr>\n",
       "    <tr>\n",
       "      <th>2</th>\n",
       "      <td>AMZN</td>\n",
       "      <td>AMAZON COM INC</td>\n",
       "      <td>1.53</td>\n",
       "    </tr>\n",
       "    <tr>\n",
       "      <th>3</th>\n",
       "      <td>GOOGL</td>\n",
       "      <td>ALPHABET INC</td>\n",
       "      <td>1.37</td>\n",
       "    </tr>\n",
       "    <tr>\n",
       "      <th>4</th>\n",
       "      <td>FB</td>\n",
       "      <td>FACEBOOK INC</td>\n",
       "      <td>0.79</td>\n",
       "    </tr>\n",
       "    <tr>\n",
       "      <th>5</th>\n",
       "      <td>TSLA</td>\n",
       "      <td>TESLA INC</td>\n",
       "      <td>0.61</td>\n",
       "    </tr>\n",
       "    <tr>\n",
       "      <th>6</th>\n",
       "      <td>BABA</td>\n",
       "      <td>ALIBABA GRP HLDG LTD</td>\n",
       "      <td>0.60</td>\n",
       "    </tr>\n",
       "    <tr>\n",
       "      <th>7</th>\n",
       "      <td>BRK.B</td>\n",
       "      <td>BERKSHIRE HATHAWAY INC</td>\n",
       "      <td>0.58</td>\n",
       "    </tr>\n",
       "    <tr>\n",
       "      <th>8</th>\n",
       "      <td>JPM</td>\n",
       "      <td>JPMORGAN CHASE &amp; CO</td>\n",
       "      <td>0.47</td>\n",
       "    </tr>\n",
       "    <tr>\n",
       "      <th>9</th>\n",
       "      <td>JNJ</td>\n",
       "      <td>JOHNSON &amp; JOHNSON</td>\n",
       "      <td>0.43</td>\n",
       "    </tr>\n",
       "  </tbody>\n",
       "</table>\n",
       "</div>"
      ],
      "text/plain": [
       "  ticker                    name  marketcap_usd_trillion\n",
       "0   AAPL               APPLE INC                    2.02\n",
       "1   MSFT          MICROSOFT CORP                    1.75\n",
       "2   AMZN          AMAZON COM INC                    1.53\n",
       "3  GOOGL            ALPHABET INC                    1.37\n",
       "4     FB            FACEBOOK INC                    0.79\n",
       "5   TSLA               TESLA INC                    0.61\n",
       "6   BABA    ALIBABA GRP HLDG LTD                    0.60\n",
       "7  BRK.B  BERKSHIRE HATHAWAY INC                    0.58\n",
       "8    JPM     JPMORGAN CHASE & CO                    0.47\n",
       "9    JNJ       JOHNSON & JOHNSON                    0.43"
      ]
     },
     "execution_count": 5,
     "metadata": {},
     "output_type": "execute_result"
    }
   ],
   "source": [
    "df_marketcap = fidap.sql(\"\"\"SELECT \"ticker\", \"name\",  ROUND(\"marketcap\"/1e12,2) as \"marketcap_usd_trillion\" FROM \"FIDAP_DATA_SOURCES\".\"FIDAP_SCHEMA\".\"tickers\" WHERE \"marketcap\" IS NOT NULL ORDER BY \"marketcap\" DESC LIMIT 10;\"\"\")\n",
    "df_marketcap"
   ]
  },
  {
   "cell_type": "markdown",
   "metadata": {},
   "source": [
    "#### Top 10 By Revenue"
   ]
  },
  {
   "cell_type": "code",
   "execution_count": 6,
   "metadata": {},
   "outputs": [
    {
     "data": {
      "text/html": [
       "<div>\n",
       "<style scoped>\n",
       "    .dataframe tbody tr th:only-of-type {\n",
       "        vertical-align: middle;\n",
       "    }\n",
       "\n",
       "    .dataframe tbody tr th {\n",
       "        vertical-align: top;\n",
       "    }\n",
       "\n",
       "    .dataframe thead th {\n",
       "        text-align: right;\n",
       "    }\n",
       "</style>\n",
       "<table border=\"1\" class=\"dataframe\">\n",
       "  <thead>\n",
       "    <tr style=\"text-align: right;\">\n",
       "      <th></th>\n",
       "      <th>ticker</th>\n",
       "      <th>name</th>\n",
       "      <th>revenue_usd_billion</th>\n",
       "    </tr>\n",
       "  </thead>\n",
       "  <tbody>\n",
       "    <tr>\n",
       "      <th>0</th>\n",
       "      <td>WMT</td>\n",
       "      <td>WALMART INC</td>\n",
       "      <td>152.08</td>\n",
       "    </tr>\n",
       "    <tr>\n",
       "      <th>1</th>\n",
       "      <td>AMZN</td>\n",
       "      <td>AMAZON COM INC</td>\n",
       "      <td>125.56</td>\n",
       "    </tr>\n",
       "    <tr>\n",
       "      <th>2</th>\n",
       "      <td>AAPL</td>\n",
       "      <td>APPLE INC</td>\n",
       "      <td>111.44</td>\n",
       "    </tr>\n",
       "    <tr>\n",
       "      <th>3</th>\n",
       "      <td>BRK.B</td>\n",
       "      <td>BERKSHIRE HATHAWAY INC</td>\n",
       "      <td>103.74</td>\n",
       "    </tr>\n",
       "    <tr>\n",
       "      <th>4</th>\n",
       "      <td>TM</td>\n",
       "      <td>TOYOTA MTR CORP</td>\n",
       "      <td>78.74</td>\n",
       "    </tr>\n",
       "    <tr>\n",
       "      <th>5</th>\n",
       "      <td>CVS</td>\n",
       "      <td>CVS HLTH CORP</td>\n",
       "      <td>69.55</td>\n",
       "    </tr>\n",
       "    <tr>\n",
       "      <th>6</th>\n",
       "      <td>UNH</td>\n",
       "      <td>UNITEDHEALTH GRP INC</td>\n",
       "      <td>65.47</td>\n",
       "    </tr>\n",
       "    <tr>\n",
       "      <th>7</th>\n",
       "      <td>MCK</td>\n",
       "      <td>MCKESSON CORP</td>\n",
       "      <td>62.60</td>\n",
       "    </tr>\n",
       "    <tr>\n",
       "      <th>8</th>\n",
       "      <td>GOOGL</td>\n",
       "      <td>ALPHABET INC</td>\n",
       "      <td>56.90</td>\n",
       "    </tr>\n",
       "    <tr>\n",
       "      <th>9</th>\n",
       "      <td>ABC</td>\n",
       "      <td>AMERISOURCEBERGEN CORP</td>\n",
       "      <td>52.52</td>\n",
       "    </tr>\n",
       "  </tbody>\n",
       "</table>\n",
       "</div>"
      ],
      "text/plain": [
       "  ticker                    name  revenue_usd_billion\n",
       "0    WMT             WALMART INC               152.08\n",
       "1   AMZN          AMAZON COM INC               125.56\n",
       "2   AAPL               APPLE INC               111.44\n",
       "3  BRK.B  BERKSHIRE HATHAWAY INC               103.74\n",
       "4     TM         TOYOTA MTR CORP                78.74\n",
       "5    CVS           CVS HLTH CORP                69.55\n",
       "6    UNH    UNITEDHEALTH GRP INC                65.47\n",
       "7    MCK           MCKESSON CORP                62.60\n",
       "8  GOOGL            ALPHABET INC                56.90\n",
       "9    ABC  AMERISOURCEBERGEN CORP                52.52"
      ]
     },
     "execution_count": 6,
     "metadata": {},
     "output_type": "execute_result"
    }
   ],
   "source": [
    "df_revenue = fidap.sql(\"\"\"SELECT \"ticker\", \"name\", ROUND(\"revenueusd\"/1e9,2) as \"revenue_usd_billion\" FROM \"FIDAP_DATA_SOURCES\".\"FIDAP_SCHEMA\".\"tickers\" WHERE \"revenueusd\" IS NOT NULL ORDER BY \"revenueusd\" DESC LIMIT 10;\"\"\")\n",
    "df_revenue"
   ]
  },
  {
   "cell_type": "markdown",
   "metadata": {},
   "source": [
    "#### Top 10 Market Cap Percent Gainers"
   ]
  },
  {
   "cell_type": "code",
   "execution_count": 7,
   "metadata": {},
   "outputs": [
    {
     "data": {
      "text/html": [
       "<div>\n",
       "<style scoped>\n",
       "    .dataframe tbody tr th:only-of-type {\n",
       "        vertical-align: middle;\n",
       "    }\n",
       "\n",
       "    .dataframe tbody tr th {\n",
       "        vertical-align: top;\n",
       "    }\n",
       "\n",
       "    .dataframe thead th {\n",
       "        text-align: right;\n",
       "    }\n",
       "</style>\n",
       "<table border=\"1\" class=\"dataframe\">\n",
       "  <thead>\n",
       "    <tr style=\"text-align: right;\">\n",
       "      <th></th>\n",
       "      <th>ticker</th>\n",
       "      <th>name</th>\n",
       "      <th>marketcap_usd_billion</th>\n",
       "      <th>marketcap_pct_change</th>\n",
       "    </tr>\n",
       "  </thead>\n",
       "  <tbody>\n",
       "    <tr>\n",
       "      <th>0</th>\n",
       "      <td>RRTS</td>\n",
       "      <td>ROADRUNNER TRANS SYS INC</td>\n",
       "      <td>0.2005</td>\n",
       "      <td>66.35</td>\n",
       "    </tr>\n",
       "    <tr>\n",
       "      <th>1</th>\n",
       "      <td>PRQR</td>\n",
       "      <td>PROQR THERA N V</td>\n",
       "      <td>0.4991</td>\n",
       "      <td>62.32</td>\n",
       "    </tr>\n",
       "    <tr>\n",
       "      <th>2</th>\n",
       "      <td>KOSS</td>\n",
       "      <td>KOSS CORP</td>\n",
       "      <td>0.1965</td>\n",
       "      <td>57.13</td>\n",
       "    </tr>\n",
       "    <tr>\n",
       "      <th>3</th>\n",
       "      <td>GME</td>\n",
       "      <td>GAMESTOP CORP</td>\n",
       "      <td>12.8507</td>\n",
       "      <td>52.69</td>\n",
       "    </tr>\n",
       "    <tr>\n",
       "      <th>4</th>\n",
       "      <td>PFTI</td>\n",
       "      <td>PURADYN FILTER TECH INC</td>\n",
       "      <td>0.0011</td>\n",
       "      <td>45.45</td>\n",
       "    </tr>\n",
       "    <tr>\n",
       "      <th>5</th>\n",
       "      <td>CGIPQ</td>\n",
       "      <td>CELADON GRP INC</td>\n",
       "      <td>0.0002</td>\n",
       "      <td>40.00</td>\n",
       "    </tr>\n",
       "    <tr>\n",
       "      <th>6</th>\n",
       "      <td>CTAM</td>\n",
       "      <td>A M CASTLE &amp; CO</td>\n",
       "      <td>0.0504</td>\n",
       "      <td>39.00</td>\n",
       "    </tr>\n",
       "    <tr>\n",
       "      <th>7</th>\n",
       "      <td>HWCC</td>\n",
       "      <td>HOUSTON WIRE &amp; CABLE CO</td>\n",
       "      <td>0.0865</td>\n",
       "      <td>37.63</td>\n",
       "    </tr>\n",
       "    <tr>\n",
       "      <th>8</th>\n",
       "      <td>APOP</td>\n",
       "      <td>CELLECT BIO LTD</td>\n",
       "      <td>0.0186</td>\n",
       "      <td>36.68</td>\n",
       "    </tr>\n",
       "    <tr>\n",
       "      <th>9</th>\n",
       "      <td>ESMC</td>\n",
       "      <td>ESCALON MEDI CORP</td>\n",
       "      <td>0.0034</td>\n",
       "      <td>27.78</td>\n",
       "    </tr>\n",
       "  </tbody>\n",
       "</table>\n",
       "</div>"
      ],
      "text/plain": [
       "  ticker                      name  marketcap_usd_billion  \\\n",
       "0   RRTS  ROADRUNNER TRANS SYS INC                 0.2005   \n",
       "1   PRQR           PROQR THERA N V                 0.4991   \n",
       "2   KOSS                 KOSS CORP                 0.1965   \n",
       "3    GME             GAMESTOP CORP                12.8507   \n",
       "4   PFTI   PURADYN FILTER TECH INC                 0.0011   \n",
       "5  CGIPQ           CELADON GRP INC                 0.0002   \n",
       "6   CTAM           A M CASTLE & CO                 0.0504   \n",
       "7   HWCC   HOUSTON WIRE & CABLE CO                 0.0865   \n",
       "8   APOP           CELLECT BIO LTD                 0.0186   \n",
       "9   ESMC         ESCALON MEDI CORP                 0.0034   \n",
       "\n",
       "   marketcap_pct_change  \n",
       "0                 66.35  \n",
       "1                 62.32  \n",
       "2                 57.13  \n",
       "3                 52.69  \n",
       "4                 45.45  \n",
       "5                 40.00  \n",
       "6                 39.00  \n",
       "7                 37.63  \n",
       "8                 36.68  \n",
       "9                 27.78  "
      ]
     },
     "execution_count": 7,
     "metadata": {},
     "output_type": "execute_result"
    }
   ],
   "source": [
    "df_mc_pct_gainers = fidap.sql(\"\"\"SELECT \"ticker\", \"name\", \"marketcap\"/1e9 as \"marketcap_usd_billion\", ROUND(100*DIV0(\"mc_ch\",\"marketcap\"),2) as \"marketcap_pct_change\" FROM \"FIDAP_DATA_SOURCES\".\"FIDAP_SCHEMA\".\"tickers\" WHERE \"marketcap\" IS NOT NULL ORDER BY \"marketcap_pct_change\" DESC LIMIT 10;\"\"\")\n",
    "df_mc_pct_gainers"
   ]
  },
  {
   "cell_type": "markdown",
   "metadata": {},
   "source": [
    "#### Top 10 Marketcap Percent Losers"
   ]
  },
  {
   "cell_type": "code",
   "execution_count": 8,
   "metadata": {},
   "outputs": [
    {
     "data": {
      "text/html": [
       "<div>\n",
       "<style scoped>\n",
       "    .dataframe tbody tr th:only-of-type {\n",
       "        vertical-align: middle;\n",
       "    }\n",
       "\n",
       "    .dataframe tbody tr th {\n",
       "        vertical-align: top;\n",
       "    }\n",
       "\n",
       "    .dataframe thead th {\n",
       "        text-align: right;\n",
       "    }\n",
       "</style>\n",
       "<table border=\"1\" class=\"dataframe\">\n",
       "  <thead>\n",
       "    <tr style=\"text-align: right;\">\n",
       "      <th></th>\n",
       "      <th>ticker</th>\n",
       "      <th>name</th>\n",
       "      <th>marketcap_usd_billion</th>\n",
       "      <th>marketcap_pct_change</th>\n",
       "    </tr>\n",
       "  </thead>\n",
       "  <tbody>\n",
       "    <tr>\n",
       "      <th>0</th>\n",
       "      <td>NMGX</td>\n",
       "      <td>NANO MAGIC HLDGS INC</td>\n",
       "      <td>0.0019</td>\n",
       "      <td>-72.62</td>\n",
       "    </tr>\n",
       "    <tr>\n",
       "      <th>1</th>\n",
       "      <td>AOLS</td>\n",
       "      <td>AEOLUS PHARMA INC</td>\n",
       "      <td>0.0006</td>\n",
       "      <td>-50.00</td>\n",
       "    </tr>\n",
       "    <tr>\n",
       "      <th>2</th>\n",
       "      <td>FPPP</td>\n",
       "      <td>FIELDPOINT PETR CORP</td>\n",
       "      <td>0.0002</td>\n",
       "      <td>-50.00</td>\n",
       "    </tr>\n",
       "    <tr>\n",
       "      <th>3</th>\n",
       "      <td>TXSO</td>\n",
       "      <td>TEXAS SOUTH ENGY INC</td>\n",
       "      <td>0.0020</td>\n",
       "      <td>-33.33</td>\n",
       "    </tr>\n",
       "    <tr>\n",
       "      <th>4</th>\n",
       "      <td>RYMM</td>\n",
       "      <td>ROYAL MINES &amp; MINERALS CORP</td>\n",
       "      <td>0.0025</td>\n",
       "      <td>-33.33</td>\n",
       "    </tr>\n",
       "    <tr>\n",
       "      <th>5</th>\n",
       "      <td>HPR</td>\n",
       "      <td>HIGHPOINT RES CORP</td>\n",
       "      <td>0.0334</td>\n",
       "      <td>-28.44</td>\n",
       "    </tr>\n",
       "    <tr>\n",
       "      <th>6</th>\n",
       "      <td>TLRS</td>\n",
       "      <td>TIMBERLINE RES CORP</td>\n",
       "      <td>0.0228</td>\n",
       "      <td>-27.54</td>\n",
       "    </tr>\n",
       "    <tr>\n",
       "      <th>7</th>\n",
       "      <td>IPIC</td>\n",
       "      <td>IPIC ENTMT INC</td>\n",
       "      <td>0.0076</td>\n",
       "      <td>-26.67</td>\n",
       "    </tr>\n",
       "    <tr>\n",
       "      <th>8</th>\n",
       "      <td>EVFM</td>\n",
       "      <td>EVOFEM BIO INC</td>\n",
       "      <td>0.1421</td>\n",
       "      <td>-26.61</td>\n",
       "    </tr>\n",
       "    <tr>\n",
       "      <th>9</th>\n",
       "      <td>ADYX</td>\n",
       "      <td>ADYNXX INC</td>\n",
       "      <td>0.0014</td>\n",
       "      <td>-25.83</td>\n",
       "    </tr>\n",
       "  </tbody>\n",
       "</table>\n",
       "</div>"
      ],
      "text/plain": [
       "  ticker                         name  marketcap_usd_billion  \\\n",
       "0   NMGX         NANO MAGIC HLDGS INC                 0.0019   \n",
       "1   AOLS            AEOLUS PHARMA INC                 0.0006   \n",
       "2   FPPP         FIELDPOINT PETR CORP                 0.0002   \n",
       "3   TXSO         TEXAS SOUTH ENGY INC                 0.0020   \n",
       "4   RYMM  ROYAL MINES & MINERALS CORP                 0.0025   \n",
       "5    HPR           HIGHPOINT RES CORP                 0.0334   \n",
       "6   TLRS          TIMBERLINE RES CORP                 0.0228   \n",
       "7   IPIC               IPIC ENTMT INC                 0.0076   \n",
       "8   EVFM               EVOFEM BIO INC                 0.1421   \n",
       "9   ADYX                   ADYNXX INC                 0.0014   \n",
       "\n",
       "   marketcap_pct_change  \n",
       "0                -72.62  \n",
       "1                -50.00  \n",
       "2                -50.00  \n",
       "3                -33.33  \n",
       "4                -33.33  \n",
       "5                -28.44  \n",
       "6                -27.54  \n",
       "7                -26.67  \n",
       "8                -26.61  \n",
       "9                -25.83  "
      ]
     },
     "execution_count": 8,
     "metadata": {},
     "output_type": "execute_result"
    }
   ],
   "source": [
    "df_mc_pct_losers = fidap.sql(\"\"\"SELECT \"ticker\", \"name\", \"marketcap\"/1e9 as \"marketcap_usd_billion\", ROUND(100*DIV0(\"mc_ch\",\"marketcap\"),2) as \"marketcap_pct_change\" FROM \"FIDAP_DATA_SOURCES\".\"FIDAP_SCHEMA\".\"tickers\" WHERE \"marketcap\" IS NOT NULL ORDER BY \"marketcap_pct_change\" ASC LIMIT 10;\"\"\")\n",
    "df_mc_pct_losers"
   ]
  },
  {
   "cell_type": "markdown",
   "metadata": {},
   "source": [
    "#### Top 10 Marketcap Gainers"
   ]
  },
  {
   "cell_type": "code",
   "execution_count": 9,
   "metadata": {},
   "outputs": [
    {
     "data": {
      "text/html": [
       "<div>\n",
       "<style scoped>\n",
       "    .dataframe tbody tr th:only-of-type {\n",
       "        vertical-align: middle;\n",
       "    }\n",
       "\n",
       "    .dataframe tbody tr th {\n",
       "        vertical-align: top;\n",
       "    }\n",
       "\n",
       "    .dataframe thead th {\n",
       "        text-align: right;\n",
       "    }\n",
       "</style>\n",
       "<table border=\"1\" class=\"dataframe\">\n",
       "  <thead>\n",
       "    <tr style=\"text-align: right;\">\n",
       "      <th></th>\n",
       "      <th>ticker</th>\n",
       "      <th>name</th>\n",
       "      <th>marketcap_usd_trillion</th>\n",
       "      <th>mc_ch_usd_billion</th>\n",
       "    </tr>\n",
       "  </thead>\n",
       "  <tbody>\n",
       "    <tr>\n",
       "      <th>0</th>\n",
       "      <td>TSLA</td>\n",
       "      <td>TESLA INC</td>\n",
       "      <td>614.6806</td>\n",
       "      <td>9.869687</td>\n",
       "    </tr>\n",
       "    <tr>\n",
       "      <th>1</th>\n",
       "      <td>AAPL</td>\n",
       "      <td>APPLE INC</td>\n",
       "      <td>2024.4765</td>\n",
       "      <td>8.428997</td>\n",
       "    </tr>\n",
       "    <tr>\n",
       "      <th>2</th>\n",
       "      <td>GME</td>\n",
       "      <td>GAMESTOP CORP</td>\n",
       "      <td>12.8507</td>\n",
       "      <td>6.771339</td>\n",
       "    </tr>\n",
       "    <tr>\n",
       "      <th>3</th>\n",
       "      <td>BAC</td>\n",
       "      <td>BANK OF AMERICA CORP</td>\n",
       "      <td>325.1258</td>\n",
       "      <td>6.696358</td>\n",
       "    </tr>\n",
       "    <tr>\n",
       "      <th>4</th>\n",
       "      <td>JPM</td>\n",
       "      <td>JPMORGAN CHASE &amp; CO</td>\n",
       "      <td>465.5073</td>\n",
       "      <td>5.964872</td>\n",
       "    </tr>\n",
       "    <tr>\n",
       "      <th>5</th>\n",
       "      <td>ORCL</td>\n",
       "      <td>ORACLE CORP</td>\n",
       "      <td>197.8970</td>\n",
       "      <td>5.330160</td>\n",
       "    </tr>\n",
       "    <tr>\n",
       "      <th>6</th>\n",
       "      <td>BEKE</td>\n",
       "      <td>KE HLDGS INC</td>\n",
       "      <td>67.4338</td>\n",
       "      <td>5.286422</td>\n",
       "    </tr>\n",
       "    <tr>\n",
       "      <th>7</th>\n",
       "      <td>WFC</td>\n",
       "      <td>WELLS FARGO &amp; CO</td>\n",
       "      <td>162.4704</td>\n",
       "      <td>5.029252</td>\n",
       "    </tr>\n",
       "    <tr>\n",
       "      <th>8</th>\n",
       "      <td>HD</td>\n",
       "      <td>HOME DEPOT INC</td>\n",
       "      <td>320.0835</td>\n",
       "      <td>4.843621</td>\n",
       "    </tr>\n",
       "    <tr>\n",
       "      <th>9</th>\n",
       "      <td>BA</td>\n",
       "      <td>BOEING CO</td>\n",
       "      <td>144.1110</td>\n",
       "      <td>4.788842</td>\n",
       "    </tr>\n",
       "  </tbody>\n",
       "</table>\n",
       "</div>"
      ],
      "text/plain": [
       "  ticker                  name  marketcap_usd_trillion  mc_ch_usd_billion\n",
       "0   TSLA             TESLA INC                614.6806           9.869687\n",
       "1   AAPL             APPLE INC               2024.4765           8.428997\n",
       "2    GME         GAMESTOP CORP                 12.8507           6.771339\n",
       "3    BAC  BANK OF AMERICA CORP                325.1258           6.696358\n",
       "4    JPM   JPMORGAN CHASE & CO                465.5073           5.964872\n",
       "5   ORCL           ORACLE CORP                197.8970           5.330160\n",
       "6   BEKE          KE HLDGS INC                 67.4338           5.286422\n",
       "7    WFC      WELLS FARGO & CO                162.4704           5.029252\n",
       "8     HD        HOME DEPOT INC                320.0835           4.843621\n",
       "9     BA             BOEING CO                144.1110           4.788842"
      ]
     },
     "execution_count": 9,
     "metadata": {},
     "output_type": "execute_result"
    }
   ],
   "source": [
    "df_mc_gains = fidap.sql(\"\"\"SELECT \"ticker\", \"name\", \"marketcap\"/1e9 as \"marketcap_usd_trillion\", \"mc_ch\"/1e9 as \"mc_ch_usd_billion\" FROM \"FIDAP_DATA_SOURCES\".\"FIDAP_SCHEMA\".\"tickers\" WHERE \"marketcap\" IS NOT NULL ORDER BY \"mc_ch_usd_billion\" DESC LIMIT 10;\"\"\")\n",
    "df_mc_gains"
   ]
  },
  {
   "cell_type": "markdown",
   "metadata": {},
   "source": [
    "#### Top 10 Marketcap Losers"
   ]
  },
  {
   "cell_type": "code",
   "execution_count": 10,
   "metadata": {},
   "outputs": [
    {
     "data": {
      "text/html": [
       "<div>\n",
       "<style scoped>\n",
       "    .dataframe tbody tr th:only-of-type {\n",
       "        vertical-align: middle;\n",
       "    }\n",
       "\n",
       "    .dataframe tbody tr th {\n",
       "        vertical-align: top;\n",
       "    }\n",
       "\n",
       "    .dataframe thead th {\n",
       "        text-align: right;\n",
       "    }\n",
       "</style>\n",
       "<table border=\"1\" class=\"dataframe\">\n",
       "  <thead>\n",
       "    <tr style=\"text-align: right;\">\n",
       "      <th></th>\n",
       "      <th>ticker</th>\n",
       "      <th>name</th>\n",
       "      <th>marketcap_usd_trillion</th>\n",
       "      <th>mc_ch_usd_billion</th>\n",
       "    </tr>\n",
       "  </thead>\n",
       "  <tbody>\n",
       "    <tr>\n",
       "      <th>0</th>\n",
       "      <td>MSFT</td>\n",
       "      <td>MICROSOFT CORP</td>\n",
       "      <td>1752.3584</td>\n",
       "      <td>-23.219902</td>\n",
       "    </tr>\n",
       "    <tr>\n",
       "      <th>1</th>\n",
       "      <td>AMZN</td>\n",
       "      <td>AMAZON COM INC</td>\n",
       "      <td>1533.9891</td>\n",
       "      <td>-20.278806</td>\n",
       "    </tr>\n",
       "    <tr>\n",
       "      <th>2</th>\n",
       "      <td>BABA</td>\n",
       "      <td>ALIBABA GRP HLDG LTD</td>\n",
       "      <td>604.1280</td>\n",
       "      <td>-18.077265</td>\n",
       "    </tr>\n",
       "    <tr>\n",
       "      <th>3</th>\n",
       "      <td>BIDU</td>\n",
       "      <td>BAIDU INC</td>\n",
       "      <td>68.5087</td>\n",
       "      <td>-9.915846</td>\n",
       "    </tr>\n",
       "    <tr>\n",
       "      <th>4</th>\n",
       "      <td>FB</td>\n",
       "      <td>FACEBOOK INC</td>\n",
       "      <td>793.7595</td>\n",
       "      <td>-9.565401</td>\n",
       "    </tr>\n",
       "    <tr>\n",
       "      <th>5</th>\n",
       "      <td>NFLX</td>\n",
       "      <td>NETFLIX INC</td>\n",
       "      <td>222.7143</td>\n",
       "      <td>-7.675970</td>\n",
       "    </tr>\n",
       "    <tr>\n",
       "      <th>6</th>\n",
       "      <td>NKE</td>\n",
       "      <td>NIKE INC</td>\n",
       "      <td>202.7997</td>\n",
       "      <td>-6.883859</td>\n",
       "    </tr>\n",
       "    <tr>\n",
       "      <th>7</th>\n",
       "      <td>SHOP</td>\n",
       "      <td>SHOPIFY INC</td>\n",
       "      <td>130.0865</td>\n",
       "      <td>-5.213999</td>\n",
       "    </tr>\n",
       "    <tr>\n",
       "      <th>8</th>\n",
       "      <td>CRM</td>\n",
       "      <td>SALESFORCE COM INC</td>\n",
       "      <td>189.2102</td>\n",
       "      <td>-3.693360</td>\n",
       "    </tr>\n",
       "    <tr>\n",
       "      <th>9</th>\n",
       "      <td>NVDA</td>\n",
       "      <td>NVIDIA CORP</td>\n",
       "      <td>310.8742</td>\n",
       "      <td>-2.649426</td>\n",
       "    </tr>\n",
       "  </tbody>\n",
       "</table>\n",
       "</div>"
      ],
      "text/plain": [
       "  ticker                  name  marketcap_usd_trillion  mc_ch_usd_billion\n",
       "0   MSFT        MICROSOFT CORP               1752.3584         -23.219902\n",
       "1   AMZN        AMAZON COM INC               1533.9891         -20.278806\n",
       "2   BABA  ALIBABA GRP HLDG LTD                604.1280         -18.077265\n",
       "3   BIDU             BAIDU INC                 68.5087          -9.915846\n",
       "4     FB          FACEBOOK INC                793.7595          -9.565401\n",
       "5   NFLX           NETFLIX INC                222.7143          -7.675970\n",
       "6    NKE              NIKE INC                202.7997          -6.883859\n",
       "7   SHOP           SHOPIFY INC                130.0865          -5.213999\n",
       "8    CRM    SALESFORCE COM INC                189.2102          -3.693360\n",
       "9   NVDA           NVIDIA CORP                310.8742          -2.649426"
      ]
     },
     "execution_count": 10,
     "metadata": {},
     "output_type": "execute_result"
    }
   ],
   "source": [
    "df_mc_loses = fidap.sql(\"\"\"SELECT \"ticker\", \"name\", \"marketcap\"/1e9 as \"marketcap_usd_trillion\", \"mc_ch\"/1e9 as \"mc_ch_usd_billion\" FROM \"FIDAP_DATA_SOURCES\".\"FIDAP_SCHEMA\".\"tickers\" WHERE \"marketcap\" IS NOT NULL ORDER BY \"mc_ch_usd_billion\" ASC LIMIT 10;\"\"\")\n",
    "df_mc_loses"
   ]
  },
  {
   "cell_type": "markdown",
   "metadata": {},
   "source": [
    "#### Top 10 Industries By Marketcap"
   ]
  },
  {
   "cell_type": "code",
   "execution_count": 11,
   "metadata": {},
   "outputs": [
    {
     "data": {
      "text/plain": [
       "<AxesSubplot:ylabel='industry'>"
      ]
     },
     "execution_count": 11,
     "metadata": {},
     "output_type": "execute_result"
    },
    {
     "data": {
      "image/png": "[encoded data removed]",
      "text/plain": [
       "<Figure size 432x288 with 1 Axes>"
      ]
     },
     "metadata": {
      "needs_background": "light"
     },
     "output_type": "display_data"
    }
   ],
   "source": [
    "df_industries = fidap.sql(\"\"\"SELECT \"industry\", COUNT(\"industry\") as \"count\",SUM(\"marketcap\"/1e9) as \"marketcap_usd_billion\", ROUND((SUM(\"mc_ch\"/1e9)/\"marketcap_usd_billion\")*100,2) as \"marketcap_pct_change\" FROM \"FIDAP_DATA_SOURCES\".\"FIDAP_SCHEMA\".\"tickers\" WHERE \"marketcap\" IS NOT NULL GROUP BY \"industry\" ORDER BY \"marketcap_usd_billion\" DESC LIMIT 10;\"\"\")\n",
    "df_industries.set_index(\"industry\", inplace=True)\n",
    "df_industries.plot.barh(y='marketcap_usd_billion')"
   ]
  },
  {
   "cell_type": "markdown",
   "metadata": {},
   "source": [
    "#### Top Sectors by Marketcap"
   ]
  },
  {
   "cell_type": "code",
   "execution_count": 12,
   "metadata": {},
   "outputs": [
    {
     "data": {
      "text/plain": [
       "<AxesSubplot:title={'center':'Marketcap by Sector'}, ylabel='marketcap_usd_billion'>"
      ]
     },
     "execution_count": 12,
     "metadata": {},
     "output_type": "execute_result"
    },
    {
     "data": {
      "image/png": "[encoded data removed]",
      "text/plain": [
       "<Figure size 720x720 with 1 Axes>"
      ]
     },
     "metadata": {},
     "output_type": "display_data"
    }
   ],
   "source": [
    "df_sectors = fidap.sql(\"\"\"SELECT \"sector\", COUNT(\"sector\") as \"count\", SUM(\"marketcap\"/1e9) as \"marketcap_usd_billion\", ROUND((SUM(\"mc_ch\"/1e9)/\"marketcap_usd_billion\")*100,2) as \"marketcap_pct_change\" FROM \"FIDAP_DATA_SOURCES\".\"FIDAP_SCHEMA\".\"tickers\" WHERE \"marketcap\" IS NOT NULL GROUP BY \"sector\" ORDER BY \"marketcap_usd_billion\" DESC;\"\"\")\n",
    "df_sectors.set_index(\"sector\", inplace=True)\n",
    "df_sectors.plot.pie(y='marketcap_usd_billion', figsize=(10,10), title=\"Marketcap by Sector\", autopct='%1.1f%%')"
   ]
  }
 ],
 "metadata": {
  "environment": {
   "name": "common-cpu.mnightly-2021-01-20-debian-10-test",
   "type": "gcloud",
   "uri": "gcr.io/deeplearning-platform-release/base-cpu:mnightly-2021-01-20-debian-10-test"
  },
  "kernelspec": {
   "display_name": "Python 3",
   "language": "python",
   "name": "python3"
  },
  "language_info": {
   "codemirror_mode": {
    "name": "ipython",
    "version": 3
   },
   "file_extension": ".py",
   "mimetype": "text/x-python",
   "name": "python",
   "nbconvert_exporter": "python",
   "pygments_lexer": "ipython3",
   "version": "3.7.9"
  },
  "toc": {
   "colors": {
    "hover_highlight": "#DAA520",
    "running_highlight": "#FF0000",
    "selected_highlight": "#FFD700"
   },
   "moveMenuLeft": true,
   "nav_menu": {
    "height": "102px",
    "width": "252px"
   },
   "navigate_menu": true,
   "number_sections": true,
   "sideBar": true,
   "threshold": 4,
   "toc_cell": false,
   "toc_section_display": "block",
   "toc_window_display": false,
   "widenNotebook": false
  }
 },
 "nbformat": 4,
 "nbformat_minor": 4
}
