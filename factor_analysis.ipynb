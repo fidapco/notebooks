{
 "cells": [
  {
   "cell_type": "markdown",
   "metadata": {},
   "source": [
    "# Factor investing analysis\n",
    "\n",
    "Market factors, such as momentum and value, ..."
   ]
  },
  {
   "cell_type": "markdown",
   "metadata": {},
   "source": [
    "## Further reading\n",
    "\n",
    "Here are some great resources on further reading around factor investing:\n",
    "    \n",
    "    1. Investopedia - Factor Investing - https://www.investopedia.com/terms/f/factor-investing.asp\n",
    "    2. https://www.fidelity.com/bin-public/060_www_fidelity_com/documents/fidelity/fidelity-overview-of-factor-investing.pdf\n",
    "    "
   ]
  },
  {
   "cell_type": "code",
   "execution_count": 1,
   "metadata": {},
   "outputs": [],
   "source": [
    "import pandas as pd, numpy as np\n",
    "from fidap import fidap_client"
   ]
  },
  {
   "cell_type": "code",
   "execution_count": 2,
   "metadata": {},
   "outputs": [],
   "source": [
    "fidap = fidap_client(api_key=\"1287a2d9e40042edb53254cd203b9a0b\")"
   ]
  },
  {
   "cell_type": "code",
   "execution_count": 5,
   "metadata": {},
   "outputs": [
    {
     "data": {
      "text/html": [
       "<div>\n",
       "<style scoped>\n",
       "    .dataframe tbody tr th:only-of-type {\n",
       "        vertical-align: middle;\n",
       "    }\n",
       "\n",
       "    .dataframe tbody tr th {\n",
       "        vertical-align: top;\n",
       "    }\n",
       "\n",
       "    .dataframe thead th {\n",
       "        text-align: right;\n",
       "    }\n",
       "</style>\n",
       "<table border=\"1\" class=\"dataframe\">\n",
       "  <thead>\n",
       "    <tr style=\"text-align: right;\">\n",
       "      <th></th>\n",
       "      <th>table_catalog</th>\n",
       "      <th>table_schema</th>\n",
       "      <th>table_name</th>\n",
       "      <th>row_count</th>\n",
       "      <th>bytes</th>\n",
       "      <th>column_count</th>\n",
       "      <th>datapoints</th>\n",
       "      <th>description</th>\n",
       "    </tr>\n",
       "  </thead>\n",
       "  <tbody>\n",
       "    <tr>\n",
       "      <th>0</th>\n",
       "      <td>FIDAP_DATA_SOURCES</td>\n",
       "      <td>FIDAP_SCHEMA</td>\n",
       "      <td>ACTIONS</td>\n",
       "      <td>139329</td>\n",
       "      <td>1440256</td>\n",
       "      <td>7</td>\n",
       "      <td>975303</td>\n",
       "      <td>This table contains earnings fundamentals.</td>\n",
       "    </tr>\n",
       "    <tr>\n",
       "      <th>1</th>\n",
       "      <td>FIDAP_DATA_SOURCES</td>\n",
       "      <td>FIDAP_SCHEMA</td>\n",
       "      <td>CENSUSDATA</td>\n",
       "      <td>298080</td>\n",
       "      <td>10221056</td>\n",
       "      <td>17</td>\n",
       "      <td>5067360</td>\n",
       "      <td>N.A update if required</td>\n",
       "    </tr>\n",
       "    <tr>\n",
       "      <th>2</th>\n",
       "      <td>FIDAP_DATA_SOURCES</td>\n",
       "      <td>FIDAP_SCHEMA</td>\n",
       "      <td>CORR</td>\n",
       "      <td>43110</td>\n",
       "      <td>472576</td>\n",
       "      <td>3</td>\n",
       "      <td>129330</td>\n",
       "      <td>Calculated correlations - top 100 for each stock.</td>\n",
       "    </tr>\n",
       "    <tr>\n",
       "      <th>3</th>\n",
       "      <td>FIDAP_DATA_SOURCES</td>\n",
       "      <td>FIDAP_SCHEMA</td>\n",
       "      <td>DAILY</td>\n",
       "      <td>18042804</td>\n",
       "      <td>2329842688</td>\n",
       "      <td>40</td>\n",
       "      <td>721712160</td>\n",
       "      <td>Historical daily prices.</td>\n",
       "    </tr>\n",
       "    <tr>\n",
       "      <th>4</th>\n",
       "      <td>FIDAP_DATA_SOURCES</td>\n",
       "      <td>FIDAP_SCHEMA</td>\n",
       "      <td>DATES</td>\n",
       "      <td>1278</td>\n",
       "      <td>17920</td>\n",
       "      <td>3</td>\n",
       "      <td>3834</td>\n",
       "      <td>Calendar for the US equity market.</td>\n",
       "    </tr>\n",
       "  </tbody>\n",
       "</table>\n",
       "</div>"
      ],
      "text/plain": [
       "        table_catalog  table_schema  table_name  row_count       bytes  \\\n",
       "0  FIDAP_DATA_SOURCES  FIDAP_SCHEMA     ACTIONS     139329     1440256   \n",
       "1  FIDAP_DATA_SOURCES  FIDAP_SCHEMA  CENSUSDATA     298080    10221056   \n",
       "2  FIDAP_DATA_SOURCES  FIDAP_SCHEMA        CORR      43110      472576   \n",
       "3  FIDAP_DATA_SOURCES  FIDAP_SCHEMA       DAILY   18042804  2329842688   \n",
       "4  FIDAP_DATA_SOURCES  FIDAP_SCHEMA       DATES       1278       17920   \n",
       "\n",
       "   column_count  datapoints                                        description  \n",
       "0             7      975303         This table contains earnings fundamentals.  \n",
       "1            17     5067360                             N.A update if required  \n",
       "2             3      129330  Calculated correlations - top 100 for each stock.  \n",
       "3            40   721712160                           Historical daily prices.  \n",
       "4             3        3834                 Calendar for the US equity market.  "
      ]
     },
     "execution_count": 5,
     "metadata": {},
     "output_type": "execute_result"
    }
   ],
   "source": [
    "fidap.sql(\"\"\"select * from meta_tables limit 5\"\"\")"
   ]
  },
  {
   "cell_type": "markdown",
   "metadata": {},
   "source": [
    "Let's do a query that splits tickers into deciles based on their market cap. We can use the built in SQL function NTILE ([Snowflake docs](https://docs.snowflake.com/en/sql-reference/functions/ntile.html)). After we split the companies into deciles (called `group_no`), we then group them, take the average return at the decile level, and order by the `group_no"
   ]
  },
  {
   "cell_type": "code",
   "execution_count": 9,
   "metadata": {},
   "outputs": [],
   "source": [
    "df = fidap.sql(\"\"\"\n",
    "SELECT AVG(pc_1d)*100 as return,\n",
    "       group_no\n",
    "FROM\n",
    "  (SELECT ticker, date, pc_1d,\n",
    "                        marketcap,\n",
    "                        NTILE(10) OVER(\n",
    "                                       ORDER BY marketcap DESC) AS group_no\n",
    "   FROM tickers\n",
    "   WHERE marketcap > 100000000) AS tmp\n",
    "GROUP BY group_no\n",
    "ORDER BY group_no;\n",
    "\"\"\")"
   ]
  },
  {
   "cell_type": "code",
   "execution_count": 10,
   "metadata": {},
   "outputs": [],
   "source": [
    "import seaborn as sns"
   ]
  },
  {
   "cell_type": "code",
   "execution_count": 11,
   "metadata": {},
   "outputs": [
    {
     "data": {
      "image/png": "[encoded data removed]",
      "text/plain": [
       "<Figure size 432x288 with 1 Axes>"
      ]
     },
     "metadata": {
      "needs_background": "light"
     },
     "output_type": "display_data"
    }
   ],
   "source": [
    "ax = df.plot.bar(x='group_no', y='return', rot=0)"
   ]
  },
  {
   "cell_type": "code",
   "execution_count": null,
   "metadata": {},
   "outputs": [],
   "source": []
  }
 ],
 "metadata": {
  "environment": {
   "name": "common-cpu.mnightly-2021-01-20-debian-10-test",
   "type": "gcloud",
   "uri": "gcr.io/deeplearning-platform-release/base-cpu:mnightly-2021-01-20-debian-10-test"
  },
  "kernelspec": {
   "display_name": "Python 3",
   "language": "python",
   "name": "python3"
  },
  "language_info": {
   "codemirror_mode": {
    "name": "ipython",
    "version": 3
   },
   "file_extension": ".py",
   "mimetype": "text/x-python",
   "name": "python",
   "nbconvert_exporter": "python",
   "pygments_lexer": "ipython3",
   "version": "3.7.9"
  },
  "toc": {
   "colors": {
    "hover_highlight": "#DAA520",
    "running_highlight": "#FF0000",
    "selected_highlight": "#FFD700"
   },
   "moveMenuLeft": true,
   "nav_menu": {
    "height": "30px",
    "width": "252px"
   },
   "navigate_menu": true,
   "number_sections": true,
   "sideBar": true,
   "threshold": 4,
   "toc_cell": false,
   "toc_section_display": "block",
   "toc_window_display": false,
   "widenNotebook": false
  }
 },
 "nbformat": 4,
 "nbformat_minor": 4
}
