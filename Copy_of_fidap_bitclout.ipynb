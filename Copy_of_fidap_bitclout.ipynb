{
  "nbformat": 4,
  "nbformat_minor": 0,
  "metadata": {
    "colab": {
      "name": "Copy of fidap - bitclout.ipynb",
      "provenance": [],
      "collapsed_sections": [],
      "include_colab_link": true
    },
    "kernelspec": {
      "name": "python3",
      "display_name": "Python 3"
    },
    "language_info": {
      "name": "python"
    }
  },
  "cells": [
    {
      "cell_type": "markdown",
      "metadata": {
        "id": "view-in-github",
        "colab_type": "text"
      },
      "source": [
        "<a href=\"https://colab.research.google.com/github/fidapco/notebooks/blob/main/Copy_of_fidap_bitclout.ipynb\" target=\"_parent\"><img src=\"https://colab.research.google.com/assets/colab-badge.svg\" alt=\"Open In Colab\"/></a>"
      ]
    },
    {
      "cell_type": "code",
      "metadata": {
        "id": "l6yuVNeGA5Q0"
      },
      "source": [
        "#@title Configuration\n",
        "\n",
        "fidap_api_key  = '' #@param{type:\"string\"}"
      ],
      "execution_count": null,
      "outputs": []
    },
    {
      "cell_type": "markdown",
      "metadata": {
        "id": "j6LjnjjCBnIb"
      },
      "source": [
        "You can find your FIDAP API key at [app.fidap.com](https://app.fidap.com/account?tab=settings)."
      ]
    },
    {
      "cell_type": "code",
      "metadata": {
        "id": "YpX7PQcazHcA"
      },
      "source": [
        "!pip install fidap"
      ],
      "execution_count": null,
      "outputs": []
    },
    {
      "cell_type": "code",
      "metadata": {
        "id": "UT7SWc13zNKO"
      },
      "source": [
        "from fidap import fidap_client\n",
        "client = fidap_client(source='bq', api_key=fidap_api_key)"
      ],
      "execution_count": null,
      "outputs": []
    },
    {
      "cell_type": "markdown",
      "metadata": {
        "id": "tEF1RpsC5Ij4"
      },
      "source": [
        "Top 100 users "
      ]
    },
    {
      "cell_type": "code",
      "metadata": {
        "id": "nWT9X3Uwzye4"
      },
      "source": [
        "df = client.sql('''SELECT Username, NumUsernames, SUM(Likes) AS total_likes, ROUND(SUM(Likes)*100/SUM(SUM(Likes)) OVER(), 2) AS percent_of_total\n",
        "FROM\n",
        "  (SELECT t.Body, u.Username, u.NumUsernames, COUNT(l.PublicKey) AS Likes\n",
        "   FROM fidap-301014.bitclout.PrefixPostHashToPostEntry_17 AS t \n",
        "   LEFT JOIN fidap-301014.bitclout.PrefixLikerPubKeyToLikedPostHash_30 AS l \n",
        "   ON t.PostHash = l.LikedPostHash\n",
        "   JOIN fidap-301014.bitclout.PrefixPKIDToPublicKey_37 AS p \n",
        "   ON t.PosterPublicKey = p.PublicKey\n",
        "   JOIN (SELECT PKID, Username, NumUsernames FROM (\n",
        "           SELECT PKID, Username, RANK() OVER(PARTITION BY PKID ORDER BY Time DESC) Rank,\n",
        "                  COUNT(DISTINCT Username) OVER (PARTITION BY PKID) NumUsernames\n",
        "           FROM fidap-301014.bitclout.PrefixProfileUsernameToProfilePubKey_25\n",
        "        ) WHERE Rank = 1 GROUP BY 1,2,3\n",
        "   ) AS u ON p.PKID = u.PKID\n",
        "   GROUP BY Body, Username, NumUsernames\n",
        "   ORDER BY Likes DESC\n",
        "  ) AS table1\n",
        "GROUP BY Username, NumUsernames\n",
        "ORDER BY total_likes DESC LIMIT 100''')"
      ],
      "execution_count": null,
      "outputs": []
    },
    {
      "cell_type": "code",
      "metadata": {
        "colab": {
          "base_uri": "https://localhost:8080/",
          "height": 419
        },
        "id": "KuADeiaN9FxQ",
        "outputId": "41fab3c5-b50e-491f-f59c-17a17eec0c80"
      },
      "source": [
        "df"
      ],
      "execution_count": null,
      "outputs": [
        {
          "output_type": "execute_result",
          "data": {
            "text/html": [
              "<div>\n",
              "<style scoped>\n",
              "    .dataframe tbody tr th:only-of-type {\n",
              "        vertical-align: middle;\n",
              "    }\n",
              "\n",
              "    .dataframe tbody tr th {\n",
              "        vertical-align: top;\n",
              "    }\n",
              "\n",
              "    .dataframe thead th {\n",
              "        text-align: right;\n",
              "    }\n",
              "</style>\n",
              "<table border=\"1\" class=\"dataframe\">\n",
              "  <thead>\n",
              "    <tr style=\"text-align: right;\">\n",
              "      <th></th>\n",
              "      <th>Username</th>\n",
              "      <th>NumUsernames</th>\n",
              "      <th>total_likes</th>\n",
              "      <th>percent_of_total</th>\n",
              "    </tr>\n",
              "  </thead>\n",
              "  <tbody>\n",
              "    <tr>\n",
              "      <th>0</th>\n",
              "      <td>krassenstein</td>\n",
              "      <td>1</td>\n",
              "      <td>25233680</td>\n",
              "      <td>1.28</td>\n",
              "    </tr>\n",
              "    <tr>\n",
              "      <th>1</th>\n",
              "      <td>huntsauce</td>\n",
              "      <td>1</td>\n",
              "      <td>17439936</td>\n",
              "      <td>0.89</td>\n",
              "    </tr>\n",
              "    <tr>\n",
              "      <th>2</th>\n",
              "      <td>rajlahoti</td>\n",
              "      <td>1</td>\n",
              "      <td>13243216</td>\n",
              "      <td>0.67</td>\n",
              "    </tr>\n",
              "    <tr>\n",
              "      <th>3</th>\n",
              "      <td>diamondhands</td>\n",
              "      <td>1</td>\n",
              "      <td>12398512</td>\n",
              "      <td>0.63</td>\n",
              "    </tr>\n",
              "    <tr>\n",
              "      <th>4</th>\n",
              "      <td>clayperrymusic</td>\n",
              "      <td>1</td>\n",
              "      <td>12221632</td>\n",
              "      <td>0.62</td>\n",
              "    </tr>\n",
              "    <tr>\n",
              "      <th>...</th>\n",
              "      <td>...</td>\n",
              "      <td>...</td>\n",
              "      <td>...</td>\n",
              "      <td>...</td>\n",
              "    </tr>\n",
              "    <tr>\n",
              "      <th>95</th>\n",
              "      <td>bitcloutkarma</td>\n",
              "      <td>1</td>\n",
              "      <td>2293552</td>\n",
              "      <td>0.12</td>\n",
              "    </tr>\n",
              "    <tr>\n",
              "      <th>96</th>\n",
              "      <td>alecudell</td>\n",
              "      <td>1</td>\n",
              "      <td>2277792</td>\n",
              "      <td>0.12</td>\n",
              "    </tr>\n",
              "    <tr>\n",
              "      <th>97</th>\n",
              "      <td>fungibles</td>\n",
              "      <td>1</td>\n",
              "      <td>2268448</td>\n",
              "      <td>0.12</td>\n",
              "    </tr>\n",
              "    <tr>\n",
              "      <th>98</th>\n",
              "      <td>eggway</td>\n",
              "      <td>1</td>\n",
              "      <td>2261696</td>\n",
              "      <td>0.11</td>\n",
              "    </tr>\n",
              "    <tr>\n",
              "      <th>99</th>\n",
              "      <td>yigitcakar</td>\n",
              "      <td>1</td>\n",
              "      <td>2259776</td>\n",
              "      <td>0.11</td>\n",
              "    </tr>\n",
              "  </tbody>\n",
              "</table>\n",
              "<p>100 rows × 4 columns</p>\n",
              "</div>"
            ],
            "text/plain": [
              "          Username  NumUsernames  total_likes  percent_of_total\n",
              "0     krassenstein             1     25233680              1.28\n",
              "1        huntsauce             1     17439936              0.89\n",
              "2        rajlahoti             1     13243216              0.67\n",
              "3     diamondhands             1     12398512              0.63\n",
              "4   clayperrymusic             1     12221632              0.62\n",
              "..             ...           ...          ...               ...\n",
              "95   bitcloutkarma             1      2293552              0.12\n",
              "96       alecudell             1      2277792              0.12\n",
              "97       fungibles             1      2268448              0.12\n",
              "98          eggway             1      2261696              0.11\n",
              "99      yigitcakar             1      2259776              0.11\n",
              "\n",
              "[100 rows x 4 columns]"
            ]
          },
          "metadata": {
            "tags": []
          },
          "execution_count": 11
        }
      ]
    },
    {
      "cell_type": "markdown",
      "metadata": {
        "id": "n5m_CXsmAnG_"
      },
      "source": [
        "What is the maximum number of usernames per PKID?"
      ]
    },
    {
      "cell_type": "code",
      "metadata": {
        "colab": {
          "base_uri": "https://localhost:8080/",
          "height": 235
        },
        "id": "IJTyifoqz_Vm",
        "outputId": "711c61f6-5a89-4e94-c65a-54391de451d3"
      },
      "source": [
        "client.sql('''\n",
        "SELECT NumUsername, ANY_VALUE(Usernames), COUNT(DISTINCT PublicKey) NumPublicKeys FROM (\n",
        "  SELECT PublicKey, STRING_AGG(Username) Usernames, COUNT(DISTINCT Username) NumDistinctUsername, COUNT(*) NumUsername  FROM (\n",
        "    SELECT PKID PublicKey, Username FROM fidap-301014.bitclout.PrefixProfileUsernameToProfilePubKey_25\n",
        "  ) GROUP BY 1\n",
        ") GROUP BY 1 ORDER BY NumUsername DESC\n",
        "''')"
      ],
      "execution_count": null,
      "outputs": [
        {
          "output_type": "execute_result",
          "data": {
            "text/html": [
              "<div>\n",
              "<style scoped>\n",
              "    .dataframe tbody tr th:only-of-type {\n",
              "        vertical-align: middle;\n",
              "    }\n",
              "\n",
              "    .dataframe tbody tr th {\n",
              "        vertical-align: top;\n",
              "    }\n",
              "\n",
              "    .dataframe thead th {\n",
              "        text-align: right;\n",
              "    }\n",
              "</style>\n",
              "<table border=\"1\" class=\"dataframe\">\n",
              "  <thead>\n",
              "    <tr style=\"text-align: right;\">\n",
              "      <th></th>\n",
              "      <th>NumUsername</th>\n",
              "      <th>f0_</th>\n",
              "      <th>NumPublicKeys</th>\n",
              "    </tr>\n",
              "  </thead>\n",
              "  <tbody>\n",
              "    <tr>\n",
              "      <th>0</th>\n",
              "      <td>20</td>\n",
              "      <td>refaced_2,refaced_2,fvcv95892,refaced_,refaced...</td>\n",
              "      <td>1</td>\n",
              "    </tr>\n",
              "    <tr>\n",
              "      <th>1</th>\n",
              "      <td>19</td>\n",
              "      <td>aribrastoreda,aribrastoreda,aribrastoreda,arib...</td>\n",
              "      <td>9</td>\n",
              "    </tr>\n",
              "    <tr>\n",
              "      <th>2</th>\n",
              "      <td>18</td>\n",
              "      <td>lazienki,lazienki,lazienki,lazienki,lazienki,l...</td>\n",
              "      <td>1254</td>\n",
              "    </tr>\n",
              "    <tr>\n",
              "      <th>3</th>\n",
              "      <td>17</td>\n",
              "      <td>touche,touche,touche,touche,touche,touche,touc...</td>\n",
              "      <td>5791</td>\n",
              "    </tr>\n",
              "    <tr>\n",
              "      <th>4</th>\n",
              "      <td>16</td>\n",
              "      <td>jimbilio007,jimbilio007,jimbilio007,jimbilio00...</td>\n",
              "      <td>313599</td>\n",
              "    </tr>\n",
              "    <tr>\n",
              "      <th>5</th>\n",
              "      <td>15</td>\n",
              "      <td>bitcloutclubhouse,bitcloutclubhouse,bitcloutcl...</td>\n",
              "      <td>3313</td>\n",
              "    </tr>\n",
              "  </tbody>\n",
              "</table>\n",
              "</div>"
            ],
            "text/plain": [
              "   NumUsername  ... NumPublicKeys\n",
              "0           20  ...             1\n",
              "1           19  ...             9\n",
              "2           18  ...          1254\n",
              "3           17  ...          5791\n",
              "4           16  ...        313599\n",
              "5           15  ...          3313\n",
              "\n",
              "[6 rows x 3 columns]"
            ]
          },
          "metadata": {
            "tags": []
          },
          "execution_count": 6
        }
      ]
    }
  ]
}