{
 "cells": [
  {
   "cell_type": "markdown",
   "id": "processed-relationship",
   "metadata": {},
   "source": [
    "# Crypto data exploration\n",
    "The question we want to answer is whether or not cryptocurrencies are actually \"digital gold\" and find what asset classes cryptos are actually most correlated with.\n",
    "\n",
    "In this notebook, we run a correlation of cryptos with various assets - including SPY, gold ETFs, and individual stocks (let's look at Microstrategy and Telsa in particular) to see what relationship they have with crypto."
   ]
  },
  {
   "cell_type": "code",
   "execution_count": null,
   "id": "preceding-funds",
   "metadata": {},
   "outputs": [],
   "source": []
  }
 ],
 "metadata": {
  "environment": {
   "name": "common-cpu.mnightly-2021-01-20-debian-10-test",
   "type": "gcloud",
   "uri": "gcr.io/deeplearning-platform-release/base-cpu:mnightly-2021-01-20-debian-10-test"
  },
  "kernelspec": {
   "display_name": "Python 3",
   "language": "python",
   "name": "python3"
  },
  "language_info": {
   "codemirror_mode": {
    "name": "ipython",
    "version": 3
   },
   "file_extension": ".py",
   "mimetype": "text/x-python",
   "name": "python",
   "nbconvert_exporter": "python",
   "pygments_lexer": "ipython3",
   "version": "3.7.9"
  }
 },
 "nbformat": 4,
 "nbformat_minor": 5
}
