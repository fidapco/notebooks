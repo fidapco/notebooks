{
 "cells": [
  {
   "cell_type": "code",
   "execution_count": 32,
   "id": "stone-completion",
   "metadata": {},
   "outputs": [
    {
     "name": "stdout",
     "output_type": "stream",
     "text": [
      "Requirement already satisfied: fidap in /opt/conda/lib/python3.7/site-packages (0.0.9)\n",
      "Requirement already satisfied: numpy>=1.8 in /opt/conda/lib/python3.7/site-packages (from fidap) (1.19.5)\n",
      "Requirement already satisfied: pandas>=0.14 in /opt/conda/lib/python3.7/site-packages (from fidap) (1.2.1)\n",
      "Requirement already satisfied: python-dotenv>=0.15.0 in /opt/conda/lib/python3.7/site-packages (from fidap) (0.15.0)\n",
      "Requirement already satisfied: requests>=2.7.0 in /opt/conda/lib/python3.7/site-packages (from fidap) (2.25.1)\n",
      "Requirement already satisfied: python-dateutil>=2.7.3 in /opt/conda/lib/python3.7/site-packages (from pandas>=0.14->fidap) (2.8.1)\n",
      "Requirement already satisfied: pytz>=2017.3 in /opt/conda/lib/python3.7/site-packages (from pandas>=0.14->fidap) (2020.5)\n",
      "Requirement already satisfied: six>=1.5 in /opt/conda/lib/python3.7/site-packages (from python-dateutil>=2.7.3->pandas>=0.14->fidap) (1.15.0)\n",
      "Requirement already satisfied: urllib3<1.27,>=1.21.1 in /opt/conda/lib/python3.7/site-packages (from requests>=2.7.0->fidap) (1.26.2)\n",
      "Requirement already satisfied: chardet<5,>=3.0.2 in /opt/conda/lib/python3.7/site-packages (from requests>=2.7.0->fidap) (3.0.4)\n",
      "Requirement already satisfied: certifi>=2017.4.17 in /opt/conda/lib/python3.7/site-packages (from requests>=2.7.0->fidap) (2020.12.5)\n",
      "Requirement already satisfied: idna<3,>=2.5 in /opt/conda/lib/python3.7/site-packages (from requests>=2.7.0->fidap) (2.10)\n"
     ]
    }
   ],
   "source": [
    "!pip install --upgrade fidap \n",
    "import pandas as pd\n",
    "from fidap import fidap_client\n",
    "import config"
   ]
  },
  {
   "cell_type": "code",
   "execution_count": 27,
   "id": "flying-column",
   "metadata": {},
   "outputs": [],
   "source": [
    "fidap = fidap_client(api_key=config.FIDAP_API_KEY)"
   ]
  },
  {
   "cell_type": "markdown",
   "id": "taken-simple",
   "metadata": {},
   "source": [
    "# Demographic Data Questions"
   ]
  },
  {
   "cell_type": "markdown",
   "id": "excellent-glass",
   "metadata": {},
   "source": [
    "### Which highly populated zip code had the majority of its population black americans in 2019?"
   ]
  },
  {
   "cell_type": "code",
   "execution_count": 28,
   "id": "large-oregon",
   "metadata": {},
   "outputs": [
    {
     "data": {
      "text/html": [
       "<div>\n",
       "<style scoped>\n",
       "    .dataframe tbody tr th:only-of-type {\n",
       "        vertical-align: middle;\n",
       "    }\n",
       "\n",
       "    .dataframe tbody tr th {\n",
       "        vertical-align: top;\n",
       "    }\n",
       "\n",
       "    .dataframe thead th {\n",
       "        text-align: right;\n",
       "    }\n",
       "</style>\n",
       "<table border=\"1\" class=\"dataframe\">\n",
       "  <thead>\n",
       "    <tr style=\"text-align: right;\">\n",
       "      <th></th>\n",
       "      <th>black_density</th>\n",
       "      <th>black_population</th>\n",
       "      <th>total_population</th>\n",
       "      <th>zip_code</th>\n",
       "      <th>year</th>\n",
       "    </tr>\n",
       "  </thead>\n",
       "  <tbody>\n",
       "    <tr>\n",
       "      <th>0</th>\n",
       "      <td>0.859803</td>\n",
       "      <td>86706</td>\n",
       "      <td>100844</td>\n",
       "      <td>11236</td>\n",
       "      <td>2019</td>\n",
       "    </tr>\n",
       "  </tbody>\n",
       "</table>\n",
       "</div>"
      ],
      "text/plain": [
       "   black_density  black_population  total_population  zip_code  year\n",
       "0       0.859803             86706            100844     11236  2019"
      ]
     },
     "execution_count": 28,
     "metadata": {},
     "output_type": "execute_result"
    }
   ],
   "source": [
    "fidap.sql(\"\"\"\n",
    "select \n",
    "    black_population / total_population as black_density,\n",
    "    black_population, \n",
    "    total_population,\n",
    "    zip_code,\n",
    "    year \n",
    "from fidap-301014.census.census \n",
    "where year=2019 and total_population != 0 \n",
    "order by black_population desc, black_density desc \n",
    "limit 1;\n",
    "\"\"\")"
   ]
  },
  {
   "cell_type": "markdown",
   "id": "hollow-performance",
   "metadata": {},
   "source": [
    "### Which highly populated zip code had the majority of its population white americans in 2019?"
   ]
  },
  {
   "cell_type": "code",
   "execution_count": 29,
   "id": "agricultural-hygiene",
   "metadata": {},
   "outputs": [
    {
     "data": {
      "text/html": [
       "<div>\n",
       "<style scoped>\n",
       "    .dataframe tbody tr th:only-of-type {\n",
       "        vertical-align: middle;\n",
       "    }\n",
       "\n",
       "    .dataframe tbody tr th {\n",
       "        vertical-align: top;\n",
       "    }\n",
       "\n",
       "    .dataframe thead th {\n",
       "        text-align: right;\n",
       "    }\n",
       "</style>\n",
       "<table border=\"1\" class=\"dataframe\">\n",
       "  <thead>\n",
       "    <tr style=\"text-align: right;\">\n",
       "      <th></th>\n",
       "      <th>white_density</th>\n",
       "      <th>white_population</th>\n",
       "      <th>total_population</th>\n",
       "      <th>zip_code</th>\n",
       "      <th>year</th>\n",
       "    </tr>\n",
       "  </thead>\n",
       "  <tbody>\n",
       "    <tr>\n",
       "      <th>0</th>\n",
       "      <td>0.870032</td>\n",
       "      <td>97113</td>\n",
       "      <td>111620</td>\n",
       "      <td>79936</td>\n",
       "      <td>2019</td>\n",
       "    </tr>\n",
       "  </tbody>\n",
       "</table>\n",
       "</div>"
      ],
      "text/plain": [
       "   white_density  white_population  total_population  zip_code  year\n",
       "0       0.870032             97113            111620     79936  2019"
      ]
     },
     "execution_count": 29,
     "metadata": {},
     "output_type": "execute_result"
    }
   ],
   "source": [
    "fidap.sql(\"\"\"\n",
    "select\n",
    "    white_population / total_population as white_density,\n",
    "    white_population,\n",
    "    total_population,\n",
    "    zip_code,\n",
    "    year \n",
    "from fidap-301014.census.census \n",
    "where year=2019 and total_population != 0\n",
    "order by white_population desc, white_density desc \n",
    "limit 1;\n",
    "\"\"\")"
   ]
  },
  {
   "cell_type": "markdown",
   "id": "special-degree",
   "metadata": {},
   "source": [
    "### What zip code has had the highest household income by median age?"
   ]
  },
  {
   "cell_type": "code",
   "execution_count": 31,
   "id": "significant-lending",
   "metadata": {},
   "outputs": [
    {
     "data": {
      "text/html": [
       "<div>\n",
       "<style scoped>\n",
       "    .dataframe tbody tr th:only-of-type {\n",
       "        vertical-align: middle;\n",
       "    }\n",
       "\n",
       "    .dataframe tbody tr th {\n",
       "        vertical-align: top;\n",
       "    }\n",
       "\n",
       "    .dataframe thead th {\n",
       "        text-align: right;\n",
       "    }\n",
       "</style>\n",
       "<table border=\"1\" class=\"dataframe\">\n",
       "  <thead>\n",
       "    <tr style=\"text-align: right;\">\n",
       "      <th></th>\n",
       "      <th>median_age</th>\n",
       "      <th>median_income</th>\n",
       "      <th>zip_code</th>\n",
       "    </tr>\n",
       "  </thead>\n",
       "  <tbody>\n",
       "    <tr>\n",
       "      <th>0</th>\n",
       "      <td>64.9</td>\n",
       "      <td>250000</td>\n",
       "      <td>82219</td>\n",
       "    </tr>\n",
       "  </tbody>\n",
       "</table>\n",
       "</div>"
      ],
      "text/plain": [
       "   median_age  median_income  zip_code\n",
       "0        64.9         250000     82219"
      ]
     },
     "execution_count": 31,
     "metadata": {},
     "output_type": "execute_result"
    }
   ],
   "source": [
    "fidap.sql(\"\"\"\n",
    "select\n",
    "median_age, \n",
    "median_income, \n",
    "zip_code \n",
    "from fidap-301014.census.census \n",
    "where year=2019 and median_income is not null \n",
    "order by median_income desc, median_age asc \n",
    "limit 1;\n",
    "\"\"\")"
   ]
  },
  {
   "cell_type": "markdown",
   "id": "veterinary-backing",
   "metadata": {},
   "source": [
    "### Which zip code with a population of more than 50,000 recorded the highest population growth in any year?"
   ]
  },
  {
   "cell_type": "code",
   "execution_count": 51,
   "id": "animal-variety",
   "metadata": {},
   "outputs": [
    {
     "data": {
      "text/html": [
       "<div>\n",
       "<style scoped>\n",
       "    .dataframe tbody tr th:only-of-type {\n",
       "        vertical-align: middle;\n",
       "    }\n",
       "\n",
       "    .dataframe tbody tr th {\n",
       "        vertical-align: top;\n",
       "    }\n",
       "\n",
       "    .dataframe thead th {\n",
       "        text-align: right;\n",
       "    }\n",
       "</style>\n",
       "<table border=\"1\" class=\"dataframe\">\n",
       "  <thead>\n",
       "    <tr style=\"text-align: right;\">\n",
       "      <th></th>\n",
       "      <th>zip_code</th>\n",
       "      <th>total_population</th>\n",
       "      <th>previous_pop</th>\n",
       "      <th>diff_to_prev</th>\n",
       "      <th>percent_change</th>\n",
       "      <th>year</th>\n",
       "    </tr>\n",
       "  </thead>\n",
       "  <tbody>\n",
       "    <tr>\n",
       "      <th>0</th>\n",
       "      <td>77407</td>\n",
       "      <td>60000</td>\n",
       "      <td>51142</td>\n",
       "      <td>8858</td>\n",
       "      <td>14.763333</td>\n",
       "      <td>2019</td>\n",
       "    </tr>\n",
       "  </tbody>\n",
       "</table>\n",
       "</div>"
      ],
      "text/plain": [
       "   zip_code  total_population  previous_pop  diff_to_prev  percent_change  \\\n",
       "0     77407             60000         51142          8858       14.763333   \n",
       "\n",
       "   year  \n",
       "0  2019  "
      ]
     },
     "execution_count": 51,
     "metadata": {},
     "output_type": "execute_result"
    }
   ],
   "source": [
    "fidap.sql(\"\"\"\n",
    "select zip_code, \n",
    "    total_population,\n",
    "    LAG(total_population) over (partition by zip_code order by year) as previous_pop,\n",
    "    IFNULL(total_population - (LAG(total_population) over (partition by zip_code order by year)), 0) as diff_to_prev,\n",
    "    IFNULL(total_population - (LAG(total_population) over (partition by zip_code order by year)), 0) / total_population * 100 as percent_change,\n",
    "    year \n",
    "from fidap-301014.census.census \n",
    "where total_population > 50000 \n",
    "order by percent_change desc \n",
    "limit 1;\n",
    "\"\"\")"
   ]
  },
  {
   "cell_type": "code",
   "execution_count": 17,
   "id": "official-corner",
   "metadata": {},
   "outputs": [
    {
     "name": "stdout",
     "output_type": "stream",
     "text": [
      "Name: fidap\n",
      "Version: 0.0.9\n",
      "Summary: Get financial data easily.\n",
      "Home-page: https://github.com/fidapco/fidap-python\n",
      "Author: Ashish Singal\n",
      "Author-email: ashish.singal1@gmail.com\n",
      "License: MIT\n",
      "Location: /opt/conda/lib/python3.7/site-packages\n",
      "Requires: requests, pandas, numpy, python-dotenv\n",
      "Required-by: \n"
     ]
    }
   ],
   "source": [
    "!pip show fidap"
   ]
  },
  {
   "cell_type": "code",
   "execution_count": null,
   "id": "thorough-possibility",
   "metadata": {},
   "outputs": [],
   "source": []
  }
 ],
 "metadata": {
  "environment": {
   "name": "common-cpu.mnightly-2021-01-20-debian-10-test",
   "type": "gcloud",
   "uri": "gcr.io/deeplearning-platform-release/base-cpu:mnightly-2021-01-20-debian-10-test"
  },
  "kernelspec": {
   "display_name": "Python [conda env:root] *",
   "language": "python",
   "name": "conda-root-py"
  },
  "language_info": {
   "codemirror_mode": {
    "name": "ipython",
    "version": 3
   },
   "file_extension": ".py",
   "mimetype": "text/x-python",
   "name": "python",
   "nbconvert_exporter": "python",
   "pygments_lexer": "ipython3",
   "version": "3.7.9"
  }
 },
 "nbformat": 4,
 "nbformat_minor": 5
}
