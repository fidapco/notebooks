{
 "cells": [
  {
   "cell_type": "code",
   "execution_count": 1,
   "id": "sublime-dover",
   "metadata": {},
   "outputs": [],
   "source": [
    "import pandas as pd\n",
    "from fidap import fidap_client"
   ]
  },
  {
   "cell_type": "code",
   "execution_count": 2,
   "id": "satellite-input",
   "metadata": {},
   "outputs": [],
   "source": [
    "fidap = fidap_client(db='sf', api_key=\"b8a8ebb5f4cf4983a4fa63be6ca418c2\")"
   ]
  },
  {
   "cell_type": "markdown",
   "id": "passive-health",
   "metadata": {},
   "source": [
    "# Demographic Data Questions"
   ]
  },
  {
   "cell_type": "markdown",
   "id": "coral-mandate",
   "metadata": {},
   "source": [
    "### Which highly populated zip code had the majority of its population black americans in 2019?"
   ]
  },
  {
   "cell_type": "code",
   "execution_count": 3,
   "id": "metropolitan-proceeding",
   "metadata": {},
   "outputs": [
    {
     "data": {
      "text/html": [
       "<div>\n",
       "<style scoped>\n",
       "    .dataframe tbody tr th:only-of-type {\n",
       "        vertical-align: middle;\n",
       "    }\n",
       "\n",
       "    .dataframe tbody tr th {\n",
       "        vertical-align: top;\n",
       "    }\n",
       "\n",
       "    .dataframe thead th {\n",
       "        text-align: right;\n",
       "    }\n",
       "</style>\n",
       "<table border=\"1\" class=\"dataframe\">\n",
       "  <thead>\n",
       "    <tr style=\"text-align: right;\">\n",
       "      <th></th>\n",
       "      <th>black_density</th>\n",
       "      <th>black_population</th>\n",
       "      <th>total_population</th>\n",
       "      <th>zip_code</th>\n",
       "      <th>year</th>\n",
       "    </tr>\n",
       "  </thead>\n",
       "  <tbody>\n",
       "    <tr>\n",
       "      <th>0</th>\n",
       "      <td>0.859803</td>\n",
       "      <td>86706</td>\n",
       "      <td>100844</td>\n",
       "      <td>11236</td>\n",
       "      <td>2019</td>\n",
       "    </tr>\n",
       "  </tbody>\n",
       "</table>\n",
       "</div>"
      ],
      "text/plain": [
       "   black_density  black_population  total_population  zip_code  year\n",
       "0       0.859803             86706            100844     11236  2019"
      ]
     },
     "execution_count": 3,
     "metadata": {},
     "output_type": "execute_result"
    }
   ],
   "source": [
    "fidap.sql(\"\"\"select top 1 DIV0(black_population,total_population) as black_density, black_population, total_population, zip_code, year\n",
    "from FIDAP_DATA_SOURCES.FIDAP_SCHEMA.CENSUSDATA where year='2019' order by black_population desc, black_density desc\"\"\")"
   ]
  },
  {
   "cell_type": "markdown",
   "id": "cloudy-suspension",
   "metadata": {},
   "source": [
    "### Which highly populated zip code had the majority of its population white americans in 2019?"
   ]
  },
  {
   "cell_type": "code",
   "execution_count": 7,
   "id": "apparent-recipient",
   "metadata": {},
   "outputs": [
    {
     "data": {
      "text/html": [
       "<div>\n",
       "<style scoped>\n",
       "    .dataframe tbody tr th:only-of-type {\n",
       "        vertical-align: middle;\n",
       "    }\n",
       "\n",
       "    .dataframe tbody tr th {\n",
       "        vertical-align: top;\n",
       "    }\n",
       "\n",
       "    .dataframe thead th {\n",
       "        text-align: right;\n",
       "    }\n",
       "</style>\n",
       "<table border=\"1\" class=\"dataframe\">\n",
       "  <thead>\n",
       "    <tr style=\"text-align: right;\">\n",
       "      <th></th>\n",
       "      <th>white_density</th>\n",
       "      <th>white_population</th>\n",
       "      <th>total_population</th>\n",
       "      <th>zip_code</th>\n",
       "      <th>year</th>\n",
       "    </tr>\n",
       "  </thead>\n",
       "  <tbody>\n",
       "    <tr>\n",
       "      <th>0</th>\n",
       "      <td>0.870032</td>\n",
       "      <td>97113</td>\n",
       "      <td>111620</td>\n",
       "      <td>79936</td>\n",
       "      <td>2019</td>\n",
       "    </tr>\n",
       "  </tbody>\n",
       "</table>\n",
       "</div>"
      ],
      "text/plain": [
       "   white_density  white_population  total_population  zip_code  year\n",
       "0       0.870032             97113            111620     79936  2019"
      ]
     },
     "execution_count": 7,
     "metadata": {},
     "output_type": "execute_result"
    }
   ],
   "source": [
    "fidap.sql(\"\"\"select top 1 DIV0(white_population,total_population) as white_density, white_population, total_population, zip_code, year\n",
    "from FIDAP_DATA_SOURCES.FIDAP_SCHEMA.CENSUSDATA where year='2019' order by white_population desc, white_density desc\"\"\")"
   ]
  },
  {
   "cell_type": "markdown",
   "id": "universal-intellectual",
   "metadata": {},
   "source": [
    "### What zip code has had the highest household income by median age?"
   ]
  },
  {
   "cell_type": "code",
   "execution_count": 4,
   "id": "communist-spirit",
   "metadata": {},
   "outputs": [
    {
     "data": {
      "text/html": [
       "<div>\n",
       "<style scoped>\n",
       "    .dataframe tbody tr th:only-of-type {\n",
       "        vertical-align: middle;\n",
       "    }\n",
       "\n",
       "    .dataframe tbody tr th {\n",
       "        vertical-align: top;\n",
       "    }\n",
       "\n",
       "    .dataframe thead th {\n",
       "        text-align: right;\n",
       "    }\n",
       "</style>\n",
       "<table border=\"1\" class=\"dataframe\">\n",
       "  <thead>\n",
       "    <tr style=\"text-align: right;\">\n",
       "      <th></th>\n",
       "      <th>median_age</th>\n",
       "      <th>median_income</th>\n",
       "      <th>zip_code</th>\n",
       "    </tr>\n",
       "  </thead>\n",
       "  <tbody>\n",
       "    <tr>\n",
       "      <th>0</th>\n",
       "      <td>64.9</td>\n",
       "      <td>250000</td>\n",
       "      <td>82219</td>\n",
       "    </tr>\n",
       "  </tbody>\n",
       "</table>\n",
       "</div>"
      ],
      "text/plain": [
       "   median_age  median_income  zip_code\n",
       "0        64.9         250000     82219"
      ]
     },
     "execution_count": 4,
     "metadata": {},
     "output_type": "execute_result"
    }
   ],
   "source": [
    "fidap.sql(\"\"\"select top 1 median_age, median_income, zip_code from FIDAP_DATA_SOURCES.FIDAP_SCHEMA.CENSUSDATA where year='2019' and median_income is not null order by median_income desc, median_age asc\"\"\")"
   ]
  },
  {
   "cell_type": "markdown",
   "id": "organizational-rouge",
   "metadata": {},
   "source": [
    "### Which zip code with a population of more than 50,000 recorded the highest population growth in any year?"
   ]
  },
  {
   "cell_type": "code",
   "execution_count": 5,
   "id": "alternate-classroom",
   "metadata": {},
   "outputs": [
    {
     "data": {
      "text/html": [
       "<div>\n",
       "<style scoped>\n",
       "    .dataframe tbody tr th:only-of-type {\n",
       "        vertical-align: middle;\n",
       "    }\n",
       "\n",
       "    .dataframe tbody tr th {\n",
       "        vertical-align: top;\n",
       "    }\n",
       "\n",
       "    .dataframe thead th {\n",
       "        text-align: right;\n",
       "    }\n",
       "</style>\n",
       "<table border=\"1\" class=\"dataframe\">\n",
       "  <thead>\n",
       "    <tr style=\"text-align: right;\">\n",
       "      <th></th>\n",
       "      <th>zip_code</th>\n",
       "      <th>total_population</th>\n",
       "      <th>previous_pop</th>\n",
       "      <th>diff_to_prev</th>\n",
       "      <th>percent_change</th>\n",
       "      <th>year</th>\n",
       "    </tr>\n",
       "  </thead>\n",
       "  <tbody>\n",
       "    <tr>\n",
       "      <th>0</th>\n",
       "      <td>77407</td>\n",
       "      <td>60000</td>\n",
       "      <td>51142</td>\n",
       "      <td>8858</td>\n",
       "      <td>14.763333</td>\n",
       "      <td>2019</td>\n",
       "    </tr>\n",
       "  </tbody>\n",
       "</table>\n",
       "</div>"
      ],
      "text/plain": [
       "   zip_code  total_population  previous_pop  diff_to_prev  percent_change  \\\n",
       "0     77407             60000         51142          8858       14.763333   \n",
       "\n",
       "   year  \n",
       "0  2019  "
      ]
     },
     "execution_count": 5,
     "metadata": {},
     "output_type": "execute_result"
    }
   ],
   "source": [
    "sql_ = f\"\"\"select top 1 zip_code, \n",
    "    total_population,\n",
    "    LAG(total_population) over (partition by zip_code order by year) as previous_pop,\n",
    "    ZEROIFNULL(total_population - previous_pop) as diff_to_prev,\n",
    "    DIV0(diff_to_prev,total_population) * 100 as percent_change,\n",
    "    year \n",
    "from FIDAP_DATA_SOURCES.FIDAP_SCHEMA.CENSUSDATA where total_population > 50000\n",
    "order by percent_change desc\"\"\"\n",
    "fidap.sql(sql_)"
   ]
  },
  {
   "cell_type": "code",
   "execution_count": null,
   "id": "assured-greeting",
   "metadata": {},
   "outputs": [],
   "source": []
  }
 ],
 "metadata": {
  "environment": {
   "name": "common-cpu.mnightly-2021-01-20-debian-10-test",
   "type": "gcloud",
   "uri": "gcr.io/deeplearning-platform-release/base-cpu:mnightly-2021-01-20-debian-10-test"
  },
  "kernelspec": {
   "display_name": "Python 3",
   "language": "python",
   "name": "python3"
  },
  "language_info": {
   "codemirror_mode": {
    "name": "ipython",
    "version": 3
   },
   "file_extension": ".py",
   "mimetype": "text/x-python",
   "name": "python",
   "nbconvert_exporter": "python",
   "pygments_lexer": "ipython3",
   "version": "3.7.9"
  }
 },
 "nbformat": 4,
 "nbformat_minor": 5
}
