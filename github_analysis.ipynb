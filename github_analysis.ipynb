{
 "cells": [
  {
   "cell_type": "markdown",
   "id": "pacific-texas",
   "metadata": {},
   "source": [
    "# Sample using Github Event Data for Analysis"
   ]
  },
  {
   "cell_type": "code",
   "execution_count": null,
   "id": "reverse-mitchell",
   "metadata": {},
   "outputs": [],
   "source": [
    "import pandas as pd\n",
    "from fidap import fidap_client\n",
    "import matplotlib.pyplot as plt\n",
    "from wordcloud import WordCloud\n",
    "import config"
   ]
  },
  {
   "cell_type": "code",
   "execution_count": null,
   "id": "sustained-ready",
   "metadata": {},
   "outputs": [],
   "source": [
    "fidap = fidap_client(db=\"sf_gcp\", api_key=config.FIDAP_API_KEY)"
   ]
  },
  {
   "cell_type": "markdown",
   "id": "stuffed-child",
   "metadata": {},
   "source": [
    "# Github Event Questions"
   ]
  },
  {
   "cell_type": "markdown",
   "id": "cross-boulder",
   "metadata": {},
   "source": [
    "## How many PR's were made in the current month of February?"
   ]
  },
  {
   "cell_type": "code",
   "execution_count": null,
   "id": "cardiovascular-naples",
   "metadata": {},
   "outputs": [],
   "source": [
    "count_prs = fidap.sql(\"\"\"select count(*) as number_of_prs from \"FIDAP_DATA_SOURCES\".\"FIDAP_SCHEMA\".\"github\" where \"type\" = 'PullRequestEvent'\"\"\")\n",
    "print(f'There were {count_prs.values[0][0]} PRs made in this month so far.')"
   ]
  },
  {
   "cell_type": "markdown",
   "id": "fuzzy-gather",
   "metadata": {},
   "source": [
    "## Which Users Made the most PR's this month (excluding bots or users with bot in their names)?"
   ]
  },
  {
   "cell_type": "code",
   "execution_count": null,
   "id": "emotional-startup",
   "metadata": {},
   "outputs": [],
   "source": [
    "users_prs = fidap.sql(\"\"\"select count(*) as number_of_prs, \"username\" from \"FIDAP_DATA_SOURCES\".\"FIDAP_SCHEMA\".\"github\" where \"type\" = 'PullRequestEvent' and \"username\" not like '%bot%' group by \"username\" order by number_of_prs desc;\"\"\")"
   ]
  },
  {
   "cell_type": "markdown",
   "id": "appreciated-brush",
   "metadata": {},
   "source": [
    "### Table of Top 5 Users"
   ]
  },
  {
   "cell_type": "code",
   "execution_count": null,
   "id": "neural-fight",
   "metadata": {},
   "outputs": [],
   "source": [
    "users_prs.head(5)"
   ]
  },
  {
   "cell_type": "markdown",
   "id": "careful-encyclopedia",
   "metadata": {},
   "source": [
    "### WordCloud of Top 50 Users"
   ]
  },
  {
   "cell_type": "code",
   "execution_count": null,
   "id": "senior-isaac",
   "metadata": {},
   "outputs": [],
   "source": [
    "values = {}\n",
    "for count, user in users_prs.values:\n",
    "    values[user] = count\n",
    "wordcloud = WordCloud(max_font_size=100, max_words=50, background_color=\"white\")\n",
    "wordcloud.generate_from_frequencies(frequencies=values)\n",
    "plt.figure(figsize=(10,5))\n",
    "plt.imshow(wordcloud, interpolation=\"bilinear\")\n",
    "plt.axis(\"off\")\n",
    "plt.show()"
   ]
  },
  {
   "cell_type": "markdown",
   "id": "employed-bangladesh",
   "metadata": {},
   "source": [
    "## How many PR's were made per day for the month?"
   ]
  },
  {
   "cell_type": "code",
   "execution_count": null,
   "id": "human-wireless",
   "metadata": {},
   "outputs": [],
   "source": [
    "day_prs = fidap.sql(\"\"\"select count(*) as number_of_prs, TO_DATE(\"created_at\") as \"date_created\" from \"FIDAP_DATA_SOURCES\".\"FIDAP_SCHEMA\".\"github\" where \"type\" = 'PullRequestEvent' group by \"date_created\" order by number_of_prs desc;\"\"\")"
   ]
  },
  {
   "cell_type": "code",
   "execution_count": null,
   "id": "hazardous-wellington",
   "metadata": {},
   "outputs": [],
   "source": [
    "day_prs['date_created'] = pd.to_datetime(day_prs['date_created'],unit='ms').dt.strftime('%Y-%m-%d')"
   ]
  },
  {
   "cell_type": "markdown",
   "id": "entertaining-syria",
   "metadata": {},
   "source": [
    "### Table of Daily PR Count"
   ]
  },
  {
   "cell_type": "code",
   "execution_count": null,
   "id": "orange-destination",
   "metadata": {},
   "outputs": [],
   "source": [
    "day_prs"
   ]
  },
  {
   "cell_type": "markdown",
   "id": "distributed-dominant",
   "metadata": {},
   "source": [
    "### Bar Chart to Show Tallies"
   ]
  },
  {
   "cell_type": "code",
   "execution_count": null,
   "id": "rocky-toner",
   "metadata": {},
   "outputs": [],
   "source": [
    "ax = day_prs.plot.bar(x='date_created', y='number_of_prs', rot=90, figsize=(10,5))"
   ]
  },
  {
   "cell_type": "markdown",
   "id": "variable-looking",
   "metadata": {},
   "source": [
    "## Which user made the most PR's to a particular Repo this month?"
   ]
  },
  {
   "cell_type": "code",
   "execution_count": null,
   "id": "passing-grace",
   "metadata": {},
   "outputs": [],
   "source": [
    "users_prs = fidap.sql(\"\"\"select count(*) as number_of_prs, \"username\", \"repo_name\" from \"FIDAP_DATA_SOURCES\".\"FIDAP_SCHEMA\".\"github\" where \"type\" = 'PullRequestEvent' and \"username\" not like '%bot%' group by \"repo_name\", \"username\" order by number_of_prs desc;\"\"\")"
   ]
  },
  {
   "cell_type": "markdown",
   "id": "impossible-shelter",
   "metadata": {},
   "source": [
    "### Table of Top 5 Users"
   ]
  },
  {
   "cell_type": "code",
   "execution_count": null,
   "id": "constitutional-halifax",
   "metadata": {},
   "outputs": [],
   "source": [
    "users_prs.head(5)"
   ]
  },
  {
   "cell_type": "markdown",
   "id": "irish-ability",
   "metadata": {},
   "source": [
    "## How many Code Pushes were made in the current month of February?"
   ]
  },
  {
   "cell_type": "code",
   "execution_count": null,
   "id": "interracial-welding",
   "metadata": {},
   "outputs": [],
   "source": [
    "count_push = fidap.sql(\"\"\"select count(*) as number_of_prs from \"FIDAP_DATA_SOURCES\".\"FIDAP_SCHEMA\".\"github\" where \"type\" = 'PushEvent'\"\"\")\n",
    "print(f'There were {count_push.values[0][0]} code pushes made in this month so far.')"
   ]
  },
  {
   "cell_type": "markdown",
   "id": "aggressive-barbados",
   "metadata": {},
   "source": [
    "## Which users made the most code pushes to any repo?"
   ]
  },
  {
   "cell_type": "code",
   "execution_count": null,
   "id": "assisted-theology",
   "metadata": {},
   "outputs": [],
   "source": [
    "users_pushes = fidap.sql(\"\"\"select count(*) as number_of_pushes, \"username\" from \"FIDAP_DATA_SOURCES\".\"FIDAP_SCHEMA\".\"github\" where \"type\" = 'PushEvent' and \"username\" not like '%bot%' and \"username\" not like '%Bot%' group by \"username\" order by number_of_pushes desc;\"\"\")"
   ]
  },
  {
   "cell_type": "markdown",
   "id": "smoking-venture",
   "metadata": {},
   "source": [
    "### Table of Top Users"
   ]
  },
  {
   "cell_type": "code",
   "execution_count": null,
   "id": "growing-saver",
   "metadata": {},
   "outputs": [],
   "source": [
    "users_pushes.head(5)"
   ]
  },
  {
   "cell_type": "markdown",
   "id": "dedicated-denver",
   "metadata": {},
   "source": [
    "### Word Cloud of Top Code Pushers"
   ]
  },
  {
   "cell_type": "code",
   "execution_count": null,
   "id": "compound-breath",
   "metadata": {},
   "outputs": [],
   "source": [
    "values = {}\n",
    "for count, user in users_pushes.values:\n",
    "    values[user] = count\n",
    "wordcloud = WordCloud(max_font_size=100, max_words=50, background_color=\"white\")\n",
    "wordcloud.generate_from_frequencies(frequencies=values)\n",
    "plt.figure(figsize=(10,5))\n",
    "plt.imshow(wordcloud, interpolation=\"bilinear\")\n",
    "plt.axis(\"off\")\n",
    "plt.show()"
   ]
  },
  {
   "cell_type": "markdown",
   "id": "global-maine",
   "metadata": {},
   "source": [
    "## Which Repositories had the most PR's (Most Requested Changes) made in the month?"
   ]
  },
  {
   "cell_type": "code",
   "execution_count": null,
   "id": "brief-marriage",
   "metadata": {},
   "outputs": [],
   "source": [
    "repo_prs = fidap.sql(\"\"\"select \"repo_name\", count(*) as number_of_prs from \"FIDAP_DATA_SOURCES\".\"FIDAP_SCHEMA\".\"github\" where \"type\" = 'PullRequestEvent' group by \"repo_name\" order by number_of_prs desc;\"\"\")"
   ]
  },
  {
   "cell_type": "markdown",
   "id": "sufficient-drink",
   "metadata": {},
   "source": [
    "### Top 10 Repos table"
   ]
  },
  {
   "cell_type": "code",
   "execution_count": null,
   "id": "fewer-merit",
   "metadata": {},
   "outputs": [],
   "source": [
    "repo_prs.head(10)"
   ]
  },
  {
   "cell_type": "markdown",
   "id": "republican-airline",
   "metadata": {},
   "source": [
    "## Which Repositories were starred the most in the month?"
   ]
  },
  {
   "cell_type": "code",
   "execution_count": null,
   "id": "manufactured-communication",
   "metadata": {},
   "outputs": [],
   "source": [
    "repo_stars = fidap.sql(\"\"\"select \"repo_name\", count(*) as number_of_stars from \"FIDAP_DATA_SOURCES\".\"FIDAP_SCHEMA\".\"github\" where \"type\" = 'WatchEvent' group by \"repo_name\" order by number_of_stars desc;\"\"\")"
   ]
  },
  {
   "cell_type": "code",
   "execution_count": null,
   "id": "aquatic-grade",
   "metadata": {},
   "outputs": [],
   "source": [
    "repo_star_30 = repo_stars.head(30)"
   ]
  },
  {
   "cell_type": "code",
   "execution_count": null,
   "id": "psychological-isaac",
   "metadata": {},
   "outputs": [],
   "source": [
    "print(f'{repo_star_30.values[0][0]} was the most popular repository and was starred {repo_star_30.values[0][1]} times in the month to date')"
   ]
  },
  {
   "cell_type": "markdown",
   "id": "hindu-lindsay",
   "metadata": {},
   "source": [
    "### Most Starred/Popular Repos Bar Chart (Top 30)"
   ]
  },
  {
   "cell_type": "code",
   "execution_count": null,
   "id": "enclosed-baking",
   "metadata": {},
   "outputs": [],
   "source": [
    "repo_star_30.plot.bar(x='repo_name', y='number_of_stars', rot=90, figsize=(15,7))"
   ]
  },
  {
   "cell_type": "markdown",
   "id": "diverse-governor",
   "metadata": {},
   "source": [
    "### Top 10 Table"
   ]
  },
  {
   "cell_type": "code",
   "execution_count": null,
   "id": "geological-maintenance",
   "metadata": {},
   "outputs": [],
   "source": [
    "repo_stars.head(10)"
   ]
  },
  {
   "cell_type": "markdown",
   "id": "removable-texture",
   "metadata": {},
   "source": [
    "### Breakdown by day"
   ]
  },
  {
   "cell_type": "code",
   "execution_count": null,
   "id": "antique-scholar",
   "metadata": {},
   "outputs": [],
   "source": [
    "repo_stars_day = fidap.sql(\"\"\"select \"repo_name\", count(*) as number_of_stars, TO_DATE(\"created_at\") as \"date_created\" from \"FIDAP_DATA_SOURCES\".\"FIDAP_SCHEMA\".\"github\" where \"type\" = 'WatchEvent' group by \"repo_name\", \"date_created\" order by \"date_created\" asc;\"\"\")"
   ]
  },
  {
   "cell_type": "code",
   "execution_count": null,
   "id": "deluxe-circumstances",
   "metadata": {},
   "outputs": [],
   "source": [
    "repo_stars_day['date_created'] = pd.to_datetime(repo_stars_day['date_created'],unit='ms').dt.strftime('%Y-%m-%d')"
   ]
  },
  {
   "cell_type": "code",
   "execution_count": null,
   "id": "freelance-insider",
   "metadata": {},
   "outputs": [],
   "source": [
    "repo_stars_day"
   ]
  },
  {
   "cell_type": "code",
   "execution_count": null,
   "id": "useful-tuning",
   "metadata": {},
   "outputs": [],
   "source": []
  }
 ],
 "metadata": {
  "environment": {
   "name": "common-cpu.mnightly-2021-01-20-debian-10-test",
   "type": "gcloud",
   "uri": "gcr.io/deeplearning-platform-release/base-cpu:mnightly-2021-01-20-debian-10-test"
  },
  "kernelspec": {
   "display_name": "Python 3",
   "language": "python",
   "name": "python3"
  },
  "language_info": {
   "codemirror_mode": {
    "name": "ipython",
    "version": 3
   },
   "file_extension": ".py",
   "mimetype": "text/x-python",
   "name": "python",
   "nbconvert_exporter": "python",
   "pygments_lexer": "ipython3",
   "version": "3.7.9"
  }
 },
 "nbformat": 4,
 "nbformat_minor": 5
}
